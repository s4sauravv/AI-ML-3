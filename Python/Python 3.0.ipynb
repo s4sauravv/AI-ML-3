{
 "cells": [
  {
   "cell_type": "code",
   "execution_count": 1,
   "id": "107db777",
   "metadata": {},
   "outputs": [],
   "source": [
    "#Last lecture we learned about Data Structure.Now Continue With Tuples , Set and Dictionary\n",
    "#Lets start with tuple\n"
   ]
  },
  {
   "cell_type": "code",
   "execution_count": 2,
   "id": "689a7f02",
   "metadata": {},
   "outputs": [],
   "source": [
    "#what is tuples ? Tuple is a data structure of python. tuple are always in () round brackets\n",
    "#tuples are immutable.and its work with all data types.\n",
    "#lets see with example.\n"
   ]
  },
  {
   "cell_type": "code",
   "execution_count": 3,
   "id": "84cb17d1",
   "metadata": {},
   "outputs": [],
   "source": [
    "work_location=('Bengluru','Kolkata','Chennai','raipur')"
   ]
  },
  {
   "cell_type": "code",
   "execution_count": 4,
   "id": "a5daf213",
   "metadata": {},
   "outputs": [
    {
     "data": {
      "text/plain": [
       "('Bengluru', 'Kolkata', 'Chennai', 'raipur')"
      ]
     },
     "execution_count": 4,
     "metadata": {},
     "output_type": "execute_result"
    }
   ],
   "source": [
    "work_location\n"
   ]
  },
  {
   "cell_type": "code",
   "execution_count": 5,
   "id": "879a26e2",
   "metadata": {},
   "outputs": [],
   "source": [
    "#check type"
   ]
  },
  {
   "cell_type": "code",
   "execution_count": 6,
   "id": "6cf319cc",
   "metadata": {},
   "outputs": [
    {
     "data": {
      "text/plain": [
       "tuple"
      ]
     },
     "execution_count": 6,
     "metadata": {},
     "output_type": "execute_result"
    }
   ],
   "source": [
    "type(work_location)"
   ]
  },
  {
   "cell_type": "code",
   "execution_count": 7,
   "id": "fd683d46",
   "metadata": {},
   "outputs": [],
   "source": [
    "#Lets try to add new work location.like list method"
   ]
  },
  {
   "cell_type": "code",
   "execution_count": 8,
   "id": "564fa2dc",
   "metadata": {},
   "outputs": [
    {
     "ename": "AttributeError",
     "evalue": "'tuple' object has no attribute 'append'",
     "output_type": "error",
     "traceback": [
      "\u001b[0;31m---------------------------------------------------------------------------\u001b[0m",
      "\u001b[0;31mAttributeError\u001b[0m                            Traceback (most recent call last)",
      "Cell \u001b[0;32mIn[8], line 1\u001b[0m\n\u001b[0;32m----> 1\u001b[0m \u001b[43mwork_location\u001b[49m\u001b[38;5;241;43m.\u001b[39;49m\u001b[43mappend\u001b[49m(\u001b[38;5;124m'\u001b[39m\u001b[38;5;124mKorba\u001b[39m\u001b[38;5;124m'\u001b[39m)\n",
      "\u001b[0;31mAttributeError\u001b[0m: 'tuple' object has no attribute 'append'"
     ]
    }
   ],
   "source": [
    "work_location.append('Korba')"
   ]
  },
  {
   "cell_type": "code",
   "execution_count": null,
   "id": "c59b8ae3",
   "metadata": {},
   "outputs": [],
   "source": [
    "#Its not add , because tuple are immutable\n",
    "#But dont worry, we have a trick to add .\n",
    "#lets see how we can add.\n",
    "#first we have to convert tupple into a list."
   ]
  },
  {
   "cell_type": "code",
   "execution_count": 9,
   "id": "46f1e5fa",
   "metadata": {},
   "outputs": [],
   "source": [
    "work_location=list(work_location)"
   ]
  },
  {
   "cell_type": "code",
   "execution_count": 10,
   "id": "5d2374cb",
   "metadata": {},
   "outputs": [],
   "source": [
    "#now you can edit "
   ]
  },
  {
   "cell_type": "code",
   "execution_count": 11,
   "id": "d1c042b6",
   "metadata": {},
   "outputs": [],
   "source": [
    "work_location.append('Korba')"
   ]
  },
  {
   "cell_type": "code",
   "execution_count": 12,
   "id": "de4a2cdf",
   "metadata": {},
   "outputs": [
    {
     "data": {
      "text/plain": [
       "['Bengluru', 'Kolkata', 'Chennai', 'raipur', 'Korba']"
      ]
     },
     "execution_count": 12,
     "metadata": {},
     "output_type": "execute_result"
    }
   ],
   "source": [
    "work_location\n"
   ]
  },
  {
   "cell_type": "code",
   "execution_count": 13,
   "id": "f235b8da",
   "metadata": {},
   "outputs": [],
   "source": [
    "#now back to change in tuple"
   ]
  },
  {
   "cell_type": "code",
   "execution_count": 14,
   "id": "4c0e0675",
   "metadata": {},
   "outputs": [],
   "source": [
    "work_location=tuple(work_location)"
   ]
  },
  {
   "cell_type": "code",
   "execution_count": 15,
   "id": "7082fdde",
   "metadata": {},
   "outputs": [
    {
     "data": {
      "text/plain": [
       "('Bengluru', 'Kolkata', 'Chennai', 'raipur', 'Korba')"
      ]
     },
     "execution_count": 15,
     "metadata": {},
     "output_type": "execute_result"
    }
   ],
   "source": [
    "work_location"
   ]
  },
  {
   "cell_type": "code",
   "execution_count": 16,
   "id": "0c37493c",
   "metadata": {},
   "outputs": [],
   "source": [
    "#Hi Hi Hi , we can change !!"
   ]
  },
  {
   "cell_type": "code",
   "execution_count": 17,
   "id": "fde9dd01",
   "metadata": {},
   "outputs": [],
   "source": [
    "#How many cities in tuple , i mean what is the length of tuple,\n",
    "#checking length in tuple like List.\n"
   ]
  },
  {
   "cell_type": "code",
   "execution_count": 18,
   "id": "03ed8121",
   "metadata": {},
   "outputs": [
    {
     "data": {
      "text/plain": [
       "5"
      ]
     },
     "execution_count": 18,
     "metadata": {},
     "output_type": "execute_result"
    }
   ],
   "source": [
    "len(work_location)"
   ]
  },
  {
   "cell_type": "code",
   "execution_count": 19,
   "id": "c1b32813",
   "metadata": {},
   "outputs": [],
   "source": [
    "#Similarly you can work with numbers as well , no change in the concept."
   ]
  },
  {
   "cell_type": "code",
   "execution_count": 20,
   "id": "bf9dfe73",
   "metadata": {},
   "outputs": [
    {
     "data": {
      "text/plain": [
       "('Bengluru', 'Kolkata', 'Chennai', 'raipur', 'Korba')"
      ]
     },
     "execution_count": 20,
     "metadata": {},
     "output_type": "execute_result"
    }
   ],
   "source": [
    "work_location"
   ]
  },
  {
   "cell_type": "code",
   "execution_count": 21,
   "id": "73316bf2",
   "metadata": {},
   "outputs": [],
   "source": [
    "#use indexing just like we did in list"
   ]
  },
  {
   "cell_type": "code",
   "execution_count": 22,
   "id": "d64257de",
   "metadata": {},
   "outputs": [
    {
     "data": {
      "text/plain": [
       "'Kolkata'"
      ]
     },
     "execution_count": 22,
     "metadata": {},
     "output_type": "execute_result"
    }
   ],
   "source": [
    "work_location[1]"
   ]
  },
  {
   "cell_type": "code",
   "execution_count": 23,
   "id": "bbb1718a",
   "metadata": {},
   "outputs": [],
   "source": [
    "#slicing just like a list"
   ]
  },
  {
   "cell_type": "code",
   "execution_count": 24,
   "id": "bc939fbe",
   "metadata": {},
   "outputs": [
    {
     "data": {
      "text/plain": [
       "'raipur'"
      ]
     },
     "execution_count": 24,
     "metadata": {},
     "output_type": "execute_result"
    }
   ],
   "source": [
    "work_location[-2]"
   ]
  },
  {
   "cell_type": "code",
   "execution_count": 25,
   "id": "4d436fbd",
   "metadata": {},
   "outputs": [],
   "source": [
    "#Basics Tuple Method.\n",
    "#Tuple have buit in method , but not many as list,\n",
    "#lets see two samples of tuples built in method"
   ]
  },
  {
   "cell_type": "code",
   "execution_count": 26,
   "id": "aff37043",
   "metadata": {},
   "outputs": [],
   "source": [
    "numbers=(50,60,40,90,80,70,60,50,40,70,10,20,30,7,50,50)"
   ]
  },
  {
   "cell_type": "code",
   "execution_count": 27,
   "id": "7add2fd0",
   "metadata": {},
   "outputs": [],
   "source": [
    "#use .index to enter a value,  and return the index"
   ]
  },
  {
   "cell_type": "code",
   "execution_count": 28,
   "id": "3fc226a9",
   "metadata": {},
   "outputs": [
    {
     "data": {
      "text/plain": [
       "12"
      ]
     },
     "execution_count": 28,
     "metadata": {},
     "output_type": "execute_result"
    }
   ],
   "source": [
    "numbers.index(30)"
   ]
  },
  {
   "cell_type": "code",
   "execution_count": 29,
   "id": "4cf0d273",
   "metadata": {},
   "outputs": [],
   "source": [
    "#Use .count to count the number of times a value appears"
   ]
  },
  {
   "cell_type": "code",
   "execution_count": 30,
   "id": "d97f53d6",
   "metadata": {},
   "outputs": [
    {
     "data": {
      "text/plain": [
       "4"
      ]
     },
     "execution_count": 30,
     "metadata": {},
     "output_type": "execute_result"
    }
   ],
   "source": [
    "numbers.count(50)"
   ]
  },
  {
   "cell_type": "code",
   "execution_count": 31,
   "id": "fa9995d6",
   "metadata": {},
   "outputs": [],
   "source": [
    "#Lets Study about Set.\n",
    "#So what is set ? set is a data structure in pyhton. sets are an unordered collection of unique element- \n",
    "#-which can be constructed using set() fucntion."
   ]
  },
  {
   "cell_type": "code",
   "execution_count": 32,
   "id": "c4d6e56b",
   "metadata": {},
   "outputs": [],
   "source": [
    "#Sets   =   1 -  Keeps item in sorted order\n",
    "#           2 - eliminate the duplicates element.    \n",
    "#lets see with examples."
   ]
  },
  {
   "cell_type": "code",
   "execution_count": 33,
   "id": "3c064f5e",
   "metadata": {},
   "outputs": [],
   "source": [
    "roll_number=set()"
   ]
  },
  {
   "cell_type": "code",
   "execution_count": 34,
   "id": "b94385eb",
   "metadata": {},
   "outputs": [],
   "source": [
    "#check the type "
   ]
  },
  {
   "cell_type": "code",
   "execution_count": 35,
   "id": "284dc497",
   "metadata": {},
   "outputs": [
    {
     "data": {
      "text/plain": [
       "set"
      ]
     },
     "execution_count": 35,
     "metadata": {},
     "output_type": "execute_result"
    }
   ],
   "source": [
    "type(roll_number)"
   ]
  },
  {
   "cell_type": "code",
   "execution_count": 36,
   "id": "dab0f9ce",
   "metadata": {},
   "outputs": [],
   "source": [
    "#we add to set with the add methods"
   ]
  },
  {
   "cell_type": "code",
   "execution_count": 37,
   "id": "fc81bd94",
   "metadata": {},
   "outputs": [],
   "source": [
    "roll_number.add(1)"
   ]
  },
  {
   "cell_type": "code",
   "execution_count": 38,
   "id": "8137fc17",
   "metadata": {},
   "outputs": [
    {
     "data": {
      "text/plain": [
       "{1}"
      ]
     },
     "execution_count": 38,
     "metadata": {},
     "output_type": "execute_result"
    }
   ],
   "source": [
    "roll_number"
   ]
  },
  {
   "cell_type": "code",
   "execution_count": 39,
   "id": "0d426ceb",
   "metadata": {},
   "outputs": [],
   "source": [
    "#we know that set has only take unique element . lets se if we add duplicates. whats python shows."
   ]
  },
  {
   "cell_type": "code",
   "execution_count": 40,
   "id": "43b55c75",
   "metadata": {},
   "outputs": [],
   "source": [
    "#add different element"
   ]
  },
  {
   "cell_type": "code",
   "execution_count": 41,
   "id": "50f30b9d",
   "metadata": {},
   "outputs": [],
   "source": [
    "roll_number.add(2)"
   ]
  },
  {
   "cell_type": "code",
   "execution_count": 42,
   "id": "1771565a",
   "metadata": {},
   "outputs": [
    {
     "data": {
      "text/plain": [
       "{1, 2}"
      ]
     },
     "execution_count": 42,
     "metadata": {},
     "output_type": "execute_result"
    }
   ],
   "source": [
    "roll_number"
   ]
  },
  {
   "cell_type": "code",
   "execution_count": 43,
   "id": "cd23aef9",
   "metadata": {},
   "outputs": [],
   "source": [
    "#Try to add the same element \n"
   ]
  },
  {
   "cell_type": "code",
   "execution_count": 44,
   "id": "6b243cf9",
   "metadata": {},
   "outputs": [],
   "source": [
    "roll_number.add(1)"
   ]
  },
  {
   "cell_type": "code",
   "execution_count": 45,
   "id": "51a81831",
   "metadata": {},
   "outputs": [],
   "source": [
    "#they did not show any error. but the also dont add ion our roll_number set.\n",
    "#lets see"
   ]
  },
  {
   "cell_type": "code",
   "execution_count": 46,
   "id": "f93dc596",
   "metadata": {},
   "outputs": [
    {
     "data": {
      "text/plain": [
       "{1, 2}"
      ]
     },
     "execution_count": 46,
     "metadata": {},
     "output_type": "execute_result"
    }
   ],
   "source": [
    "roll_number"
   ]
  },
  {
   "cell_type": "code",
   "execution_count": 47,
   "id": "68496122",
   "metadata": {},
   "outputs": [],
   "source": [
    "#You have to know one thing where we use set method.\n",
    "#lets i can tell you , if we have list with numbers , but in our list lots of numbers available -\n",
    "#- and we have to find only unique element .\n",
    "#what we can do,  we can use set method to get unique element \n",
    "#lets see how its work"
   ]
  },
  {
   "cell_type": "code",
   "execution_count": 48,
   "id": "0276177c",
   "metadata": {},
   "outputs": [],
   "source": [
    "numbers=[1,2,3,4,5,6,7,8,9,1,2,3,4,56,789,12,74,74,85,96,74,85,96,4,1,52,63,52,41,56,56]"
   ]
  },
  {
   "cell_type": "code",
   "execution_count": 49,
   "id": "1d17f1f1",
   "metadata": {},
   "outputs": [],
   "source": [
    "#cast to get unique elements from list"
   ]
  },
  {
   "cell_type": "code",
   "execution_count": 50,
   "id": "aaf6c82b",
   "metadata": {},
   "outputs": [],
   "source": [
    "remove_duplicate=set(numbers)"
   ]
  },
  {
   "cell_type": "code",
   "execution_count": 51,
   "id": "c874a547",
   "metadata": {},
   "outputs": [
    {
     "data": {
      "text/plain": [
       "{1, 2, 3, 4, 5, 6, 7, 8, 9, 12, 41, 52, 56, 63, 74, 85, 96, 789}"
      ]
     },
     "execution_count": 51,
     "metadata": {},
     "output_type": "execute_result"
    }
   ],
   "source": [
    "remove_duplicate #lets see the can show only unique element ."
   ]
  },
  {
   "cell_type": "code",
   "execution_count": 52,
   "id": "1a3fa092",
   "metadata": {},
   "outputs": [],
   "source": [
    "#again you can covert to list if you want (after removing duplicates)"
   ]
  },
  {
   "cell_type": "code",
   "execution_count": 53,
   "id": "bf4b579a",
   "metadata": {},
   "outputs": [],
   "source": [
    "numberss=list(remove_duplicate)"
   ]
  },
  {
   "cell_type": "code",
   "execution_count": 54,
   "id": "dd013a63",
   "metadata": {},
   "outputs": [],
   "source": [
    "#lets do"
   ]
  },
  {
   "cell_type": "code",
   "execution_count": 55,
   "id": "cd21c7cf",
   "metadata": {},
   "outputs": [],
   "source": [
    "#Now Study about dictionary\n",
    "# what is dictionary ? dictionary is also a data staructure,dictionary contain keys:value in curly {} brackets.\n",
    "#dictionary will take corresponding value \n",
    "#we can construct dictionary to get better understanding.\n"
   ]
  },
  {
   "cell_type": "code",
   "execution_count": 56,
   "id": "562127cf",
   "metadata": {},
   "outputs": [],
   "source": [
    "my_dict={'key1':'value1','key2':'value2'}"
   ]
  },
  {
   "cell_type": "code",
   "execution_count": 57,
   "id": "48debc84",
   "metadata": {},
   "outputs": [
    {
     "data": {
      "text/plain": [
       "{'key1': 'value1', 'key2': 'value2'}"
      ]
     },
     "execution_count": 57,
     "metadata": {},
     "output_type": "execute_result"
    }
   ],
   "source": [
    "my_dict"
   ]
  },
  {
   "cell_type": "code",
   "execution_count": 58,
   "id": "44484351",
   "metadata": {},
   "outputs": [],
   "source": [
    "#call the value by their key"
   ]
  },
  {
   "cell_type": "code",
   "execution_count": 59,
   "id": "b42ae2d3",
   "metadata": {},
   "outputs": [
    {
     "data": {
      "text/plain": [
       "'value1'"
      ]
     },
     "execution_count": 59,
     "metadata": {},
     "output_type": "execute_result"
    }
   ],
   "source": [
    "my_dict['key1']"
   ]
  },
  {
   "cell_type": "code",
   "execution_count": 60,
   "id": "b455ce48",
   "metadata": {},
   "outputs": [],
   "source": [
    "#note that dictionary are very comforatblw with all data types."
   ]
  },
  {
   "cell_type": "code",
   "execution_count": 61,
   "id": "c2cd38cf",
   "metadata": {},
   "outputs": [],
   "source": [
    "my_dict={'Roll Number':123,'Subjects':['Maths','science','Computer'],'Marks':[24,29,25]}"
   ]
  },
  {
   "cell_type": "code",
   "execution_count": 62,
   "id": "e6739456",
   "metadata": {},
   "outputs": [
    {
     "data": {
      "text/plain": [
       "{'Roll Number': 123,\n",
       " 'Subjects': ['Maths', 'science', 'Computer'],\n",
       " 'Marks': [24, 29, 25]}"
      ]
     },
     "execution_count": 62,
     "metadata": {},
     "output_type": "execute_result"
    }
   ],
   "source": [
    "my_dict"
   ]
  },
  {
   "cell_type": "code",
   "execution_count": 63,
   "id": "a6481507",
   "metadata": {},
   "outputs": [],
   "source": [
    "#Lets call items from the dictionary\n"
   ]
  },
  {
   "cell_type": "code",
   "execution_count": 64,
   "id": "3d2286c1",
   "metadata": {},
   "outputs": [
    {
     "data": {
      "text/plain": [
       "['Maths', 'science', 'Computer']"
      ]
     },
     "execution_count": 64,
     "metadata": {},
     "output_type": "execute_result"
    }
   ],
   "source": [
    "my_dict['Subjects']"
   ]
  },
  {
   "cell_type": "code",
   "execution_count": 65,
   "id": "e21f29f5",
   "metadata": {},
   "outputs": [],
   "source": [
    "#can call  an index on that value."
   ]
  },
  {
   "cell_type": "code",
   "execution_count": 66,
   "id": "f2860172",
   "metadata": {},
   "outputs": [
    {
     "data": {
      "text/plain": [
       "'Maths'"
      ]
     },
     "execution_count": 66,
     "metadata": {},
     "output_type": "execute_result"
    }
   ],
   "source": [
    "my_dict['Subjects'][0]"
   ]
  },
  {
   "cell_type": "code",
   "execution_count": 67,
   "id": "c2a51ba6",
   "metadata": {},
   "outputs": [
    {
     "data": {
      "text/plain": [
       "'science'"
      ]
     },
     "execution_count": 67,
     "metadata": {},
     "output_type": "execute_result"
    }
   ],
   "source": [
    "my_dict['Subjects'][1]"
   ]
  },
  {
   "cell_type": "code",
   "execution_count": 68,
   "id": "4835f82c",
   "metadata": {},
   "outputs": [
    {
     "data": {
      "text/plain": [
       "'Computer'"
      ]
     },
     "execution_count": 68,
     "metadata": {},
     "output_type": "execute_result"
    }
   ],
   "source": [
    "my_dict['Subjects'][2]"
   ]
  },
  {
   "cell_type": "code",
   "execution_count": 69,
   "id": "4df952b5",
   "metadata": {},
   "outputs": [],
   "source": [
    "#we cal aslo capitalise the element which can present in dictionary"
   ]
  },
  {
   "cell_type": "code",
   "execution_count": 70,
   "id": "d91ee403",
   "metadata": {},
   "outputs": [
    {
     "data": {
      "text/plain": [
       "'COMPUTER'"
      ]
     },
     "execution_count": 70,
     "metadata": {},
     "output_type": "execute_result"
    }
   ],
   "source": [
    "my_dict['Subjects'][2].upper()"
   ]
  },
  {
   "cell_type": "code",
   "execution_count": 71,
   "id": "aaa8d9a3",
   "metadata": {},
   "outputs": [],
   "source": [
    "#add Marks to the first element"
   ]
  },
  {
   "cell_type": "code",
   "execution_count": 72,
   "id": "1008394f",
   "metadata": {},
   "outputs": [
    {
     "data": {
      "text/plain": [
       "{'Roll Number': 123,\n",
       " 'Subjects': ['Maths', 'science', 'Computer'],\n",
       " 'Marks': [24, 29, 25]}"
      ]
     },
     "execution_count": 72,
     "metadata": {},
     "output_type": "execute_result"
    }
   ],
   "source": [
    "my_dict"
   ]
  },
  {
   "cell_type": "code",
   "execution_count": 73,
   "id": "72b5912d",
   "metadata": {},
   "outputs": [],
   "source": [
    "my_dict['Marks'][0]=my_dict['Marks'][0]+6"
   ]
  },
  {
   "cell_type": "code",
   "execution_count": 74,
   "id": "1dcf0b39",
   "metadata": {},
   "outputs": [
    {
     "data": {
      "text/plain": [
       "{'Roll Number': 123,\n",
       " 'Subjects': ['Maths', 'science', 'Computer'],\n",
       " 'Marks': [30, 29, 25]}"
      ]
     },
     "execution_count": 74,
     "metadata": {},
     "output_type": "execute_result"
    }
   ],
   "source": [
    "my_dict"
   ]
  },
  {
   "cell_type": "code",
   "execution_count": 75,
   "id": "084c466e",
   "metadata": {},
   "outputs": [],
   "source": [
    "#Python can multiple, addition , substraction and divide .\n"
   ]
  },
  {
   "cell_type": "code",
   "execution_count": 76,
   "id": "b2621106",
   "metadata": {},
   "outputs": [],
   "source": [
    "#another way of adding"
   ]
  },
  {
   "cell_type": "code",
   "execution_count": 77,
   "id": "6d0df818",
   "metadata": {},
   "outputs": [],
   "source": [
    "my_dict['Marks'][0]+=4"
   ]
  },
  {
   "cell_type": "code",
   "execution_count": 78,
   "id": "d73c434a",
   "metadata": {},
   "outputs": [
    {
     "data": {
      "text/plain": [
       "{'Roll Number': 123,\n",
       " 'Subjects': ['Maths', 'science', 'Computer'],\n",
       " 'Marks': [34, 29, 25]}"
      ]
     },
     "execution_count": 78,
     "metadata": {},
     "output_type": "execute_result"
    }
   ],
   "source": [
    "my_dict"
   ]
  },
  {
   "cell_type": "code",
   "execution_count": 79,
   "id": "db7f448d",
   "metadata": {},
   "outputs": [],
   "source": [
    "#lets subtract"
   ]
  },
  {
   "cell_type": "code",
   "execution_count": 80,
   "id": "481ded0d",
   "metadata": {},
   "outputs": [],
   "source": [
    "my_dict['Marks'][0]-=4"
   ]
  },
  {
   "cell_type": "code",
   "execution_count": 81,
   "id": "19fe0e7a",
   "metadata": {},
   "outputs": [
    {
     "data": {
      "text/plain": [
       "{'Roll Number': 123,\n",
       " 'Subjects': ['Maths', 'science', 'Computer'],\n",
       " 'Marks': [30, 29, 25]}"
      ]
     },
     "execution_count": 81,
     "metadata": {},
     "output_type": "execute_result"
    }
   ],
   "source": [
    "my_dict"
   ]
  },
  {
   "cell_type": "code",
   "execution_count": 82,
   "id": "078302b0",
   "metadata": {},
   "outputs": [],
   "source": [
    "#How we can add key .and values ."
   ]
  },
  {
   "cell_type": "code",
   "execution_count": 83,
   "id": "0ff76368",
   "metadata": {},
   "outputs": [],
   "source": [
    "my_dict['Year']=2015"
   ]
  },
  {
   "cell_type": "code",
   "execution_count": 84,
   "id": "1be4db68",
   "metadata": {},
   "outputs": [
    {
     "data": {
      "text/plain": [
       "{'Roll Number': 123,\n",
       " 'Subjects': ['Maths', 'science', 'Computer'],\n",
       " 'Marks': [30, 29, 25],\n",
       " 'Year': 2015}"
      ]
     },
     "execution_count": 84,
     "metadata": {},
     "output_type": "execute_result"
    }
   ],
   "source": [
    "my_dict"
   ]
  },
  {
   "cell_type": "code",
   "execution_count": 85,
   "id": "4d07370a",
   "metadata": {},
   "outputs": [],
   "source": [
    "#lets note down one thing. if we have to add key and value , with the help of last used method\n",
    "# we have to enter key and value , if the key name is already present in dictionary .\n",
    "# they will add  the value in old keys., this reason for we have have to write new key name."
   ]
  },
  {
   "cell_type": "code",
   "execution_count": 86,
   "id": "e8560381",
   "metadata": {},
   "outputs": [],
   "source": [
    "#Update values()"
   ]
  },
  {
   "cell_type": "code",
   "execution_count": 87,
   "id": "7e7e6c87",
   "metadata": {},
   "outputs": [],
   "source": [
    "my_dict.update({'Roll Number':100})"
   ]
  },
  {
   "cell_type": "code",
   "execution_count": 88,
   "id": "97e2229d",
   "metadata": {},
   "outputs": [
    {
     "data": {
      "text/plain": [
       "{'Roll Number': 100,\n",
       " 'Subjects': ['Maths', 'science', 'Computer'],\n",
       " 'Marks': [30, 29, 25],\n",
       " 'Year': 2015}"
      ]
     },
     "execution_count": 88,
     "metadata": {},
     "output_type": "execute_result"
    }
   ],
   "source": [
    "my_dict"
   ]
  },
  {
   "cell_type": "code",
   "execution_count": 89,
   "id": "ab47be4c",
   "metadata": {},
   "outputs": [],
   "source": [
    "#Items will return both keys and corresponding values."
   ]
  },
  {
   "cell_type": "code",
   "execution_count": 90,
   "id": "0f761e07",
   "metadata": {},
   "outputs": [
    {
     "data": {
      "text/plain": [
       "dict_items([('Roll Number', 100), ('Subjects', ['Maths', 'science', 'Computer']), ('Marks', [30, 29, 25]), ('Year', 2015)])"
      ]
     },
     "execution_count": 90,
     "metadata": {},
     "output_type": "execute_result"
    }
   ],
   "source": [
    "my_dict.items()"
   ]
  },
  {
   "cell_type": "code",
   "execution_count": 91,
   "id": "b205a00d",
   "metadata": {},
   "outputs": [],
   "source": [
    "#Branching (if,elif,else).      what is elif ? else + if =elif\n",
    "#Puthon provide the if statement to allow branching based on condition. multiple elif checks-\n",
    "# - can also be peformed followed by an optional else caluse. the statment can be used with any evaluation of truthiness."
   ]
  },
  {
   "cell_type": "code",
   "execution_count": 92,
   "id": "d5c197b1",
   "metadata": {},
   "outputs": [],
   "source": [
    "#In my word branching (if,elif ,else) they can provide us to check truthiness of elements \n",
    "# you would better understand with example\n",
    "#lets se example"
   ]
  },
  {
   "cell_type": "code",
   "execution_count": 93,
   "id": "eecb150d",
   "metadata": {},
   "outputs": [
    {
     "name": "stdout",
     "output_type": "stream",
     "text": [
      "i is samller\n"
     ]
    }
   ],
   "source": [
    "i =10\n",
    "if i<11: # definitely you have doubt whay print is in space, is know as indentation.means four space \n",
    "    print('i is samller')\n",
    "else:\n",
    "    print('i is greater')"
   ]
  },
  {
   "cell_type": "code",
   "execution_count": 94,
   "id": "b08b46a7",
   "metadata": {},
   "outputs": [],
   "source": [
    "#You can write in this way (2nd way to write (if,elif,else)statement)"
   ]
  },
  {
   "cell_type": "code",
   "execution_count": 95,
   "id": "1a3e157e",
   "metadata": {},
   "outputs": [
    {
     "name": "stdout",
     "output_type": "stream",
     "text": [
      "i is smaller\n"
     ]
    }
   ],
   "source": [
    "print('i is smaller')if i<11 else print('i is greater')"
   ]
  },
  {
   "cell_type": "code",
   "execution_count": 96,
   "id": "6dfc6ad8",
   "metadata": {},
   "outputs": [],
   "source": [
    "#lets se with another example.\n",
    "#free shipping message"
   ]
  },
  {
   "cell_type": "code",
   "execution_count": 97,
   "id": "c7490d15",
   "metadata": {},
   "outputs": [
    {
     "name": "stdout",
     "output_type": "stream",
     "text": [
      "please add 100 Rs worth for free shipping\n"
     ]
    }
   ],
   "source": [
    "item_1=100\n",
    "item_2=300\n",
    "\n",
    "if (item_1+item_2)>=500:\n",
    "    print('Your item in eligible for free shipping')\n",
    "else:\n",
    "    extra=500-(item_1+item_2)\n",
    "    print('please add',extra,'Rs worth for free shipping')   "
   ]
  },
  {
   "cell_type": "code",
   "execution_count": 98,
   "id": "3de997ab",
   "metadata": {},
   "outputs": [],
   "source": [
    "#Lets see different example with 'and' method\n"
   ]
  },
  {
   "cell_type": "code",
   "execution_count": 99,
   "id": "f8f58bb8",
   "metadata": {},
   "outputs": [
    {
     "name": "stdout",
     "output_type": "stream",
     "text": [
      "Both condion are wrong\n"
     ]
    }
   ],
   "source": [
    "a=200\n",
    "b=33\n",
    "c=500\n",
    "\n",
    "if a>b and c<a:\n",
    "    print('Both condtion are true')\n",
    "else:\n",
    "    print('Both condion are wrong')"
   ]
  },
  {
   "cell_type": "code",
   "execution_count": 100,
   "id": "c8641cba",
   "metadata": {},
   "outputs": [],
   "source": [
    "#Lets see different example with 'or' method"
   ]
  },
  {
   "cell_type": "code",
   "execution_count": 101,
   "id": "51a74b1d",
   "metadata": {},
   "outputs": [
    {
     "name": "stdout",
     "output_type": "stream",
     "text": [
      "Atleast one of the condition are true\n"
     ]
    }
   ],
   "source": [
    "a=200\n",
    "b=33\n",
    "c=500\n",
    "\n",
    "if a>b or c<a:\n",
    "    print('Atleast one of the condition are true')\n",
    "else:\n",
    "    print('Both condition are wrong')\n"
   ]
  },
  {
   "cell_type": "code",
   "execution_count": 102,
   "id": "8cf79919",
   "metadata": {},
   "outputs": [],
   "source": [
    "#Lets see with Different Example\n",
    "#Lets check Student leve"
   ]
  },
  {
   "cell_type": "code",
   "execution_count": 103,
   "id": "514203be",
   "metadata": {},
   "outputs": [
    {
     "name": "stdout",
     "output_type": "stream",
     "text": [
      "60 First class\n"
     ]
    }
   ],
   "source": [
    "marks=60\n",
    "\n",
    "if marks>=60:\n",
    "    if  marks>70:\n",
    "        print(marks,'distiction')\n",
    "    else:\n",
    "        print(marks,'First class')\n",
    "elif marks>50 and marks<60:\n",
    "    print(marks,'second division')\n",
    "elif marks>35:\n",
    "    print(marks,'Just pass')\n",
    "else:\n",
    "    ('marks','Fail Better luck next time')"
   ]
  },
  {
   "cell_type": "code",
   "execution_count": 104,
   "id": "0ed19485",
   "metadata": {},
   "outputs": [],
   "source": [
    "#See with another example"
   ]
  },
  {
   "cell_type": "code",
   "execution_count": 105,
   "id": "b7af2ca7",
   "metadata": {},
   "outputs": [
    {
     "name": "stdout",
     "output_type": "stream",
     "text": [
      "20 is greater\n"
     ]
    }
   ],
   "source": [
    "num1=20\n",
    "num2=30\n",
    "if num1<num2:\n",
    "    print(num1,'is greater')\n",
    "elif num2==31:\n",
    "    print(num2,'is equal to 31')\n"
   ]
  },
  {
   "cell_type": "code",
   "execution_count": 106,
   "id": "43a4abc4",
   "metadata": {},
   "outputs": [],
   "source": [
    "#Thats all about Branching(if,elif,else)\n"
   ]
  },
  {
   "cell_type": "code",
   "execution_count": 108,
   "id": "73d4cb6d",
   "metadata": {},
   "outputs": [],
   "source": [
    "#AI/ML Engineer-Saurav\n",
    "#Date-26 june 2024\n",
    "#Time- 10:12\n"
   ]
  },
  {
   "cell_type": "code",
   "execution_count": null,
   "id": "7c6267bd-87ec-4d53-811f-c0fa416404d3",
   "metadata": {},
   "outputs": [],
   "source": []
  },
  {
   "cell_type": "code",
   "execution_count": null,
   "id": "78ae16f7-182a-481f-863d-e3bd425723c8",
   "metadata": {},
   "outputs": [],
   "source": []
  },
  {
   "cell_type": "code",
   "execution_count": null,
   "id": "c3ccbe1f-95c7-40e8-b20a-290a2c4beeab",
   "metadata": {},
   "outputs": [],
   "source": []
  },
  {
   "cell_type": "code",
   "execution_count": null,
   "id": "0a0cc37d-86f5-4cc1-b634-f5b3672e1c13",
   "metadata": {},
   "outputs": [],
   "source": []
  }
 ],
 "metadata": {
  "kernelspec": {
   "display_name": "Python 3 (ipykernel)",
   "language": "python",
   "name": "python3"
  },
  "language_info": {
   "codemirror_mode": {
    "name": "ipython",
    "version": 3
   },
   "file_extension": ".py",
   "mimetype": "text/x-python",
   "name": "python",
   "nbconvert_exporter": "python",
   "pygments_lexer": "ipython3",
   "version": "3.10.12"
  },
  "widgets": {
   "application/vnd.jupyter.widget-state+json": {
    "state": {},
    "version_major": 2,
    "version_minor": 0
   }
  }
 },
 "nbformat": 4,
 "nbformat_minor": 5
}
