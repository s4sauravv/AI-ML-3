{
 "cells": [
  {
   "cell_type": "code",
   "execution_count": 1,
   "id": "99948d87",
   "metadata": {},
   "outputs": [],
   "source": [
    "# 6th Lecture of DataScience\n"
   ]
  },
  {
   "cell_type": "code",
   "execution_count": 5,
   "id": "750ebe5c",
   "metadata": {},
   "outputs": [],
   "source": [
    "# In this lecture learning about :-\n",
    "# 1 -Global and  local variables\n",
    "# 2 -Input Keyword/User\n",
    "# 3 -Error and Exception Handling\n",
    "# 4 -Finally:"
   ]
  },
  {
   "cell_type": "code",
   "execution_count": 4,
   "id": "2df48441",
   "metadata": {},
   "outputs": [],
   "source": [
    "# 1- Global and Local Variables"
   ]
  },
  {
   "cell_type": "code",
   "execution_count": 6,
   "id": "68a0830b",
   "metadata": {},
   "outputs": [],
   "source": [
    "# Global varibale.\n",
    "# What is global variable ? Global varibale means which variable we can use outside the fucntion as well as inside the fucntion.\n",
    "#See with Example"
   ]
  },
  {
   "cell_type": "code",
   "execution_count": 7,
   "id": "478423fc",
   "metadata": {},
   "outputs": [],
   "source": [
    "extra_marks=10   #Its an global variable"
   ]
  },
  {
   "cell_type": "code",
   "execution_count": 8,
   "id": "e76c6c72",
   "metadata": {},
   "outputs": [],
   "source": [
    "# Local variable\n",
    "# what is local variable ? local varibale means which varible we can only use inside the fucntion.\n",
    "\n",
    "#See with example."
   ]
  },
  {
   "cell_type": "code",
   "execution_count": 15,
   "id": "e5b36f3d",
   "metadata": {},
   "outputs": [],
   "source": [
    "def total_marks():\n",
    "    some_marks=50   #its a local variable, and its not work outside the fucntion\n",
    "    print(\"printing inside the fucntion and the total is \",50+some_marks+total_marks)"
   ]
  },
  {
   "cell_type": "code",
   "execution_count": 17,
   "id": "c8fc19b0",
   "metadata": {},
   "outputs": [],
   "source": [
    "#How to use local varibale outside the fucntion"
   ]
  },
  {
   "cell_type": "code",
   "execution_count": 24,
   "id": "74db7824",
   "metadata": {},
   "outputs": [],
   "source": [
    "def local_global():\n",
    "    global var12    #see that . what we can do fo var12. (\"there is a coversion\")\n",
    "    var12=\"This is fantastic\"\n",
    "    print(var12)"
   ]
  },
  {
   "cell_type": "code",
   "execution_count": 20,
   "id": "baf67c0b",
   "metadata": {},
   "outputs": [
    {
     "name": "stdout",
     "output_type": "stream",
     "text": [
      "this is fantastic\n"
     ]
    }
   ],
   "source": [
    "local_global()"
   ]
  },
  {
   "cell_type": "code",
   "execution_count": 25,
   "id": "667ebe16",
   "metadata": {},
   "outputs": [
    {
     "data": {
      "text/plain": [
       "'this is fantastic'"
      ]
     },
     "execution_count": 25,
     "metadata": {},
     "output_type": "execute_result"
    }
   ],
   "source": [
    "var12  #see that we are using local varaible to outside the fucntion because we covert local variable to global varibale"
   ]
  },
  {
   "cell_type": "code",
   "execution_count": 26,
   "id": "75d90bd4",
   "metadata": {},
   "outputs": [],
   "source": [
    "#Lets Study about Input from keyword/user"
   ]
  },
  {
   "cell_type": "code",
   "execution_count": 27,
   "id": "3d83c8fa",
   "metadata": {},
   "outputs": [],
   "source": [
    "#program to take the input string from the user"
   ]
  },
  {
   "cell_type": "code",
   "execution_count": 29,
   "id": "b9345b76",
   "metadata": {},
   "outputs": [
    {
     "name": "stdout",
     "output_type": "stream",
     "text": [
      "Enter Your Name Baby \n",
      "Saurav\n",
      "User Enter Saurav\n"
     ]
    }
   ],
   "source": [
    "name=input(\"Enter Your Name Baby \\n\")\n",
    "print(\"User Enter\",name)"
   ]
  },
  {
   "cell_type": "code",
   "execution_count": 30,
   "id": "8adbd8fe",
   "metadata": {},
   "outputs": [],
   "source": [
    "#Lets understand how to make user enter only integer."
   ]
  },
  {
   "cell_type": "code",
   "execution_count": 33,
   "id": "1a7b1d10",
   "metadata": {},
   "outputs": [
    {
     "name": "stdout",
     "output_type": "stream",
     "text": [
      "Enter Your Marks78\n",
      "Enter Your Marks65\n",
      "143  Out of 200\n"
     ]
    }
   ],
   "source": [
    "maths=int(input(\"Enter Your Marks\"))  #(int) use for integer\n",
    "science=int(input(\"Enter Your Marks\"))\n",
    "total_marks=maths + science\n",
    "print(total_marks,\" Out of 200\")"
   ]
  },
  {
   "cell_type": "code",
   "execution_count": 34,
   "id": "d2945359",
   "metadata": {},
   "outputs": [],
   "source": [
    "#How to check only letters"
   ]
  },
  {
   "cell_type": "code",
   "execution_count": 42,
   "id": "309fd8fc",
   "metadata": {},
   "outputs": [
    {
     "name": "stdout",
     "output_type": "stream",
     "text": [
      "Enter Your name Saurav\n",
      "You Entered  Saurav\n"
     ]
    }
   ],
   "source": [
    "name=input(\"Enter Your name \")\n",
    "if name.isalpha():\n",
    "    print(\"You Entered \",name)\n",
    "else:\n",
    "    print(\"Look like You Did not enter alpha charater\")"
   ]
  },
  {
   "cell_type": "code",
   "execution_count": 43,
   "id": "33fb75a3",
   "metadata": {},
   "outputs": [],
   "source": [
    "# Another Example. "
   ]
  },
  {
   "cell_type": "code",
   "execution_count": 53,
   "id": "9528bd62",
   "metadata": {},
   "outputs": [],
   "source": [
    "def phone_price(phone_make,phone_age,phone_model_gb):\n",
    "    if phone_make==\"iphone13\":\n",
    "        if 0<phone_age<=6:\n",
    "            if phone_model_gb==128:\n",
    "                print(\"Rs 65000 - Rs 75000\")\n",
    "            elif phone_model_gb==256:\n",
    "                print(\"Rs 80000\")\n",
    "        if 6<phone_age<=12:\n",
    "            if phone_model_gb==128:\n",
    "                print(\"Rs 60000 - Rs 65000\")\n",
    "            elif phone_model_gb==256:\n",
    "                print(\"Rs70000\")\n",
    "    elif phone_make==\"iphone11\":\n",
    "        if 0<phone_age<=6:\n",
    "            if phone_model_gb==64:\n",
    "                print(\"Rs 44000 - Rs 48000\")\n",
    "            elif phone_model_gb==128:\n",
    "                print(\"RS 50000 - Rs 550000\")\n",
    "        if 6<phone_age<=12:\n",
    "            if phone_model_gb==64:\n",
    "                print(\"Rs 39000 - Rs 42000\")\n",
    "            elif phone_model_gb:\n",
    "                print(\"Rs 45000 - 48000\")\n",
    "    else:\n",
    "        print(\"No Stock Right Now, Please check after few days\")"
   ]
  },
  {
   "cell_type": "code",
   "execution_count": 58,
   "id": "19caf092",
   "metadata": {},
   "outputs": [
    {
     "name": "stdout",
     "output_type": "stream",
     "text": [
      " Enter Your Required Phone  iphone11\n",
      " Enter how old phone you need  5\n",
      " Enter how much space do you want in you phone  64\n",
      "Rs 44000 - Rs 48000\n"
     ]
    }
   ],
   "source": [
    "phone=input(\" Enter Your Required Phone  \")\n",
    "months_old=int(input(\" Enter how old phone you need  \"))\n",
    "capacity=int(input(\" Enter how much space do you want in you phone  \"))\n",
    "phone_price(phone,months_old,capacity)"
   ]
  },
  {
   "cell_type": "code",
   "execution_count": 1,
   "id": "8014c092",
   "metadata": {},
   "outputs": [],
   "source": [
    "#Error and Exception Handling - As we know that when we are coding , we get different different types of\n",
    "# error , this reason python use a error and exception handling.understanding of variouss types of error\n",
    "# will help you to debug your code much faster.\n",
    "\n",
    "#Now se how to handle error and exception hadling .\n",
    "#  try and except\n",
    "#what is try and except ? Try and Except statement is used to handle these errors within our code\n",
    "#in Python. The try block is used to check some code for errors i.e the code inside the try block \n",
    "#will execute when there is no error in the program. Whereas the code inside the except block will\n",
    "#execute whenever the program encounters some error in the preceding try block."
   ]
  },
  {
   "cell_type": "code",
   "execution_count": 2,
   "id": "3642cffb",
   "metadata": {},
   "outputs": [],
   "source": [
    "#Using just except ,we can check for any exception to understand better. lets check out the smaple code."
   ]
  },
  {
   "cell_type": "code",
   "execution_count": 6,
   "id": "117b0116",
   "metadata": {},
   "outputs": [],
   "source": [
    "marks_1=88\n",
    "subject=\"datascience\"\n",
    "marks_2=33"
   ]
  },
  {
   "cell_type": "code",
   "execution_count": 9,
   "id": "20b657cd",
   "metadata": {},
   "outputs": [
    {
     "name": "stdout",
     "output_type": "stream",
     "text": [
      "You are only add integer + integer ,not with integer + string\n"
     ]
    }
   ],
   "source": [
    "try:\n",
    "    total= marks_1 + subject\n",
    "except:\n",
    "    print(\"You are only add integer + integer ,not with integer + string\")\n",
    "else:\n",
    "    (total)\n",
    "    \n",
    "    "
   ]
  },
  {
   "cell_type": "code",
   "execution_count": 10,
   "id": "e0224962",
   "metadata": {},
   "outputs": [],
   "source": [
    "# In the above example you knwo your mistake .now you will correct your mistake"
   ]
  },
  {
   "cell_type": "code",
   "execution_count": 16,
   "id": "a7b7ba09",
   "metadata": {},
   "outputs": [
    {
     "name": "stdout",
     "output_type": "stream",
     "text": [
      "Your Total marks is \n",
      "\t\t 121\n"
     ]
    }
   ],
   "source": [
    "try:\n",
    "    total=marks_1 + marks_2\n",
    "except:\n",
    "    print(\"plese dont add integer with string\")\n",
    "else:\n",
    "    print(\"Your Total marks is \\n\\t\\t\",total)"
   ]
  },
  {
   "cell_type": "code",
   "execution_count": 18,
   "id": "068f3bc4",
   "metadata": {},
   "outputs": [],
   "source": [
    "#Lets try How its work with real time.\n",
    "# we have to a one web site:  https://www.insurancedekho.com/\n",
    "# write a program to insure car number  or new car insurence ,program to accept car numbers,customer name\n",
    "# and mobile number, if user dont provide the detail , the system needs to raise exception saying \n",
    "# its mandatory field?required field."
   ]
  },
  {
   "cell_type": "code",
   "execution_count": null,
   "id": "711e0a2d",
   "metadata": {},
   "outputs": [],
   "source": []
  },
  {
   "cell_type": "code",
   "execution_count": 48,
   "id": "3c39375e",
   "metadata": {},
   "outputs": [
    {
     "name": "stdout",
     "output_type": "stream",
     "text": [
      "Enter Your Car number  \n",
      "Enter Your Name Baby  \n",
      "Enter Your Number Baby  \n",
      "\n",
      " The Registration Field Required\n",
      "\n",
      " The Name Field is required\n",
      "\n",
      " The Mobile Number Field is required\n"
     ]
    }
   ],
   "source": [
    "try:\n",
    "    car_number=input(\"Enter Your Car number \")\n",
    "    name=input(\"Enter Your Name Baby \")\n",
    "    mobile_number=input(\"Enter Your Number Baby \")\n",
    "    if car_number ==\" \":\n",
    "        raise Exception()\n",
    "    elif name ==\" \":\n",
    "        raise Exception()\n",
    "    elif mobie_number ==\" \":\n",
    "        raise Exception()\n",
    "    else:\n",
    "        pass\n",
    "except:\n",
    "    if car_number ==\" \":\n",
    "        print(\"\\n The Registration Field Required\")\n",
    "    if name ==\" \":\n",
    "        print(\"\\n The Name Field is required\")\n",
    "    if mobile_number ==\" \":\n",
    "        print(\"\\n The Mobile Number Field is required\")\n",
    "    \n",
    "else:\n",
    "    print(\"Thanks for registration\")"
   ]
  },
  {
   "cell_type": "code",
   "execution_count": 50,
   "id": "1760b732",
   "metadata": {},
   "outputs": [],
   "source": [
    "#Finally Block. We dont actually need to memorize the list of exception types. \n",
    "# Because fianlly blocks use when try and except both getting error , then finally will print.\n",
    "# and finally will execute all times . if there are any error or not."
   ]
  },
  {
   "cell_type": "code",
   "execution_count": 53,
   "id": "989fb515",
   "metadata": {},
   "outputs": [
    {
     "name": "stdout",
     "output_type": "stream",
     "text": [
      "Enter Your Car number CG 12 AK 9244\n",
      "Enter Your Name Baby Saurav Shrivastava\n",
      "Enter Your Number Baby 9406289124\\\n",
      "Thanks for registration\n"
     ]
    }
   ],
   "source": [
    "try:\n",
    "    car_number=input(\"Enter Your Car number \")\n",
    "    name=input(\"Enter Your Name Baby \")\n",
    "    mobile_number=input(\"Enter Your Number Baby \")\n",
    "    if car_number ==\" \":\n",
    "        raise Exception()\n",
    "    elif name ==\" \":\n",
    "        raise Exception()\n",
    "    elif mobie_number ==\" \":\n",
    "        raise Exception()\n",
    "    else:\n",
    "        pass\n",
    "except:\n",
    "    if car_number ==\" \":\n",
    "        print(\"\\n The Registration Field Required\")\n",
    "    if name ==\" \":\n",
    "        print(\"\\n The Name Field is required\")\n",
    "    if mobile_number ==\" \":\n",
    "        print(\"\\n The Mobile Number Field is required\")\n",
    "    \n",
    "finally:\n",
    "    print(\"Thanks for registration\")"
   ]
  },
  {
   "cell_type": "code",
   "execution_count": 54,
   "id": "8597b86e",
   "metadata": {},
   "outputs": [],
   "source": [
    "# We can use this in conjuction will execute , lets see a new example that will take into account\n",
    "# a user putting in the wrong input:-"
   ]
  },
  {
   "cell_type": "code",
   "execution_count": 62,
   "id": "92693c7b",
   "metadata": {},
   "outputs": [],
   "source": [
    "def mobile_num():\n",
    "    try:\n",
    "        val=int(input(\"Enter Your Number \"))\n",
    "    except:\n",
    "        print(\"Look Like You did not enter an integer\")\n",
    "    print(val)   "
   ]
  },
  {
   "cell_type": "code",
   "execution_count": 64,
   "id": "603a2601",
   "metadata": {},
   "outputs": [
    {
     "name": "stdout",
     "output_type": "stream",
     "text": [
      "Enter Your Number 940628912455\n",
      "940628912455\n"
     ]
    }
   ],
   "source": [
    "mobile_num()"
   ]
  },
  {
   "cell_type": "code",
   "execution_count": 65,
   "id": "91b17a08",
   "metadata": {},
   "outputs": [],
   "source": [
    "#Lets see if we enter a wrong number it will takes as a right number. \n",
    "# what if we do one thing . we set the code  like only enter 10 digit mobile number."
   ]
  },
  {
   "cell_type": "code",
   "execution_count": 69,
   "id": "dcc9fc42",
   "metadata": {},
   "outputs": [],
   "source": [
    "def mobile_numer():\n",
    "    while True:\n",
    "        try:\n",
    "            val=int(input(\"Enter Your Mobile Number\"))\n",
    "            if len(str(val))!=10:\n",
    "                print(\"You did not enter a Right Mobile Number\")\n",
    "            else:\n",
    "                print(\"Thankyou\")\n",
    "                break\n",
    "        except:\n",
    "            print(\"Look Like You Did Not Enter An Integer\")\n",
    "            continue\n",
    "        \n",
    "        "
   ]
  },
  {
   "cell_type": "code",
   "execution_count": 70,
   "id": "9b639eff",
   "metadata": {},
   "outputs": [
    {
     "name": "stdout",
     "output_type": "stream",
     "text": [
      "Enter Your Mobile Number95555\n",
      "You did not enter a Right Mobile Number\n",
      "Enter Your Mobile Number94252\n",
      "You did not enter a Right Mobile Number\n",
      "Enter Your Mobile Number5254156\n",
      "You did not enter a Right Mobile Number\n",
      "Enter Your Mobile Number564165468\n",
      "You did not enter a Right Mobile Number\n",
      "Enter Your Mobile Number9406289124\n",
      "Thankyou\n"
     ]
    }
   ],
   "source": [
    "mobile_numer()"
   ]
  },
  {
   "cell_type": "code",
   "execution_count": null,
   "id": "d95e1b17",
   "metadata": {},
   "outputs": [],
   "source": [
    "#Thats all in the 6th lecture of datascience\n",
    "#Student of datatrained- Saurav\n",
    "#Date- 26 June 2022"
   ]
  }
 ],
 "metadata": {
  "kernelspec": {
   "display_name": "Python 3 (ipykernel)",
   "language": "python",
   "name": "python3"
  },
  "language_info": {
   "codemirror_mode": {
    "name": "ipython",
    "version": 3
   },
   "file_extension": ".py",
   "mimetype": "text/x-python",
   "name": "python",
   "nbconvert_exporter": "python",
   "pygments_lexer": "ipython3",
   "version": "3.9.12"
  }
 },
 "nbformat": 4,
 "nbformat_minor": 5
}
