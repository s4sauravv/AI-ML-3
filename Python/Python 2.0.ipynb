{
 "cells": [
  {
   "cell_type": "code",
   "execution_count": 1,
   "id": "bcc1e323",
   "metadata": {},
   "outputs": [],
   "source": [
    "#AI/ML \n",
    "#Basics Python \n",
    "#Lets Continue with Complex Number then we study about string and list.\n"
   ]
  },
  {
   "cell_type": "code",
   "execution_count": 2,
   "id": "720a88e3",
   "metadata": {},
   "outputs": [],
   "source": [
    "#lets start with complex number\n",
    "#Complex Number ? A complex number which can we studied in ou school. its abot real number and imaginary number , \n",
    "#which can be denote as i, \n",
    "#example of complex number - 2+5i, But in pyhton i is denoted with j\n",
    "#see example in jupyer cell."
   ]
  },
  {
   "cell_type": "code",
   "execution_count": 3,
   "id": "75aae4a2",
   "metadata": {},
   "outputs": [],
   "source": [
    "c=2+5j"
   ]
  },
  {
   "cell_type": "code",
   "execution_count": 5,
   "id": "aedad326",
   "metadata": {},
   "outputs": [
    {
     "data": {
      "text/plain": [
       "complex"
      ]
     },
     "execution_count": 5,
     "metadata": {},
     "output_type": "execute_result"
    }
   ],
   "source": [
    "type(c)"
   ]
  },
  {
   "cell_type": "code",
   "execution_count": 6,
   "id": "c4a4b68a",
   "metadata": {},
   "outputs": [],
   "source": [
    "#but in data science we dont use complex number."
   ]
  },
  {
   "cell_type": "code",
   "execution_count": 7,
   "id": "88df7559",
   "metadata": {},
   "outputs": [],
   "source": [
    "#String. What is string - String when we use alphabet in single,double and tripple quotes\n",
    "#tripple quote is also used for documentation\n",
    "#see example of String"
   ]
  },
  {
   "cell_type": "code",
   "execution_count": 1,
   "id": "9a62686c",
   "metadata": {},
   "outputs": [],
   "source": [
    "a='Ram is hero'"
   ]
  },
  {
   "cell_type": "code",
   "execution_count": 2,
   "id": "fcf965cb",
   "metadata": {},
   "outputs": [
    {
     "data": {
      "text/plain": [
       "'Ram is hero'"
      ]
     },
     "execution_count": 2,
     "metadata": {},
     "output_type": "execute_result"
    }
   ],
   "source": [
    "a"
   ]
  },
  {
   "cell_type": "code",
   "execution_count": 3,
   "id": "2b5fcf2a",
   "metadata": {},
   "outputs": [
    {
     "data": {
      "text/plain": [
       "str"
      ]
     },
     "execution_count": 3,
     "metadata": {},
     "output_type": "execute_result"
    }
   ],
   "source": [
    "type(a)"
   ]
  },
  {
   "cell_type": "code",
   "execution_count": 4,
   "id": "7dd16562",
   "metadata": {},
   "outputs": [],
   "source": [
    "#one more example\n"
   ]
  },
  {
   "cell_type": "code",
   "execution_count": 5,
   "id": "186ec409",
   "metadata": {},
   "outputs": [],
   "source": [
    "str1='python'\n",
    "str2=' is a powerful'\n",
    "str3=' language'"
   ]
  },
  {
   "cell_type": "code",
   "execution_count": 6,
   "id": "46e3b359",
   "metadata": {},
   "outputs": [],
   "source": [
    "#how we add str1,str2 and str2"
   ]
  },
  {
   "cell_type": "code",
   "execution_count": 7,
   "id": "3853bfe6",
   "metadata": {},
   "outputs": [
    {
     "name": "stdout",
     "output_type": "stream",
     "text": [
      "python is a powerful language\n"
     ]
    }
   ],
   "source": [
    "print(str1+str2+str3)"
   ]
  },
  {
   "cell_type": "code",
   "execution_count": 8,
   "id": "4508c74f",
   "metadata": {},
   "outputs": [],
   "source": [
    "#we can add directly without ececuting codes"
   ]
  },
  {
   "cell_type": "code",
   "execution_count": 9,
   "id": "dff35c98",
   "metadata": {},
   "outputs": [
    {
     "name": "stdout",
     "output_type": "stream",
     "text": [
      "saurav is ex  mining engineer\n"
     ]
    }
   ],
   "source": [
    "print(\"saurav\"+\" is ex\",\" mining engineer\")"
   ]
  },
  {
   "cell_type": "code",
   "execution_count": 10,
   "id": "49fef75e",
   "metadata": {},
   "outputs": [],
   "source": [
    "#other operation on string"
   ]
  },
  {
   "cell_type": "code",
   "execution_count": 11,
   "id": "6183c0de",
   "metadata": {},
   "outputs": [
    {
     "name": "stdout",
     "output_type": "stream",
     "text": [
      "  Day  Day  Day  Day  Day\n"
     ]
    }
   ],
   "source": [
    "print('  Day' *  5)  #(* use for multiplication)"
   ]
  },
  {
   "cell_type": "code",
   "execution_count": 12,
   "id": "84622d26",
   "metadata": {},
   "outputs": [
    {
     "name": "stdout",
     "output_type": "stream",
     "text": [
      " = = = = = = = = = = = = = = = = = = = = = = = = = = = = = = = = = = = = = = = = = = = = = = = = = = = = = = = = = = = = = = = = = = = = = = = = = = = = = = = = = = = = = = = = = = = = = = = = = = = =\n"
     ]
    }
   ],
   "source": [
    "print(' =' * 100)"
   ]
  },
  {
   "cell_type": "code",
   "execution_count": 13,
   "id": "33b1afbe",
   "metadata": {},
   "outputs": [],
   "source": [
    "#lets add string + integer"
   ]
  },
  {
   "cell_type": "code",
   "execution_count": 14,
   "id": "f1058940",
   "metadata": {},
   "outputs": [
    {
     "ename": "TypeError",
     "evalue": "can only concatenate str (not \"int\") to str",
     "output_type": "error",
     "traceback": [
      "\u001b[0;31m---------------------------------------------------------------------------\u001b[0m",
      "\u001b[0;31mTypeError\u001b[0m                                 Traceback (most recent call last)",
      "Cell \u001b[0;32mIn[14], line 1\u001b[0m\n\u001b[0;32m----> 1\u001b[0m \u001b[38;5;28mprint\u001b[39m(\u001b[38;5;124;43m'\u001b[39;49m\u001b[38;5;124;43mDay\u001b[39;49m\u001b[38;5;124;43m'\u001b[39;49m\u001b[43m \u001b[49m\u001b[38;5;241;43m+\u001b[39;49m\u001b[43m \u001b[49m\u001b[38;5;241;43m5\u001b[39;49m)\n",
      "\u001b[0;31mTypeError\u001b[0m: can only concatenate str (not \"int\") to str"
     ]
    }
   ],
   "source": [
    "print('Day' + 5)"
   ]
  },
  {
   "cell_type": "code",
   "execution_count": null,
   "id": "5501328c",
   "metadata": {},
   "outputs": [],
   "source": [
    "#How we can concatenate string + integer ?\n",
    "#we gave to convert integer into sring."
   ]
  },
  {
   "cell_type": "code",
   "execution_count": 15,
   "id": "6ce2aab1",
   "metadata": {},
   "outputs": [
    {
     "name": "stdout",
     "output_type": "stream",
     "text": [
      "Day5\n"
     ]
    }
   ],
   "source": [
    "print('Day' + str(5))"
   ]
  },
  {
   "cell_type": "code",
   "execution_count": 16,
   "id": "1380ef6e",
   "metadata": {},
   "outputs": [],
   "source": [
    "#Now We Studied about Data Structure.\n",
    "#what is data structure ? Data structure which can hold,store and save out data\n",
    "#there are different different typre data structure\n",
    "#1- List\n",
    "#2- Tuple\n",
    "#3- Set\n",
    "#4- Dictionary\n"
   ]
  },
  {
   "cell_type": "code",
   "execution_count": 17,
   "id": "ad1ba17e",
   "metadata": {},
   "outputs": [],
   "source": [
    "#Lets Start with list \n",
    "#So, What is list?, List is like a container which can hold our data ., and list is always in square brackets [].\n",
    "#Accommodate all types of data.\n",
    "#list are mutable.\n",
    "#what is mutable ? mutalbe means where we can edit(update,insert,add,count)our data."
   ]
  },
  {
   "cell_type": "code",
   "execution_count": 18,
   "id": "3190dc1f",
   "metadata": {},
   "outputs": [],
   "source": [
    "#Create empty  list"
   ]
  },
  {
   "cell_type": "code",
   "execution_count": 19,
   "id": "3e834648",
   "metadata": {},
   "outputs": [],
   "source": [
    "lst=[]"
   ]
  },
  {
   "cell_type": "code",
   "execution_count": 20,
   "id": "61a727ef",
   "metadata": {},
   "outputs": [
    {
     "data": {
      "text/plain": [
       "[]"
      ]
     },
     "execution_count": 20,
     "metadata": {},
     "output_type": "execute_result"
    }
   ],
   "source": [
    "lst"
   ]
  },
  {
   "cell_type": "code",
   "execution_count": 21,
   "id": "c9fd8cbc",
   "metadata": {},
   "outputs": [
    {
     "data": {
      "text/plain": [
       "list"
      ]
     },
     "execution_count": 21,
     "metadata": {},
     "output_type": "execute_result"
    }
   ],
   "source": [
    "type(lst)"
   ]
  },
  {
   "cell_type": "code",
   "execution_count": 22,
   "id": "c5d36ed9",
   "metadata": {},
   "outputs": [],
   "source": [
    "#create proper list"
   ]
  },
  {
   "cell_type": "code",
   "execution_count": 23,
   "id": "66af9183",
   "metadata": {},
   "outputs": [],
   "source": [
    "lst=['a','b','c','d']"
   ]
  },
  {
   "cell_type": "code",
   "execution_count": 24,
   "id": "f4e20203",
   "metadata": {},
   "outputs": [
    {
     "data": {
      "text/plain": [
       "['a', 'b', 'c', 'd']"
      ]
     },
     "execution_count": 24,
     "metadata": {},
     "output_type": "execute_result"
    }
   ],
   "source": [
    "lst"
   ]
  },
  {
   "cell_type": "code",
   "execution_count": 25,
   "id": "a6a09c35",
   "metadata": {},
   "outputs": [],
   "source": [
    "#How to copy into their list"
   ]
  },
  {
   "cell_type": "code",
   "execution_count": 26,
   "id": "7d3ce149",
   "metadata": {},
   "outputs": [],
   "source": [
    "l2=list(lst)"
   ]
  },
  {
   "cell_type": "code",
   "execution_count": 27,
   "id": "c8bb3a1e",
   "metadata": {},
   "outputs": [
    {
     "data": {
      "text/plain": [
       "['a', 'b', 'c', 'd']"
      ]
     },
     "execution_count": 27,
     "metadata": {},
     "output_type": "execute_result"
    }
   ],
   "source": [
    "l2"
   ]
  },
  {
   "cell_type": "code",
   "execution_count": 28,
   "id": "22f60166",
   "metadata": {},
   "outputs": [],
   "source": [
    "#Differnt way to copy a list \n",
    "#Copy() Method"
   ]
  },
  {
   "cell_type": "code",
   "execution_count": 29,
   "id": "36e61f55",
   "metadata": {},
   "outputs": [],
   "source": [
    "marks=[30,40,50,60]"
   ]
  },
  {
   "cell_type": "code",
   "execution_count": 30,
   "id": "82e44359",
   "metadata": {},
   "outputs": [],
   "source": [
    "copy_marks=marks.copy()"
   ]
  },
  {
   "cell_type": "code",
   "execution_count": 31,
   "id": "3456d27a",
   "metadata": {},
   "outputs": [
    {
     "data": {
      "text/plain": [
       "[30, 40, 50, 60]"
      ]
     },
     "execution_count": 31,
     "metadata": {},
     "output_type": "execute_result"
    }
   ],
   "source": [
    "copy_marks"
   ]
  },
  {
   "cell_type": "code",
   "execution_count": 32,
   "id": "d2db1449",
   "metadata": {},
   "outputs": [],
   "source": [
    "#Another way to make list"
   ]
  },
  {
   "cell_type": "code",
   "execution_count": 33,
   "id": "881941dc",
   "metadata": {},
   "outputs": [
    {
     "data": {
      "text/plain": [
       "['s', 'a', 'u', 'r', 'a', 'v']"
      ]
     },
     "execution_count": 33,
     "metadata": {},
     "output_type": "execute_result"
    }
   ],
   "source": [
    "list('saurav') #this method can separate all the elemnts."
   ]
  },
  {
   "cell_type": "code",
   "execution_count": 34,
   "id": "592faa96",
   "metadata": {},
   "outputs": [],
   "source": [
    "#Lets Try with integr"
   ]
  },
  {
   "cell_type": "code",
   "execution_count": 35,
   "id": "e370470f",
   "metadata": {},
   "outputs": [
    {
     "ename": "TypeError",
     "evalue": "'int' object is not iterable",
     "output_type": "error",
     "traceback": [
      "\u001b[0;31m---------------------------------------------------------------------------\u001b[0m",
      "\u001b[0;31mTypeError\u001b[0m                                 Traceback (most recent call last)",
      "Cell \u001b[0;32mIn[35], line 1\u001b[0m\n\u001b[0;32m----> 1\u001b[0m \u001b[38;5;28;43mlist\u001b[39;49m\u001b[43m(\u001b[49m\u001b[38;5;241;43m8885\u001b[39;49m\u001b[43m)\u001b[49m \u001b[38;5;66;03m#integer object is not iterable\u001b[39;00m\n",
      "\u001b[0;31mTypeError\u001b[0m: 'int' object is not iterable"
     ]
    }
   ],
   "source": [
    "list(8885) #integer object is not iterable"
   ]
  },
  {
   "cell_type": "code",
   "execution_count": 36,
   "id": "3c650f79",
   "metadata": {},
   "outputs": [],
   "source": [
    "#Lets Try append mends\n",
    "#create an empty list and append data by usind appen method."
   ]
  },
  {
   "cell_type": "code",
   "execution_count": 37,
   "id": "b72a3022",
   "metadata": {},
   "outputs": [],
   "source": [
    "l1=[]"
   ]
  },
  {
   "cell_type": "code",
   "execution_count": 38,
   "id": "a2038b32",
   "metadata": {},
   "outputs": [],
   "source": [
    "l1.append('saurav')"
   ]
  },
  {
   "cell_type": "code",
   "execution_count": 39,
   "id": "866cb838",
   "metadata": {},
   "outputs": [
    {
     "data": {
      "text/plain": [
       "['saurav']"
      ]
     },
     "execution_count": 39,
     "metadata": {},
     "output_type": "execute_result"
    }
   ],
   "source": [
    "l1"
   ]
  },
  {
   "cell_type": "code",
   "execution_count": 40,
   "id": "4a84e467",
   "metadata": {},
   "outputs": [],
   "source": [
    "#add one more thing\n",
    "l1.append('vicky')"
   ]
  },
  {
   "cell_type": "code",
   "execution_count": 41,
   "id": "4a55e25e",
   "metadata": {},
   "outputs": [
    {
     "data": {
      "text/plain": [
       "['saurav', 'vicky']"
      ]
     },
     "execution_count": 41,
     "metadata": {},
     "output_type": "execute_result"
    }
   ],
   "source": [
    "l1"
   ]
  },
  {
   "cell_type": "code",
   "execution_count": 42,
   "id": "1abf4ddc",
   "metadata": {},
   "outputs": [],
   "source": [
    "#add two item \n",
    "l1.append('yashu')\n",
    "l1.append('shivangi')"
   ]
  },
  {
   "cell_type": "code",
   "execution_count": 43,
   "id": "dc799445",
   "metadata": {},
   "outputs": [
    {
     "data": {
      "text/plain": [
       "['saurav', 'vicky', 'yashu', 'shivangi']"
      ]
     },
     "execution_count": 43,
     "metadata": {},
     "output_type": "execute_result"
    }
   ],
   "source": [
    "l1"
   ]
  },
  {
   "cell_type": "code",
   "execution_count": 44,
   "id": "0c9e4252",
   "metadata": {},
   "outputs": [],
   "source": [
    "#index and insert-Two arguments can be paced in insert method\n",
    "#insert(index,insert) meaning of index is where we have to add objects and  meaning of insert is what object we have to store.\n",
    "#see with  example\n",
    "#lets make new list"
   ]
  },
  {
   "cell_type": "code",
   "execution_count": 45,
   "id": "b57c1179",
   "metadata": {},
   "outputs": [],
   "source": [
    "l1=['saurav','vicky','minakshi','Donald Trump','Imran khan']"
   ]
  },
  {
   "cell_type": "code",
   "execution_count": 46,
   "id": "26996428",
   "metadata": {},
   "outputs": [
    {
     "data": {
      "text/plain": [
       "['saurav', 'vicky', 'minakshi', 'Donald Trump', 'Imran khan']"
      ]
     },
     "execution_count": 46,
     "metadata": {},
     "output_type": "execute_result"
    }
   ],
   "source": [
    "l1"
   ]
  },
  {
   "cell_type": "code",
   "execution_count": 47,
   "id": "daf75bc6",
   "metadata": {},
   "outputs": [],
   "source": [
    "#now we inserting a data in the place of imran khan\n",
    "#lets see how we can add"
   ]
  },
  {
   "cell_type": "code",
   "execution_count": 48,
   "id": "3af5c569",
   "metadata": {},
   "outputs": [],
   "source": [
    "l1.insert(4,'putin')"
   ]
  },
  {
   "cell_type": "code",
   "execution_count": 49,
   "id": "e8573d73",
   "metadata": {},
   "outputs": [
    {
     "data": {
      "text/plain": [
       "['saurav', 'vicky', 'minakshi', 'Donald Trump', 'putin', 'Imran khan']"
      ]
     },
     "execution_count": 49,
     "metadata": {},
     "output_type": "execute_result"
    }
   ],
   "source": [
    "l1"
   ]
  },
  {
   "cell_type": "code",
   "execution_count": 50,
   "id": "cbbdf815",
   "metadata": {},
   "outputs": [],
   "source": [
    "#one more example with numbers"
   ]
  },
  {
   "cell_type": "code",
   "execution_count": 51,
   "id": "ba50ac6f",
   "metadata": {},
   "outputs": [],
   "source": [
    "l1=[11,22,33,44,55,66]"
   ]
  },
  {
   "cell_type": "code",
   "execution_count": 52,
   "id": "2933d087",
   "metadata": {},
   "outputs": [],
   "source": [
    "l1.insert(2,88)"
   ]
  },
  {
   "cell_type": "code",
   "execution_count": 53,
   "id": "4a1fc83f",
   "metadata": {},
   "outputs": [
    {
     "data": {
      "text/plain": [
       "[11, 22, 88, 33, 44, 55, 66]"
      ]
     },
     "execution_count": 53,
     "metadata": {},
     "output_type": "execute_result"
    }
   ],
   "source": [
    "l1"
   ]
  },
  {
   "cell_type": "code",
   "execution_count": 54,
   "id": "c981cd5e",
   "metadata": {},
   "outputs": [],
   "source": [
    "#list Extended Method\n",
    "#How to check total element in the list.\n",
    "#lets create a list"
   ]
  },
  {
   "cell_type": "code",
   "execution_count": 55,
   "id": "8cae174d",
   "metadata": {},
   "outputs": [],
   "source": [
    "l1=[44,55,66,99,77,88]"
   ]
  },
  {
   "cell_type": "code",
   "execution_count": 56,
   "id": "c18c92a6",
   "metadata": {},
   "outputs": [
    {
     "data": {
      "text/plain": [
       "6"
      ]
     },
     "execution_count": 56,
     "metadata": {},
     "output_type": "execute_result"
    }
   ],
   "source": [
    "len(l1)"
   ]
  },
  {
   "cell_type": "code",
   "execution_count": 57,
   "id": "cebdfa99",
   "metadata": {},
   "outputs": [],
   "source": [
    "#Indexing and Slicing. are always in square brackets[]\n",
    "#creating a list"
   ]
  },
  {
   "cell_type": "code",
   "execution_count": 58,
   "id": "67bbd8a9",
   "metadata": {},
   "outputs": [],
   "source": [
    "l1=['saurav','gaurav','lovely','advit']"
   ]
  },
  {
   "cell_type": "code",
   "execution_count": 59,
   "id": "6a547a97",
   "metadata": {},
   "outputs": [
    {
     "data": {
      "text/plain": [
       "'saurav'"
      ]
     },
     "execution_count": 59,
     "metadata": {},
     "output_type": "execute_result"
    }
   ],
   "source": [
    "l1[0]"
   ]
  },
  {
   "cell_type": "code",
   "execution_count": 60,
   "id": "123ac6bb",
   "metadata": {},
   "outputs": [
    {
     "data": {
      "text/plain": [
       "'gaurav'"
      ]
     },
     "execution_count": 60,
     "metadata": {},
     "output_type": "execute_result"
    }
   ],
   "source": [
    "l1[1]"
   ]
  },
  {
   "cell_type": "code",
   "execution_count": 61,
   "id": "1db15d47",
   "metadata": {},
   "outputs": [
    {
     "data": {
      "text/plain": [
       "'lovely'"
      ]
     },
     "execution_count": 61,
     "metadata": {},
     "output_type": "execute_result"
    }
   ],
   "source": [
    "l1[2]"
   ]
  },
  {
   "cell_type": "code",
   "execution_count": 62,
   "id": "29fdaeec",
   "metadata": {},
   "outputs": [
    {
     "data": {
      "text/plain": [
       "'advit'"
      ]
     },
     "execution_count": 62,
     "metadata": {},
     "output_type": "execute_result"
    }
   ],
   "source": [
    "l1[3]"
   ]
  },
  {
   "cell_type": "code",
   "execution_count": 63,
   "id": "ddf49864",
   "metadata": {},
   "outputs": [],
   "source": [
    "#How to replace object in list\n",
    "#we have to replace advit by babu"
   ]
  },
  {
   "cell_type": "code",
   "execution_count": 64,
   "id": "cc3bb803",
   "metadata": {},
   "outputs": [],
   "source": [
    "l1[3]='Babu'"
   ]
  },
  {
   "cell_type": "code",
   "execution_count": 65,
   "id": "d275d48a",
   "metadata": {},
   "outputs": [
    {
     "data": {
      "text/plain": [
       "['saurav', 'gaurav', 'lovely', 'Babu']"
      ]
     },
     "execution_count": 65,
     "metadata": {},
     "output_type": "execute_result"
    }
   ],
   "source": [
    "l1"
   ]
  },
  {
   "cell_type": "code",
   "execution_count": 66,
   "id": "543478ff",
   "metadata": {},
   "outputs": [],
   "source": [
    "#Replace with Integer\n",
    "#lets create a list with numbers"
   ]
  },
  {
   "cell_type": "code",
   "execution_count": 67,
   "id": "08064661",
   "metadata": {},
   "outputs": [],
   "source": [
    "l1=[11,22,33,66,44,88,99,44]"
   ]
  },
  {
   "cell_type": "code",
   "execution_count": 68,
   "id": "74b6c811",
   "metadata": {},
   "outputs": [],
   "source": [
    "#in l1 66 replace with 1607"
   ]
  },
  {
   "cell_type": "code",
   "execution_count": 69,
   "id": "5a4f2dc7",
   "metadata": {},
   "outputs": [],
   "source": [
    "l1[3]=1607"
   ]
  },
  {
   "cell_type": "code",
   "execution_count": 70,
   "id": "8467a325",
   "metadata": {},
   "outputs": [
    {
     "data": {
      "text/plain": [
       "[11, 22, 33, 1607, 44, 88, 99, 44]"
      ]
     },
     "execution_count": 70,
     "metadata": {},
     "output_type": "execute_result"
    }
   ],
   "source": [
    "l1"
   ]
  },
  {
   "cell_type": "code",
   "execution_count": 71,
   "id": "e7147adf",
   "metadata": {},
   "outputs": [],
   "source": [
    "#Gran index 1 from l1 and exerything from past\n",
    "#lets see"
   ]
  },
  {
   "cell_type": "code",
   "execution_count": 72,
   "id": "12b31b91",
   "metadata": {},
   "outputs": [
    {
     "data": {
      "text/plain": [
       "[11, 22, 33, 1607, 44, 88, 99, 44]"
      ]
     },
     "execution_count": 72,
     "metadata": {},
     "output_type": "execute_result"
    }
   ],
   "source": [
    "l1"
   ]
  },
  {
   "cell_type": "code",
   "execution_count": 73,
   "id": "f7bf04e4",
   "metadata": {},
   "outputs": [
    {
     "data": {
      "text/plain": [
       "[22, 33, 1607, 44, 88, 99, 44]"
      ]
     },
     "execution_count": 73,
     "metadata": {},
     "output_type": "execute_result"
    }
   ],
   "source": [
    "l1[1:]"
   ]
  },
  {
   "cell_type": "code",
   "execution_count": 74,
   "id": "4c448043",
   "metadata": {},
   "outputs": [
    {
     "data": {
      "text/plain": [
       "[33, 1607, 44, 88, 99, 44]"
      ]
     },
     "execution_count": 74,
     "metadata": {},
     "output_type": "execute_result"
    }
   ],
   "source": [
    "l1[2:]"
   ]
  },
  {
   "cell_type": "code",
   "execution_count": 75,
   "id": "668b9479",
   "metadata": {},
   "outputs": [],
   "source": [
    "#see and understabd"
   ]
  },
  {
   "cell_type": "code",
   "execution_count": 76,
   "id": "d111d20d",
   "metadata": {},
   "outputs": [
    {
     "data": {
      "text/plain": [
       "[11, 22, 33, 1607, 44, 88, 99, 44]"
      ]
     },
     "execution_count": 76,
     "metadata": {},
     "output_type": "execute_result"
    }
   ],
   "source": [
    "l1"
   ]
  },
  {
   "cell_type": "code",
   "execution_count": 77,
   "id": "bdfc39d2",
   "metadata": {},
   "outputs": [
    {
     "data": {
      "text/plain": [
       "[22, 33, 1607, 44, 88, 99]"
      ]
     },
     "execution_count": 77,
     "metadata": {},
     "output_type": "execute_result"
    }
   ],
   "source": [
    "l1[1:7] #what isdone here."
   ]
  },
  {
   "cell_type": "code",
   "execution_count": 78,
   "id": "46bf00b8",
   "metadata": {},
   "outputs": [
    {
     "data": {
      "text/plain": [
       "[11, 22, 33]"
      ]
     },
     "execution_count": 78,
     "metadata": {},
     "output_type": "execute_result"
    }
   ],
   "source": [
    "l1[:3]"
   ]
  },
  {
   "cell_type": "code",
   "execution_count": 79,
   "id": "ea7ac5e1",
   "metadata": {},
   "outputs": [],
   "source": [
    "#we also use \"+\" sign to concatinate list, just like we did for string"
   ]
  },
  {
   "cell_type": "code",
   "execution_count": 80,
   "id": "c9b79da0",
   "metadata": {},
   "outputs": [
    {
     "data": {
      "text/plain": [
       "[11, 22, 33, 1607, 44, 88, 99, 44]"
      ]
     },
     "execution_count": 80,
     "metadata": {},
     "output_type": "execute_result"
    }
   ],
   "source": [
    "l1"
   ]
  },
  {
   "cell_type": "code",
   "execution_count": 81,
   "id": "1fe2f3d7",
   "metadata": {},
   "outputs": [
    {
     "data": {
      "text/plain": [
       "[11, 22, 33, 1607, 44, 88, 99, 44]"
      ]
     },
     "execution_count": 81,
     "metadata": {},
     "output_type": "execute_result"
    }
   ],
   "source": [
    "l1"
   ]
  },
  {
   "cell_type": "code",
   "execution_count": 82,
   "id": "23e8d403",
   "metadata": {},
   "outputs": [
    {
     "data": {
      "text/plain": [
       "[11, 22, 33, 1607, 44, 88, 99, 44, 6622]"
      ]
     },
     "execution_count": 82,
     "metadata": {},
     "output_type": "execute_result"
    }
   ],
   "source": [
    "l1+[6622]"
   ]
  },
  {
   "cell_type": "code",
   "execution_count": 83,
   "id": "3ac823a9",
   "metadata": {},
   "outputs": [],
   "source": [
    "#this concatinate method does not change permanently.\n",
    "#in case if you want to concatinate permanently you use different method\n",
    "#just see"
   ]
  },
  {
   "cell_type": "code",
   "execution_count": 84,
   "id": "843a3b51",
   "metadata": {},
   "outputs": [],
   "source": [
    "l1=l1+[5566]"
   ]
  },
  {
   "cell_type": "code",
   "execution_count": 85,
   "id": "7987ffa8",
   "metadata": {},
   "outputs": [
    {
     "data": {
      "text/plain": [
       "[11, 22, 33, 1607, 44, 88, 99, 44, 5566]"
      ]
     },
     "execution_count": 85,
     "metadata": {},
     "output_type": "execute_result"
    }
   ],
   "source": [
    "l1"
   ]
  },
  {
   "cell_type": "code",
   "execution_count": 86,
   "id": "3980d80a",
   "metadata": {},
   "outputs": [],
   "source": [
    "#if you want to duplicate \n",
    "#you have to use duplicate method\n",
    "#just see"
   ]
  },
  {
   "cell_type": "code",
   "execution_count": 87,
   "id": "17d28085",
   "metadata": {},
   "outputs": [
    {
     "data": {
      "text/plain": [
       "[11, 22, 33, 1607, 44, 88, 99, 44, 5566]"
      ]
     },
     "execution_count": 87,
     "metadata": {},
     "output_type": "execute_result"
    }
   ],
   "source": [
    "l1"
   ]
  },
  {
   "cell_type": "code",
   "execution_count": 88,
   "id": "05327f39",
   "metadata": {},
   "outputs": [
    {
     "data": {
      "text/plain": [
       "[11,\n",
       " 22,\n",
       " 33,\n",
       " 1607,\n",
       " 44,\n",
       " 88,\n",
       " 99,\n",
       " 44,\n",
       " 5566,\n",
       " 11,\n",
       " 22,\n",
       " 33,\n",
       " 1607,\n",
       " 44,\n",
       " 88,\n",
       " 99,\n",
       " 44,\n",
       " 5566,\n",
       " 11,\n",
       " 22,\n",
       " 33,\n",
       " 1607,\n",
       " 44,\n",
       " 88,\n",
       " 99,\n",
       " 44,\n",
       " 5566,\n",
       " 11,\n",
       " 22,\n",
       " 33,\n",
       " 1607,\n",
       " 44,\n",
       " 88,\n",
       " 99,\n",
       " 44,\n",
       " 5566]"
      ]
     },
     "execution_count": 88,
     "metadata": {},
     "output_type": "execute_result"
    }
   ],
   "source": [
    "l1 * 4 #like that"
   ]
  },
  {
   "cell_type": "code",
   "execution_count": 89,
   "id": "b11efd22",
   "metadata": {},
   "outputs": [],
   "source": [
    "# if you want to decorate your code\n",
    "#then you will do someting to decorate\n",
    "#lets see\n",
    "#making a list and decorate"
   ]
  },
  {
   "cell_type": "code",
   "execution_count": 90,
   "id": "a8f7a4fe",
   "metadata": {},
   "outputs": [
    {
     "name": "stdout",
     "output_type": "stream",
     "text": [
      "====================================================================================================\n",
      "[11, 22, 33, 1607, 44, 88, 99, 44, 5566]\n",
      "====================================================================================================\n"
     ]
    }
   ],
   "source": [
    "print('=' * 100)\n",
    "\n",
    "print(l1)\n",
    "\n",
    "print('=' * 100)   #like that"
   ]
  },
  {
   "cell_type": "code",
   "execution_count": 91,
   "id": "13977bd6",
   "metadata": {},
   "outputs": [],
   "source": [
    "#if you double you anything by using * method they dont double for permanent"
   ]
  },
  {
   "cell_type": "code",
   "execution_count": 92,
   "id": "58e85572",
   "metadata": {},
   "outputs": [],
   "source": [
    "#Advanced List\n",
    "#count method\n",
    "#what is count method ? count methos is which method the csn show how many time availability of duplicate things.\n",
    "#so lets see how we can you count method.\n",
    "#create list with the name of marks"
   ]
  },
  {
   "cell_type": "code",
   "execution_count": 93,
   "id": "3f6d8009",
   "metadata": {},
   "outputs": [],
   "source": [
    "marks=[51,56,89,78,89,45,56,12,12,32,45,32,65,45,89,78,45,56,23,12,4,5,23,23,56,]"
   ]
  },
  {
   "cell_type": "code",
   "execution_count": 94,
   "id": "c946c53a",
   "metadata": {},
   "outputs": [],
   "source": [
    "#we cave to find 23 , is how much time is marks list."
   ]
  },
  {
   "cell_type": "code",
   "execution_count": 95,
   "id": "368db823",
   "metadata": {},
   "outputs": [
    {
     "data": {
      "text/plain": [
       "3"
      ]
     },
     "execution_count": 95,
     "metadata": {},
     "output_type": "execute_result"
    }
   ],
   "source": [
    "marks.count(23)"
   ]
  },
  {
   "cell_type": "code",
   "execution_count": 96,
   "id": "37d2ccd5",
   "metadata": {},
   "outputs": [
    {
     "data": {
      "text/plain": [
       "3"
      ]
     },
     "execution_count": 96,
     "metadata": {},
     "output_type": "execute_result"
    }
   ],
   "source": [
    "marks.count(89)"
   ]
  },
  {
   "cell_type": "code",
   "execution_count": 97,
   "id": "b0201739",
   "metadata": {},
   "outputs": [],
   "source": [
    "#this will show only first element index if there are duplication."
   ]
  },
  {
   "cell_type": "code",
   "execution_count": 98,
   "id": "5aa2c22f",
   "metadata": {},
   "outputs": [],
   "source": [
    "#Extend Method.\n",
    "#manu time people confused with extend and append method. lets i can show you both method extend and append . and \n",
    "#what is the the diffrences\n",
    "#start with append method."
   ]
  },
  {
   "cell_type": "code",
   "execution_count": 99,
   "id": "851de6f9",
   "metadata": {},
   "outputs": [],
   "source": [
    "lst=['munmun','lovely']"
   ]
  },
  {
   "cell_type": "code",
   "execution_count": 100,
   "id": "931562d4",
   "metadata": {},
   "outputs": [
    {
     "data": {
      "text/plain": [
       "['munmun', 'lovely']"
      ]
     },
     "execution_count": 100,
     "metadata": {},
     "output_type": "execute_result"
    }
   ],
   "source": [
    "lst"
   ]
  },
  {
   "cell_type": "code",
   "execution_count": 101,
   "id": "85b2d679",
   "metadata": {},
   "outputs": [],
   "source": [
    "lst.append(['amisha','khushi'])"
   ]
  },
  {
   "cell_type": "code",
   "execution_count": 102,
   "id": "44cc371b",
   "metadata": {},
   "outputs": [
    {
     "data": {
      "text/plain": [
       "['munmun', 'lovely', ['amisha', 'khushi']]"
      ]
     },
     "execution_count": 102,
     "metadata": {},
     "output_type": "execute_result"
    }
   ],
   "source": [
    "lst"
   ]
  },
  {
   "cell_type": "code",
   "execution_count": 103,
   "id": "2bbf5697",
   "metadata": {},
   "outputs": [],
   "source": [
    "#thats not look like right .\n",
    "#lets check with extend method"
   ]
  },
  {
   "cell_type": "code",
   "execution_count": 104,
   "id": "829a6232",
   "metadata": {},
   "outputs": [],
   "source": [
    "lst1=['munmun','lovely']"
   ]
  },
  {
   "cell_type": "code",
   "execution_count": 105,
   "id": "257b115e",
   "metadata": {},
   "outputs": [
    {
     "data": {
      "text/plain": [
       "['munmun', 'lovely']"
      ]
     },
     "execution_count": 105,
     "metadata": {},
     "output_type": "execute_result"
    }
   ],
   "source": [
    "lst1"
   ]
  },
  {
   "cell_type": "code",
   "execution_count": 106,
   "id": "f67094e0",
   "metadata": {},
   "outputs": [],
   "source": [
    "lst1.extend(['amisha','khusi'])"
   ]
  },
  {
   "cell_type": "code",
   "execution_count": 107,
   "id": "180340d5",
   "metadata": {},
   "outputs": [
    {
     "data": {
      "text/plain": [
       "['munmun', 'lovely', 'amisha', 'khusi']"
      ]
     },
     "execution_count": 107,
     "metadata": {},
     "output_type": "execute_result"
    }
   ],
   "source": [
    "lst1"
   ]
  },
  {
   "cell_type": "code",
   "execution_count": 108,
   "id": "799eeb18",
   "metadata": {},
   "outputs": [],
   "source": [
    "#thats look cool \n",
    "#this is the diffrences.\n",
    "#similarly you can add integer data as well concepts is same for any type data."
   ]
  },
  {
   "cell_type": "code",
   "execution_count": 109,
   "id": "83496f0b",
   "metadata": {},
   "outputs": [],
   "source": [
    "#Pop method\n",
    "#what is pop method ? pop mehod help for delete last index elemnt from any list.\n",
    "#lets see with example."
   ]
  },
  {
   "cell_type": "code",
   "execution_count": 110,
   "id": "0ffbf318",
   "metadata": {},
   "outputs": [],
   "source": [
    "lst1=['Raj','Saurav','Garima','Riya','Gaurav','Ratnesh','Shailesh']"
   ]
  },
  {
   "cell_type": "code",
   "execution_count": 111,
   "id": "340454f9",
   "metadata": {},
   "outputs": [
    {
     "data": {
      "text/plain": [
       "['Raj', 'Saurav', 'Garima', 'Riya', 'Gaurav', 'Ratnesh', 'Shailesh']"
      ]
     },
     "execution_count": 111,
     "metadata": {},
     "output_type": "execute_result"
    }
   ],
   "source": [
    "lst1"
   ]
  },
  {
   "cell_type": "code",
   "execution_count": 112,
   "id": "8cd0b79c",
   "metadata": {},
   "outputs": [],
   "source": [
    "#what we do if we have to delete \"Shailesh\" from our list."
   ]
  },
  {
   "cell_type": "code",
   "execution_count": 113,
   "id": "0b873a77",
   "metadata": {},
   "outputs": [],
   "source": [
    "pop_shailesh=lst1.pop()"
   ]
  },
  {
   "cell_type": "code",
   "execution_count": 114,
   "id": "328c58dd",
   "metadata": {},
   "outputs": [
    {
     "data": {
      "text/plain": [
       "'Shailesh'"
      ]
     },
     "execution_count": 114,
     "metadata": {},
     "output_type": "execute_result"
    }
   ],
   "source": [
    "pop_shailesh"
   ]
  },
  {
   "cell_type": "code",
   "execution_count": 115,
   "id": "95e167d6",
   "metadata": {},
   "outputs": [
    {
     "data": {
      "text/plain": [
       "['Raj', 'Saurav', 'Garima', 'Riya', 'Gaurav', 'Ratnesh']"
      ]
     },
     "execution_count": 115,
     "metadata": {},
     "output_type": "execute_result"
    }
   ],
   "source": [
    "lst1"
   ]
  },
  {
   "cell_type": "code",
   "execution_count": 116,
   "id": "d4979ba4",
   "metadata": {},
   "outputs": [],
   "source": [
    "#Delete based on index positon\n",
    "#lets check"
   ]
  },
  {
   "cell_type": "code",
   "execution_count": 117,
   "id": "cb0bbc3b",
   "metadata": {},
   "outputs": [
    {
     "data": {
      "text/plain": [
       "['Raj', 'Saurav', 'Garima', 'Riya', 'Gaurav', 'Ratnesh']"
      ]
     },
     "execution_count": 117,
     "metadata": {},
     "output_type": "execute_result"
    }
   ],
   "source": [
    "lst1"
   ]
  },
  {
   "cell_type": "code",
   "execution_count": 118,
   "id": "ac6fc45a",
   "metadata": {},
   "outputs": [],
   "source": [
    "#we have to delete \"Garima\" From our list"
   ]
  },
  {
   "cell_type": "code",
   "execution_count": 119,
   "id": "1dc4fac3",
   "metadata": {},
   "outputs": [],
   "source": [
    "pop_garima=lst1.pop(2)"
   ]
  },
  {
   "cell_type": "code",
   "execution_count": 120,
   "id": "bda8b090",
   "metadata": {},
   "outputs": [
    {
     "data": {
      "text/plain": [
       "'Garima'"
      ]
     },
     "execution_count": 120,
     "metadata": {},
     "output_type": "execute_result"
    }
   ],
   "source": [
    "pop_garima"
   ]
  },
  {
   "cell_type": "code",
   "execution_count": 121,
   "id": "12474efb",
   "metadata": {},
   "outputs": [
    {
     "data": {
      "text/plain": [
       "['Raj', 'Saurav', 'Riya', 'Gaurav', 'Ratnesh']"
      ]
     },
     "execution_count": 121,
     "metadata": {},
     "output_type": "execute_result"
    }
   ],
   "source": [
    "lst1"
   ]
  },
  {
   "cell_type": "code",
   "execution_count": 122,
   "id": "fae00c5e",
   "metadata": {},
   "outputs": [],
   "source": [
    "#Remove method\n",
    "#what is remove method ?  remove method helps for delete element from our list.\n",
    "#lets see with example"
   ]
  },
  {
   "cell_type": "code",
   "execution_count": 123,
   "id": "c1afaa5d",
   "metadata": {},
   "outputs": [],
   "source": [
    "lst1=[12,33,66,55,44,77,88,99,11,22,33,44,55,66,77,88]"
   ]
  },
  {
   "cell_type": "code",
   "execution_count": 124,
   "id": "904aaa37",
   "metadata": {},
   "outputs": [],
   "source": [
    "lst1.remove(55)"
   ]
  },
  {
   "cell_type": "code",
   "execution_count": 125,
   "id": "bfb1b51e",
   "metadata": {},
   "outputs": [
    {
     "data": {
      "text/plain": [
       "[12, 33, 66, 44, 77, 88, 99, 11, 22, 33, 44, 55, 66, 77, 88]"
      ]
     },
     "execution_count": 125,
     "metadata": {},
     "output_type": "execute_result"
    }
   ],
   "source": [
    "lst1"
   ]
  },
  {
   "cell_type": "code",
   "execution_count": 126,
   "id": "83ee314a",
   "metadata": {},
   "outputs": [],
   "source": [
    "#lets remember one thing remove method only work with integer.\n",
    "#and they can delete first element if there is any duplication"
   ]
  },
  {
   "cell_type": "code",
   "execution_count": 127,
   "id": "41cf7100",
   "metadata": {},
   "outputs": [],
   "source": [
    "#Reverse Mehtod.\n",
    "#what is reverse method ? reverse method helps in to reverse show the all element in list.\n",
    "#lets see..\n"
   ]
  },
  {
   "cell_type": "code",
   "execution_count": 128,
   "id": "c3b52409",
   "metadata": {},
   "outputs": [],
   "source": [
    "lst1=[11,22,33,44,55,66,44,55,66,77,88,99]"
   ]
  },
  {
   "cell_type": "code",
   "execution_count": 129,
   "id": "8d9943cd",
   "metadata": {},
   "outputs": [],
   "source": [
    "lst1.reverse()"
   ]
  },
  {
   "cell_type": "code",
   "execution_count": 130,
   "id": "200abdbd",
   "metadata": {},
   "outputs": [
    {
     "data": {
      "text/plain": [
       "[99, 88, 77, 66, 55, 44, 66, 55, 44, 33, 22, 11]"
      ]
     },
     "execution_count": 130,
     "metadata": {},
     "output_type": "execute_result"
    }
   ],
   "source": [
    "lst1"
   ]
  },
  {
   "cell_type": "code",
   "execution_count": 131,
   "id": "75384db3",
   "metadata": {},
   "outputs": [],
   "source": [
    "#thats how i want to show you"
   ]
  },
  {
   "cell_type": "code",
   "execution_count": 132,
   "id": "f8386f1c",
   "metadata": {},
   "outputs": [],
   "source": [
    "#Sort Method\n",
    "#What is sort method ? sort method helps in  to arrange the elements by ascending and descending order.\n",
    "#lets see."
   ]
  },
  {
   "cell_type": "code",
   "execution_count": 133,
   "id": "f4f948cb",
   "metadata": {},
   "outputs": [
    {
     "data": {
      "text/plain": [
       "[99, 88, 77, 66, 55, 44, 66, 55, 44, 33, 22, 11]"
      ]
     },
     "execution_count": 133,
     "metadata": {},
     "output_type": "execute_result"
    }
   ],
   "source": [
    "lst1"
   ]
  },
  {
   "cell_type": "code",
   "execution_count": 134,
   "id": "c3af82ba",
   "metadata": {},
   "outputs": [],
   "source": [
    "lst1.sort()"
   ]
  },
  {
   "cell_type": "code",
   "execution_count": 135,
   "id": "172b75e0",
   "metadata": {},
   "outputs": [
    {
     "data": {
      "text/plain": [
       "[11, 22, 33, 44, 44, 55, 55, 66, 66, 77, 88, 99]"
      ]
     },
     "execution_count": 135,
     "metadata": {},
     "output_type": "execute_result"
    }
   ],
   "source": [
    "lst1"
   ]
  },
  {
   "cell_type": "code",
   "execution_count": 136,
   "id": "27480185",
   "metadata": {},
   "outputs": [],
   "source": [
    "#sort in descending order."
   ]
  },
  {
   "cell_type": "code",
   "execution_count": 137,
   "id": "ebaf3cf3",
   "metadata": {},
   "outputs": [
    {
     "data": {
      "text/plain": [
       "[11, 22, 33, 44, 44, 55, 55, 66, 66, 77, 88, 99]"
      ]
     },
     "execution_count": 137,
     "metadata": {},
     "output_type": "execute_result"
    }
   ],
   "source": [
    "lst1"
   ]
  },
  {
   "cell_type": "code",
   "execution_count": 138,
   "id": "1ace3698",
   "metadata": {},
   "outputs": [],
   "source": [
    "lst1.sort(reverse=True)"
   ]
  },
  {
   "cell_type": "code",
   "execution_count": 139,
   "id": "af546722",
   "metadata": {},
   "outputs": [
    {
     "data": {
      "text/plain": [
       "[99, 88, 77, 66, 66, 55, 55, 44, 44, 33, 22, 11]"
      ]
     },
     "execution_count": 139,
     "metadata": {},
     "output_type": "execute_result"
    }
   ],
   "source": [
    "lst1"
   ]
  },
  {
   "cell_type": "code",
   "execution_count": 1,
   "id": "c8fd9552",
   "metadata": {},
   "outputs": [],
   "source": [
    "#AI/ML Engineer-Saurav\n",
    "#Date-25 June 2024\n",
    "#Time- 14:15\n"
   ]
  },
  {
   "cell_type": "code",
   "execution_count": null,
   "id": "348acc67-ae29-4542-9fcb-0597ba9cd629",
   "metadata": {},
   "outputs": [],
   "source": []
  }
 ],
 "metadata": {
  "kernelspec": {
   "display_name": "Python 3 (ipykernel)",
   "language": "python",
   "name": "python3"
  },
  "language_info": {
   "codemirror_mode": {
    "name": "ipython",
    "version": 3
   },
   "file_extension": ".py",
   "mimetype": "text/x-python",
   "name": "python",
   "nbconvert_exporter": "python",
   "pygments_lexer": "ipython3",
   "version": "3.10.12"
  },
  "widgets": {
   "application/vnd.jupyter.widget-state+json": {
    "state": {},
    "version_major": 2,
    "version_minor": 0
   }
  }
 },
 "nbformat": 4,
 "nbformat_minor": 5
}
