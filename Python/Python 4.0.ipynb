{
 "cells": [
  {
   "cell_type": "code",
   "execution_count": 1,
   "id": "dee2f0d3",
   "metadata": {},
   "outputs": [],
   "source": [
    "\n",
    "#Study about range,loop,break and continue statement.\n",
    "#Lets Start with Range Fucntion..\n"
   ]
  },
  {
   "cell_type": "code",
   "execution_count": 2,
   "id": "01f6d20c",
   "metadata": {},
   "outputs": [],
   "source": [
    "# so, What is range function ? we can genrate a sequence of numbers  using range() function , range(10) will generate numbers -\n",
    "# -from 0 to 9 (10 numbers). we cance also define the starting number of range,which number we can stop, and step size.\n",
    "# its write on the (starting number, stop number,step size)\n",
    "# to force the function to output all the items we can use the function list()\n",
    "\n",
    "\n",
    "\n",
    "# Lets  see Example."
   ]
  },
  {
   "cell_type": "code",
   "execution_count": 3,
   "id": "7a359817",
   "metadata": {},
   "outputs": [
    {
     "name": "stdout",
     "output_type": "stream",
     "text": [
      "range(0, 10)\n"
     ]
    }
   ],
   "source": [
    "print(range(10))"
   ]
  },
  {
   "cell_type": "code",
   "execution_count": 4,
   "id": "5e87a928",
   "metadata": {},
   "outputs": [],
   "source": [
    "#print range in list."
   ]
  },
  {
   "cell_type": "code",
   "execution_count": 5,
   "id": "b45c8a2b",
   "metadata": {},
   "outputs": [
    {
     "name": "stdout",
     "output_type": "stream",
     "text": [
      "[0, 1, 2, 3, 4, 5, 6, 7, 8, 9]\n"
     ]
    }
   ],
   "source": [
    "print(list(range(10)))"
   ]
  },
  {
   "cell_type": "code",
   "execution_count": 6,
   "id": "d187be40",
   "metadata": {},
   "outputs": [],
   "source": [
    "#what if we can generate number from 10 and its goes 100 and the step size is 2.\n",
    "#lets see"
   ]
  },
  {
   "cell_type": "code",
   "execution_count": 7,
   "id": "ba958b3c",
   "metadata": {},
   "outputs": [
    {
     "name": "stdout",
     "output_type": "stream",
     "text": [
      "[10, 12, 14, 16, 18, 20, 22, 24, 26, 28, 30, 32, 34, 36, 38, 40, 42, 44, 46, 48, 50, 52, 54, 56, 58, 60, 62, 64, 66, 68, 70, 72, 74, 76, 78, 80, 82, 84, 86, 88, 90, 92, 94, 96, 98, 100]\n"
     ]
    }
   ],
   "source": [
    "print(list(range(10,101,2)))"
   ]
  },
  {
   "cell_type": "code",
   "execution_count": 8,
   "id": "f46e8899",
   "metadata": {},
   "outputs": [],
   "source": [
    "# see in above example , we use 101 for going to 100. because starting number is included and stop number is excluded.\n",
    "#this reason for we write a 101 for getting 100."
   ]
  },
  {
   "cell_type": "code",
   "execution_count": 9,
   "id": "7666c427",
   "metadata": {},
   "outputs": [],
   "source": [
    "#can we store range fuction in variable ? yes we can. lets see."
   ]
  },
  {
   "cell_type": "code",
   "execution_count": 10,
   "id": "e1b455c4",
   "metadata": {},
   "outputs": [],
   "source": [
    "roll_num=list(range(10,50,1))"
   ]
  },
  {
   "cell_type": "code",
   "execution_count": 11,
   "id": "e50d474d",
   "metadata": {},
   "outputs": [
    {
     "data": {
      "text/plain": [
       "[10,\n",
       " 11,\n",
       " 12,\n",
       " 13,\n",
       " 14,\n",
       " 15,\n",
       " 16,\n",
       " 17,\n",
       " 18,\n",
       " 19,\n",
       " 20,\n",
       " 21,\n",
       " 22,\n",
       " 23,\n",
       " 24,\n",
       " 25,\n",
       " 26,\n",
       " 27,\n",
       " 28,\n",
       " 29,\n",
       " 30,\n",
       " 31,\n",
       " 32,\n",
       " 33,\n",
       " 34,\n",
       " 35,\n",
       " 36,\n",
       " 37,\n",
       " 38,\n",
       " 39,\n",
       " 40,\n",
       " 41,\n",
       " 42,\n",
       " 43,\n",
       " 44,\n",
       " 45,\n",
       " 46,\n",
       " 47,\n",
       " 48,\n",
       " 49]"
      ]
     },
     "execution_count": 11,
     "metadata": {},
     "output_type": "execute_result"
    }
   ],
   "source": [
    "roll_num"
   ]
  },
  {
   "cell_type": "code",
   "execution_count": 12,
   "id": "a5bd2832",
   "metadata": {},
   "outputs": [],
   "source": [
    "# Lets see Reverse function with range fucntion..\n",
    "#if we have to go backword in range funciton what we will do.\n",
    "#lets see. how we go with example."
   ]
  },
  {
   "cell_type": "code",
   "execution_count": 13,
   "id": "a1f3fdbe",
   "metadata": {},
   "outputs": [],
   "source": [
    "reverse=list(range(1600,99,-100)) #Lets Remember we have to minus sign for going backword.\n"
   ]
  },
  {
   "cell_type": "code",
   "execution_count": 14,
   "id": "c6738ccc",
   "metadata": {},
   "outputs": [
    {
     "data": {
      "text/plain": [
       "[1600,\n",
       " 1500,\n",
       " 1400,\n",
       " 1300,\n",
       " 1200,\n",
       " 1100,\n",
       " 1000,\n",
       " 900,\n",
       " 800,\n",
       " 700,\n",
       " 600,\n",
       " 500,\n",
       " 400,\n",
       " 300,\n",
       " 200,\n",
       " 100]"
      ]
     },
     "execution_count": 14,
     "metadata": {},
     "output_type": "execute_result"
    }
   ],
   "source": [
    "reverse"
   ]
  },
  {
   "cell_type": "code",
   "execution_count": 15,
   "id": "845d990f",
   "metadata": {},
   "outputs": [],
   "source": [
    "# This all about range function \n",
    "\n",
    "\n",
    "#Lets stude about loop fucntion\n",
    "# So, what is loop fucntion ? some time we want to repeat a set of statement in pur program for instance.\n",
    "# like  print 1 to 1000(with range function)\n",
    "# programming language provide various control structure that allows for more complicated execution.\n",
    "\n",
    "\n",
    "# There are 2 types of loop..   1- For loop  ,  2 - While loop\n",
    "# First we have to study about For loop , so what is for loop ? A for loop is used to iterate through a sequence like list,-\n",
    "#  - tuple, or string [iterable], loop continues untill we reach the last number or of item in sequence\n",
    "\n",
    "#Syntax with range fucntion- for i in range(10):\n",
    "#                               print(i) \n",
    "\n",
    "#Lets se with list."
   ]
  },
  {
   "cell_type": "code",
   "execution_count": 16,
   "id": "81cd3997",
   "metadata": {},
   "outputs": [],
   "source": [
    "location=[\"Korba\",\"Bilaspur\",\"Raipur\",\"Patna\",\"Siwan\"]"
   ]
  },
  {
   "cell_type": "code",
   "execution_count": 17,
   "id": "427b301a",
   "metadata": {},
   "outputs": [
    {
     "data": {
      "text/plain": [
       "['Korba', 'Bilaspur', 'Raipur', 'Patna', 'Siwan']"
      ]
     },
     "execution_count": 17,
     "metadata": {},
     "output_type": "execute_result"
    }
   ],
   "source": [
    "location  #Lets apply for loop method."
   ]
  },
  {
   "cell_type": "code",
   "execution_count": 18,
   "id": "64f7aaef",
   "metadata": {},
   "outputs": [
    {
     "name": "stdout",
     "output_type": "stream",
     "text": [
      "Korba\n",
      "Bilaspur\n",
      "Raipur\n",
      "Patna\n",
      "Siwan\n"
     ]
    }
   ],
   "source": [
    "for city in location:\n",
    "    print(city)"
   ]
  },
  {
   "cell_type": "code",
   "execution_count": 19,
   "id": "48eb9995",
   "metadata": {},
   "outputs": [],
   "source": [
    "#lets apply for numbers"
   ]
  },
  {
   "cell_type": "code",
   "execution_count": 20,
   "id": "e40d3c6a",
   "metadata": {},
   "outputs": [],
   "source": [
    "salary=[1000,2000,3000,5000,7000,1000,2000,9000]"
   ]
  },
  {
   "cell_type": "code",
   "execution_count": 21,
   "id": "62b75d87",
   "metadata": {},
   "outputs": [
    {
     "name": "stdout",
     "output_type": "stream",
     "text": [
      "1000\n",
      "2000\n",
      "3000\n",
      "5000\n",
      "7000\n",
      "1000\n",
      "2000\n",
      "9000\n"
     ]
    }
   ],
   "source": [
    "for money in salary:\n",
    "    print(money)"
   ]
  },
  {
   "cell_type": "code",
   "execution_count": 22,
   "id": "acac4695",
   "metadata": {},
   "outputs": [],
   "source": [
    "#Lets see anothe example of for loop with branching statement."
   ]
  },
  {
   "cell_type": "code",
   "execution_count": 23,
   "id": "e856c956",
   "metadata": {},
   "outputs": [],
   "source": [
    "student_score=[78,98,65,45,89,87,32,65,54,98,89,78,69,58,47]"
   ]
  },
  {
   "cell_type": "code",
   "execution_count": 24,
   "id": "2fa34825",
   "metadata": {},
   "outputs": [],
   "source": [
    "#what we have to do in the above cell. we have to create a grades for student_score in abovr list.\n",
    "#lets see how we can do."
   ]
  },
  {
   "cell_type": "code",
   "execution_count": 25,
   "id": "06d03536",
   "metadata": {},
   "outputs": [
    {
     "name": "stdout",
     "output_type": "stream",
     "text": [
      "78 First class\n",
      "98 Distiction\n",
      "65 First class\n",
      "45 Jsut Pass\n",
      "89 Second class\n",
      "87 Second class\n",
      "32 You are fail, please try next time\n",
      "65 First class\n",
      "54 Second class\n",
      "98 Distiction\n",
      "89 Second class\n",
      "78 First class\n",
      "69 First class\n",
      "58 Second class\n",
      "47 Second class\n"
     ]
    }
   ],
   "source": [
    "for marks in student_score:\n",
    "    if marks>90:\n",
    "        if marks>85:\n",
    "            print(marks , \"Distiction\")\n",
    "        else :\n",
    "            print(marks , \"First class\")\n",
    "    elif marks >60 and marks<85 :\n",
    "        print(marks ,\"First class\")\n",
    "    elif marks>45:\n",
    "        print(marks ,\"Second class\")\n",
    "    elif marks >35:\n",
    "        print(marks ,\"Jsut Pass\")\n",
    "    else:\n",
    "        print(marks ,\"You are fail, please try next time\")\n",
    "        "
   ]
  },
  {
   "cell_type": "code",
   "execution_count": 26,
   "id": "83c8653f",
   "metadata": {},
   "outputs": [],
   "source": [
    "# Lets See, What is list comprehension ? List comprehension is a shorter syntax when you want to create a new list  based ,-\n",
    "# on the values of existing list.\n",
    "\n",
    "# lets create a list."
   ]
  },
  {
   "cell_type": "code",
   "execution_count": 27,
   "id": "27d50149",
   "metadata": {},
   "outputs": [],
   "source": [
    "salary=[1000,2000,3000,5000,7000,1000,2000,9000]\n",
    "#then apply list comprehension."
   ]
  },
  {
   "cell_type": "code",
   "execution_count": 28,
   "id": "e02319ac",
   "metadata": {},
   "outputs": [],
   "source": [
    "sal=[val for val in salary if val==2000]"
   ]
  },
  {
   "cell_type": "code",
   "execution_count": 29,
   "id": "ef0a0338",
   "metadata": {},
   "outputs": [
    {
     "data": {
      "text/plain": [
       "[2000, 2000]"
      ]
     },
     "execution_count": 29,
     "metadata": {},
     "output_type": "execute_result"
    }
   ],
   "source": [
    "sal"
   ]
  },
  {
   "cell_type": "code",
   "execution_count": 30,
   "id": "28098dd4",
   "metadata": {},
   "outputs": [],
   "source": [
    "# for loop with else\n",
    "\n",
    "#lets see how we can use for loop with else method.  - A for loop have an optional else block,as well the else part is executed\n",
    "# ,if the items in the sequence used in for loop exhaust. break statement ,can be used to stop a for loop ,in such case the else \n",
    "# part is ignored     ,   Hence a for loop else part runs when not break method occurs.\n"
   ]
  },
  {
   "cell_type": "code",
   "execution_count": 31,
   "id": "f9041f48",
   "metadata": {},
   "outputs": [],
   "source": [
    "#Print multiplication table with for loop with else."
   ]
  },
  {
   "cell_type": "code",
   "execution_count": 32,
   "id": "7433656a",
   "metadata": {},
   "outputs": [
    {
     "name": "stdout",
     "output_type": "stream",
     "text": [
      "Multiplication table for 2\n",
      "2\n",
      "4\n",
      "6\n",
      "8\n",
      "10\n",
      "12\n",
      "14\n",
      "16\n",
      "18\n",
      "20\n",
      "\n",
      "\n",
      "Multiplication table for 3\n",
      "3\n",
      "6\n",
      "9\n",
      "12\n",
      "15\n",
      "18\n",
      "21\n",
      "24\n",
      "27\n",
      "30\n",
      "\n",
      "\n",
      "Multiplication table for 4\n",
      "4\n",
      "8\n",
      "12\n",
      "16\n",
      "20\n",
      "24\n",
      "28\n",
      "32\n",
      "36\n",
      "40\n",
      "\n",
      "\n",
      "******************************\n",
      "Thats all\n",
      "******************************\n"
     ]
    }
   ],
   "source": [
    "for num in range(2,5):\n",
    "    print(\"Multiplication table for\",num)\n",
    "    for i in range(1,11):\n",
    "        print(num*i)\n",
    "        if i ==10:\n",
    "            print( \"\\n\" )\n",
    "else:\n",
    "    print(\"*\" * 30)\n",
    "    print(\"Thats all\")\n",
    "    print(\"*\" * 30)"
   ]
  },
  {
   "cell_type": "code",
   "execution_count": 33,
   "id": "ff5e8ef9",
   "metadata": {},
   "outputs": [],
   "source": [
    "#Lets se another way of print multiplication table."
   ]
  },
  {
   "cell_type": "code",
   "execution_count": 34,
   "id": "11023bcc",
   "metadata": {},
   "outputs": [
    {
     "name": "stdin",
     "output_type": "stream",
     "text": [
      "Enter Number which one you want a table 5\n"
     ]
    },
    {
     "name": "stdout",
     "output_type": "stream",
     "text": [
      "5 X 1 = 5\n",
      "5 X 2 = 10\n",
      "5 X 3 = 15\n",
      "5 X 4 = 20\n",
      "5 X 5 = 25\n",
      "5 X 6 = 30\n",
      "5 X 7 = 35\n",
      "5 X 8 = 40\n",
      "5 X 9 = 45\n",
      "5 X 10 = 50\n"
     ]
    }
   ],
   "source": [
    "num=int(input(\"Enter Number which one you want a table\"))\n",
    "\n",
    "for i in range(1,11):\n",
    "    print(str(num), 'X' ,str(i),\"=\",str(num*i))"
   ]
  },
  {
   "cell_type": "code",
   "execution_count": 35,
   "id": "03218542",
   "metadata": {},
   "outputs": [],
   "source": [
    "#Lets see what is F string ? Formatted string litrel . is use for F-strings can also be used to apply number \n",
    "#- formatting directly to the values.\n",
    "#Lets print multiplication table with f string.\n",
    "#Lets see with example.\n"
   ]
  },
  {
   "cell_type": "code",
   "execution_count": 45,
   "id": "30c90b6a",
   "metadata": {},
   "outputs": [
    {
     "name": "stdin",
     "output_type": "stream",
     "text": [
      "Enter Number which one you want a table 5\n"
     ]
    },
    {
     "name": "stdout",
     "output_type": "stream",
     "text": [
      "5X1=5\n",
      "5X2=10\n",
      "5X3=15\n",
      "5X4=20\n",
      "5X5=25\n",
      "5X6=30\n",
      "5X7=35\n",
      "5X8=40\n",
      "5X9=45\n",
      "5X10=50\n"
     ]
    }
   ],
   "source": [
    "num=int(input(\"Enter Number which one you want a table\"))\n",
    "\n",
    "for i in range(1,11):\n",
    "    print(f\"{num}X{i}={num*i}\")   #We have to write varaibles in curly brackets and other is whithour curly brackets."
   ]
  },
  {
   "cell_type": "code",
   "execution_count": 46,
   "id": "c94bab6b",
   "metadata": {},
   "outputs": [],
   "source": [
    "#Now Start What is While Loop ? In while loop, the condition is checked first if it evaluate to true , the body of the loop is executed \n",
    "# , otherwise not.   In the loop entered , the process of [conditon executed] is continued until the condition become false .\n",
    "\n",
    "#Python intrepret any non zero as True , None and zero are interpreted as False.\n",
    "\n",
    "#Syntax of while loop\n",
    "#Lets see"
   ]
  },
  {
   "cell_type": "code",
   "execution_count": 47,
   "id": "247abf2e",
   "metadata": {},
   "outputs": [
    {
     "name": "stdout",
     "output_type": "stream",
     "text": [
      "0\n",
      "1\n",
      "2\n",
      "3\n",
      "4\n",
      "5\n"
     ]
    }
   ],
   "source": [
    "i=0\n",
    "while i<=5:\n",
    "    print(i)\n",
    "    i=i+1"
   ]
  },
  {
   "cell_type": "code",
   "execution_count": 48,
   "id": "e73bc2a5",
   "metadata": {},
   "outputs": [],
   "source": [
    "#One More Example of While Loop.\n",
    "#Lets say you have to set an alarm and how its work.\n",
    "#First we havt to import time."
   ]
  },
  {
   "cell_type": "code",
   "execution_count": 49,
   "id": "8ef7527e",
   "metadata": {},
   "outputs": [],
   "source": [
    "import time"
   ]
  },
  {
   "cell_type": "code",
   "execution_count": 50,
   "id": "da86f01e",
   "metadata": {},
   "outputs": [],
   "source": [
    "result =time.localtime()"
   ]
  },
  {
   "cell_type": "code",
   "execution_count": 51,
   "id": "ff5a2ee1",
   "metadata": {},
   "outputs": [
    {
     "data": {
      "text/plain": [
       "time.struct_time(tm_year=2024, tm_mon=5, tm_mday=7, tm_hour=11, tm_min=13, tm_sec=9, tm_wday=1, tm_yday=128, tm_isdst=0)"
      ]
     },
     "execution_count": 51,
     "metadata": {},
     "output_type": "execute_result"
    }
   ],
   "source": [
    "result"
   ]
  },
  {
   "cell_type": "code",
   "execution_count": 52,
   "id": "dc4206fa",
   "metadata": {},
   "outputs": [],
   "source": [
    "# Now the time is shown, now we havt to set an alarm .let see how we set alarm with the help of while loop."
   ]
  },
  {
   "cell_type": "code",
   "execution_count": 54,
   "id": "b13f9ad1",
   "metadata": {},
   "outputs": [
    {
     "name": "stdout",
     "output_type": "stream",
     "text": [
      "Wake up buddy\n"
     ]
    }
   ],
   "source": [
    "while True:\n",
    "    result=time.localtime()\n",
    "    if result.tm_hour==11 and result.tm_min==14:\n",
    "        print(\"Wake up buddy\")\n",
    "        break"
   ]
  },
  {
   "cell_type": "code",
   "execution_count": 55,
   "id": "59a74bea",
   "metadata": {},
   "outputs": [],
   "source": [
    "#lets Study about small and easy thing \n",
    "#enumerate,zip,unzip\n",
    "#Lets Start with enumerate.\n",
    "#What is enumerate ? Enumerate() allows us to iterate through a sequence but it keeps track of both the index and the element.\n",
    "#lets see with example."
   ]
  },
  {
   "cell_type": "code",
   "execution_count": 56,
   "id": "5a66652a",
   "metadata": {},
   "outputs": [],
   "source": [
    "student=[\"Saurav\",\"Gaurav\",\"Ramesh\",\"Suresh\",\"Mukesh\"]"
   ]
  },
  {
   "cell_type": "code",
   "execution_count": 57,
   "id": "faad6de0",
   "metadata": {},
   "outputs": [
    {
     "name": "stdout",
     "output_type": "stream",
     "text": [
      "(0, 'Saurav')\n",
      "(1, 'Gaurav')\n",
      "(2, 'Ramesh')\n",
      "(3, 'Suresh')\n",
      "(4, 'Mukesh')\n"
     ]
    }
   ],
   "source": [
    "for i in enumerate(student):\n",
    "    print(i)"
   ]
  },
  {
   "cell_type": "code",
   "execution_count": 58,
   "id": "21e313c4",
   "metadata": {},
   "outputs": [],
   "source": [
    "#If we want to start numbering from our own number ? How it will do.\n",
    "#we use same list."
   ]
  },
  {
   "cell_type": "code",
   "execution_count": 59,
   "id": "cf93bcf4",
   "metadata": {},
   "outputs": [],
   "source": [
    "student=[\"Saurav\",\"Gaurav\",\"Ramesh\",\"Suresh\",\"Mukesh\"]"
   ]
  },
  {
   "cell_type": "code",
   "execution_count": 60,
   "id": "078a8311",
   "metadata": {},
   "outputs": [
    {
     "name": "stdout",
     "output_type": "stream",
     "text": [
      "1 Saurav\n",
      "2 Gaurav\n",
      "3 Ramesh\n",
      "4 Suresh\n",
      "5 Mukesh\n"
     ]
    }
   ],
   "source": [
    "for i,name in enumerate(student,1):\n",
    "    print(i,name)"
   ]
  },
  {
   "cell_type": "code",
   "execution_count": 61,
   "id": "ff6b1a2e",
   "metadata": {},
   "outputs": [],
   "source": [
    "#Lets start zip method.\n",
    "#what is zip method ? zip method use when we join a two list. \n",
    "#see with example you better under stand"
   ]
  },
  {
   "cell_type": "code",
   "execution_count": 62,
   "id": "771f7308",
   "metadata": {},
   "outputs": [],
   "source": [
    "student_name=[\"Ramesh\",\"Riya\",\"Yashu\",\"Rohit\",\"Amisha\"]\n",
    "student_marks=[54,98,99,100,34]"
   ]
  },
  {
   "cell_type": "code",
   "execution_count": 63,
   "id": "226f9543",
   "metadata": {},
   "outputs": [],
   "source": [
    "student_details=list(zip(student_name,student_marks))"
   ]
  },
  {
   "cell_type": "code",
   "execution_count": 64,
   "id": "e0f8e653",
   "metadata": {},
   "outputs": [
    {
     "data": {
      "text/plain": [
       "[('Ramesh', 54), ('Riya', 98), ('Yashu', 99), ('Rohit', 100), ('Amisha', 34)]"
      ]
     },
     "execution_count": 64,
     "metadata": {},
     "output_type": "execute_result"
    }
   ],
   "source": [
    "student_details"
   ]
  },
  {
   "cell_type": "code",
   "execution_count": 65,
   "id": "265f266a",
   "metadata": {},
   "outputs": [],
   "source": [
    "#and How to Unzip.\n",
    "\n",
    "# use * for unziping"
   ]
  },
  {
   "cell_type": "code",
   "execution_count": 66,
   "id": "0114fd78",
   "metadata": {},
   "outputs": [],
   "source": [
    "name,marks=list(zip(*student_details))"
   ]
  },
  {
   "cell_type": "code",
   "execution_count": 67,
   "id": "72b01ed5",
   "metadata": {},
   "outputs": [
    {
     "data": {
      "text/plain": [
       "('Ramesh', 'Riya', 'Yashu', 'Rohit', 'Amisha')"
      ]
     },
     "execution_count": 67,
     "metadata": {},
     "output_type": "execute_result"
    }
   ],
   "source": [
    "name"
   ]
  },
  {
   "cell_type": "code",
   "execution_count": 68,
   "id": "26d96d37",
   "metadata": {},
   "outputs": [
    {
     "data": {
      "text/plain": [
       "(54, 98, 99, 100, 34)"
      ]
     },
     "execution_count": 68,
     "metadata": {},
     "output_type": "execute_result"
    }
   ],
   "source": [
    "marks"
   ]
  },
  {
   "cell_type": "code",
   "execution_count": 69,
   "id": "f4239ba3",
   "metadata": {},
   "outputs": [],
   "source": [
    "#Lets know one thing How we can do enumerate and zip in same time.\n"
   ]
  },
  {
   "cell_type": "code",
   "execution_count": 70,
   "id": "b81ddc96",
   "metadata": {},
   "outputs": [],
   "source": [
    "student_name=[\"Ramesh\",\"Riya\",\"Yashu\",\"Rohit\",\"Amisha\"]\n",
    "student_marks=[54,98,99,100,34]"
   ]
  },
  {
   "cell_type": "code",
   "execution_count": 71,
   "id": "9e82953c",
   "metadata": {},
   "outputs": [
    {
     "name": "stdout",
     "output_type": "stream",
     "text": [
      "1 Ramesh 54\n",
      "2 Riya 98\n",
      "3 Yashu 99\n",
      "4 Rohit 100\n",
      "5 Amisha 34\n"
     ]
    }
   ],
   "source": [
    "for i,(name,marks) in enumerate(zip(student_name,student_marks),1):\n",
    "    print(i,name,marks)"
   ]
  },
  {
   "cell_type": "code",
   "execution_count": 72,
   "id": "576d34f4",
   "metadata": {},
   "outputs": [],
   "source": [
    "#Now Stude about Breaka and Continue Statement.\n",
    "#So,what is break statement- The Break Statement used to terminate the loop, it is used in loop and swith case.\n",
    "# Keyword \"break\" used in Break Statement , contol is tranfer outside.\n",
    "\n",
    "#Lets see with example."
   ]
  },
  {
   "cell_type": "code",
   "execution_count": 73,
   "id": "4ff41a58",
   "metadata": {},
   "outputs": [],
   "source": [
    "salary=[8000,5000,6000,7000,3000]"
   ]
  },
  {
   "cell_type": "code",
   "execution_count": 74,
   "id": "df8fc4ea",
   "metadata": {},
   "outputs": [
    {
     "name": "stdout",
     "output_type": "stream",
     "text": [
      "8000\n",
      "5000\n",
      "6000\n"
     ]
    }
   ],
   "source": [
    "for val in salary:\n",
    "    if val==7000:\n",
    "        break\n",
    "    print(val)"
   ]
  },
  {
   "cell_type": "code",
   "execution_count": 75,
   "id": "92e704c4",
   "metadata": {},
   "outputs": [],
   "source": [
    "# Continue Statement- Continue statement is used to continue the next interation in the loop, its only used in loop, keyword \n",
    "#\"continue\" used for continue statement , control remains in the same loop.\n",
    "#Lets see with example"
   ]
  },
  {
   "cell_type": "code",
   "execution_count": 76,
   "id": "eee99960",
   "metadata": {},
   "outputs": [],
   "source": [
    "salary=[8000,5000,6000,7000,3000]"
   ]
  },
  {
   "cell_type": "code",
   "execution_count": 77,
   "id": "c39c7b1d",
   "metadata": {},
   "outputs": [
    {
     "name": "stdout",
     "output_type": "stream",
     "text": [
      "8000\n",
      "5000\n",
      "7000\n",
      "3000\n"
     ]
    }
   ],
   "source": [
    "for val in salary:\n",
    "    if val==6000:\n",
    "        continue\n",
    "    print(val)    "
   ]
  },
  {
   "cell_type": "code",
   "execution_count": 78,
   "id": "c0796663",
   "metadata": {},
   "outputs": [],
   "source": [
    "#Lets see how to use break and continue statements together."
   ]
  },
  {
   "cell_type": "code",
   "execution_count": 1,
   "id": "6266f027",
   "metadata": {},
   "outputs": [
    {
     "name": "stdout",
     "output_type": "stream",
     "text": [
      "S\n",
      "t\n",
      "r\n",
      "n\n",
      "g\n",
      "e\n"
     ]
    }
   ],
   "source": [
    "for val in \"Stringexample\":\n",
    "    if val == \"i\":\n",
    "        continue\n",
    "    else:\n",
    "        if val==\"x\":\n",
    "            break\n",
    "        print(val)    "
   ]
  },
  {
   "cell_type": "code",
   "execution_count": 1,
   "id": "8a1ac4c7",
   "metadata": {},
   "outputs": [],
   "source": [
    "#AI/ML Engineer-Saurav\n",
    "#Date-1 July 2024\n",
    "#Time- 11:14\n"
   ]
  },
  {
   "cell_type": "code",
   "execution_count": null,
   "id": "b63ea792-1515-4ad7-8208-59114a28c473",
   "metadata": {},
   "outputs": [],
   "source": []
  },
  {
   "cell_type": "code",
   "execution_count": null,
   "id": "e45ff886-4a10-4675-a1f2-89e54616f71e",
   "metadata": {},
   "outputs": [],
   "source": []
  }
 ],
 "metadata": {
  "kernelspec": {
   "display_name": "Python 3 (ipykernel)",
   "language": "python",
   "name": "python3"
  },
  "language_info": {
   "codemirror_mode": {
    "name": "ipython",
    "version": 3
   },
   "file_extension": ".py",
   "mimetype": "text/x-python",
   "name": "python",
   "nbconvert_exporter": "python",
   "pygments_lexer": "ipython3",
   "version": "3.10.12"
  },
  "widgets": {
   "application/vnd.jupyter.widget-state+json": {
    "state": {},
    "version_major": 2,
    "version_minor": 0
   }
  }
 },
 "nbformat": 4,
 "nbformat_minor": 5
}
