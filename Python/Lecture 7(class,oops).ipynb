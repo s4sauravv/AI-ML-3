{
 "cells": [
  {
   "cell_type": "code",
   "execution_count": null,
   "id": "7922554d",
   "metadata": {},
   "outputs": [],
   "source": [
    "# Today We are learning about OOPS Concept - Object Oriented Programming\n",
    "# What is Object Oriented Programming ? Solving a problem by  creating objects is one of the most \n",
    "# populer approaches in programming this is call object oriented programming.\n",
    "\n",
    "# Real Time Example -Imagine you are opening a bank account and you fill the most of your personel \n",
    "# information .Age,UserName,City,phone number gmail id etc.\n",
    "# Once you fill all your information and it will register with  bank whwnever you want to check your\n",
    "# personel informationyou click on personel tab,your name,last_name,account number city etc will be\n",
    "# displayed\n",
    "\n",
    "#whenever you want to deposit or withdrawl money you click other tabs.\n",
    "\n"
   ]
  },
  {
   "cell_type": "markdown",
   "id": "2bffae66",
   "metadata": {},
   "source": [
    "#### self:\n",
    "\n",
    "In Python classes, self is a special parameter that refers to the current object instance itself.\n",
    "When you define methods within a class, self is implicitly passed as the first argument to those methods.\n",
    "Inside a method, you use self to access and modify the attributes (variables) of the specific object instance.\n",
    "init (constructor):\n",
    "\n",
    "#### __init__ is a special method in Python classes that acts as the constructor.\n",
    "It's automatically called whenever you create a new instance (object) of the class.\n",
    "Its purpose is to initialize the object's attributes with starting values.\n",
    "By convention, it's named __init__ with two underscores at the beginning and end.\n",
    "\n",
    "### Simple Terms \n",
    "Imagine you're building a house (the class). A house has different rooms and features (the attributes). But when you build a new house, it's empty, right? You need to put furniture (values) in those rooms.\n",
    "\n",
    "self: This is like the blueprint for each house you build. It tells you which rooms there are (attributes) but doesn't say what's inside yet. When you actually build a house (create an object), self becomes like the house itself, allowing you to access its specific rooms.\n",
    "\n",
    "\n",
    "\n",
    "init: This is like the moving truck. When you build a new house, the moving truck (the __init__ method) delivers furniture (values) and puts them in the corresponding rooms (attributes) of that specific house (object)."
   ]
  },
  {
   "cell_type": "code",
   "execution_count": null,
   "id": "b2b58336",
   "metadata": {},
   "outputs": [],
   "source": [
    "# So here\n",
    "# Bank Account is your class\n",
    "# __init__(self) will register your details with bank\n",
    "# self will help you to get your respective details back when you click various tab.\n",
    "# log in personel information and password chnage, withdrwl are methods. "
   ]
  },
  {
   "cell_type": "code",
   "execution_count": null,
   "id": "98993e57",
   "metadata": {},
   "outputs": [],
   "source": [
    "# How to define a class - suppose we want to create a class , named person as a prototype a sort of \n",
    "# template for any number of \"person\" object (instances)\n",
    "\n",
    "# The following python syntax define a class\n",
    "# class ClassName(base_class):\n",
    "#          statements\n",
    "\n",
    "\n",
    "#Remember one thing class name should always be in uppercase (its nameing convention)\n"
   ]
  },
  {
   "cell_type": "code",
   "execution_count": null,
   "id": "5e8af377",
   "metadata": {},
   "outputs": [],
   "source": [
    "# Why we taking a class name in uppercase ? because there are two methods 1-pascal case, 2- camel case\n",
    "#  Pascal Case -  Example- EmployeesName - what we do here , we have to write first letter in Capital letter\n",
    "# and when we start a second word we again start from capital letter.\n",
    "\n",
    "# Camel case- Example-Employeename - what we do here . we have to write only first letter in in capital\n",
    "# and other word in small . this is known as camel case . and its using in oops concepts"
   ]
  },
  {
   "cell_type": "code",
   "execution_count": null,
   "id": "006aa1ba",
   "metadata": {},
   "outputs": [],
   "source": [
    "# What is __init__(self)? is a constructor initialize your details with google.\n",
    "\n",
    "#Lets see with example."
   ]
  },
  {
   "cell_type": "code",
   "execution_count": 1,
   "id": "21174358",
   "metadata": {},
   "outputs": [],
   "source": [
    "class Account:\n",
    "    def __init__(self,name,last_name,city,user_id,password,phone): #attribute/arguments\n",
    "        self.name=name\n",
    "        self.last_name=last_name\n",
    "        self.city=city\n",
    "        self.user_id=user_id\n",
    "        self.password=password\n",
    "        self.phone=phone"
   ]
  },
  {
   "cell_type": "code",
   "execution_count": null,
   "id": "8e6da63e",
   "metadata": {},
   "outputs": [],
   "source": []
  },
  {
   "cell_type": "code",
   "execution_count": null,
   "id": "f012b33d",
   "metadata": {},
   "outputs": [],
   "source": [
    "#Lets see with real time example:\n"
   ]
  },
  {
   "cell_type": "code",
   "execution_count": null,
   "id": "14487c59",
   "metadata": {},
   "outputs": [],
   "source": []
  },
  {
   "cell_type": "code",
   "execution_count": 2,
   "id": "788ac6e3",
   "metadata": {},
   "outputs": [
    {
     "name": "stdout",
     "output_type": "stream",
     "text": [
      "Enter Your Name Ram\n",
      "Enter Your Last Name Kumar\n",
      "Enter Your City Name Raipur\n",
      "Enter Your User Id qwerty\n",
      "Enter Your Password 1234\n",
      "Enter Your Number 9406289124\n"
     ]
    }
   ],
   "source": [
    "class Account:    #This is a class\n",
    "    def __init__(self,name=input(\"Enter Your Name \"),\n",
    "                last_name=input(\"Enter Your Last Name \"),\n",
    "                city=input(\"Enter Your City Name \"),\n",
    "                user_id=input(\"Enter Your User Id \"),\n",
    "                password=input(\"Enter Your Password \"),\n",
    "                phone=input(\"Enter Your Number \")):\n",
    "        self.name=name    #Data Initialization\n",
    "        self.last_name=last_name\n",
    "        self.city=city\n",
    "        self.user_id=user_id\n",
    "        self.password=password\n",
    "        self.phone=phone\n",
    "    def login(self):    #Method\n",
    "        while True:\n",
    "            signin=input(\"Enter Your User Id \")\n",
    "            password=input(\"Enter Your Pswword \")\n",
    "            if signin ==self.user_id and password==self.password:\n",
    "                print(\"Logged in Sucessfully\")\n",
    "                break\n",
    "            else:\n",
    "                print(\"You Entered Invalid id and password , Please Enter Correct  one\")\n",
    "                continue\n",
    "\n",
    "    \n",
    "    "
   ]
  },
  {
   "cell_type": "code",
   "execution_count": 3,
   "id": "8f168271",
   "metadata": {},
   "outputs": [],
   "source": [
    "c=Account()"
   ]
  },
  {
   "cell_type": "code",
   "execution_count": 4,
   "id": "53defb6f",
   "metadata": {},
   "outputs": [
    {
     "name": "stdout",
     "output_type": "stream",
     "text": [
      "Enter Your User Id qwertyu\n",
      "Enter Your Pswword asasa\n",
      "You Entered Invalid id and password , Please Enter Correct  one\n",
      "Enter Your User Id qwerty\n",
      "Enter Your Pswword 1234\n",
      "Logged in Sucessfully\n"
     ]
    }
   ],
   "source": [
    "c.login()"
   ]
  },
  {
   "cell_type": "code",
   "execution_count": null,
   "id": "67ac471f",
   "metadata": {},
   "outputs": [],
   "source": [
    "#Inheritance -Inheritance is a way of creating a new class from an existing class.\n",
    "#There are Three Types Of Inheritance - 1 -Single Inheritance , 2 -Multi Inheritance ,3-Multilevel Inheritance\n",
    "\n",
    "#Lets see with example how to inherits a class from existing class."
   ]
  },
  {
   "cell_type": "markdown",
   "id": "3158318d",
   "metadata": {},
   "source": [
    "The User_Account class inherits from the Account class. This means that the User_Account class will have all the properties and methods of the Account class, plus any additional properties and methods that you define in the User_Account class.\n",
    "\n",
    "\n",
    "The __init__ method is the constructor method of a class. It is called when a new instance of the class is created. The super() function is used in the __init__ method of the User_Account class to call the __init__ method of the parent class (Account). This ensures that the initialization process of the parent class is run before the initialization process of the child class.\n",
    "\n",
    "\n",
    "The account_number and balance attributes are used to store the account number and balance of a user account. These attributes are defined in the __init__ method of the User_Account class."
   ]
  },
  {
   "cell_type": "code",
   "execution_count": 5,
   "id": "89054d70",
   "metadata": {},
   "outputs": [],
   "source": [
    "class User_Account(Account):\n",
    "    def __init__(self,account_number,balance,*args):\n",
    "        super(User_Account,self).__init__(*args)\n",
    "        self.account_number=account_number\n",
    "        self.balance=balance\n",
    "            \n",
    "    def user_details(self):\n",
    "        while True:\n",
    "            account=int(input(\"Enter Your Account Number\"))\n",
    "            if account==self.account_number:\n",
    "                print(\"Name =\", self.name)\n",
    "                print(\"Account Number =\",self.account_number)\n",
    "                print(\"Balance =\",self.balance )\n",
    "                break\n",
    "            else:\n",
    "                print(\"Account Number is not valid\")\n",
    "                continue\n",
    "    def deposit(self):\n",
    "        print(\"Your Previous Balance is\",self.balance)\n",
    "        add_cash=int(input(\"Enter Ammount\"))\n",
    "        self.balance= self.balance+add_cash\n",
    "        print(\"Your account credit with\",add_cash, \"and now your balace is\" ,self.balance)\n",
    "    def transfer(self):\n",
    "        print(\"Your Previous Balance is\",self.balance)\n",
    "        withdrawl=int(input(\"Enter How much you want to withdraw\"))\n",
    "        if withdrawl<=self.balance:\n",
    "            self.balance-=withdrawl\n",
    "            print(\"The Withdraws ammount is\",self.account_number,\"and you left balance is \" ,self.balance)\n",
    "            \n",
    "        else:\n",
    "            print(\"Alert:Hello You Dont have sufficient Balance to withdra\")\n",
    "                \n",
    "            \n",
    "        \n",
    "            \n",
    "        "
   ]
  },
  {
   "cell_type": "code",
   "execution_count": 6,
   "id": "628cf5a8",
   "metadata": {},
   "outputs": [],
   "source": [
    "bank=User_Account(5555,0)"
   ]
  },
  {
   "cell_type": "code",
   "execution_count": 7,
   "id": "87428baf",
   "metadata": {},
   "outputs": [
    {
     "name": "stdout",
     "output_type": "stream",
     "text": [
      "Enter Your User Id qwerty\n",
      "Enter Your Pswword 1234\n",
      "Logged in Sucessfully\n"
     ]
    }
   ],
   "source": [
    "bank.login()"
   ]
  },
  {
   "cell_type": "code",
   "execution_count": 9,
   "id": "f71ec127",
   "metadata": {},
   "outputs": [
    {
     "name": "stdout",
     "output_type": "stream",
     "text": [
      "Enter Your Account Number5555\n",
      "Name = Ram\n",
      "Account Number = 5555\n",
      "Balance = 0\n"
     ]
    }
   ],
   "source": [
    "bank.user_details()"
   ]
  },
  {
   "cell_type": "code",
   "execution_count": 10,
   "id": "8e266e40",
   "metadata": {},
   "outputs": [
    {
     "name": "stdout",
     "output_type": "stream",
     "text": [
      "Your Previous Balance is 0\n",
      "Enter Ammount1500\n",
      "Your account credit with 1500 and now your balace is 1500\n"
     ]
    }
   ],
   "source": [
    "bank.deposit()"
   ]
  },
  {
   "cell_type": "code",
   "execution_count": 12,
   "id": "be2e2607",
   "metadata": {},
   "outputs": [
    {
     "name": "stdout",
     "output_type": "stream",
     "text": [
      "Your Previous Balance is 1500\n",
      "Enter How much you want to withdraw1400\n",
      "The Withdraws ammount is 5555 and you left balance is  100\n"
     ]
    }
   ],
   "source": [
    "bank.transfer()"
   ]
  },
  {
   "cell_type": "code",
   "execution_count": null,
   "id": "382797f6",
   "metadata": {},
   "outputs": [],
   "source": [
    "# Lets know one thing in previous example. a Account is a base class and User_Account is a\n",
    "#subclass or Superclass. which can inherits the data from base class using __init__ and (*args) method."
   ]
  },
  {
   "cell_type": "code",
   "execution_count": null,
   "id": "46f708a5",
   "metadata": {},
   "outputs": [],
   "source": [
    "# Encapsulation - Encapsulation is an another powerful way to extend a class which consists\n",
    "# on wrapping object with second one.\n",
    "\n",
    "#Just like gmail,google photos,g drive and wrapped into one\n",
    "\n",
    "# The abstraction process relies on creating a simplified model that removes useless details from\n",
    "# a concept. In order to be simplified a model should be described in trems of other concepts, \n",
    "# for eaxmple - we can say that a car is composed be :-\n",
    "# Tyre\n",
    "# Engine\n",
    "# Body\n",
    "\n",
    "\n",
    "#And breakdown each one of these element in simpler parts untill we reach primitive data."
   ]
  },
  {
   "cell_type": "code",
   "execution_count": 13,
   "id": "acf0cc1c",
   "metadata": {},
   "outputs": [
    {
     "name": "stdout",
     "output_type": "stream",
     "text": [
      "Tyre \n",
      "\t Branch MRF\n",
      "\tBelted_bias True\n",
      "\topt_pressure 34\n",
      "  \n",
      "\t fuel type is  petrol\n",
      "\t noise leve is  2.3\n",
      "\n",
      "\t Body Size of car is sedan\n"
     ]
    }
   ],
   "source": [
    "class Tyres:\n",
    "    def __init__(self,branch,belted_bias,opt_pressure):\n",
    "        self.branch=branch\n",
    "        self.belted_bias=belted_bias\n",
    "        self.opt_pressure=opt_pressure\n",
    "    def __str__(self) :#__str__ can be used if you dont want to define a method name,but you want this to execute\n",
    "        return(\"Tyre \\n\\t Branch \"+self.branch+\n",
    "               \"\\n\\tBelted_bias \"+str(self.belted_bias)+\n",
    "               \"\\n\\topt_pressure \"+str(self.opt_pressure))\n",
    "class Engine:\n",
    "    def __init__(self,fuel_type,noise_level):\n",
    "        self.fuel_type=fuel_type\n",
    "        self.noise_level=noise_level\n",
    "    def __str__(self):\n",
    "        return(\"\\n\\t fuel type is  \"+self.fuel_type+\n",
    "              \"\\n\\t noise leve is  \"+str(self.noise_level))#__str__ method only returns only text so we are converting into string.\n",
    "class Body():\n",
    "    def __init__(self,size):\n",
    "        self.size=size\n",
    "    def __str__(self):\n",
    "        return(\"\\n\\t Body Size of car is \"+self.size)\n",
    "    \n",
    "class Car():\n",
    "    def __init__(self,Tyres,Engine,Body):\n",
    "        self.Tyres=Tyres\n",
    "        self.Engine=Engine\n",
    "        self.Body=Body\n",
    "    def __str__(self):\n",
    "        return   str(self.Tyres) +\"\\n  \"  + str(self.Engine) +\"\\n\" +  str(self.Body)\n",
    "t=Tyres(\"MRF\",True,34)\n",
    "e=Engine(\"petrol\",2.3)\n",
    "b=Body(\"sedan\")\n",
    "c=Car(t,e,b)\n",
    "print(c)"
   ]
  },
  {
   "cell_type": "code",
   "execution_count": null,
   "id": "7e7bc504",
   "metadata": {},
   "outputs": [],
   "source": [
    "print(c)"
   ]
  },
  {
   "cell_type": "code",
   "execution_count": null,
   "id": "2ed4d349",
   "metadata": {},
   "outputs": [],
   "source": []
  },
  {
   "cell_type": "code",
   "execution_count": null,
   "id": "9e84a291",
   "metadata": {},
   "outputs": [],
   "source": []
  }
 ],
 "metadata": {
  "kernelspec": {
   "display_name": "Python 3 (ipykernel)",
   "language": "python",
   "name": "python3"
  },
  "language_info": {
   "codemirror_mode": {
    "name": "ipython",
    "version": 3
   },
   "file_extension": ".py",
   "mimetype": "text/x-python",
   "name": "python",
   "nbconvert_exporter": "python",
   "pygments_lexer": "ipython3",
   "version": "3.10.9"
  }
 },
 "nbformat": 4,
 "nbformat_minor": 5
}
