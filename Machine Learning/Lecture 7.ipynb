{
 "cells": [
  {
   "cell_type": "markdown",
   "id": "29361dd7",
   "metadata": {},
   "source": [
    "# IMPUTERS and ENCODING"
   ]
  },
  {
   "cell_type": "markdown",
   "id": "0338b89c",
   "metadata": {},
   "source": [
    "Before Moving to the next model that is decision tree, we are going to to learn some concept here."
   ]
  },
  {
   "cell_type": "markdown",
   "id": "ba2cad8b",
   "metadata": {},
   "source": [
    "We are going to understand some advance techniques here."
   ]
  },
  {
   "cell_type": "markdown",
   "id": "b8773e53",
   "metadata": {},
   "source": [
    "Our model never ever understand any text \n",
    "\n",
    "\n",
    "\n",
    "\n",
    "We have to change text into some numbers\n",
    "\n",
    "\n",
    "\n",
    "\n",
    "\n",
    "and also most common issue is null values . How we are going to treat null.\n",
    "\n",
    "\n",
    "\n",
    "We know a simple methods like mean,mode,median . so these are very simple method.\n",
    "\n",
    "\n",
    "\n",
    "\n",
    "\n",
    "So there are advance techniques that we are going to learn\n",
    "\n",
    "\n",
    "\n",
    "\n",
    "\n",
    "\n",
    "\n",
    "1- Imputers\n",
    "\n",
    "\n",
    "\n",
    "\n",
    "\n",
    "2- Encoding"
   ]
  },
  {
   "cell_type": "markdown",
   "id": "4e2acaa5",
   "metadata": {},
   "source": [
    "Imputers - imputing null values , we are going to impute instead of saying fillna we are going to impute through different different techniques . There are also we have various technique. imputation technique.\n",
    "\n",
    "\n",
    "\n",
    "\n",
    "\n",
    "\n",
    "Encoding - We are going to convert our categorical data . categories into some numbers, text into some numbers  that is encoding . within encoding we have several technique we will understand."
   ]
  },
  {
   "cell_type": "code",
   "execution_count": 1,
   "id": "d1f26ba1",
   "metadata": {},
   "outputs": [],
   "source": [
    "#Lets import\n",
    "\n",
    "import warnings\n",
    "warnings.filterwarnings('ignore')\n",
    "\n",
    "\n",
    "import pandas as pd"
   ]
  },
  {
   "cell_type": "code",
   "execution_count": 2,
   "id": "b885acbb",
   "metadata": {},
   "outputs": [
    {
     "data": {
      "text/html": [
       "<div>\n",
       "<style scoped>\n",
       "    .dataframe tbody tr th:only-of-type {\n",
       "        vertical-align: middle;\n",
       "    }\n",
       "\n",
       "    .dataframe tbody tr th {\n",
       "        vertical-align: top;\n",
       "    }\n",
       "\n",
       "    .dataframe thead th {\n",
       "        text-align: right;\n",
       "    }\n",
       "</style>\n",
       "<table border=\"1\" class=\"dataframe\">\n",
       "  <thead>\n",
       "    <tr style=\"text-align: right;\">\n",
       "      <th></th>\n",
       "      <th>Salary</th>\n",
       "      <th>City</th>\n",
       "      <th>Gender</th>\n",
       "      <th>Exp</th>\n",
       "    </tr>\n",
       "  </thead>\n",
       "  <tbody>\n",
       "    <tr>\n",
       "      <th>0</th>\n",
       "      <td>25000</td>\n",
       "      <td>Bengluru</td>\n",
       "      <td>Male</td>\n",
       "      <td>1.0</td>\n",
       "    </tr>\n",
       "    <tr>\n",
       "      <th>1</th>\n",
       "      <td>48000</td>\n",
       "      <td>Delhi</td>\n",
       "      <td>Female</td>\n",
       "      <td>3.0</td>\n",
       "    </tr>\n",
       "    <tr>\n",
       "      <th>2</th>\n",
       "      <td>71000</td>\n",
       "      <td>Hyderabad</td>\n",
       "      <td>Female</td>\n",
       "      <td>5.0</td>\n",
       "    </tr>\n",
       "    <tr>\n",
       "      <th>3</th>\n",
       "      <td>85000</td>\n",
       "      <td>Bengluru</td>\n",
       "      <td>Female</td>\n",
       "      <td>6.0</td>\n",
       "    </tr>\n",
       "    <tr>\n",
       "      <th>4</th>\n",
       "      <td>90000</td>\n",
       "      <td>Hyderabad</td>\n",
       "      <td>Male</td>\n",
       "      <td>9.0</td>\n",
       "    </tr>\n",
       "    <tr>\n",
       "      <th>5</th>\n",
       "      <td>55000</td>\n",
       "      <td>Bengluru</td>\n",
       "      <td>Male</td>\n",
       "      <td>NaN</td>\n",
       "    </tr>\n",
       "  </tbody>\n",
       "</table>\n",
       "</div>"
      ],
      "text/plain": [
       "   Salary       City  Gender  Exp\n",
       "0   25000   Bengluru    Male  1.0\n",
       "1   48000      Delhi  Female  3.0\n",
       "2   71000  Hyderabad  Female  5.0\n",
       "3   85000   Bengluru  Female  6.0\n",
       "4   90000  Hyderabad    Male  9.0\n",
       "5   55000   Bengluru    Male  NaN"
      ]
     },
     "execution_count": 2,
     "metadata": {},
     "output_type": "execute_result"
    }
   ],
   "source": [
    "df=pd.DataFrame({'Salary':[25000,48000,71000,85000,90000,55000],\n",
    "                'City':['Bengluru','Delhi','Hyderabad','Bengluru','Hyderabad','Bengluru'],\n",
    "                 'Gender':['Male','Female','Female','Female','Male','Male'],\n",
    "                'Exp':[1,3,5,6,9,None]})\n",
    "df"
   ]
  },
  {
   "cell_type": "markdown",
   "id": "786266e5",
   "metadata": {},
   "source": [
    "# Encoder and Imputer"
   ]
  },
  {
   "cell_type": "code",
   "execution_count": 3,
   "id": "ba6d6201",
   "metadata": {},
   "outputs": [],
   "source": [
    "from sklearn.preprocessing import LabelEncoder"
   ]
  },
  {
   "cell_type": "code",
   "execution_count": 4,
   "id": "8976e4fa",
   "metadata": {},
   "outputs": [],
   "source": [
    "lab_enc=LabelEncoder()"
   ]
  },
  {
   "cell_type": "code",
   "execution_count": 5,
   "id": "5b5455b2",
   "metadata": {},
   "outputs": [],
   "source": [
    "df2=lab_enc.fit_transform(df['City'])"
   ]
  },
  {
   "cell_type": "code",
   "execution_count": 6,
   "id": "13d6c730",
   "metadata": {},
   "outputs": [
    {
     "data": {
      "text/plain": [
       "0    0\n",
       "1    1\n",
       "2    2\n",
       "3    0\n",
       "4    2\n",
       "5    0\n",
       "dtype: int64"
      ]
     },
     "execution_count": 6,
     "metadata": {},
     "output_type": "execute_result"
    }
   ],
   "source": [
    "pd.Series(df2)"
   ]
  },
  {
   "cell_type": "code",
   "execution_count": 7,
   "id": "628881a4",
   "metadata": {},
   "outputs": [],
   "source": [
    "df['City']=df2"
   ]
  },
  {
   "cell_type": "code",
   "execution_count": 8,
   "id": "8c3f3aff",
   "metadata": {},
   "outputs": [
    {
     "data": {
      "text/html": [
       "<div>\n",
       "<style scoped>\n",
       "    .dataframe tbody tr th:only-of-type {\n",
       "        vertical-align: middle;\n",
       "    }\n",
       "\n",
       "    .dataframe tbody tr th {\n",
       "        vertical-align: top;\n",
       "    }\n",
       "\n",
       "    .dataframe thead th {\n",
       "        text-align: right;\n",
       "    }\n",
       "</style>\n",
       "<table border=\"1\" class=\"dataframe\">\n",
       "  <thead>\n",
       "    <tr style=\"text-align: right;\">\n",
       "      <th></th>\n",
       "      <th>Salary</th>\n",
       "      <th>City</th>\n",
       "      <th>Gender</th>\n",
       "      <th>Exp</th>\n",
       "    </tr>\n",
       "  </thead>\n",
       "  <tbody>\n",
       "    <tr>\n",
       "      <th>0</th>\n",
       "      <td>25000</td>\n",
       "      <td>0</td>\n",
       "      <td>Male</td>\n",
       "      <td>1.0</td>\n",
       "    </tr>\n",
       "    <tr>\n",
       "      <th>1</th>\n",
       "      <td>48000</td>\n",
       "      <td>1</td>\n",
       "      <td>Female</td>\n",
       "      <td>3.0</td>\n",
       "    </tr>\n",
       "    <tr>\n",
       "      <th>2</th>\n",
       "      <td>71000</td>\n",
       "      <td>2</td>\n",
       "      <td>Female</td>\n",
       "      <td>5.0</td>\n",
       "    </tr>\n",
       "    <tr>\n",
       "      <th>3</th>\n",
       "      <td>85000</td>\n",
       "      <td>0</td>\n",
       "      <td>Female</td>\n",
       "      <td>6.0</td>\n",
       "    </tr>\n",
       "    <tr>\n",
       "      <th>4</th>\n",
       "      <td>90000</td>\n",
       "      <td>2</td>\n",
       "      <td>Male</td>\n",
       "      <td>9.0</td>\n",
       "    </tr>\n",
       "    <tr>\n",
       "      <th>5</th>\n",
       "      <td>55000</td>\n",
       "      <td>0</td>\n",
       "      <td>Male</td>\n",
       "      <td>NaN</td>\n",
       "    </tr>\n",
       "  </tbody>\n",
       "</table>\n",
       "</div>"
      ],
      "text/plain": [
       "   Salary  City  Gender  Exp\n",
       "0   25000     0    Male  1.0\n",
       "1   48000     1  Female  3.0\n",
       "2   71000     2  Female  5.0\n",
       "3   85000     0  Female  6.0\n",
       "4   90000     2    Male  9.0\n",
       "5   55000     0    Male  NaN"
      ]
     },
     "execution_count": 8,
     "metadata": {},
     "output_type": "execute_result"
    }
   ],
   "source": [
    "df"
   ]
  },
  {
   "cell_type": "code",
   "execution_count": 9,
   "id": "0d54b509",
   "metadata": {},
   "outputs": [],
   "source": [
    "from sklearn.preprocessing import  OneHotEncoder\n",
    "from sklearn.impute import SimpleImputer\n",
    "from sklearn.compose import make_column_transformer"
   ]
  },
  {
   "cell_type": "code",
   "execution_count": 10,
   "id": "e55d4145",
   "metadata": {},
   "outputs": [],
   "source": [
    "ohe=OneHotEncoder()"
   ]
  },
  {
   "cell_type": "code",
   "execution_count": 11,
   "id": "a9682eb4",
   "metadata": {},
   "outputs": [],
   "source": [
    "si=SimpleImputer()"
   ]
  },
  {
   "cell_type": "code",
   "execution_count": 12,
   "id": "017554cc",
   "metadata": {},
   "outputs": [
    {
     "data": {
      "text/html": [
       "<div>\n",
       "<style scoped>\n",
       "    .dataframe tbody tr th:only-of-type {\n",
       "        vertical-align: middle;\n",
       "    }\n",
       "\n",
       "    .dataframe tbody tr th {\n",
       "        vertical-align: top;\n",
       "    }\n",
       "\n",
       "    .dataframe thead th {\n",
       "        text-align: right;\n",
       "    }\n",
       "</style>\n",
       "<table border=\"1\" class=\"dataframe\">\n",
       "  <thead>\n",
       "    <tr style=\"text-align: right;\">\n",
       "      <th></th>\n",
       "      <th>Salary</th>\n",
       "      <th>City</th>\n",
       "      <th>Gender</th>\n",
       "      <th>Exp</th>\n",
       "    </tr>\n",
       "  </thead>\n",
       "  <tbody>\n",
       "    <tr>\n",
       "      <th>0</th>\n",
       "      <td>25000</td>\n",
       "      <td>Bengluru</td>\n",
       "      <td>Male</td>\n",
       "      <td>1.0</td>\n",
       "    </tr>\n",
       "    <tr>\n",
       "      <th>1</th>\n",
       "      <td>48000</td>\n",
       "      <td>Delhi</td>\n",
       "      <td>Female</td>\n",
       "      <td>3.0</td>\n",
       "    </tr>\n",
       "    <tr>\n",
       "      <th>2</th>\n",
       "      <td>71000</td>\n",
       "      <td>Hyderabad</td>\n",
       "      <td>Female</td>\n",
       "      <td>5.0</td>\n",
       "    </tr>\n",
       "    <tr>\n",
       "      <th>3</th>\n",
       "      <td>85000</td>\n",
       "      <td>Bengluru</td>\n",
       "      <td>Female</td>\n",
       "      <td>6.0</td>\n",
       "    </tr>\n",
       "    <tr>\n",
       "      <th>4</th>\n",
       "      <td>90000</td>\n",
       "      <td>Hyderabad</td>\n",
       "      <td>Male</td>\n",
       "      <td>9.0</td>\n",
       "    </tr>\n",
       "    <tr>\n",
       "      <th>5</th>\n",
       "      <td>55000</td>\n",
       "      <td>Bengluru</td>\n",
       "      <td>Male</td>\n",
       "      <td>NaN</td>\n",
       "    </tr>\n",
       "  </tbody>\n",
       "</table>\n",
       "</div>"
      ],
      "text/plain": [
       "   Salary       City  Gender  Exp\n",
       "0   25000   Bengluru    Male  1.0\n",
       "1   48000      Delhi  Female  3.0\n",
       "2   71000  Hyderabad  Female  5.0\n",
       "3   85000   Bengluru  Female  6.0\n",
       "4   90000  Hyderabad    Male  9.0\n",
       "5   55000   Bengluru    Male  NaN"
      ]
     },
     "execution_count": 12,
     "metadata": {},
     "output_type": "execute_result"
    }
   ],
   "source": [
    "df=pd.DataFrame({'Salary':[25000,48000,71000,85000,90000,55000],\n",
    "                'City':['Bengluru','Delhi','Hyderabad','Bengluru','Hyderabad','Bengluru'],\n",
    "                 'Gender':['Male','Female','Female','Female','Male','Male'],\n",
    "                'Exp':[1,3,5,6,9,None]})\n",
    "df"
   ]
  },
  {
   "cell_type": "code",
   "execution_count": 13,
   "id": "14c5f09c",
   "metadata": {},
   "outputs": [],
   "source": [
    "ct=make_column_transformer(\n",
    "    (ohe,['City','Gender']),\n",
    "(si,['Exp']),\n",
    "remainder='passthrough')#Passthrough to keep all the columns"
   ]
  },
  {
   "cell_type": "code",
   "execution_count": 14,
   "id": "f97a3210",
   "metadata": {},
   "outputs": [
    {
     "data": {
      "text/html": [
       "<div>\n",
       "<style scoped>\n",
       "    .dataframe tbody tr th:only-of-type {\n",
       "        vertical-align: middle;\n",
       "    }\n",
       "\n",
       "    .dataframe tbody tr th {\n",
       "        vertical-align: top;\n",
       "    }\n",
       "\n",
       "    .dataframe thead th {\n",
       "        text-align: right;\n",
       "    }\n",
       "</style>\n",
       "<table border=\"1\" class=\"dataframe\">\n",
       "  <thead>\n",
       "    <tr style=\"text-align: right;\">\n",
       "      <th></th>\n",
       "      <th>0</th>\n",
       "      <th>1</th>\n",
       "      <th>2</th>\n",
       "      <th>3</th>\n",
       "      <th>4</th>\n",
       "      <th>5</th>\n",
       "      <th>6</th>\n",
       "    </tr>\n",
       "  </thead>\n",
       "  <tbody>\n",
       "    <tr>\n",
       "      <th>0</th>\n",
       "      <td>1.0</td>\n",
       "      <td>0.0</td>\n",
       "      <td>0.0</td>\n",
       "      <td>0.0</td>\n",
       "      <td>1.0</td>\n",
       "      <td>1.0</td>\n",
       "      <td>25000.0</td>\n",
       "    </tr>\n",
       "    <tr>\n",
       "      <th>1</th>\n",
       "      <td>0.0</td>\n",
       "      <td>1.0</td>\n",
       "      <td>0.0</td>\n",
       "      <td>1.0</td>\n",
       "      <td>0.0</td>\n",
       "      <td>3.0</td>\n",
       "      <td>48000.0</td>\n",
       "    </tr>\n",
       "    <tr>\n",
       "      <th>2</th>\n",
       "      <td>0.0</td>\n",
       "      <td>0.0</td>\n",
       "      <td>1.0</td>\n",
       "      <td>1.0</td>\n",
       "      <td>0.0</td>\n",
       "      <td>5.0</td>\n",
       "      <td>71000.0</td>\n",
       "    </tr>\n",
       "    <tr>\n",
       "      <th>3</th>\n",
       "      <td>1.0</td>\n",
       "      <td>0.0</td>\n",
       "      <td>0.0</td>\n",
       "      <td>1.0</td>\n",
       "      <td>0.0</td>\n",
       "      <td>6.0</td>\n",
       "      <td>85000.0</td>\n",
       "    </tr>\n",
       "    <tr>\n",
       "      <th>4</th>\n",
       "      <td>0.0</td>\n",
       "      <td>0.0</td>\n",
       "      <td>1.0</td>\n",
       "      <td>0.0</td>\n",
       "      <td>1.0</td>\n",
       "      <td>9.0</td>\n",
       "      <td>90000.0</td>\n",
       "    </tr>\n",
       "    <tr>\n",
       "      <th>5</th>\n",
       "      <td>1.0</td>\n",
       "      <td>0.0</td>\n",
       "      <td>0.0</td>\n",
       "      <td>0.0</td>\n",
       "      <td>1.0</td>\n",
       "      <td>4.8</td>\n",
       "      <td>55000.0</td>\n",
       "    </tr>\n",
       "  </tbody>\n",
       "</table>\n",
       "</div>"
      ],
      "text/plain": [
       "     0    1    2    3    4    5        6\n",
       "0  1.0  0.0  0.0  0.0  1.0  1.0  25000.0\n",
       "1  0.0  1.0  0.0  1.0  0.0  3.0  48000.0\n",
       "2  0.0  0.0  1.0  1.0  0.0  5.0  71000.0\n",
       "3  1.0  0.0  0.0  1.0  0.0  6.0  85000.0\n",
       "4  0.0  0.0  1.0  0.0  1.0  9.0  90000.0\n",
       "5  1.0  0.0  0.0  0.0  1.0  4.8  55000.0"
      ]
     },
     "execution_count": 14,
     "metadata": {},
     "output_type": "execute_result"
    }
   ],
   "source": [
    "encoded=pd.DataFrame(ct.fit_transform(df))\n",
    "encoded"
   ]
  },
  {
   "cell_type": "code",
   "execution_count": 15,
   "id": "7740c328",
   "metadata": {},
   "outputs": [],
   "source": [
    "#Rename the columns as per your choice \n",
    "encoded=pd.DataFrame(ct.fit_transform(df),columns=['City Banglore','City Hyderabad','City Delhi','Gender Male','Gender Female','Exp','Salary'])"
   ]
  },
  {
   "cell_type": "code",
   "execution_count": 16,
   "id": "f2583382",
   "metadata": {},
   "outputs": [
    {
     "data": {
      "text/html": [
       "<div>\n",
       "<style scoped>\n",
       "    .dataframe tbody tr th:only-of-type {\n",
       "        vertical-align: middle;\n",
       "    }\n",
       "\n",
       "    .dataframe tbody tr th {\n",
       "        vertical-align: top;\n",
       "    }\n",
       "\n",
       "    .dataframe thead th {\n",
       "        text-align: right;\n",
       "    }\n",
       "</style>\n",
       "<table border=\"1\" class=\"dataframe\">\n",
       "  <thead>\n",
       "    <tr style=\"text-align: right;\">\n",
       "      <th></th>\n",
       "      <th>City Banglore</th>\n",
       "      <th>City Hyderabad</th>\n",
       "      <th>City Delhi</th>\n",
       "      <th>Gender Male</th>\n",
       "      <th>Gender Female</th>\n",
       "      <th>Exp</th>\n",
       "      <th>Salary</th>\n",
       "    </tr>\n",
       "  </thead>\n",
       "  <tbody>\n",
       "    <tr>\n",
       "      <th>0</th>\n",
       "      <td>1.0</td>\n",
       "      <td>0.0</td>\n",
       "      <td>0.0</td>\n",
       "      <td>0.0</td>\n",
       "      <td>1.0</td>\n",
       "      <td>1.0</td>\n",
       "      <td>25000.0</td>\n",
       "    </tr>\n",
       "    <tr>\n",
       "      <th>1</th>\n",
       "      <td>0.0</td>\n",
       "      <td>1.0</td>\n",
       "      <td>0.0</td>\n",
       "      <td>1.0</td>\n",
       "      <td>0.0</td>\n",
       "      <td>3.0</td>\n",
       "      <td>48000.0</td>\n",
       "    </tr>\n",
       "    <tr>\n",
       "      <th>2</th>\n",
       "      <td>0.0</td>\n",
       "      <td>0.0</td>\n",
       "      <td>1.0</td>\n",
       "      <td>1.0</td>\n",
       "      <td>0.0</td>\n",
       "      <td>5.0</td>\n",
       "      <td>71000.0</td>\n",
       "    </tr>\n",
       "    <tr>\n",
       "      <th>3</th>\n",
       "      <td>1.0</td>\n",
       "      <td>0.0</td>\n",
       "      <td>0.0</td>\n",
       "      <td>1.0</td>\n",
       "      <td>0.0</td>\n",
       "      <td>6.0</td>\n",
       "      <td>85000.0</td>\n",
       "    </tr>\n",
       "    <tr>\n",
       "      <th>4</th>\n",
       "      <td>0.0</td>\n",
       "      <td>0.0</td>\n",
       "      <td>1.0</td>\n",
       "      <td>0.0</td>\n",
       "      <td>1.0</td>\n",
       "      <td>9.0</td>\n",
       "      <td>90000.0</td>\n",
       "    </tr>\n",
       "    <tr>\n",
       "      <th>5</th>\n",
       "      <td>1.0</td>\n",
       "      <td>0.0</td>\n",
       "      <td>0.0</td>\n",
       "      <td>0.0</td>\n",
       "      <td>1.0</td>\n",
       "      <td>4.8</td>\n",
       "      <td>55000.0</td>\n",
       "    </tr>\n",
       "  </tbody>\n",
       "</table>\n",
       "</div>"
      ],
      "text/plain": [
       "   City Banglore  City Hyderabad  City Delhi  Gender Male  Gender Female  Exp  \\\n",
       "0            1.0             0.0         0.0          0.0            1.0  1.0   \n",
       "1            0.0             1.0         0.0          1.0            0.0  3.0   \n",
       "2            0.0             0.0         1.0          1.0            0.0  5.0   \n",
       "3            1.0             0.0         0.0          1.0            0.0  6.0   \n",
       "4            0.0             0.0         1.0          0.0            1.0  9.0   \n",
       "5            1.0             0.0         0.0          0.0            1.0  4.8   \n",
       "\n",
       "    Salary  \n",
       "0  25000.0  \n",
       "1  48000.0  \n",
       "2  71000.0  \n",
       "3  85000.0  \n",
       "4  90000.0  \n",
       "5  55000.0  "
      ]
     },
     "execution_count": 16,
     "metadata": {},
     "output_type": "execute_result"
    }
   ],
   "source": [
    "encoded"
   ]
  },
  {
   "cell_type": "code",
   "execution_count": null,
   "id": "a202ac1a",
   "metadata": {},
   "outputs": [],
   "source": [
    "# Continue in next lecture"
   ]
  },
  {
   "cell_type": "code",
   "execution_count": null,
   "id": "c8939522",
   "metadata": {},
   "outputs": [],
   "source": []
  },
  {
   "cell_type": "code",
   "execution_count": null,
   "id": "b5bd84d4",
   "metadata": {},
   "outputs": [],
   "source": []
  },
  {
   "cell_type": "code",
   "execution_count": null,
   "id": "47366a85",
   "metadata": {},
   "outputs": [],
   "source": []
  },
  {
   "cell_type": "code",
   "execution_count": null,
   "id": "77c65e1a",
   "metadata": {},
   "outputs": [],
   "source": []
  }
 ],
 "metadata": {
  "kernelspec": {
   "display_name": "Python 3 (ipykernel)",
   "language": "python",
   "name": "python3"
  },
  "language_info": {
   "codemirror_mode": {
    "name": "ipython",
    "version": 3
   },
   "file_extension": ".py",
   "mimetype": "text/x-python",
   "name": "python",
   "nbconvert_exporter": "python",
   "pygments_lexer": "ipython3",
   "version": "3.10.12"
  }
 },
 "nbformat": 4,
 "nbformat_minor": 5
}
