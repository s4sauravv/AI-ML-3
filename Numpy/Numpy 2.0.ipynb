{
 "cells": [
  {
   "cell_type": "code",
   "execution_count": 163,
   "id": "61b41e66",
   "metadata": {},
   "outputs": [],
   "source": [
    "\n",
    "#Study of Numpy and its Function"
   ]
  },
  {
   "cell_type": "code",
   "execution_count": 162,
   "id": "748a8ba5",
   "metadata": {},
   "outputs": [],
   "source": [
    "import numpy as np"
   ]
  },
  {
   "cell_type": "code",
   "execution_count": 2,
   "id": "c0804514",
   "metadata": {},
   "outputs": [],
   "source": [
    "emp_salary=np.random.randint(8,70,10)"
   ]
  },
  {
   "cell_type": "code",
   "execution_count": 3,
   "id": "15d8fc62",
   "metadata": {},
   "outputs": [
    {
     "data": {
      "text/plain": [
       "array([53, 39, 62, 46, 64, 13, 45, 29, 27, 25])"
      ]
     },
     "execution_count": 3,
     "metadata": {},
     "output_type": "execute_result"
    }
   ],
   "source": [
    "emp_salary"
   ]
  },
  {
   "cell_type": "code",
   "execution_count": 4,
   "id": "722f4f4e",
   "metadata": {},
   "outputs": [],
   "source": [
    "#set minimum and maximum salary using a_min and a_max "
   ]
  },
  {
   "cell_type": "code",
   "execution_count": 9,
   "id": "e59e0912",
   "metadata": {},
   "outputs": [
    {
     "data": {
      "text/plain": [
       "array([50, 39, 50, 46, 50, 20, 45, 29, 27, 25])"
      ]
     },
     "execution_count": 9,
     "metadata": {},
     "output_type": "execute_result"
    }
   ],
   "source": [
    "np.clip(emp_salary,a_min=20,a_max=50)# if we use clip method then all maximum and minimum value we can set as per our use"
   ]
  },
  {
   "cell_type": "code",
   "execution_count": 10,
   "id": "46e5ec59",
   "metadata": {},
   "outputs": [],
   "source": [
    "#If you want to find actual salary which are less then or greater than some salary use np.where\n",
    "#np.where gives index detail"
   ]
  },
  {
   "cell_type": "code",
   "execution_count": 16,
   "id": "1b2d5f2c",
   "metadata": {},
   "outputs": [
    {
     "name": "stdout",
     "output_type": "stream",
     "text": [
      "(array([5], dtype=int64),)\n"
     ]
    }
   ],
   "source": [
    "print(np.where(emp_salary <25))"
   ]
  },
  {
   "cell_type": "code",
   "execution_count": 17,
   "id": "7af86183",
   "metadata": {},
   "outputs": [],
   "source": [
    "#If you want to see actual data, use index "
   ]
  },
  {
   "cell_type": "code",
   "execution_count": 19,
   "id": "3463761b",
   "metadata": {},
   "outputs": [
    {
     "data": {
      "text/plain": [
       "array([39, 64])"
      ]
     },
     "execution_count": 19,
     "metadata": {},
     "output_type": "execute_result"
    }
   ],
   "source": [
    "emp_salary[[1,4]]"
   ]
  },
  {
   "cell_type": "code",
   "execution_count": 20,
   "id": "88fdffc1",
   "metadata": {},
   "outputs": [],
   "source": [
    "#similarly you can  check for any condition (<,>,=,==,<=,>=)"
   ]
  },
  {
   "cell_type": "code",
   "execution_count": 21,
   "id": "c6698932",
   "metadata": {},
   "outputs": [],
   "source": [
    "#Reshaping Otherways"
   ]
  },
  {
   "cell_type": "code",
   "execution_count": null,
   "id": "d58fbfde",
   "metadata": {},
   "outputs": [],
   "source": []
  },
  {
   "cell_type": "code",
   "execution_count": 24,
   "id": "173a9f65",
   "metadata": {},
   "outputs": [],
   "source": [
    "import numpy as np\n",
    "from numpy.random import randint as ri"
   ]
  },
  {
   "cell_type": "code",
   "execution_count": 40,
   "id": "08c862ff",
   "metadata": {},
   "outputs": [
    {
     "name": "stdout",
     "output_type": "stream",
     "text": [
      "[63 21 43 24 93 10 22 27 23 20 38 10  6 90 69 87 55  3 38 71 12 56 31 62\n",
      " 31 96 76 14 41 57]\n"
     ]
    }
   ],
   "source": [
    "a=ri(1,99,30)\n",
    "print(a)"
   ]
  },
  {
   "cell_type": "code",
   "execution_count": 42,
   "id": "e2e1d17c",
   "metadata": {},
   "outputs": [
    {
     "name": "stdout",
     "output_type": "stream",
     "text": [
      "[[[63 21 43 24 93]\n",
      "  [10 22 27 23 20]\n",
      "  [38 10  6 90 69]]\n",
      "\n",
      " [[87 55  3 38 71]\n",
      "  [12 56 31 62 31]\n",
      "  [96 76 14 41 57]]]\n"
     ]
    }
   ],
   "source": [
    "b=a.reshape(2,3,5)\n",
    "print(b)"
   ]
  },
  {
   "cell_type": "code",
   "execution_count": 44,
   "id": "359c5e0b",
   "metadata": {},
   "outputs": [
    {
     "name": "stdout",
     "output_type": "stream",
     "text": [
      "[[63 21 43 24 93]\n",
      " [10 22 27 23 20]\n",
      " [38 10  6 90 69]\n",
      " [87 55  3 38 71]\n",
      " [12 56 31 62 31]\n",
      " [96 76 14 41 57]]\n"
     ]
    }
   ],
   "source": [
    "c=a.reshape(6,5)\n",
    "print(c)"
   ]
  },
  {
   "cell_type": "code",
   "execution_count": 49,
   "id": "6c85cde5",
   "metadata": {},
   "outputs": [
    {
     "name": "stdout",
     "output_type": "stream",
     "text": [
      "Minimum of a is  3\n",
      "Maximum of a is  96\n"
     ]
    }
   ],
   "source": [
    "print(\"Minimum of a is \",c.min())\n",
    "print(\"Maximum of a is \",c.max())"
   ]
  },
  {
   "cell_type": "code",
   "execution_count": 50,
   "id": "2510119b",
   "metadata": {},
   "outputs": [],
   "source": [
    "#Sorting "
   ]
  },
  {
   "cell_type": "code",
   "execution_count": 57,
   "id": "00319595",
   "metadata": {},
   "outputs": [
    {
     "name": "stdout",
     "output_type": "stream",
     "text": [
      "\n",
      " 5 X 5 matrix of random integer \n",
      " -------------------------------------------------- \n",
      " [[76 99 70 31 63]\n",
      " [95 99 51 19 61]\n",
      " [61 10 85 72 18]\n",
      " [98 73 13 93 83]\n",
      " [96 90 99 45 49]]\n",
      "\n",
      " Here is the sorted matrix along each row \n",
      " -------------------------------------------------- \n",
      " [[31 63 70 76 99]\n",
      " [19 51 61 95 99]\n",
      " [10 18 61 72 85]\n",
      " [13 73 83 93 98]\n",
      " [45 49 90 96 99]]\n",
      "\n",
      " Here is the sorted matrix along each column \n",
      " -------------------------------------------------- \n",
      " [[61 10 13 19 18]\n",
      " [76 73 51 31 49]\n",
      " [95 90 70 45 61]\n",
      " [96 99 85 72 63]\n",
      " [98 99 99 93 83]]\n"
     ]
    }
   ],
   "source": [
    "m=ri(1,100,25).reshape(5,5) #matrix of random integer\n",
    "print(\"\\n 5 X 5 matrix of random integer \\n\",'-'*50,'\\n',m)\n",
    "print(\"\\n Here is the sorted matrix along each row \\n\",'-'*50,'\\n',np.sort(m))#default axis=1\n",
    "print(\"\\n Here is the sorted matrix along each column \\n\",'-'*50,'\\n',np.sort(m,axis=0))"
   ]
  },
  {
   "cell_type": "code",
   "execution_count": 58,
   "id": "fa5a87a5",
   "metadata": {},
   "outputs": [],
   "source": [
    "# Index and slicing"
   ]
  },
  {
   "cell_type": "code",
   "execution_count": 59,
   "id": "3f1a0752",
   "metadata": {},
   "outputs": [
    {
     "name": "stdout",
     "output_type": "stream",
     "text": [
      "Array [13 14 15 16 17 18 19 20 21 22 23 24 25 26 27 28 29]\n"
     ]
    }
   ],
   "source": [
    "arr=np.arange(13,30)\n",
    "print(\"Array\",arr)"
   ]
  },
  {
   "cell_type": "code",
   "execution_count": 63,
   "id": "f0fae17b",
   "metadata": {},
   "outputs": [
    {
     "name": "stdout",
     "output_type": "stream",
     "text": [
      "Element of 7th inex is = 20\n"
     ]
    }
   ],
   "source": [
    "print(\"Element of 7th index is =\",arr[7])"
   ]
  },
  {
   "cell_type": "code",
   "execution_count": 65,
   "id": "513f8cda",
   "metadata": {},
   "outputs": [
    {
     "name": "stdout",
     "output_type": "stream",
     "text": [
      "Element of 3rd and 5th index is =  [16 17]\n"
     ]
    }
   ],
   "source": [
    "print(\"Element of 3rd and 5th index is = \",arr[3:5])"
   ]
  },
  {
   "cell_type": "code",
   "execution_count": 67,
   "id": "5559db6f",
   "metadata": {},
   "outputs": [
    {
     "name": "stdout",
     "output_type": "stream",
     "text": [
      "Element up to 4th index are : [17 18 19 20 21 22 23 24 25 26 27 28 29]\n"
     ]
    }
   ],
   "source": [
    "print(\"Element up to 4th index are :\",arr[4:])"
   ]
  },
  {
   "cell_type": "code",
   "execution_count": 71,
   "id": "cadfb11f",
   "metadata": {},
   "outputs": [],
   "source": [
    "#Store arr in abc and check upto 4th index of abc"
   ]
  },
  {
   "cell_type": "code",
   "execution_count": 72,
   "id": "344b5959",
   "metadata": {},
   "outputs": [
    {
     "name": "stdout",
     "output_type": "stream",
     "text": [
      "[17 18 19 20 21 22 23 24 25 26 27 28 29]\n"
     ]
    }
   ],
   "source": [
    "abc=arr[4:]\n",
    "print(abc)"
   ]
  },
  {
   "cell_type": "code",
   "execution_count": 73,
   "id": "1c4e8c0d",
   "metadata": {},
   "outputs": [
    {
     "name": "stdout",
     "output_type": "stream",
     "text": [
      "Element from last backwords :  [29 27 25 23 21 19 17]\n"
     ]
    }
   ],
   "source": [
    "print(\"Element from last backwords : \",abc[-1::-2])"
   ]
  },
  {
   "cell_type": "code",
   "execution_count": 78,
   "id": "38c178d4",
   "metadata": {},
   "outputs": [
    {
     "name": "stdout",
     "output_type": "stream",
     "text": [
      "7th elemets from last backword are :  [29 28 27 26 25 24 23]\n"
     ]
    }
   ],
   "source": [
    "print(\"7th elemets from last backword are : \",arr[-1:-8:-1])"
   ]
  },
  {
   "cell_type": "code",
   "execution_count": 80,
   "id": "d65d15e2",
   "metadata": {},
   "outputs": [
    {
     "name": "stdout",
     "output_type": "stream",
     "text": [
      "Elements at 2nd 4th and 9th index are :  [15 17 22]\n"
     ]
    }
   ],
   "source": [
    "print(\"Elements at 2nd 4th and 9th index are : \",arr[[2,4,9]])#Pass a list as a index to subset"
   ]
  },
  {
   "cell_type": "code",
   "execution_count": 84,
   "id": "6d36b4a6",
   "metadata": {},
   "outputs": [
    {
     "name": "stdout",
     "output_type": "stream",
     "text": [
      "[[1 2 3]\n",
      " [4 5 6]\n",
      " [7 8 9]]\n"
     ]
    }
   ],
   "source": [
    "my_mat=[[1,2,3],[4,5,6],[7,8,9]]\n",
    "mat=np.array(my_mat)\n",
    "print(mat)"
   ]
  },
  {
   "cell_type": "code",
   "execution_count": 85,
   "id": "10b402a0",
   "metadata": {},
   "outputs": [
    {
     "name": "stdout",
     "output_type": "stream",
     "text": [
      "Entire row at index 2:  [7 8 9]\n"
     ]
    }
   ],
   "source": [
    "print(\"Entire row at index 2: \",mat[2])"
   ]
  },
  {
   "cell_type": "code",
   "execution_count": 90,
   "id": "1d44b9c7",
   "metadata": {},
   "outputs": [
    {
     "name": "stdout",
     "output_type": "stream",
     "text": [
      "Entire column at index  3:\n",
      " [[2 3]\n",
      " [5 6]\n",
      " [8 9]]\n"
     ]
    }
   ],
   "source": [
    "print(\"Entire column at index  3:\\n\",mat[:,1:])"
   ]
  },
  {
   "cell_type": "code",
   "execution_count": 102,
   "id": "0c8f73ea",
   "metadata": {},
   "outputs": [
    {
     "name": "stdout",
     "output_type": "stream",
     "text": [
      "\n",
      "Subsetting Sub-Matricss\n",
      "---------\n",
      "Matrics with row indices 1 and 2 and column indices 3 and 4\n",
      " [[5]]\n"
     ]
    }
   ],
   "source": [
    "print(\"\\nSubsetting Sub-Matricss\\n---------\")\n",
    "print(\"Matrics with row indices 1 and 2 and column indices 3 and 4\\n\",mat[1:2,1:2])"
   ]
  },
  {
   "cell_type": "code",
   "execution_count": 108,
   "id": "d7845d80",
   "metadata": {},
   "outputs": [
    {
     "name": "stdout",
     "output_type": "stream",
     "text": [
      "[[1 2 3]\n",
      " [4 5 6]\n",
      " [7 8 9]]\n"
     ]
    }
   ],
   "source": [
    "print(mat)"
   ]
  },
  {
   "cell_type": "code",
   "execution_count": 112,
   "id": "8b32cbba",
   "metadata": {},
   "outputs": [
    {
     "name": "stdout",
     "output_type": "stream",
     "text": [
      "[[2 3]\n",
      " [5 6]]\n"
     ]
    }
   ],
   "source": [
    "print(mat[0:2,[1,2]])"
   ]
  },
  {
   "cell_type": "code",
   "execution_count": 113,
   "id": "15562878",
   "metadata": {},
   "outputs": [],
   "source": [
    "#Update Matrix"
   ]
  },
  {
   "cell_type": "code",
   "execution_count": 114,
   "id": "364f58d2",
   "metadata": {},
   "outputs": [
    {
     "name": "stdout",
     "output_type": "stream",
     "text": [
      "Original Matrix \n",
      "\n",
      " [[1 2 3]\n",
      " [4 5 6]\n",
      " [7 8 9]]\n"
     ]
    }
   ],
   "source": [
    "print(\"Original Matrix \\n\\n\",mat)"
   ]
  },
  {
   "cell_type": "code",
   "execution_count": 115,
   "id": "98eb1524",
   "metadata": {},
   "outputs": [],
   "source": [
    "mat[0,2]=200"
   ]
  },
  {
   "cell_type": "code",
   "execution_count": 116,
   "id": "eac605be",
   "metadata": {},
   "outputs": [
    {
     "data": {
      "text/plain": [
       "array([[  1,   2, 200],\n",
       "       [  4,   5,   6],\n",
       "       [  7,   8,   9]])"
      ]
     },
     "execution_count": 116,
     "metadata": {},
     "output_type": "execute_result"
    }
   ],
   "source": [
    "mat"
   ]
  },
  {
   "cell_type": "code",
   "execution_count": 117,
   "id": "8164b23c",
   "metadata": {},
   "outputs": [],
   "source": [
    "mat[1,0]=100"
   ]
  },
  {
   "cell_type": "code",
   "execution_count": 118,
   "id": "d93a0ddd",
   "metadata": {},
   "outputs": [
    {
     "data": {
      "text/plain": [
       "array([[  1,   2, 200],\n",
       "       [100,   5,   6],\n",
       "       [  7,   8,   9]])"
      ]
     },
     "execution_count": 118,
     "metadata": {},
     "output_type": "execute_result"
    }
   ],
   "source": [
    "mat"
   ]
  },
  {
   "cell_type": "code",
   "execution_count": 120,
   "id": "3cc3a708",
   "metadata": {},
   "outputs": [],
   "source": [
    "#Subsetting-So what is subsetting ? subsetting means when we wann to fetch only few dara from matrix then we use subsetting method."
   ]
  },
  {
   "cell_type": "code",
   "execution_count": 121,
   "id": "39c0825d",
   "metadata": {},
   "outputs": [
    {
     "name": "stdout",
     "output_type": "stream",
     "text": [
      "Matrix of random 2 digit number \n",
      "------\n",
      " [[77 97 24 91 89]\n",
      " [24 98 70 25 35]\n",
      " [12 33 92 72 53]]\n"
     ]
    }
   ],
   "source": [
    "mat=np.array(ri(10,100,15)).reshape(3,5)\n",
    "print('Matrix of random 2 digit number \\n------\\n',mat)"
   ]
  },
  {
   "cell_type": "code",
   "execution_count": 126,
   "id": "7b834833",
   "metadata": {},
   "outputs": [
    {
     "name": "stdout",
     "output_type": "stream",
     "text": [
      "Elements greater than 50\n",
      "  [77 97 91 89 98 70 92 72 53]\n"
     ]
    }
   ],
   "source": [
    "print(\"Elements greater than 50\\n \",mat[mat>50])"
   ]
  },
  {
   "cell_type": "code",
   "execution_count": 128,
   "id": "980340ea",
   "metadata": {},
   "outputs": [
    {
     "name": "stdout",
     "output_type": "stream",
     "text": [
      "(array([1], dtype=int64), array([1], dtype=int64))\n"
     ]
    }
   ],
   "source": [
    "print(np.where(mat==98))"
   ]
  },
  {
   "cell_type": "code",
   "execution_count": 129,
   "id": "42ea2f86",
   "metadata": {},
   "outputs": [],
   "source": [
    "#You can also use np.where to return some data based on condtion"
   ]
  },
  {
   "cell_type": "code",
   "execution_count": 131,
   "id": "7361e631",
   "metadata": {},
   "outputs": [
    {
     "data": {
      "text/plain": [
       "array('Still Working', dtype='<U13')"
      ]
     },
     "execution_count": 131,
     "metadata": {},
     "output_type": "execute_result"
    }
   ],
   "source": [
    "age=50\n",
    "np.where(age>68,'Retired','Still Working')"
   ]
  },
  {
   "cell_type": "code",
   "execution_count": 132,
   "id": "73e022f7",
   "metadata": {},
   "outputs": [],
   "source": [
    "#Universal Functions"
   ]
  },
  {
   "cell_type": "code",
   "execution_count": 135,
   "id": "24ee6ddb",
   "metadata": {},
   "outputs": [
    {
     "name": "stdout",
     "output_type": "stream",
     "text": [
      "\n",
      " 1st Matrics of Single digit number \n",
      "---------------\n",
      " [[3 1 2]\n",
      " [5 8 1]\n",
      " [4 8 9]]\n",
      "\n",
      " 2st Matrics of Single digit number \n",
      "---------------\n",
      " [[9 3 4]\n",
      " [9 9 5]\n",
      " [6 2 8]]\n"
     ]
    }
   ],
   "source": [
    "mat1=np.array(ri(1,10,9)).reshape(3,3)\n",
    "mat2=np.array(ri(1,10,9)).reshape(3,3)\n",
    "\n",
    "print(\"\\n 1st Matrics of Single digit number \\n---------------\\n\",mat1)\n",
    "print(\"\\n 2st Matrics of Single digit number \\n---------------\\n\",mat2)"
   ]
  },
  {
   "cell_type": "code",
   "execution_count": 137,
   "id": "f9c33014",
   "metadata": {},
   "outputs": [
    {
     "name": "stdout",
     "output_type": "stream",
     "text": [
      "mat1=\n",
      " [[3 1 2]\n",
      " [5 8 1]\n",
      " [4 8 9]]\n",
      "mat2=\n",
      " [[9 3 4]\n",
      " [9 9 5]\n",
      " [6 2 8]]\n"
     ]
    }
   ],
   "source": [
    "print('mat1=\\n',mat1)\n",
    "print('mat2=\\n',mat2)"
   ]
  },
  {
   "cell_type": "code",
   "execution_count": 138,
   "id": "64d0b628",
   "metadata": {},
   "outputs": [
    {
     "name": "stdout",
     "output_type": "stream",
     "text": [
      "\n",
      " Division \n",
      "---------------------\n",
      " [[0.33333333 0.33333333 0.5       ]\n",
      " [0.55555556 0.88888889 0.2       ]\n",
      " [0.66666667 4.         1.125     ]]\n"
     ]
    }
   ],
   "source": [
    "print(\"\\n Division \\n---------------------\\n\",mat1/mat2)"
   ]
  },
  {
   "cell_type": "code",
   "execution_count": 139,
   "id": "a68631dc",
   "metadata": {},
   "outputs": [
    {
     "name": "stdout",
     "output_type": "stream",
     "text": [
      "\n",
      " Linear combination : 3*A - 2*B \n",
      " [[-9 -3 -2]\n",
      " [-3  6 -7]\n",
      " [ 0 20 11]]\n"
     ]
    }
   ],
   "source": [
    "print(\"\\n Linear combination : 3*A - 2*B \\n\",3*mat1-2*mat2)"
   ]
  },
  {
   "cell_type": "code",
   "execution_count": 140,
   "id": "8b5445fa",
   "metadata": {},
   "outputs": [],
   "source": [
    "#Broadcasting-\n",
    "#Numpy operations are usually dont on pairs of arrays on an element by element basis. in the simplest case, the two arays must have exactly the same shape\n",
    "# Numpy broadcasting rules relaxex this constraints when the array shape meet certain constraints when operatings on two array,\n",
    "# Numpy compares their shape element wise it starts with the trailing dimensions ,and word its way forword ,two dimension are compatible\n",
    "#when they are eqaul,or one of them is 1"
   ]
  },
  {
   "cell_type": "code",
   "execution_count": 142,
   "id": "13537c49",
   "metadata": {},
   "outputs": [
    {
     "name": "stdout",
     "output_type": "stream",
     "text": [
      "[[0. 0. 0.]\n",
      " [0. 0. 0.]\n",
      " [0. 0. 0.]]\n"
     ]
    }
   ],
   "source": [
    "start=np.zeros((3,3))\n",
    "print(start)"
   ]
  },
  {
   "cell_type": "code",
   "execution_count": 143,
   "id": "8307ac9a",
   "metadata": {},
   "outputs": [],
   "source": [
    "#create a rank1 ndarray with 3 values"
   ]
  },
  {
   "cell_type": "code",
   "execution_count": 144,
   "id": "853f62a4",
   "metadata": {},
   "outputs": [
    {
     "name": "stdout",
     "output_type": "stream",
     "text": [
      "[[1 0 2]]\n"
     ]
    }
   ],
   "source": [
    "add_rows=np.array([[1,0,2]])\n",
    "print(add_rows)"
   ]
  },
  {
   "cell_type": "code",
   "execution_count": 147,
   "id": "d4460da8",
   "metadata": {},
   "outputs": [],
   "source": [
    "y=start+add_rows # add to each row of 'start' using broadcasting"
   ]
  },
  {
   "cell_type": "code",
   "execution_count": 146,
   "id": "4895a20b",
   "metadata": {},
   "outputs": [
    {
     "data": {
      "text/plain": [
       "array([[1., 0., 2.],\n",
       "       [1., 0., 2.],\n",
       "       [1., 0., 2.]])"
      ]
     },
     "execution_count": 146,
     "metadata": {},
     "output_type": "execute_result"
    }
   ],
   "source": [
    "y"
   ]
  },
  {
   "cell_type": "code",
   "execution_count": 150,
   "id": "caa124bb",
   "metadata": {},
   "outputs": [],
   "source": [
    "new_row=add_rows.T # T is use for transpose it convert column into row #vice versa"
   ]
  },
  {
   "cell_type": "code",
   "execution_count": 149,
   "id": "b3302dfb",
   "metadata": {},
   "outputs": [
    {
     "data": {
      "text/plain": [
       "array([[1],\n",
       "       [0],\n",
       "       [2]])"
      ]
     },
     "execution_count": 149,
     "metadata": {},
     "output_type": "execute_result"
    }
   ],
   "source": [
    "new_row"
   ]
  },
  {
   "cell_type": "code",
   "execution_count": 151,
   "id": "d0230dd8",
   "metadata": {},
   "outputs": [
    {
     "name": "stdout",
     "output_type": "stream",
     "text": [
      "[[1. 1. 1.]\n",
      " [0. 0. 0.]\n",
      " [2. 2. 2.]]\n"
     ]
    }
   ],
   "source": [
    "test=new_row+start\n",
    "print(test)"
   ]
  },
  {
   "cell_type": "code",
   "execution_count": 152,
   "id": "95442612",
   "metadata": {},
   "outputs": [],
   "source": [
    "#craete table ndarray which is 4 X 1 to broadcast across coloumn"
   ]
  },
  {
   "cell_type": "code",
   "execution_count": 153,
   "id": "db265efc",
   "metadata": {},
   "outputs": [],
   "source": [
    "ad_cols=np.array([[0,2,2,3]])"
   ]
  },
  {
   "cell_type": "code",
   "execution_count": 155,
   "id": "6fe12713",
   "metadata": {},
   "outputs": [],
   "source": [
    "ad_cols=ad_cols.T"
   ]
  },
  {
   "cell_type": "code",
   "execution_count": 156,
   "id": "f03e6df1",
   "metadata": {},
   "outputs": [
    {
     "data": {
      "text/plain": [
       "array([[0],\n",
       "       [2],\n",
       "       [2],\n",
       "       [3]])"
      ]
     },
     "execution_count": 156,
     "metadata": {},
     "output_type": "execute_result"
    }
   ],
   "source": [
    "ad_cols"
   ]
  },
  {
   "cell_type": "code",
   "execution_count": 158,
   "id": "4e4d7a95",
   "metadata": {},
   "outputs": [],
   "source": [
    "#Array Math"
   ]
  },
  {
   "cell_type": "code",
   "execution_count": 160,
   "id": "971e3363",
   "metadata": {},
   "outputs": [
    {
     "name": "stdout",
     "output_type": "stream",
     "text": [
      "\n",
      " 1st Matrix of random single digit number\n",
      "---------------------------\n",
      " [[8 6 1]\n",
      " [4 7 1]\n",
      " [5 2 1]]\n",
      "\n",
      " 2nd Matrix of random single digit number\n",
      "---------------------------\n",
      " [[8 6 4]\n",
      " [6 6 3]\n",
      " [3 6 4]]\n",
      "\n",
      " sq-root of 1st Matrix using np\n",
      " -------------------------------------------------- \n",
      " [[2.82842712 2.44948974 1.        ]\n",
      " [2.         2.64575131 1.        ]\n",
      " [2.23606798 1.41421356 1.        ]]\n",
      "\n",
      " square of 2nd Matrix using np\n",
      " -------------------------------------------------- \n",
      " [[64 36 16]\n",
      " [36 36  9]\n",
      " [ 9 36 16]]\n"
     ]
    }
   ],
   "source": [
    "mat1=np.array(ri(1,10,9)).reshape(3,3)\n",
    "mat2=np.array(ri(1,10,9)).reshape(3,3)\n",
    "\n",
    "print(\"\\n 1st Matrix of random single digit number\\n---------------------------\\n\",mat1)\n",
    "print(\"\\n 2nd Matrix of random single digit number\\n---------------------------\\n\",mat2)\n",
    "\n",
    "print(\"\\n sq-root of 1st Matrix using np\\n\",'-'*50,\"\\n\",np.sqrt(mat1))\n",
    "print(\"\\n square of 2nd Matrix using np\\n\",'-'*50,\"\\n\",np.square(mat2))"
   ]
  },
  {
   "cell_type": "code",
   "execution_count": 161,
   "id": "b2b487d7",
   "metadata": {},
   "outputs": [],
   "source": [
    "#Similarly you can apply other function to matrix to matrix\n",
    "#please explore more function and practice"
   ]
  },
  {
   "cell_type": "code",
   "execution_count": null,
   "id": "f6b85939",
   "metadata": {},
   "outputs": [],
   "source": []
  },
  {
   "cell_type": "code",
   "execution_count": null,
   "id": "80152304-39ed-4d9f-b3c7-f69fc9618edb",
   "metadata": {},
   "outputs": [],
   "source": []
  }
 ],
 "metadata": {
  "kernelspec": {
   "display_name": "Python 3 (ipykernel)",
   "language": "python",
   "name": "python3"
  },
  "language_info": {
   "codemirror_mode": {
    "name": "ipython",
    "version": 3
   },
   "file_extension": ".py",
   "mimetype": "text/x-python",
   "name": "python",
   "nbconvert_exporter": "python",
   "pygments_lexer": "ipython3",
   "version": "3.10.12"
  },
  "widgets": {
   "application/vnd.jupyter.widget-state+json": {
    "state": {},
    "version_major": 2,
    "version_minor": 0
   }
  }
 },
 "nbformat": 4,
 "nbformat_minor": 5
}
