{
 "cells": [
  {
   "cell_type": "code",
   "execution_count": 1,
   "id": "337f7dfa",
   "metadata": {},
   "outputs": [],
   "source": [
    "\n",
    "# Today we are learning about Numpy\n",
    "# So, what is numpy ? Numpy means Numerical Python\n",
    "# we have to import numpy as sqlite3."
   ]
  },
  {
   "cell_type": "code",
   "execution_count": 2,
   "id": "a4bce811",
   "metadata": {},
   "outputs": [],
   "source": [
    "import numpy as np"
   ]
  },
  {
   "cell_type": "code",
   "execution_count": 3,
   "id": "fe39892b",
   "metadata": {},
   "outputs": [],
   "source": [
    "#check all the function of  numpy."
   ]
  },
  {
   "cell_type": "code",
   "execution_count": 5,
   "id": "450bb0d6",
   "metadata": {},
   "outputs": [
    {
     "name": "stdout",
     "output_type": "stream",
     "text": [
      "['ALLOW_THREADS', 'AxisError', 'BUFSIZE', 'Bytes0', 'CLIP', 'ComplexWarning', 'DataSource', 'Datetime64', 'ERR_CALL', 'ERR_DEFAULT', 'ERR_IGNORE', 'ERR_LOG', 'ERR_PRINT', 'ERR_RAISE', 'ERR_WARN', 'FLOATING_POINT_SUPPORT', 'FPE_DIVIDEBYZERO', 'FPE_INVALID', 'FPE_OVERFLOW', 'FPE_UNDERFLOW', 'False_', 'Inf', 'Infinity', 'MAXDIMS', 'MAY_SHARE_BOUNDS', 'MAY_SHARE_EXACT', 'MachAr', 'ModuleDeprecationWarning', 'NAN', 'NINF', 'NZERO', 'NaN', 'PINF', 'PZERO', 'RAISE', 'RankWarning', 'SHIFT_DIVIDEBYZERO', 'SHIFT_INVALID', 'SHIFT_OVERFLOW', 'SHIFT_UNDERFLOW', 'ScalarType', 'Str0', 'Tester', 'TooHardError', 'True_', 'UFUNC_BUFSIZE_DEFAULT', 'UFUNC_PYVALS_NAME', 'Uint64', 'VisibleDeprecationWarning', 'WRAP', '_NoValue', '_UFUNC_API', '__NUMPY_SETUP__', '__all__', '__builtins__', '__cached__', '__config__', '__deprecated_attrs__', '__dir__', '__doc__', '__expired_functions__', '__file__', '__getattr__', '__git_version__', '__loader__', '__mkl_version__', '__name__', '__package__', '__path__', '__spec__', '__version__', '_add_newdoc_ufunc', '_distributor_init', '_financial_names', '_globals', '_mat', '_pytesttester', '_version', 'abs', 'absolute', 'add', 'add_docstring', 'add_newdoc', 'add_newdoc_ufunc', 'alen', 'all', 'allclose', 'alltrue', 'amax', 'amin', 'angle', 'any', 'append', 'apply_along_axis', 'apply_over_axes', 'arange', 'arccos', 'arccosh', 'arcsin', 'arcsinh', 'arctan', 'arctan2', 'arctanh', 'argmax', 'argmin', 'argpartition', 'argsort', 'argwhere', 'around', 'array', 'array2string', 'array_equal', 'array_equiv', 'array_repr', 'array_split', 'array_str', 'asanyarray', 'asarray', 'asarray_chkfinite', 'ascontiguousarray', 'asfarray', 'asfortranarray', 'asmatrix', 'asscalar', 'atleast_1d', 'atleast_2d', 'atleast_3d', 'average', 'bartlett', 'base_repr', 'binary_repr', 'bincount', 'bitwise_and', 'bitwise_not', 'bitwise_or', 'bitwise_xor', 'blackman', 'block', 'bmat', 'bool8', 'bool_', 'broadcast', 'broadcast_arrays', 'broadcast_shapes', 'broadcast_to', 'busday_count', 'busday_offset', 'busdaycalendar', 'byte', 'byte_bounds', 'bytes0', 'bytes_', 'c_', 'can_cast', 'cast', 'cbrt', 'cdouble', 'ceil', 'cfloat', 'char', 'character', 'chararray', 'choose', 'clip', 'clongdouble', 'clongfloat', 'column_stack', 'common_type', 'compare_chararrays', 'compat', 'complex128', 'complex64', 'complex_', 'complexfloating', 'compress', 'concatenate', 'conj', 'conjugate', 'convolve', 'copy', 'copysign', 'copyto', 'core', 'corrcoef', 'correlate', 'cos', 'cosh', 'count_nonzero', 'cov', 'cross', 'csingle', 'ctypeslib', 'cumprod', 'cumproduct', 'cumsum', 'datetime64', 'datetime_as_string', 'datetime_data', 'deg2rad', 'degrees', 'delete', 'deprecate', 'deprecate_with_doc', 'diag', 'diag_indices', 'diag_indices_from', 'diagflat', 'diagonal', 'diff', 'digitize', 'disp', 'divide', 'divmod', 'dot', 'double', 'dsplit', 'dstack', 'dtype', 'e', 'ediff1d', 'einsum', 'einsum_path', 'emath', 'empty', 'empty_like', 'equal', 'errstate', 'euler_gamma', 'exp', 'exp2', 'expand_dims', 'expm1', 'extract', 'eye', 'fabs', 'fastCopyAndTranspose', 'fft', 'fill_diagonal', 'find_common_type', 'finfo', 'fix', 'flatiter', 'flatnonzero', 'flexible', 'flip', 'fliplr', 'flipud', 'float16', 'float32', 'float64', 'float_', 'float_power', 'floating', 'floor', 'floor_divide', 'fmax', 'fmin', 'fmod', 'format_float_positional', 'format_float_scientific', 'format_parser', 'frexp', 'frombuffer', 'fromfile', 'fromfunction', 'fromiter', 'frompyfunc', 'fromregex', 'fromstring', 'full', 'full_like', 'gcd', 'generic', 'genfromtxt', 'geomspace', 'get_array_wrap', 'get_include', 'get_printoptions', 'getbufsize', 'geterr', 'geterrcall', 'geterrobj', 'gradient', 'greater', 'greater_equal', 'half', 'hamming', 'hanning', 'heaviside', 'histogram', 'histogram2d', 'histogram_bin_edges', 'histogramdd', 'hsplit', 'hstack', 'hypot', 'i0', 'identity', 'iinfo', 'imag', 'in1d', 'index_exp', 'indices', 'inexact', 'inf', 'info', 'infty', 'inner', 'insert', 'int0', 'int16', 'int32', 'int64', 'int8', 'int_', 'intc', 'integer', 'interp', 'intersect1d', 'intp', 'invert', 'is_busday', 'isclose', 'iscomplex', 'iscomplexobj', 'isfinite', 'isfortran', 'isin', 'isinf', 'isnan', 'isnat', 'isneginf', 'isposinf', 'isreal', 'isrealobj', 'isscalar', 'issctype', 'issubclass_', 'issubdtype', 'issubsctype', 'iterable', 'ix_', 'kaiser', 'kron', 'lcm', 'ldexp', 'left_shift', 'less', 'less_equal', 'lexsort', 'lib', 'linalg', 'linspace', 'little_endian', 'load', 'loads', 'loadtxt', 'log', 'log10', 'log1p', 'log2', 'logaddexp', 'logaddexp2', 'logical_and', 'logical_not', 'logical_or', 'logical_xor', 'logspace', 'longcomplex', 'longdouble', 'longfloat', 'longlong', 'lookfor', 'ma', 'mafromtxt', 'mask_indices', 'mat', 'math', 'matmul', 'matrix', 'matrixlib', 'max', 'maximum', 'maximum_sctype', 'may_share_memory', 'mean', 'median', 'memmap', 'meshgrid', 'mgrid', 'min', 'min_scalar_type', 'minimum', 'mintypecode', 'mkl', 'mod', 'modf', 'moveaxis', 'msort', 'multiply', 'nan', 'nan_to_num', 'nanargmax', 'nanargmin', 'nancumprod', 'nancumsum', 'nanmax', 'nanmean', 'nanmedian', 'nanmin', 'nanpercentile', 'nanprod', 'nanquantile', 'nanstd', 'nansum', 'nanvar', 'nbytes', 'ndarray', 'ndenumerate', 'ndfromtxt', 'ndim', 'ndindex', 'nditer', 'negative', 'nested_iters', 'newaxis', 'nextafter', 'nonzero', 'not_equal', 'numarray', 'number', 'obj2sctype', 'object0', 'object_', 'ogrid', 'oldnumeric', 'ones', 'ones_like', 'os', 'outer', 'packbits', 'pad', 'partition', 'percentile', 'pi', 'piecewise', 'place', 'poly', 'poly1d', 'polyadd', 'polyder', 'polydiv', 'polyfit', 'polyint', 'polymul', 'polynomial', 'polysub', 'polyval', 'positive', 'power', 'printoptions', 'prod', 'product', 'promote_types', 'ptp', 'put', 'put_along_axis', 'putmask', 'quantile', 'r_', 'rad2deg', 'radians', 'random', 'ravel', 'ravel_multi_index', 'real', 'real_if_close', 'rec', 'recarray', 'recfromcsv', 'recfromtxt', 'reciprocal', 'record', 'remainder', 'repeat', 'require', 'reshape', 'resize', 'result_type', 'right_shift', 'rint', 'roll', 'rollaxis', 'roots', 'rot90', 'round', 'round_', 'row_stack', 's_', 'safe_eval', 'save', 'savetxt', 'savez', 'savez_compressed', 'sctype2char', 'sctypeDict', 'sctypes', 'searchsorted', 'select', 'set_numeric_ops', 'set_printoptions', 'set_string_function', 'setbufsize', 'setdiff1d', 'seterr', 'seterrcall', 'seterrobj', 'setxor1d', 'shape', 'shares_memory', 'short', 'show_config', 'sign', 'signbit', 'signedinteger', 'sin', 'sinc', 'single', 'singlecomplex', 'sinh', 'size', 'sometrue', 'sort', 'sort_complex', 'source', 'spacing', 'split', 'sqrt', 'square', 'squeeze', 'stack', 'std', 'str0', 'str_', 'string_', 'subtract', 'sum', 'swapaxes', 'sys', 'take', 'take_along_axis', 'tan', 'tanh', 'tensordot', 'test', 'testing', 'tile', 'timedelta64', 'trace', 'tracemalloc_domain', 'transpose', 'trapz', 'tri', 'tril', 'tril_indices', 'tril_indices_from', 'trim_zeros', 'triu', 'triu_indices', 'triu_indices_from', 'true_divide', 'trunc', 'typecodes', 'typename', 'ubyte', 'ufunc', 'uint', 'uint0', 'uint16', 'uint32', 'uint64', 'uint8', 'uintc', 'uintp', 'ulonglong', 'unicode_', 'union1d', 'unique', 'unpackbits', 'unravel_index', 'unsignedinteger', 'unwrap', 'use_hugepage', 'ushort', 'vander', 'var', 'vdot', 'vectorize', 'version', 'void', 'void0', 'vsplit', 'vstack', 'warnings', 'where', 'who', 'zeros', 'zeros_like']\n"
     ]
    }
   ],
   "source": [
    "print(dir(np))"
   ]
  },
  {
   "cell_type": "code",
   "execution_count": 6,
   "id": "594418e5",
   "metadata": {},
   "outputs": [],
   "source": [
    "# This all are the numpy fucntion but as a datascientis we have to use few."
   ]
  },
  {
   "cell_type": "code",
   "execution_count": 8,
   "id": "79159360",
   "metadata": {},
   "outputs": [
    {
     "data": {
      "text/plain": [
       "3.1622776601683795"
      ]
     },
     "execution_count": 8,
     "metadata": {},
     "output_type": "execute_result"
    }
   ],
   "source": [
    "np.sqrt(10) # sqrt=square root"
   ]
  },
  {
   "cell_type": "code",
   "execution_count": 9,
   "id": "8432893d",
   "metadata": {},
   "outputs": [
    {
     "name": "stdout",
     "output_type": "stream",
     "text": [
      "Minimun  18\n"
     ]
    }
   ],
   "source": [
    "print(\"Minimun \",np.amin([25,30,57,18]))"
   ]
  },
  {
   "cell_type": "code",
   "execution_count": 10,
   "id": "b1a2a6fc",
   "metadata": {},
   "outputs": [
    {
     "name": "stdout",
     "output_type": "stream",
     "text": [
      "Maximum  57\n"
     ]
    }
   ],
   "source": [
    "print(\"Maximum \",np.amax([25,30,57,18]))"
   ]
  },
  {
   "cell_type": "code",
   "execution_count": 11,
   "id": "e98a771c",
   "metadata": {},
   "outputs": [],
   "source": [
    "#Rounded off to next number  using ceiling."
   ]
  },
  {
   "cell_type": "code",
   "execution_count": 13,
   "id": "33b82dcb",
   "metadata": {},
   "outputs": [
    {
     "data": {
      "text/plain": [
       "30.0"
      ]
     },
     "execution_count": 13,
     "metadata": {},
     "output_type": "execute_result"
    }
   ],
   "source": [
    "np.ceil(29.1) #its means when we use ceil they give roundfigured answer."
   ]
  },
  {
   "cell_type": "code",
   "execution_count": 16,
   "id": "64d69539",
   "metadata": {},
   "outputs": [
    {
     "data": {
      "text/plain": [
       "4.0"
      ]
     },
     "execution_count": 16,
     "metadata": {},
     "output_type": "execute_result"
    }
   ],
   "source": [
    "np.ceil(np.sqrt(10)) # both work together"
   ]
  },
  {
   "cell_type": "code",
   "execution_count": 18,
   "id": "b55a9059",
   "metadata": {},
   "outputs": [
    {
     "data": {
      "text/plain": [
       "10.0"
      ]
     },
     "execution_count": 18,
     "metadata": {},
     "output_type": "execute_result"
    }
   ],
   "source": [
    "np.ceil(np.sum(np.sqrt([5,10,15]))) #here we are first ceiling.then sum,then use square root."
   ]
  },
  {
   "cell_type": "code",
   "execution_count": 19,
   "id": "e6873610",
   "metadata": {},
   "outputs": [],
   "source": [
    "# Similarly there are many numpy function ,you can explore them for you knowledge purpose .\n",
    "# But we use limited function in our course let's explore them."
   ]
  },
  {
   "cell_type": "code",
   "execution_count": 20,
   "id": "4be2acfd",
   "metadata": {},
   "outputs": [
    {
     "data": {
      "text/plain": [
       "array([ 5,  9, 13])"
      ]
     },
     "execution_count": 20,
     "metadata": {},
     "output_type": "execute_result"
    }
   ],
   "source": [
    "np.array([5,9,13])"
   ]
  },
  {
   "cell_type": "code",
   "execution_count": 21,
   "id": "893157da",
   "metadata": {},
   "outputs": [
    {
     "data": {
      "text/plain": [
       "list"
      ]
     },
     "execution_count": 21,
     "metadata": {},
     "output_type": "execute_result"
    }
   ],
   "source": [
    "type([5,9,13])"
   ]
  },
  {
   "cell_type": "code",
   "execution_count": 22,
   "id": "5b964e30",
   "metadata": {},
   "outputs": [],
   "source": [
    "xyz=np.array([5,9,13])"
   ]
  },
  {
   "cell_type": "code",
   "execution_count": 23,
   "id": "3fe2cab7",
   "metadata": {},
   "outputs": [
    {
     "data": {
      "text/plain": [
       "numpy.ndarray"
      ]
     },
     "execution_count": 23,
     "metadata": {},
     "output_type": "execute_result"
    }
   ],
   "source": [
    "type(xyz)"
   ]
  },
  {
   "cell_type": "code",
   "execution_count": 24,
   "id": "df3d83a0",
   "metadata": {},
   "outputs": [],
   "source": [
    "#Two Dimension"
   ]
  },
  {
   "cell_type": "code",
   "execution_count": 35,
   "id": "d87a32e0",
   "metadata": {},
   "outputs": [
    {
     "name": "stdout",
     "output_type": "stream",
     "text": [
      "Type -  int32\n",
      "\n",
      " [[1 2]\n",
      " [3 4]\n",
      " [4 5]]\n"
     ]
    }
   ],
   "source": [
    "a=np.array([[1,2],[3,4],[4,5]])\n",
    "print(\"Type - \",a.dtype)\n",
    "\n",
    "print(\"\\n\",a)"
   ]
  },
  {
   "cell_type": "code",
   "execution_count": 36,
   "id": "7c81759e",
   "metadata": {},
   "outputs": [],
   "source": [
    "#  dtype.conversion"
   ]
  },
  {
   "cell_type": "code",
   "execution_count": 39,
   "id": "47a1461c",
   "metadata": {},
   "outputs": [
    {
     "data": {
      "text/plain": [
       "array([1., 2., 3.])"
      ]
     },
     "execution_count": 39,
     "metadata": {},
     "output_type": "execute_result"
    }
   ],
   "source": [
    "np.array([1,2,3],dtype=float)"
   ]
  },
  {
   "cell_type": "code",
   "execution_count": 40,
   "id": "507a90e1",
   "metadata": {},
   "outputs": [],
   "source": [
    "#Covert a list into an array :"
   ]
  },
  {
   "cell_type": "code",
   "execution_count": 41,
   "id": "63337c27",
   "metadata": {},
   "outputs": [
    {
     "name": "stdout",
     "output_type": "stream",
     "text": [
      "[1 2]\n"
     ]
    }
   ],
   "source": [
    "a=[1,2]\n",
    "c=np.array(a)\n",
    "print(c)"
   ]
  },
  {
   "cell_type": "code",
   "execution_count": 43,
   "id": "b226706f",
   "metadata": {},
   "outputs": [
    {
     "data": {
      "text/plain": [
       "numpy.ndarray"
      ]
     },
     "execution_count": 43,
     "metadata": {},
     "output_type": "execute_result"
    }
   ],
   "source": [
    "type(c)"
   ]
  },
  {
   "cell_type": "code",
   "execution_count": 44,
   "id": "d769b6b3",
   "metadata": {},
   "outputs": [],
   "source": [
    "#copy array into other"
   ]
  },
  {
   "cell_type": "code",
   "execution_count": 45,
   "id": "200c8d80",
   "metadata": {},
   "outputs": [
    {
     "name": "stdout",
     "output_type": "stream",
     "text": [
      "[1 2]\n"
     ]
    }
   ],
   "source": [
    "b=np.asarray(c)\n",
    "print(b)"
   ]
  },
  {
   "cell_type": "code",
   "execution_count": 46,
   "id": "ace8f4ac",
   "metadata": {},
   "outputs": [],
   "source": [
    "# Data Types"
   ]
  },
  {
   "cell_type": "code",
   "execution_count": 47,
   "id": "ae7ad3bc",
   "metadata": {},
   "outputs": [],
   "source": [
    "import numpy as np"
   ]
  },
  {
   "cell_type": "code",
   "execution_count": 52,
   "id": "5d1bf3f0",
   "metadata": {},
   "outputs": [
    {
     "name": "stdout",
     "output_type": "stream",
     "text": [
      "Type/class of this object :  <class 'numpy.ndarray'>\n",
      "Here is the marks \n",
      "------\n",
      " [[1 2 3]\n",
      " [4 5 6]\n",
      " [7 8 9]] \n",
      "-----------\n",
      "print dimension of this matrix :  2\n",
      "size of the matrix :  9\n",
      "Shape of the matrix :  (3, 3)\n",
      "Data Type of the matrix ;  int32\n"
     ]
    }
   ],
   "source": [
    "my_mat=[[1,2,3],[4,5,6],[7,8,9]]\n",
    "mat=np.array(my_mat)\n",
    "print(\"Type/class of this object : \",type(mat))\n",
    "print(\"Here is the marks \\n------\\n\",mat,\"\\n-----------\")\n",
    "print(\"print dimension of this matrix : \",mat.ndim)#ndim gives dimension,2 for a matrix and 1 for vector\n",
    "print(\"size of the matrix : \",mat.size)#size shows total number elements\n",
    "print(\"Shape of the matrix : \",mat.shape)#shape shows how many rows and column\n",
    "print(\"Data Type of the matrix ; \",mat.dtype)#shoes which type"
   ]
  },
  {
   "cell_type": "code",
   "execution_count": 53,
   "id": "b41ff29e",
   "metadata": {},
   "outputs": [],
   "source": [
    "#arange and linespace"
   ]
  },
  {
   "cell_type": "code",
   "execution_count": 54,
   "id": "45d03da6",
   "metadata": {},
   "outputs": [],
   "source": [
    "#dont work with python range function"
   ]
  },
  {
   "cell_type": "code",
   "execution_count": null,
   "id": "9ac092b5",
   "metadata": {},
   "outputs": [],
   "source": [
    "\n"
   ]
  },
  {
   "cell_type": "code",
   "execution_count": 56,
   "id": "a503e0a8",
   "metadata": {},
   "outputs": [],
   "source": [
    "a=np.arange(10)"
   ]
  },
  {
   "cell_type": "code",
   "execution_count": 57,
   "id": "7e62b3eb",
   "metadata": {},
   "outputs": [
    {
     "data": {
      "text/plain": [
       "array([0, 1, 2, 3, 4, 5, 6, 7, 8, 9])"
      ]
     },
     "execution_count": 57,
     "metadata": {},
     "output_type": "execute_result"
    }
   ],
   "source": [
    "a\n"
   ]
  },
  {
   "cell_type": "code",
   "execution_count": 58,
   "id": "2316a182",
   "metadata": {},
   "outputs": [],
   "source": [
    "#in numpy range function also work with float number"
   ]
  },
  {
   "cell_type": "code",
   "execution_count": 59,
   "id": "9ea60a01",
   "metadata": {},
   "outputs": [],
   "source": [
    "a=np.arange(10.5,20.4,2)"
   ]
  },
  {
   "cell_type": "code",
   "execution_count": 60,
   "id": "adb93579",
   "metadata": {},
   "outputs": [
    {
     "data": {
      "text/plain": [
       "array([10.5, 12.5, 14.5, 16.5, 18.5])"
      ]
     },
     "execution_count": 60,
     "metadata": {},
     "output_type": "execute_result"
    }
   ],
   "source": [
    "a"
   ]
  },
  {
   "cell_type": "code",
   "execution_count": 61,
   "id": "779dbaf3",
   "metadata": {},
   "outputs": [],
   "source": [
    "#Reverse Order"
   ]
  },
  {
   "cell_type": "code",
   "execution_count": 62,
   "id": "4cab84bd",
   "metadata": {},
   "outputs": [
    {
     "name": "stdout",
     "output_type": "stream",
     "text": [
      "Every 5th number from 50 in reverse order \n",
      " [50 45 40 35 30 25 20 15 10  5  0]\n"
     ]
    }
   ],
   "source": [
    "print(\"Every 5th number from 50 in reverse order \\n\",np.arange(50,-1,-5))"
   ]
  },
  {
   "cell_type": "code",
   "execution_count": 63,
   "id": "69ea62b2",
   "metadata": {},
   "outputs": [
    {
     "name": "stdout",
     "output_type": "stream",
     "text": [
      "linearly space numbers between 1 and 5 \n",
      "-------------\n",
      "[10.  17.5 25.  32.5 40. ]\n"
     ]
    }
   ],
   "source": [
    "print(\"linearly space numbers between 1 and 5 \\n-------------\")\n",
    "print(np.linspace(10,40,5))"
   ]
  },
  {
   "cell_type": "code",
   "execution_count": 64,
   "id": "7c5dd853",
   "metadata": {},
   "outputs": [],
   "source": [
    "#Include end points and check space between the points\n",
    "#By default endpoint=True\n",
    "#Bydefaul retstep=False"
   ]
  },
  {
   "cell_type": "code",
   "execution_count": 65,
   "id": "e4985153",
   "metadata": {},
   "outputs": [
    {
     "data": {
      "text/plain": [
       "(array([2.        , 2.33333333, 2.66666667, 3.        ]), 0.3333333333333333)"
      ]
     },
     "execution_count": 65,
     "metadata": {},
     "output_type": "execute_result"
    }
   ],
   "source": [
    "np.linspace(2.0,3.0,num=4,endpoint=True,retstep=True)"
   ]
  },
  {
   "cell_type": "code",
   "execution_count": 67,
   "id": "c06f181c",
   "metadata": {},
   "outputs": [
    {
     "name": "stdout",
     "output_type": "stream",
     "text": [
      "(array([ 4.5678 ,  5.13145,  5.6951 ,  6.25875,  6.8224 ,  7.38605,\n",
      "        7.9497 ,  8.51335,  9.077  ,  9.64065, 10.2043 , 10.76795,\n",
      "       11.3316 , 11.89525, 12.4589 , 13.02255, 13.5862 , 14.14985,\n",
      "       14.7135 , 15.27715, 15.8408 , 16.40445, 16.9681 , 17.53175,\n",
      "       18.0954 , 18.65905, 19.2227 , 19.78635, 20.35   , 20.91365,\n",
      "       21.4773 , 22.04095, 22.6046 , 23.16825, 23.7319 , 24.29555,\n",
      "       24.8592 , 25.42285, 25.9865 ]), 0.56365)\n"
     ]
    }
   ],
   "source": [
    "print(np.linspace(4.5678,25.9865,39,retstep=True))"
   ]
  },
  {
   "cell_type": "code",
   "execution_count": 68,
   "id": "774d6199",
   "metadata": {},
   "outputs": [],
   "source": [
    "#Matrics creation"
   ]
  },
  {
   "cell_type": "code",
   "execution_count": 69,
   "id": "649c795d",
   "metadata": {},
   "outputs": [
    {
     "name": "stdout",
     "output_type": "stream",
     "text": [
      "vector of zeros \n",
      "------------\n",
      "[0. 0. 0. 0. 0.]\n"
     ]
    }
   ],
   "source": [
    "print(\"vector of zeros \\n------------\")\n",
    "print(np.zeros([5]))"
   ]
  },
  {
   "cell_type": "code",
   "execution_count": 70,
   "id": "145a3c3c",
   "metadata": {},
   "outputs": [
    {
     "name": "stdout",
     "output_type": "stream",
     "text": [
      "vector of zeros \n",
      "---------\n",
      "[[0. 0. 0. 0. 0. 0.]\n",
      " [0. 0. 0. 0. 0. 0.]\n",
      " [0. 0. 0. 0. 0. 0.]\n",
      " [0. 0. 0. 0. 0. 0.]\n",
      " [0. 0. 0. 0. 0. 0.]]\n"
     ]
    }
   ],
   "source": [
    "print(\"vector of zeros \\n---------\")\n",
    "print(np.zeros([5,6]))"
   ]
  },
  {
   "cell_type": "code",
   "execution_count": 71,
   "id": "126e3c57",
   "metadata": {},
   "outputs": [],
   "source": [
    "#Lets Try with Ones"
   ]
  },
  {
   "cell_type": "code",
   "execution_count": 72,
   "id": "a78f087e",
   "metadata": {},
   "outputs": [
    {
     "name": "stdout",
     "output_type": "stream",
     "text": [
      "vector of ones \n",
      "------------\n",
      "[[1. 1. 1. 1. 1. 1.]\n",
      " [1. 1. 1. 1. 1. 1.]\n",
      " [1. 1. 1. 1. 1. 1.]\n",
      " [1. 1. 1. 1. 1. 1.]\n",
      " [1. 1. 1. 1. 1. 1.]]\n"
     ]
    }
   ],
   "source": [
    "print(\"vector of ones \\n------------\")\n",
    "print(np.ones([5,6]))"
   ]
  },
  {
   "cell_type": "code",
   "execution_count": 73,
   "id": "d95d2e72",
   "metadata": {},
   "outputs": [],
   "source": [
    "#This tecniques only work with zero and ones if you want to print another number then use .below given technique"
   ]
  },
  {
   "cell_type": "code",
   "execution_count": 74,
   "id": "30b05542",
   "metadata": {},
   "outputs": [
    {
     "name": "stdout",
     "output_type": "stream",
     "text": [
      "matrix of 5 \n",
      "--------\n",
      "[[5. 5. 5. 5. 5. 5.]\n",
      " [5. 5. 5. 5. 5. 5.]\n",
      " [5. 5. 5. 5. 5. 5.]\n",
      " [5. 5. 5. 5. 5. 5.]\n",
      " [5. 5. 5. 5. 5. 5.]]\n"
     ]
    }
   ],
   "source": [
    "print(\"matrix of 5 \\n--------\")\n",
    "print(5*np.ones([5,6]))"
   ]
  },
  {
   "cell_type": "code",
   "execution_count": 75,
   "id": "1596f5eb",
   "metadata": {},
   "outputs": [],
   "source": [
    "#Construct diagonal matrix"
   ]
  },
  {
   "cell_type": "code",
   "execution_count": 81,
   "id": "370d93e6",
   "metadata": {},
   "outputs": [
    {
     "name": "stdout",
     "output_type": "stream",
     "text": [
      "[[ 0  1  2  3  4  5]\n",
      " [ 6  7  8  9 10 11]\n",
      " [12 13 14 15 16 17]\n",
      " [18 19 20 21 22 23]\n",
      " [24 25 26 27 28 29]]\n"
     ]
    }
   ],
   "source": [
    "x=np.arange(30).reshape(5,6)\n",
    "print(x)"
   ]
  },
  {
   "cell_type": "code",
   "execution_count": 82,
   "id": "bb75b25c",
   "metadata": {},
   "outputs": [],
   "source": [
    "#Random Number Generation"
   ]
  },
  {
   "cell_type": "code",
   "execution_count": 83,
   "id": "33aab7f7",
   "metadata": {},
   "outputs": [],
   "source": [
    "import numpy as np"
   ]
  },
  {
   "cell_type": "code",
   "execution_count": 85,
   "id": "76785fc5",
   "metadata": {},
   "outputs": [
    {
     "name": "stdout",
     "output_type": "stream",
     "text": [
      "Random number genration (from uniform distribution)\n",
      "[[0.89286015 0.33197981 0.82122912 0.04169663 0.10765668 0.59505206]\n",
      " [0.52981736 0.41880743 0.33540785 0.62251943 0.43814143 0.73588211]\n",
      " [0.51803641 0.5788586  0.6453551  0.99022427 0.8198582  0.41320093]\n",
      " [0.87626766 0.82375943 0.05447451 0.71863724 0.80217056 0.73640664]\n",
      " [0.70913175 0.54093685 0.12482417 0.9576473  0.4032563  0.21695116]\n",
      " [0.71727585 0.99420744 0.25561406 0.67130943 0.59900591 0.71733215]\n",
      " [0.93734953 0.35180977 0.2536341  0.40247251 0.74651072 0.72407057]\n",
      " [0.4061078  0.98937985 0.45049928 0.37380843 0.70962861 0.08245855]\n",
      " [0.39837292 0.77088097 0.76475098 0.28385938 0.18954219 0.47125096]\n",
      " [0.33480604 0.73473504 0.18910712 0.33110407 0.84422842 0.61502403]]\n"
     ]
    }
   ],
   "source": [
    "np.random.seed(6) # Each seed number will generate similar data\n",
    "print(\"Random number genration (from uniform distribution)\")\n",
    "print(np.random.rand(10,6))"
   ]
  },
  {
   "cell_type": "code",
   "execution_count": 86,
   "id": "0fc9d2ff",
   "metadata": {},
   "outputs": [
    {
     "name": "stdout",
     "output_type": "stream",
     "text": [
      "Number from normal distribution with zero mean and standard deviation 1 i.e standard noraml\n",
      "[[-0.37550472  0.39636757 -0.47144628  2.33660781  1.50278553 -0.59545972]\n",
      " [ 0.52834106  0.9398248   0.42628539 -0.75815703 -0.16236698  0.72680996]\n",
      " [ 0.44408297 -0.85682264  0.44692842 -1.01464799 -2.1323234   0.17386307]\n",
      " [ 0.95120126  0.44189739  1.46901739  1.74951635  0.35353062 -0.64333729]\n",
      " [-0.04723705 -1.44903979 -0.03618977 -0.09084699  0.17629034  1.09462041]\n",
      " [-2.12647459  0.75144883 -0.54060704  0.79322236  0.17365335 -1.03543429]\n",
      " [ 0.87426839 -0.73957208  0.52294535 -0.59187648 -0.47748711  0.11252968]\n",
      " [ 1.90474232  0.69415315 -0.01958134  1.66284285  0.03060843 -0.29749921]\n",
      " [-0.96813764  0.16706673  0.11660197 -0.68225732 -1.91402115 -0.13990231]\n",
      " [ 0.11492459 -0.39500464 -0.95331626 -1.07282736 -0.48444561  1.36293786]]\n"
     ]
    }
   ],
   "source": [
    "print(\"Number from normal distribution with zero mean and standard deviation 1 i.e standard noraml\")\n",
    "print(np.random.randn(10,6))"
   ]
  },
  {
   "cell_type": "code",
   "execution_count": 88,
   "id": "154f30b7",
   "metadata": {},
   "outputs": [
    {
     "name": "stdout",
     "output_type": "stream",
     "text": [
      "Random integer vector :  [16  7  7 15 10  5 12 17 16 11]\n"
     ]
    }
   ],
   "source": [
    "print(\"Random integer vector : \",np.random.randint(5,20,10))"
   ]
  },
  {
   "cell_type": "code",
   "execution_count": 90,
   "id": "64fcb44e",
   "metadata": {},
   "outputs": [
    {
     "name": "stdout",
     "output_type": "stream",
     "text": [
      "\n",
      " Random integer matrix\n",
      "[[15547  9321 21288 13730  7318 20548 17589]\n",
      " [ 6816 18023  9157 29718 16647 18185 21174]\n",
      " [14570 10142 19480  6844 23905  1924  6709]\n",
      " [ 1911   573 20515  4488 26672 19095  6913]\n",
      " [21990  9391 27727  5758 12953  2462 20349]\n",
      " [29353 28395 16315  6041 18631 28002 29807]]\n"
     ]
    }
   ],
   "source": [
    "print(\"\\n Random integer matrix\")\n",
    "print(np.random.randint(1,30000,(6,7)))"
   ]
  },
  {
   "cell_type": "code",
   "execution_count": 91,
   "id": "c7e500f0",
   "metadata": {},
   "outputs": [],
   "source": [
    "#One of the real time example of randint is"
   ]
  },
  {
   "cell_type": "code",
   "execution_count": 92,
   "id": "0f761489",
   "metadata": {},
   "outputs": [],
   "source": [
    "def generate_otp():\n",
    "    otp=np.random.randint(1000,10000,1)\n",
    "    print(\"Your Otp is \",otp)\n",
    "    user_otp=int(input(\"Enter Your OTP Here\"))\n",
    "    if otp==user_otp:\n",
    "        print(\"Log in Sucessfully\")\n",
    "    else:\n",
    "        print(\"Your OTP is invalid\")"
   ]
  },
  {
   "cell_type": "code",
   "execution_count": 94,
   "id": "61ba4455",
   "metadata": {},
   "outputs": [
    {
     "name": "stdout",
     "output_type": "stream",
     "text": [
      "Your Otp is  [7514]\n",
      "Enter Your OTP Here7514\n",
      "Log in Sucessfully\n"
     ]
    }
   ],
   "source": [
    "generate_otp()"
   ]
  },
  {
   "cell_type": "code",
   "execution_count": null,
   "id": "28f2a0f2",
   "metadata": {},
   "outputs": [],
   "source": []
  },
  {
   "cell_type": "code",
   "execution_count": null,
   "id": "cb36ed01-5561-4628-b27e-4cf3643dd138",
   "metadata": {},
   "outputs": [],
   "source": []
  }
 ],
 "metadata": {
  "kernelspec": {
   "display_name": "Python 3 (ipykernel)",
   "language": "python",
   "name": "python3"
  },
  "language_info": {
   "codemirror_mode": {
    "name": "ipython",
    "version": 3
   },
   "file_extension": ".py",
   "mimetype": "text/x-python",
   "name": "python",
   "nbconvert_exporter": "python",
   "pygments_lexer": "ipython3",
   "version": "3.10.12"
  },
  "widgets": {
   "application/vnd.jupyter.widget-state+json": {
    "state": {},
    "version_major": 2,
    "version_minor": 0
   }
  }
 },
 "nbformat": 4,
 "nbformat_minor": 5
}
