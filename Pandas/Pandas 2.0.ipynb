{
 "cells": [
  {
   "cell_type": "markdown",
   "id": "8c50d36d",
   "metadata": {},
   "source": [
    "Apply Funtion"
   ]
  },
  {
   "cell_type": "code",
   "execution_count": null,
   "id": "67583b60",
   "metadata": {},
   "outputs": [],
   "source": [
    "import pandas as pd\n",
    "import numpy as np\n"
   ]
  },
  {
   "cell_type": "code",
   "execution_count": null,
   "id": "65e12402",
   "metadata": {},
   "outputs": [],
   "source": [
    "#First we have to CREATE one python funtion because we use the code later"
   ]
  },
  {
   "cell_type": "code",
   "execution_count": null,
   "id": "bf9c6af4",
   "metadata": {},
   "outputs": [],
   "source": [
    "def salary_hike(x):\n",
    "    if x>3000:\n",
    "        return np.ceil(x+(x*.30))\n",
    "    else:\n",
    "        return np.ceil(x*1.5)"
   ]
  },
  {
   "cell_type": "code",
   "execution_count": null,
   "id": "85486c41",
   "metadata": {},
   "outputs": [],
   "source": [
    "#Lets Create a Data Frame"
   ]
  },
  {
   "cell_type": "code",
   "execution_count": null,
   "id": "c97f4f4b",
   "metadata": {},
   "outputs": [],
   "source": [
    "df=pd.DataFrame({'Dept':[1,2,3,4,5,6,7,8,9,10],\n",
    "                'Emp_Name':['Rajesh','Shankar','Vihaan','Saurav','Gaurav','Riya','Munmun','Rohit','Yashu','Garima'],\n",
    "                'Salary':[4994,5455,6166,4044,3433,2922,6466,7877,6766,5155]})"
   ]
  },
  {
   "cell_type": "code",
   "execution_count": null,
   "id": "987d903b",
   "metadata": {},
   "outputs": [],
   "source": [
    "df"
   ]
  },
  {
   "cell_type": "code",
   "execution_count": null,
   "id": "56e0bc48",
   "metadata": {},
   "outputs": [],
   "source": [
    "#Lets add nwe column name in old dataframe"
   ]
  },
  {
   "cell_type": "code",
   "execution_count": null,
   "id": "cc6521f1",
   "metadata": {},
   "outputs": [],
   "source": [
    "df['New Salary']=df['Salary'].apply(salary_hike)"
   ]
  },
  {
   "cell_type": "code",
   "execution_count": null,
   "id": "95d80737",
   "metadata": {},
   "outputs": [],
   "source": [
    "df"
   ]
  },
  {
   "cell_type": "code",
   "execution_count": null,
   "id": "cc4f68a8",
   "metadata": {},
   "outputs": [],
   "source": [
    "#lets add new column . Length of name"
   ]
  },
  {
   "cell_type": "code",
   "execution_count": null,
   "id": "912df9e3",
   "metadata": {},
   "outputs": [],
   "source": [
    "df['Name_Length']=df['Emp_Name'].apply(len)"
   ]
  },
  {
   "cell_type": "code",
   "execution_count": null,
   "id": "6af878f0",
   "metadata": {},
   "outputs": [],
   "source": [
    "df"
   ]
  },
  {
   "cell_type": "code",
   "execution_count": null,
   "id": "02a46cad",
   "metadata": {},
   "outputs": [],
   "source": [
    "#Lets know about how to use lambda function in our DataFrmae"
   ]
  },
  {
   "cell_type": "code",
   "execution_count": null,
   "id": "605bde4a",
   "metadata": {},
   "outputs": [],
   "source": [
    "=df['New Salary'].apply(lambda x:np.sqrt(x))"
   ]
  },
  {
   "cell_type": "code",
   "execution_count": null,
   "id": "8144404c",
   "metadata": {},
   "outputs": [],
   "source": [
    "df['sqrt']=df['New Salary'].apply(lambda x:np.sqrt(x))"
   ]
  },
  {
   "cell_type": "code",
   "execution_count": null,
   "id": "0114912b",
   "metadata": {},
   "outputs": [],
   "source": [
    "df"
   ]
  },
  {
   "cell_type": "code",
   "execution_count": null,
   "id": "1b900721",
   "metadata": {},
   "outputs": [],
   "source": [
    "#Print Minimum and Maximum of the column 'New_Salary' are:"
   ]
  },
  {
   "cell_type": "code",
   "execution_count": null,
   "id": "f05f526a",
   "metadata": {},
   "outputs": [],
   "source": [
    "print(\"Min and Max of the column 'New Salary' are  : \",df['New Salary'].min()    ,  df['New Salary'].max())"
   ]
  },
  {
   "cell_type": "code",
   "execution_count": null,
   "id": "9dd31653",
   "metadata": {},
   "outputs": [],
   "source": [
    "#Deletion ,Sorting ,List of Column and Rows Names"
   ]
  },
  {
   "cell_type": "code",
   "execution_count": null,
   "id": "ad3bd08b",
   "metadata": {},
   "outputs": [],
   "source": [
    "print(\"\\n Name of Column \\n\",'-'*20,sep=\"\")\n",
    "print(df.columns)"
   ]
  },
  {
   "cell_type": "code",
   "execution_count": null,
   "id": "75e912b5",
   "metadata": {},
   "outputs": [],
   "source": [
    "#If we want to print the column name in List format."
   ]
  },
  {
   "cell_type": "code",
   "execution_count": null,
   "id": "7905b11e",
   "metadata": {},
   "outputs": [],
   "source": [
    "l=list(df.columns)\n",
    "print(\"\\n Column name in a list of String for later manipulation : \",l)"
   ]
  },
  {
   "cell_type": "code",
   "execution_count": null,
   "id": "3b5abc48",
   "metadata": {},
   "outputs": [],
   "source": [
    "#Deleting Column name from Data Frame"
   ]
  },
  {
   "cell_type": "code",
   "execution_count": null,
   "id": "e6ed09e5",
   "metadata": {},
   "outputs": [],
   "source": [
    "print(\"\\n Deleting Column by 'del' command \\n\",'-'*50,sep=' ')\n",
    "del df['Salary']\n",
    "print(df)"
   ]
  },
  {
   "cell_type": "code",
   "execution_count": null,
   "id": "da12d21c",
   "metadata": {},
   "outputs": [],
   "source": [
    "df"
   ]
  },
  {
   "cell_type": "code",
   "execution_count": null,
   "id": "4009a79e",
   "metadata": {},
   "outputs": [],
   "source": [
    "#Lets Create a new data frame for use  isnull(). function"
   ]
  },
  {
   "cell_type": "code",
   "execution_count": 4,
   "id": "9b6a7165",
   "metadata": {},
   "outputs": [],
   "source": [
    "import pandas as pd\n",
    "import numpy as np"
   ]
  },
  {
   "cell_type": "code",
   "execution_count": 5,
   "id": "726c7dc1",
   "metadata": {},
   "outputs": [
    {
     "name": "stderr",
     "output_type": "stream",
     "text": [
      "C:\\Users\\safar\\AppData\\Local\\Temp\\ipykernel_12708\\3431375823.py:1: FutureWarning: Could not cast to int32, falling back to object. This behavior is deprecated. In a future version, when a dtype is passed to 'DataFrame', either all columns will be cast to that dtype, or a TypeError will be raised.\n",
      "  df=pd.DataFrame({'Name':['Ramesh','Raghav',np.nan,np.nan],\n"
     ]
    },
    {
     "data": {
      "text/html": [
       "<div>\n",
       "<style scoped>\n",
       "    .dataframe tbody tr th:only-of-type {\n",
       "        vertical-align: middle;\n",
       "    }\n",
       "\n",
       "    .dataframe tbody tr th {\n",
       "        vertical-align: top;\n",
       "    }\n",
       "\n",
       "    .dataframe thead th {\n",
       "        text-align: right;\n",
       "    }\n",
       "</style>\n",
       "<table border=\"1\" class=\"dataframe\">\n",
       "  <thead>\n",
       "    <tr style=\"text-align: right;\">\n",
       "      <th></th>\n",
       "      <th>Name</th>\n",
       "      <th>Gender</th>\n",
       "      <th>Section</th>\n",
       "      <th>Class</th>\n",
       "      <th>Phone_Number</th>\n",
       "      <th>Location</th>\n",
       "      <th>Email_Present</th>\n",
       "      <th>Door_Number</th>\n",
       "      <th>Street_Name</th>\n",
       "      <th>Pin_Code</th>\n",
       "      <th>State</th>\n",
       "      <th>Dad_Name</th>\n",
       "    </tr>\n",
       "  </thead>\n",
       "  <tbody>\n",
       "    <tr>\n",
       "      <th>0</th>\n",
       "      <td>Ramesh</td>\n",
       "      <td>NaN</td>\n",
       "      <td>A</td>\n",
       "      <td>5</td>\n",
       "      <td>NaN</td>\n",
       "      <td>Bengluru</td>\n",
       "      <td>Y</td>\n",
       "      <td>NaN</td>\n",
       "      <td>ABC</td>\n",
       "      <td>5</td>\n",
       "      <td>NaN</td>\n",
       "      <td>XYZ</td>\n",
       "    </tr>\n",
       "    <tr>\n",
       "      <th>1</th>\n",
       "      <td>Raghav</td>\n",
       "      <td>M</td>\n",
       "      <td>B</td>\n",
       "      <td>12</td>\n",
       "      <td>9406289124</td>\n",
       "      <td>Noida</td>\n",
       "      <td>N</td>\n",
       "      <td>444</td>\n",
       "      <td>DEF</td>\n",
       "      <td>12</td>\n",
       "      <td>Up</td>\n",
       "      <td>DEF</td>\n",
       "    </tr>\n",
       "    <tr>\n",
       "      <th>2</th>\n",
       "      <td>NaN</td>\n",
       "      <td>M</td>\n",
       "      <td>C</td>\n",
       "      <td>NaN</td>\n",
       "      <td>8349089124</td>\n",
       "      <td>Hyderabad</td>\n",
       "      <td>NaN</td>\n",
       "      <td>555</td>\n",
       "      <td>GHI</td>\n",
       "      <td>NaN</td>\n",
       "      <td>Telangana</td>\n",
       "      <td>GHI</td>\n",
       "    </tr>\n",
       "    <tr>\n",
       "      <th>3</th>\n",
       "      <td>NaN</td>\n",
       "      <td>F</td>\n",
       "      <td>D</td>\n",
       "      <td>NaN</td>\n",
       "      <td>NaN</td>\n",
       "      <td>NaN</td>\n",
       "      <td>NaN</td>\n",
       "      <td>345</td>\n",
       "      <td>XYZ</td>\n",
       "      <td>NaN</td>\n",
       "      <td>NaN</td>\n",
       "      <td>NaN</td>\n",
       "    </tr>\n",
       "  </tbody>\n",
       "</table>\n",
       "</div>"
      ],
      "text/plain": [
       "     Name Gender Section Class Phone_Number   Location Email_Present  \\\n",
       "0  Ramesh    NaN       A     5          NaN   Bengluru             Y   \n",
       "1  Raghav      M       B    12   9406289124      Noida             N   \n",
       "2     NaN      M       C   NaN   8349089124  Hyderabad           NaN   \n",
       "3     NaN      F       D   NaN          NaN        NaN           NaN   \n",
       "\n",
       "  Door_Number Street_Name Pin_Code      State Dad_Name  \n",
       "0         NaN         ABC        5        NaN      XYZ  \n",
       "1         444         DEF       12         Up      DEF  \n",
       "2         555         GHI      NaN  Telangana      GHI  \n",
       "3         345         XYZ      NaN        NaN      NaN  "
      ]
     },
     "execution_count": 5,
     "metadata": {},
     "output_type": "execute_result"
    }
   ],
   "source": [
    "df=pd.DataFrame({'Name':['Ramesh','Raghav',np.nan,np.nan],\n",
    "                'Gender':[np.nan,'M','M','F'],\n",
    "                'Section':['A','B','C','D'],\n",
    "                'Class':[5,12,np.nan,np.nan],\n",
    "                'Phone_Number':[np.nan,9406289124,8349089124,np.nan],\n",
    "                'Location':['Bengluru','Noida','Hyderabad',np.nan],\n",
    "                'Email_Present':['Y','N',np.nan,np.nan],\n",
    "                'Door_Number':[np.nan,444,555,345],\n",
    "                'Street_Name':['ABC','DEF','GHI','XYZ'],\n",
    "                'Pin_Code':[5,12,np.nan,np.nan],\n",
    "                 'State':[np.nan,'Up','Telangana',np.nan],\n",
    "                 'Dad_Name':['XYZ','DEF','GHI',np.nan]},dtype=int)\n",
    "\n",
    "df"
   ]
  },
  {
   "cell_type": "code",
   "execution_count": 6,
   "id": "c714a1a9",
   "metadata": {},
   "outputs": [
    {
     "data": {
      "text/plain": [
       "12"
      ]
     },
     "execution_count": 6,
     "metadata": {},
     "output_type": "execute_result"
    }
   ],
   "source": [
    "len(df.columns)"
   ]
  },
  {
   "cell_type": "code",
   "execution_count": null,
   "id": "03ac218e",
   "metadata": {},
   "outputs": [],
   "source": [
    "len(df.columns)"
   ]
  },
  {
   "cell_type": "code",
   "execution_count": null,
   "id": "f4b584fc",
   "metadata": {},
   "outputs": [],
   "source": [
    "#Use isnull Function"
   ]
  },
  {
   "cell_type": "code",
   "execution_count": 7,
   "id": "391a3e8c",
   "metadata": {},
   "outputs": [
    {
     "data": {
      "text/plain": [
       "Name             2\n",
       "Gender           1\n",
       "Section          0\n",
       "Class            2\n",
       "Phone_Number     2\n",
       "Location         1\n",
       "Email_Present    2\n",
       "Door_Number      1\n",
       "Street_Name      0\n",
       "Pin_Code         2\n",
       "State            2\n",
       "Dad_Name         1\n",
       "dtype: int64"
      ]
     },
     "execution_count": 7,
     "metadata": {},
     "output_type": "execute_result"
    }
   ],
   "source": [
    "df.isnull().sum()"
   ]
  },
  {
   "cell_type": "code",
   "execution_count": 8,
   "id": "83812a96",
   "metadata": {},
   "outputs": [
    {
     "data": {
      "text/plain": [
       "16"
      ]
     },
     "execution_count": 8,
     "metadata": {},
     "output_type": "execute_result"
    }
   ],
   "source": [
    "df.isnull().sum().sum()"
   ]
  },
  {
   "cell_type": "code",
   "execution_count": null,
   "id": "b2521cdf",
   "metadata": {},
   "outputs": [],
   "source": [
    "#Lets Start Using CSV File in Pandad"
   ]
  },
  {
   "cell_type": "code",
   "execution_count": null,
   "id": "97babdc6",
   "metadata": {},
   "outputs": [],
   "source": [
    "import pandas as pd"
   ]
  },
  {
   "cell_type": "code",
   "execution_count": null,
   "id": "e3ea4434",
   "metadata": {},
   "outputs": [],
   "source": []
  },
  {
   "cell_type": "code",
   "execution_count": null,
   "id": "284cf8b7",
   "metadata": {},
   "outputs": [],
   "source": [
    "#How to import CSV File in Pandas"
   ]
  },
  {
   "cell_type": "code",
   "execution_count": null,
   "id": "1f0ecf2e",
   "metadata": {},
   "outputs": [],
   "source": [
    "ipl=pd.read_csv('matches.csv')"
   ]
  },
  {
   "cell_type": "code",
   "execution_count": null,
   "id": "1399654c",
   "metadata": {},
   "outputs": [],
   "source": [
    "ipl"
   ]
  },
  {
   "cell_type": "code",
   "execution_count": null,
   "id": "2499c2bd",
   "metadata": {},
   "outputs": [],
   "source": [
    "#If Your Want to see top 5   rows"
   ]
  },
  {
   "cell_type": "code",
   "execution_count": null,
   "id": "4e19066b",
   "metadata": {},
   "outputs": [],
   "source": [
    "ipl.head()"
   ]
  },
  {
   "cell_type": "code",
   "execution_count": null,
   "id": "29af1df1",
   "metadata": {},
   "outputs": [],
   "source": [
    "#If you want to see last 5 rows"
   ]
  },
  {
   "cell_type": "code",
   "execution_count": null,
   "id": "a1d484f9",
   "metadata": {},
   "outputs": [],
   "source": [
    "ipl.tail()"
   ]
  },
  {
   "cell_type": "code",
   "execution_count": null,
   "id": "110cbab6",
   "metadata": {},
   "outputs": [],
   "source": [
    "#If You want to see any column Randomly"
   ]
  },
  {
   "cell_type": "code",
   "execution_count": null,
   "id": "b6f29eab",
   "metadata": {},
   "outputs": [],
   "source": [
    "ipl.sample(n=5)  #N is v=containing how much row you want"
   ]
  },
  {
   "cell_type": "markdown",
   "id": "dfb79924",
   "metadata": {},
   "source": [
    "# Importing File Direct From Github"
   ]
  },
  {
   "cell_type": "markdown",
   "id": "1360505b",
   "metadata": {},
   "source": [
    "-> Open any File in the github\n",
    "-> click on 'Raw' ('This will open the file in raw format)\n",
    "-> copy the link and paste as below"
   ]
  },
  {
   "cell_type": "code",
   "execution_count": null,
   "id": "ded2155d",
   "metadata": {},
   "outputs": [],
   "source": [
    "ipl=pd.read_csv(\"https://raw.githubusercontent.com/s4sauravv/Datasets/main/matches.csv\")"
   ]
  },
  {
   "cell_type": "code",
   "execution_count": null,
   "id": "9a6f441d",
   "metadata": {},
   "outputs": [],
   "source": [
    "ipl"
   ]
  },
  {
   "cell_type": "code",
   "execution_count": null,
   "id": "0914e018",
   "metadata": {},
   "outputs": [],
   "source": [
    "ipl.head()"
   ]
  },
  {
   "cell_type": "code",
   "execution_count": null,
   "id": "683898f7",
   "metadata": {},
   "outputs": [],
   "source": [
    "ipl.tail()"
   ]
  },
  {
   "cell_type": "code",
   "execution_count": null,
   "id": "b5a9d6c9",
   "metadata": {},
   "outputs": [],
   "source": [
    "#If you want to  know what is the shape of our DataFrame"
   ]
  },
  {
   "cell_type": "code",
   "execution_count": null,
   "id": "583e8c14",
   "metadata": {},
   "outputs": [],
   "source": [
    "ipl.shape"
   ]
  },
  {
   "cell_type": "code",
   "execution_count": null,
   "id": "5d0083f9",
   "metadata": {},
   "outputs": [],
   "source": [
    "#Check Type OF Ipl"
   ]
  },
  {
   "cell_type": "code",
   "execution_count": null,
   "id": "ece9c28e",
   "metadata": {},
   "outputs": [],
   "source": [
    "type(ipl)"
   ]
  },
  {
   "cell_type": "code",
   "execution_count": null,
   "id": "aab02f84",
   "metadata": {},
   "outputs": [],
   "source": [
    "ipl"
   ]
  },
  {
   "cell_type": "code",
   "execution_count": null,
   "id": "5d0a357b",
   "metadata": {},
   "outputs": [],
   "source": [
    "# If You Want to print all the rows you need to set as below and display the dataset"
   ]
  },
  {
   "cell_type": "code",
   "execution_count": null,
   "id": "fc79692e",
   "metadata": {},
   "outputs": [],
   "source": [
    "pd.set_option('display.max_rows',None)"
   ]
  },
  {
   "cell_type": "code",
   "execution_count": null,
   "id": "ec422ca4",
   "metadata": {},
   "outputs": [],
   "source": []
  },
  {
   "cell_type": "code",
   "execution_count": null,
   "id": "e51b4c05",
   "metadata": {},
   "outputs": [],
   "source": []
  },
  {
   "cell_type": "markdown",
   "id": "97ac0915",
   "metadata": {},
   "source": [
    "# Importing data from other Folder in your system\n",
    "# -> Read Excel Files"
   ]
  },
  {
   "cell_type": "code",
   "execution_count": null,
   "id": "bfc8f71a",
   "metadata": {},
   "outputs": [],
   "source": [
    "#Name of Sheet to read from"
   ]
  },
  {
   "cell_type": "code",
   "execution_count": null,
   "id": "7f646d7d",
   "metadata": {},
   "outputs": [],
   "source": [
    "excel_file=pd.read_excel(r\"C:\\Users\\safar\\Downloads\\matches (1).csv\")"
   ]
  },
  {
   "cell_type": "code",
   "execution_count": null,
   "id": "027c09cf",
   "metadata": {},
   "outputs": [],
   "source": [
    "excel_file"
   ]
  },
  {
   "cell_type": "code",
   "execution_count": null,
   "id": "106be0e6",
   "metadata": {},
   "outputs": [],
   "source": [
    "del ipl['id']"
   ]
  },
  {
   "cell_type": "code",
   "execution_count": null,
   "id": "63705c5a",
   "metadata": {},
   "outputs": [],
   "source": [
    "ipl"
   ]
  },
  {
   "cell_type": "markdown",
   "id": "d2bf7147",
   "metadata": {},
   "source": [
    "# Exporting Data "
   ]
  },
  {
   "cell_type": "code",
   "execution_count": null,
   "id": "59434ff1",
   "metadata": {},
   "outputs": [],
   "source": [
    "#Export to current Folder"
   ]
  },
  {
   "cell_type": "code",
   "execution_count": null,
   "id": "bb8b3788",
   "metadata": {},
   "outputs": [],
   "source": [
    "ipl.to_csv('ipl_copy1.csv')"
   ]
  },
  {
   "cell_type": "code",
   "execution_count": null,
   "id": "58b20363",
   "metadata": {},
   "outputs": [],
   "source": [
    "#Export to different folder bu giving - Means which folder i want to save the copy ipl file"
   ]
  },
  {
   "cell_type": "code",
   "execution_count": null,
   "id": "49a4c40d",
   "metadata": {},
   "outputs": [],
   "source": [
    "ipl.to_csv(r\"D:\\CSV Files.csv\",header=True,index=False)"
   ]
  },
  {
   "cell_type": "markdown",
   "id": "3e12b4a9",
   "metadata": {},
   "source": [
    "# Work with Real Time Example"
   ]
  },
  {
   "cell_type": "markdown",
   "id": "7c9d8263",
   "metadata": {},
   "source": [
    "https://www.basketball-reference.com/leagues/NBA_2015_totals.html"
   ]
  },
  {
   "cell_type": "code",
   "execution_count": 9,
   "id": "9c4c2a7a",
   "metadata": {},
   "outputs": [],
   "source": [
    "#when we have to use url to load dataframe from site\n",
    "\n",
    "url='https://www.basketball-reference.com/leagues/NBA_2015_totals.html'"
   ]
  },
  {
   "cell_type": "code",
   "execution_count": 10,
   "id": "4f045161",
   "metadata": {},
   "outputs": [],
   "source": [
    "BB_data=pd.read_html(url)"
   ]
  },
  {
   "cell_type": "code",
   "execution_count": 11,
   "id": "4ffc6fa8",
   "metadata": {},
   "outputs": [
    {
     "data": {
      "text/plain": [
       "[      Rk          Player Pos Age   Tm   G  GS    MP   FG  FGA  ...   FT%  ORB  \\\n",
       " 0      1      Quincy Acy  PF  24  NYK  68  22  1287  152  331  ...  .784   79   \n",
       " 1      2    Jordan Adams  SG  20  MEM  30   0   248   35   86  ...  .609    9   \n",
       " 2      3    Steven Adams   C  21  OKC  70  67  1771  217  399  ...  .502  199   \n",
       " 3      4     Jeff Adrien  PF  28  MIN  17   0   215   19   44  ...  .579   23   \n",
       " 4      5   Arron Afflalo  SG  29  TOT  78  72  2502  375  884  ...  .843   27   \n",
       " ..   ...             ...  ..  ..  ...  ..  ..   ...  ...  ...  ...   ...  ...   \n",
       " 670  490  Thaddeus Young  PF  26  TOT  76  68  2434  451  968  ...  .655  127   \n",
       " 671  490  Thaddeus Young  PF  26  MIN  48  48  1605  289  641  ...  .682   75   \n",
       " 672  490  Thaddeus Young  PF  26  BRK  28  20   829  162  327  ...  .606   52   \n",
       " 673  491     Cody Zeller   C  22  CHO  62  45  1487  172  373  ...  .774   97   \n",
       " 674  492    Tyler Zeller   C  25  BOS  82  59  1731  340  619  ...  .823  146   \n",
       " \n",
       "      DRB  TRB  AST  STL BLK  TOV   PF   PTS  \n",
       " 0    222  301   68   27  22   60  147   398  \n",
       " 1     19   28   16   16   7   14   24    94  \n",
       " 2    324  523   66   38  86   99  222   537  \n",
       " 3     54   77   15    4   9    9   30    60  \n",
       " 4    220  247  129   41   7  116  167  1035  \n",
       " ..   ...  ...  ...  ...  ..  ...  ...   ...  \n",
       " 670  284  411  173  124  25  117  171  1071  \n",
       " 671  170  245  135   86  17   75  115   685  \n",
       " 672  114  166   38   38   8   42   56   386  \n",
       " 673  265  362  100   34  49   62  156   472  \n",
       " 674  319  465  113   18  52   76  205   833  \n",
       " \n",
       " [675 rows x 30 columns]]"
      ]
     },
     "execution_count": 11,
     "metadata": {},
     "output_type": "execute_result"
    }
   ],
   "source": [
    "BB_data"
   ]
  },
  {
   "cell_type": "code",
   "execution_count": 12,
   "id": "8dd45d8f",
   "metadata": {},
   "outputs": [
    {
     "data": {
      "text/html": [
       "<div>\n",
       "<style scoped>\n",
       "    .dataframe tbody tr th:only-of-type {\n",
       "        vertical-align: middle;\n",
       "    }\n",
       "\n",
       "    .dataframe tbody tr th {\n",
       "        vertical-align: top;\n",
       "    }\n",
       "\n",
       "    .dataframe thead th {\n",
       "        text-align: right;\n",
       "    }\n",
       "</style>\n",
       "<table border=\"1\" class=\"dataframe\">\n",
       "  <thead>\n",
       "    <tr style=\"text-align: right;\">\n",
       "      <th></th>\n",
       "      <th>Rk</th>\n",
       "      <th>Player</th>\n",
       "      <th>Pos</th>\n",
       "      <th>Age</th>\n",
       "      <th>Tm</th>\n",
       "      <th>G</th>\n",
       "      <th>GS</th>\n",
       "      <th>MP</th>\n",
       "      <th>FG</th>\n",
       "      <th>FGA</th>\n",
       "      <th>...</th>\n",
       "      <th>FT%</th>\n",
       "      <th>ORB</th>\n",
       "      <th>DRB</th>\n",
       "      <th>TRB</th>\n",
       "      <th>AST</th>\n",
       "      <th>STL</th>\n",
       "      <th>BLK</th>\n",
       "      <th>TOV</th>\n",
       "      <th>PF</th>\n",
       "      <th>PTS</th>\n",
       "    </tr>\n",
       "  </thead>\n",
       "  <tbody>\n",
       "    <tr>\n",
       "      <th>0</th>\n",
       "      <td>1</td>\n",
       "      <td>Quincy Acy</td>\n",
       "      <td>PF</td>\n",
       "      <td>24</td>\n",
       "      <td>NYK</td>\n",
       "      <td>68</td>\n",
       "      <td>22</td>\n",
       "      <td>1287</td>\n",
       "      <td>152</td>\n",
       "      <td>331</td>\n",
       "      <td>...</td>\n",
       "      <td>.784</td>\n",
       "      <td>79</td>\n",
       "      <td>222</td>\n",
       "      <td>301</td>\n",
       "      <td>68</td>\n",
       "      <td>27</td>\n",
       "      <td>22</td>\n",
       "      <td>60</td>\n",
       "      <td>147</td>\n",
       "      <td>398</td>\n",
       "    </tr>\n",
       "    <tr>\n",
       "      <th>1</th>\n",
       "      <td>2</td>\n",
       "      <td>Jordan Adams</td>\n",
       "      <td>SG</td>\n",
       "      <td>20</td>\n",
       "      <td>MEM</td>\n",
       "      <td>30</td>\n",
       "      <td>0</td>\n",
       "      <td>248</td>\n",
       "      <td>35</td>\n",
       "      <td>86</td>\n",
       "      <td>...</td>\n",
       "      <td>.609</td>\n",
       "      <td>9</td>\n",
       "      <td>19</td>\n",
       "      <td>28</td>\n",
       "      <td>16</td>\n",
       "      <td>16</td>\n",
       "      <td>7</td>\n",
       "      <td>14</td>\n",
       "      <td>24</td>\n",
       "      <td>94</td>\n",
       "    </tr>\n",
       "    <tr>\n",
       "      <th>2</th>\n",
       "      <td>3</td>\n",
       "      <td>Steven Adams</td>\n",
       "      <td>C</td>\n",
       "      <td>21</td>\n",
       "      <td>OKC</td>\n",
       "      <td>70</td>\n",
       "      <td>67</td>\n",
       "      <td>1771</td>\n",
       "      <td>217</td>\n",
       "      <td>399</td>\n",
       "      <td>...</td>\n",
       "      <td>.502</td>\n",
       "      <td>199</td>\n",
       "      <td>324</td>\n",
       "      <td>523</td>\n",
       "      <td>66</td>\n",
       "      <td>38</td>\n",
       "      <td>86</td>\n",
       "      <td>99</td>\n",
       "      <td>222</td>\n",
       "      <td>537</td>\n",
       "    </tr>\n",
       "    <tr>\n",
       "      <th>3</th>\n",
       "      <td>4</td>\n",
       "      <td>Jeff Adrien</td>\n",
       "      <td>PF</td>\n",
       "      <td>28</td>\n",
       "      <td>MIN</td>\n",
       "      <td>17</td>\n",
       "      <td>0</td>\n",
       "      <td>215</td>\n",
       "      <td>19</td>\n",
       "      <td>44</td>\n",
       "      <td>...</td>\n",
       "      <td>.579</td>\n",
       "      <td>23</td>\n",
       "      <td>54</td>\n",
       "      <td>77</td>\n",
       "      <td>15</td>\n",
       "      <td>4</td>\n",
       "      <td>9</td>\n",
       "      <td>9</td>\n",
       "      <td>30</td>\n",
       "      <td>60</td>\n",
       "    </tr>\n",
       "    <tr>\n",
       "      <th>4</th>\n",
       "      <td>5</td>\n",
       "      <td>Arron Afflalo</td>\n",
       "      <td>SG</td>\n",
       "      <td>29</td>\n",
       "      <td>TOT</td>\n",
       "      <td>78</td>\n",
       "      <td>72</td>\n",
       "      <td>2502</td>\n",
       "      <td>375</td>\n",
       "      <td>884</td>\n",
       "      <td>...</td>\n",
       "      <td>.843</td>\n",
       "      <td>27</td>\n",
       "      <td>220</td>\n",
       "      <td>247</td>\n",
       "      <td>129</td>\n",
       "      <td>41</td>\n",
       "      <td>7</td>\n",
       "      <td>116</td>\n",
       "      <td>167</td>\n",
       "      <td>1035</td>\n",
       "    </tr>\n",
       "  </tbody>\n",
       "</table>\n",
       "<p>5 rows × 30 columns</p>\n",
       "</div>"
      ],
      "text/plain": [
       "  Rk         Player Pos Age   Tm   G  GS    MP   FG  FGA  ...   FT%  ORB  DRB  \\\n",
       "0  1     Quincy Acy  PF  24  NYK  68  22  1287  152  331  ...  .784   79  222   \n",
       "1  2   Jordan Adams  SG  20  MEM  30   0   248   35   86  ...  .609    9   19   \n",
       "2  3   Steven Adams   C  21  OKC  70  67  1771  217  399  ...  .502  199  324   \n",
       "3  4    Jeff Adrien  PF  28  MIN  17   0   215   19   44  ...  .579   23   54   \n",
       "4  5  Arron Afflalo  SG  29  TOT  78  72  2502  375  884  ...  .843   27  220   \n",
       "\n",
       "   TRB  AST STL BLK  TOV   PF   PTS  \n",
       "0  301   68  27  22   60  147   398  \n",
       "1   28   16  16   7   14   24    94  \n",
       "2  523   66  38  86   99  222   537  \n",
       "3   77   15   4   9    9   30    60  \n",
       "4  247  129  41   7  116  167  1035  \n",
       "\n",
       "[5 rows x 30 columns]"
      ]
     },
     "execution_count": 12,
     "metadata": {},
     "output_type": "execute_result"
    }
   ],
   "source": [
    "BB_data[0].head()"
   ]
  },
  {
   "cell_type": "code",
   "execution_count": 13,
   "id": "cf5ae2e7",
   "metadata": {},
   "outputs": [
    {
     "data": {
      "text/html": [
       "<div>\n",
       "<style scoped>\n",
       "    .dataframe tbody tr th:only-of-type {\n",
       "        vertical-align: middle;\n",
       "    }\n",
       "\n",
       "    .dataframe tbody tr th {\n",
       "        vertical-align: top;\n",
       "    }\n",
       "\n",
       "    .dataframe thead th {\n",
       "        text-align: right;\n",
       "    }\n",
       "</style>\n",
       "<table border=\"1\" class=\"dataframe\">\n",
       "  <thead>\n",
       "    <tr style=\"text-align: right;\">\n",
       "      <th></th>\n",
       "      <th>Rk</th>\n",
       "      <th>Player</th>\n",
       "      <th>Pos</th>\n",
       "      <th>Age</th>\n",
       "      <th>Tm</th>\n",
       "      <th>G</th>\n",
       "      <th>GS</th>\n",
       "      <th>MP</th>\n",
       "      <th>FG</th>\n",
       "      <th>FGA</th>\n",
       "      <th>...</th>\n",
       "      <th>FT%</th>\n",
       "      <th>ORB</th>\n",
       "      <th>DRB</th>\n",
       "      <th>TRB</th>\n",
       "      <th>AST</th>\n",
       "      <th>STL</th>\n",
       "      <th>BLK</th>\n",
       "      <th>TOV</th>\n",
       "      <th>PF</th>\n",
       "      <th>PTS</th>\n",
       "    </tr>\n",
       "  </thead>\n",
       "  <tbody>\n",
       "    <tr>\n",
       "      <th>670</th>\n",
       "      <td>490</td>\n",
       "      <td>Thaddeus Young</td>\n",
       "      <td>PF</td>\n",
       "      <td>26</td>\n",
       "      <td>TOT</td>\n",
       "      <td>76</td>\n",
       "      <td>68</td>\n",
       "      <td>2434</td>\n",
       "      <td>451</td>\n",
       "      <td>968</td>\n",
       "      <td>...</td>\n",
       "      <td>.655</td>\n",
       "      <td>127</td>\n",
       "      <td>284</td>\n",
       "      <td>411</td>\n",
       "      <td>173</td>\n",
       "      <td>124</td>\n",
       "      <td>25</td>\n",
       "      <td>117</td>\n",
       "      <td>171</td>\n",
       "      <td>1071</td>\n",
       "    </tr>\n",
       "    <tr>\n",
       "      <th>671</th>\n",
       "      <td>490</td>\n",
       "      <td>Thaddeus Young</td>\n",
       "      <td>PF</td>\n",
       "      <td>26</td>\n",
       "      <td>MIN</td>\n",
       "      <td>48</td>\n",
       "      <td>48</td>\n",
       "      <td>1605</td>\n",
       "      <td>289</td>\n",
       "      <td>641</td>\n",
       "      <td>...</td>\n",
       "      <td>.682</td>\n",
       "      <td>75</td>\n",
       "      <td>170</td>\n",
       "      <td>245</td>\n",
       "      <td>135</td>\n",
       "      <td>86</td>\n",
       "      <td>17</td>\n",
       "      <td>75</td>\n",
       "      <td>115</td>\n",
       "      <td>685</td>\n",
       "    </tr>\n",
       "    <tr>\n",
       "      <th>672</th>\n",
       "      <td>490</td>\n",
       "      <td>Thaddeus Young</td>\n",
       "      <td>PF</td>\n",
       "      <td>26</td>\n",
       "      <td>BRK</td>\n",
       "      <td>28</td>\n",
       "      <td>20</td>\n",
       "      <td>829</td>\n",
       "      <td>162</td>\n",
       "      <td>327</td>\n",
       "      <td>...</td>\n",
       "      <td>.606</td>\n",
       "      <td>52</td>\n",
       "      <td>114</td>\n",
       "      <td>166</td>\n",
       "      <td>38</td>\n",
       "      <td>38</td>\n",
       "      <td>8</td>\n",
       "      <td>42</td>\n",
       "      <td>56</td>\n",
       "      <td>386</td>\n",
       "    </tr>\n",
       "    <tr>\n",
       "      <th>673</th>\n",
       "      <td>491</td>\n",
       "      <td>Cody Zeller</td>\n",
       "      <td>C</td>\n",
       "      <td>22</td>\n",
       "      <td>CHO</td>\n",
       "      <td>62</td>\n",
       "      <td>45</td>\n",
       "      <td>1487</td>\n",
       "      <td>172</td>\n",
       "      <td>373</td>\n",
       "      <td>...</td>\n",
       "      <td>.774</td>\n",
       "      <td>97</td>\n",
       "      <td>265</td>\n",
       "      <td>362</td>\n",
       "      <td>100</td>\n",
       "      <td>34</td>\n",
       "      <td>49</td>\n",
       "      <td>62</td>\n",
       "      <td>156</td>\n",
       "      <td>472</td>\n",
       "    </tr>\n",
       "    <tr>\n",
       "      <th>674</th>\n",
       "      <td>492</td>\n",
       "      <td>Tyler Zeller</td>\n",
       "      <td>C</td>\n",
       "      <td>25</td>\n",
       "      <td>BOS</td>\n",
       "      <td>82</td>\n",
       "      <td>59</td>\n",
       "      <td>1731</td>\n",
       "      <td>340</td>\n",
       "      <td>619</td>\n",
       "      <td>...</td>\n",
       "      <td>.823</td>\n",
       "      <td>146</td>\n",
       "      <td>319</td>\n",
       "      <td>465</td>\n",
       "      <td>113</td>\n",
       "      <td>18</td>\n",
       "      <td>52</td>\n",
       "      <td>76</td>\n",
       "      <td>205</td>\n",
       "      <td>833</td>\n",
       "    </tr>\n",
       "  </tbody>\n",
       "</table>\n",
       "<p>5 rows × 30 columns</p>\n",
       "</div>"
      ],
      "text/plain": [
       "      Rk          Player Pos Age   Tm   G  GS    MP   FG  FGA  ...   FT%  ORB  \\\n",
       "670  490  Thaddeus Young  PF  26  TOT  76  68  2434  451  968  ...  .655  127   \n",
       "671  490  Thaddeus Young  PF  26  MIN  48  48  1605  289  641  ...  .682   75   \n",
       "672  490  Thaddeus Young  PF  26  BRK  28  20   829  162  327  ...  .606   52   \n",
       "673  491     Cody Zeller   C  22  CHO  62  45  1487  172  373  ...  .774   97   \n",
       "674  492    Tyler Zeller   C  25  BOS  82  59  1731  340  619  ...  .823  146   \n",
       "\n",
       "     DRB  TRB  AST  STL BLK  TOV   PF   PTS  \n",
       "670  284  411  173  124  25  117  171  1071  \n",
       "671  170  245  135   86  17   75  115   685  \n",
       "672  114  166   38   38   8   42   56   386  \n",
       "673  265  362  100   34  49   62  156   472  \n",
       "674  319  465  113   18  52   76  205   833  \n",
       "\n",
       "[5 rows x 30 columns]"
      ]
     },
     "execution_count": 13,
     "metadata": {},
     "output_type": "execute_result"
    }
   ],
   "source": [
    "BB_data[0].tail()"
   ]
  },
  {
   "cell_type": "code",
   "execution_count": 14,
   "id": "87d77965",
   "metadata": {},
   "outputs": [
    {
     "data": {
      "text/html": [
       "<div>\n",
       "<style scoped>\n",
       "    .dataframe tbody tr th:only-of-type {\n",
       "        vertical-align: middle;\n",
       "    }\n",
       "\n",
       "    .dataframe tbody tr th {\n",
       "        vertical-align: top;\n",
       "    }\n",
       "\n",
       "    .dataframe thead th {\n",
       "        text-align: right;\n",
       "    }\n",
       "</style>\n",
       "<table border=\"1\" class=\"dataframe\">\n",
       "  <thead>\n",
       "    <tr style=\"text-align: right;\">\n",
       "      <th></th>\n",
       "      <th>Rk</th>\n",
       "      <th>Player</th>\n",
       "      <th>Pos</th>\n",
       "      <th>Age</th>\n",
       "      <th>Tm</th>\n",
       "      <th>G</th>\n",
       "      <th>GS</th>\n",
       "      <th>MP</th>\n",
       "      <th>FG</th>\n",
       "      <th>FGA</th>\n",
       "      <th>...</th>\n",
       "      <th>FT%</th>\n",
       "      <th>ORB</th>\n",
       "      <th>DRB</th>\n",
       "      <th>TRB</th>\n",
       "      <th>AST</th>\n",
       "      <th>STL</th>\n",
       "      <th>BLK</th>\n",
       "      <th>TOV</th>\n",
       "      <th>PF</th>\n",
       "      <th>PTS</th>\n",
       "    </tr>\n",
       "  </thead>\n",
       "  <tbody>\n",
       "    <tr>\n",
       "      <th>276</th>\n",
       "      <td>212</td>\n",
       "      <td>Roy Hibbert</td>\n",
       "      <td>C</td>\n",
       "      <td>28</td>\n",
       "      <td>IND</td>\n",
       "      <td>76</td>\n",
       "      <td>76</td>\n",
       "      <td>1926</td>\n",
       "      <td>317</td>\n",
       "      <td>710</td>\n",
       "      <td>...</td>\n",
       "      <td>.824</td>\n",
       "      <td>156</td>\n",
       "      <td>384</td>\n",
       "      <td>540</td>\n",
       "      <td>84</td>\n",
       "      <td>18</td>\n",
       "      <td>125</td>\n",
       "      <td>107</td>\n",
       "      <td>216</td>\n",
       "      <td>802</td>\n",
       "    </tr>\n",
       "    <tr>\n",
       "      <th>394</th>\n",
       "      <td>310</td>\n",
       "      <td>JaVale McGee</td>\n",
       "      <td>C</td>\n",
       "      <td>27</td>\n",
       "      <td>TOT</td>\n",
       "      <td>23</td>\n",
       "      <td>0</td>\n",
       "      <td>256</td>\n",
       "      <td>42</td>\n",
       "      <td>79</td>\n",
       "      <td>...</td>\n",
       "      <td>.667</td>\n",
       "      <td>18</td>\n",
       "      <td>43</td>\n",
       "      <td>61</td>\n",
       "      <td>3</td>\n",
       "      <td>2</td>\n",
       "      <td>20</td>\n",
       "      <td>18</td>\n",
       "      <td>30</td>\n",
       "      <td>106</td>\n",
       "    </tr>\n",
       "    <tr>\n",
       "      <th>153</th>\n",
       "      <td>118</td>\n",
       "      <td>Ed Davis</td>\n",
       "      <td>PF</td>\n",
       "      <td>25</td>\n",
       "      <td>LAL</td>\n",
       "      <td>79</td>\n",
       "      <td>24</td>\n",
       "      <td>1840</td>\n",
       "      <td>282</td>\n",
       "      <td>469</td>\n",
       "      <td>...</td>\n",
       "      <td>.487</td>\n",
       "      <td>230</td>\n",
       "      <td>370</td>\n",
       "      <td>600</td>\n",
       "      <td>94</td>\n",
       "      <td>49</td>\n",
       "      <td>98</td>\n",
       "      <td>58</td>\n",
       "      <td>202</td>\n",
       "      <td>656</td>\n",
       "    </tr>\n",
       "    <tr>\n",
       "      <th>213</th>\n",
       "      <td>163</td>\n",
       "      <td>Danilo Gallinari</td>\n",
       "      <td>SF</td>\n",
       "      <td>26</td>\n",
       "      <td>DEN</td>\n",
       "      <td>59</td>\n",
       "      <td>27</td>\n",
       "      <td>1426</td>\n",
       "      <td>228</td>\n",
       "      <td>568</td>\n",
       "      <td>...</td>\n",
       "      <td>.895</td>\n",
       "      <td>31</td>\n",
       "      <td>187</td>\n",
       "      <td>218</td>\n",
       "      <td>83</td>\n",
       "      <td>47</td>\n",
       "      <td>20</td>\n",
       "      <td>57</td>\n",
       "      <td>94</td>\n",
       "      <td>734</td>\n",
       "    </tr>\n",
       "  </tbody>\n",
       "</table>\n",
       "<p>4 rows × 30 columns</p>\n",
       "</div>"
      ],
      "text/plain": [
       "      Rk            Player Pos Age   Tm   G  GS    MP   FG  FGA  ...   FT%  \\\n",
       "276  212       Roy Hibbert   C  28  IND  76  76  1926  317  710  ...  .824   \n",
       "394  310      JaVale McGee   C  27  TOT  23   0   256   42   79  ...  .667   \n",
       "153  118          Ed Davis  PF  25  LAL  79  24  1840  282  469  ...  .487   \n",
       "213  163  Danilo Gallinari  SF  26  DEN  59  27  1426  228  568  ...  .895   \n",
       "\n",
       "     ORB  DRB  TRB AST STL  BLK  TOV   PF  PTS  \n",
       "276  156  384  540  84  18  125  107  216  802  \n",
       "394   18   43   61   3   2   20   18   30  106  \n",
       "153  230  370  600  94  49   98   58  202  656  \n",
       "213   31  187  218  83  47   20   57   94  734  \n",
       "\n",
       "[4 rows x 30 columns]"
      ]
     },
     "execution_count": 14,
     "metadata": {},
     "output_type": "execute_result"
    }
   ],
   "source": [
    "BB_data[0].sample(n=4) #we want 4 random rows"
   ]
  },
  {
   "cell_type": "code",
   "execution_count": 15,
   "id": "863e2b11",
   "metadata": {},
   "outputs": [
    {
     "data": {
      "text/plain": [
       "(675, 30)"
      ]
     },
     "execution_count": 15,
     "metadata": {},
     "output_type": "execute_result"
    }
   ],
   "source": [
    "BB_data[0].shape#we checking shapes"
   ]
  },
  {
   "cell_type": "code",
   "execution_count": 16,
   "id": "2e30b35f",
   "metadata": {},
   "outputs": [
    {
     "data": {
      "text/plain": [
       "Index(['Rk', 'Player', 'Pos', 'Age', 'Tm', 'G', 'GS', 'MP', 'FG', 'FGA', 'FG%',\n",
       "       '3P', '3PA', '3P%', '2P', '2PA', '2P%', 'eFG%', 'FT', 'FTA', 'FT%',\n",
       "       'ORB', 'DRB', 'TRB', 'AST', 'STL', 'BLK', 'TOV', 'PF', 'PTS'],\n",
       "      dtype='object')"
      ]
     },
     "execution_count": 16,
     "metadata": {},
     "output_type": "execute_result"
    }
   ],
   "source": [
    "BB_data[0].columns#we checking columns"
   ]
  },
  {
   "cell_type": "code",
   "execution_count": 17,
   "id": "4d5b9b24",
   "metadata": {},
   "outputs": [
    {
     "data": {
      "text/html": [
       "<div>\n",
       "<style scoped>\n",
       "    .dataframe tbody tr th:only-of-type {\n",
       "        vertical-align: middle;\n",
       "    }\n",
       "\n",
       "    .dataframe tbody tr th {\n",
       "        vertical-align: top;\n",
       "    }\n",
       "\n",
       "    .dataframe thead th {\n",
       "        text-align: right;\n",
       "    }\n",
       "</style>\n",
       "<table border=\"1\" class=\"dataframe\">\n",
       "  <thead>\n",
       "    <tr style=\"text-align: right;\">\n",
       "      <th></th>\n",
       "      <th>Rk</th>\n",
       "      <th>Player</th>\n",
       "      <th>Pos</th>\n",
       "    </tr>\n",
       "  </thead>\n",
       "  <tbody>\n",
       "    <tr>\n",
       "      <th>0</th>\n",
       "      <td>1</td>\n",
       "      <td>Quincy Acy</td>\n",
       "      <td>PF</td>\n",
       "    </tr>\n",
       "    <tr>\n",
       "      <th>1</th>\n",
       "      <td>2</td>\n",
       "      <td>Jordan Adams</td>\n",
       "      <td>SG</td>\n",
       "    </tr>\n",
       "    <tr>\n",
       "      <th>2</th>\n",
       "      <td>3</td>\n",
       "      <td>Steven Adams</td>\n",
       "      <td>C</td>\n",
       "    </tr>\n",
       "    <tr>\n",
       "      <th>3</th>\n",
       "      <td>4</td>\n",
       "      <td>Jeff Adrien</td>\n",
       "      <td>PF</td>\n",
       "    </tr>\n",
       "    <tr>\n",
       "      <th>4</th>\n",
       "      <td>5</td>\n",
       "      <td>Arron Afflalo</td>\n",
       "      <td>SG</td>\n",
       "    </tr>\n",
       "  </tbody>\n",
       "</table>\n",
       "</div>"
      ],
      "text/plain": [
       "  Rk         Player Pos\n",
       "0  1     Quincy Acy  PF\n",
       "1  2   Jordan Adams  SG\n",
       "2  3   Steven Adams   C\n",
       "3  4    Jeff Adrien  PF\n",
       "4  5  Arron Afflalo  SG"
      ]
     },
     "execution_count": 17,
     "metadata": {},
     "output_type": "execute_result"
    }
   ],
   "source": [
    "BB_data[0][['Rk','Player','Pos']].head() # when we dont want all columns then we use this method"
   ]
  },
  {
   "cell_type": "code",
   "execution_count": 18,
   "id": "45364773",
   "metadata": {},
   "outputs": [
    {
     "data": {
      "text/html": [
       "<div>\n",
       "<style scoped>\n",
       "    .dataframe tbody tr th:only-of-type {\n",
       "        vertical-align: middle;\n",
       "    }\n",
       "\n",
       "    .dataframe tbody tr th {\n",
       "        vertical-align: top;\n",
       "    }\n",
       "\n",
       "    .dataframe thead th {\n",
       "        text-align: right;\n",
       "    }\n",
       "</style>\n",
       "<table border=\"1\" class=\"dataframe\">\n",
       "  <thead>\n",
       "    <tr style=\"text-align: right;\">\n",
       "      <th></th>\n",
       "      <th>Rk</th>\n",
       "      <th>Player</th>\n",
       "      <th>Pos</th>\n",
       "      <th>Age</th>\n",
       "      <th>Tm</th>\n",
       "      <th>G</th>\n",
       "      <th>GS</th>\n",
       "      <th>MP</th>\n",
       "      <th>FG</th>\n",
       "      <th>FGA</th>\n",
       "      <th>...</th>\n",
       "      <th>FT%</th>\n",
       "      <th>ORB</th>\n",
       "      <th>DRB</th>\n",
       "      <th>TRB</th>\n",
       "      <th>AST</th>\n",
       "      <th>STL</th>\n",
       "      <th>BLK</th>\n",
       "      <th>TOV</th>\n",
       "      <th>PF</th>\n",
       "      <th>PTS</th>\n",
       "    </tr>\n",
       "  </thead>\n",
       "  <tbody>\n",
       "    <tr>\n",
       "      <th>0</th>\n",
       "      <td>1</td>\n",
       "      <td>Quincy Acy</td>\n",
       "      <td>PF</td>\n",
       "      <td>24</td>\n",
       "      <td>NYK</td>\n",
       "      <td>68</td>\n",
       "      <td>22</td>\n",
       "      <td>1287</td>\n",
       "      <td>152</td>\n",
       "      <td>331</td>\n",
       "      <td>...</td>\n",
       "      <td>.784</td>\n",
       "      <td>79</td>\n",
       "      <td>222</td>\n",
       "      <td>301</td>\n",
       "      <td>68</td>\n",
       "      <td>27</td>\n",
       "      <td>22</td>\n",
       "      <td>60</td>\n",
       "      <td>147</td>\n",
       "      <td>398</td>\n",
       "    </tr>\n",
       "    <tr>\n",
       "      <th>1</th>\n",
       "      <td>2</td>\n",
       "      <td>Jordan Adams</td>\n",
       "      <td>SG</td>\n",
       "      <td>20</td>\n",
       "      <td>MEM</td>\n",
       "      <td>30</td>\n",
       "      <td>0</td>\n",
       "      <td>248</td>\n",
       "      <td>35</td>\n",
       "      <td>86</td>\n",
       "      <td>...</td>\n",
       "      <td>.609</td>\n",
       "      <td>9</td>\n",
       "      <td>19</td>\n",
       "      <td>28</td>\n",
       "      <td>16</td>\n",
       "      <td>16</td>\n",
       "      <td>7</td>\n",
       "      <td>14</td>\n",
       "      <td>24</td>\n",
       "      <td>94</td>\n",
       "    </tr>\n",
       "    <tr>\n",
       "      <th>2</th>\n",
       "      <td>3</td>\n",
       "      <td>Steven Adams</td>\n",
       "      <td>C</td>\n",
       "      <td>21</td>\n",
       "      <td>OKC</td>\n",
       "      <td>70</td>\n",
       "      <td>67</td>\n",
       "      <td>1771</td>\n",
       "      <td>217</td>\n",
       "      <td>399</td>\n",
       "      <td>...</td>\n",
       "      <td>.502</td>\n",
       "      <td>199</td>\n",
       "      <td>324</td>\n",
       "      <td>523</td>\n",
       "      <td>66</td>\n",
       "      <td>38</td>\n",
       "      <td>86</td>\n",
       "      <td>99</td>\n",
       "      <td>222</td>\n",
       "      <td>537</td>\n",
       "    </tr>\n",
       "    <tr>\n",
       "      <th>3</th>\n",
       "      <td>4</td>\n",
       "      <td>Jeff Adrien</td>\n",
       "      <td>PF</td>\n",
       "      <td>28</td>\n",
       "      <td>MIN</td>\n",
       "      <td>17</td>\n",
       "      <td>0</td>\n",
       "      <td>215</td>\n",
       "      <td>19</td>\n",
       "      <td>44</td>\n",
       "      <td>...</td>\n",
       "      <td>.579</td>\n",
       "      <td>23</td>\n",
       "      <td>54</td>\n",
       "      <td>77</td>\n",
       "      <td>15</td>\n",
       "      <td>4</td>\n",
       "      <td>9</td>\n",
       "      <td>9</td>\n",
       "      <td>30</td>\n",
       "      <td>60</td>\n",
       "    </tr>\n",
       "    <tr>\n",
       "      <th>4</th>\n",
       "      <td>5</td>\n",
       "      <td>Arron Afflalo</td>\n",
       "      <td>SG</td>\n",
       "      <td>29</td>\n",
       "      <td>TOT</td>\n",
       "      <td>78</td>\n",
       "      <td>72</td>\n",
       "      <td>2502</td>\n",
       "      <td>375</td>\n",
       "      <td>884</td>\n",
       "      <td>...</td>\n",
       "      <td>.843</td>\n",
       "      <td>27</td>\n",
       "      <td>220</td>\n",
       "      <td>247</td>\n",
       "      <td>129</td>\n",
       "      <td>41</td>\n",
       "      <td>7</td>\n",
       "      <td>116</td>\n",
       "      <td>167</td>\n",
       "      <td>1035</td>\n",
       "    </tr>\n",
       "    <tr>\n",
       "      <th>...</th>\n",
       "      <td>...</td>\n",
       "      <td>...</td>\n",
       "      <td>...</td>\n",
       "      <td>...</td>\n",
       "      <td>...</td>\n",
       "      <td>...</td>\n",
       "      <td>...</td>\n",
       "      <td>...</td>\n",
       "      <td>...</td>\n",
       "      <td>...</td>\n",
       "      <td>...</td>\n",
       "      <td>...</td>\n",
       "      <td>...</td>\n",
       "      <td>...</td>\n",
       "      <td>...</td>\n",
       "      <td>...</td>\n",
       "      <td>...</td>\n",
       "      <td>...</td>\n",
       "      <td>...</td>\n",
       "      <td>...</td>\n",
       "      <td>...</td>\n",
       "    </tr>\n",
       "    <tr>\n",
       "      <th>670</th>\n",
       "      <td>490</td>\n",
       "      <td>Thaddeus Young</td>\n",
       "      <td>PF</td>\n",
       "      <td>26</td>\n",
       "      <td>TOT</td>\n",
       "      <td>76</td>\n",
       "      <td>68</td>\n",
       "      <td>2434</td>\n",
       "      <td>451</td>\n",
       "      <td>968</td>\n",
       "      <td>...</td>\n",
       "      <td>.655</td>\n",
       "      <td>127</td>\n",
       "      <td>284</td>\n",
       "      <td>411</td>\n",
       "      <td>173</td>\n",
       "      <td>124</td>\n",
       "      <td>25</td>\n",
       "      <td>117</td>\n",
       "      <td>171</td>\n",
       "      <td>1071</td>\n",
       "    </tr>\n",
       "    <tr>\n",
       "      <th>671</th>\n",
       "      <td>490</td>\n",
       "      <td>Thaddeus Young</td>\n",
       "      <td>PF</td>\n",
       "      <td>26</td>\n",
       "      <td>MIN</td>\n",
       "      <td>48</td>\n",
       "      <td>48</td>\n",
       "      <td>1605</td>\n",
       "      <td>289</td>\n",
       "      <td>641</td>\n",
       "      <td>...</td>\n",
       "      <td>.682</td>\n",
       "      <td>75</td>\n",
       "      <td>170</td>\n",
       "      <td>245</td>\n",
       "      <td>135</td>\n",
       "      <td>86</td>\n",
       "      <td>17</td>\n",
       "      <td>75</td>\n",
       "      <td>115</td>\n",
       "      <td>685</td>\n",
       "    </tr>\n",
       "    <tr>\n",
       "      <th>672</th>\n",
       "      <td>490</td>\n",
       "      <td>Thaddeus Young</td>\n",
       "      <td>PF</td>\n",
       "      <td>26</td>\n",
       "      <td>BRK</td>\n",
       "      <td>28</td>\n",
       "      <td>20</td>\n",
       "      <td>829</td>\n",
       "      <td>162</td>\n",
       "      <td>327</td>\n",
       "      <td>...</td>\n",
       "      <td>.606</td>\n",
       "      <td>52</td>\n",
       "      <td>114</td>\n",
       "      <td>166</td>\n",
       "      <td>38</td>\n",
       "      <td>38</td>\n",
       "      <td>8</td>\n",
       "      <td>42</td>\n",
       "      <td>56</td>\n",
       "      <td>386</td>\n",
       "    </tr>\n",
       "    <tr>\n",
       "      <th>673</th>\n",
       "      <td>491</td>\n",
       "      <td>Cody Zeller</td>\n",
       "      <td>C</td>\n",
       "      <td>22</td>\n",
       "      <td>CHO</td>\n",
       "      <td>62</td>\n",
       "      <td>45</td>\n",
       "      <td>1487</td>\n",
       "      <td>172</td>\n",
       "      <td>373</td>\n",
       "      <td>...</td>\n",
       "      <td>.774</td>\n",
       "      <td>97</td>\n",
       "      <td>265</td>\n",
       "      <td>362</td>\n",
       "      <td>100</td>\n",
       "      <td>34</td>\n",
       "      <td>49</td>\n",
       "      <td>62</td>\n",
       "      <td>156</td>\n",
       "      <td>472</td>\n",
       "    </tr>\n",
       "    <tr>\n",
       "      <th>674</th>\n",
       "      <td>492</td>\n",
       "      <td>Tyler Zeller</td>\n",
       "      <td>C</td>\n",
       "      <td>25</td>\n",
       "      <td>BOS</td>\n",
       "      <td>82</td>\n",
       "      <td>59</td>\n",
       "      <td>1731</td>\n",
       "      <td>340</td>\n",
       "      <td>619</td>\n",
       "      <td>...</td>\n",
       "      <td>.823</td>\n",
       "      <td>146</td>\n",
       "      <td>319</td>\n",
       "      <td>465</td>\n",
       "      <td>113</td>\n",
       "      <td>18</td>\n",
       "      <td>52</td>\n",
       "      <td>76</td>\n",
       "      <td>205</td>\n",
       "      <td>833</td>\n",
       "    </tr>\n",
       "  </tbody>\n",
       "</table>\n",
       "<p>675 rows × 30 columns</p>\n",
       "</div>"
      ],
      "text/plain": [
       "      Rk          Player Pos Age   Tm   G  GS    MP   FG  FGA  ...   FT%  ORB  \\\n",
       "0      1      Quincy Acy  PF  24  NYK  68  22  1287  152  331  ...  .784   79   \n",
       "1      2    Jordan Adams  SG  20  MEM  30   0   248   35   86  ...  .609    9   \n",
       "2      3    Steven Adams   C  21  OKC  70  67  1771  217  399  ...  .502  199   \n",
       "3      4     Jeff Adrien  PF  28  MIN  17   0   215   19   44  ...  .579   23   \n",
       "4      5   Arron Afflalo  SG  29  TOT  78  72  2502  375  884  ...  .843   27   \n",
       "..   ...             ...  ..  ..  ...  ..  ..   ...  ...  ...  ...   ...  ...   \n",
       "670  490  Thaddeus Young  PF  26  TOT  76  68  2434  451  968  ...  .655  127   \n",
       "671  490  Thaddeus Young  PF  26  MIN  48  48  1605  289  641  ...  .682   75   \n",
       "672  490  Thaddeus Young  PF  26  BRK  28  20   829  162  327  ...  .606   52   \n",
       "673  491     Cody Zeller   C  22  CHO  62  45  1487  172  373  ...  .774   97   \n",
       "674  492    Tyler Zeller   C  25  BOS  82  59  1731  340  619  ...  .823  146   \n",
       "\n",
       "     DRB  TRB  AST  STL BLK  TOV   PF   PTS  \n",
       "0    222  301   68   27  22   60  147   398  \n",
       "1     19   28   16   16   7   14   24    94  \n",
       "2    324  523   66   38  86   99  222   537  \n",
       "3     54   77   15    4   9    9   30    60  \n",
       "4    220  247  129   41   7  116  167  1035  \n",
       "..   ...  ...  ...  ...  ..  ...  ...   ...  \n",
       "670  284  411  173  124  25  117  171  1071  \n",
       "671  170  245  135   86  17   75  115   685  \n",
       "672  114  166   38   38   8   42   56   386  \n",
       "673  265  362  100   34  49   62  156   472  \n",
       "674  319  465  113   18  52   76  205   833  \n",
       "\n",
       "[675 rows x 30 columns]"
      ]
     },
     "execution_count": 18,
     "metadata": {},
     "output_type": "execute_result"
    }
   ],
   "source": [
    "BB_data[0]"
   ]
  },
  {
   "cell_type": "markdown",
   "id": "a7d3b84b",
   "metadata": {},
   "source": [
    "If You want to print all the rows ,you need to set as below and display the dataset"
   ]
  },
  {
   "cell_type": "code",
   "execution_count": null,
   "id": "3da7e8ac",
   "metadata": {},
   "outputs": [],
   "source": [
    "pd.set_option('display.max_rows',None)"
   ]
  },
  {
   "cell_type": "code",
   "execution_count": null,
   "id": "caf63d26",
   "metadata": {},
   "outputs": [],
   "source": [
    "# Any Number of rows ,you want by writing as below"
   ]
  },
  {
   "cell_type": "code",
   "execution_count": null,
   "id": "fc96843b",
   "metadata": {},
   "outputs": [],
   "source": [
    "pd.options.display.max_rows=4"
   ]
  },
  {
   "cell_type": "markdown",
   "id": "085b5b34",
   "metadata": {},
   "source": [
    "# Data Time Manipulation"
   ]
  },
  {
   "cell_type": "code",
   "execution_count": 19,
   "id": "1d7a08e3",
   "metadata": {},
   "outputs": [],
   "source": [
    "import numpy as np"
   ]
  },
  {
   "cell_type": "code",
   "execution_count": 20,
   "id": "c6845489",
   "metadata": {},
   "outputs": [],
   "source": [
    "import pandas as pd"
   ]
  },
  {
   "cell_type": "code",
   "execution_count": 32,
   "id": "b9bace12",
   "metadata": {},
   "outputs": [],
   "source": [
    "date_range=pd.date_range('4/12/2021',periods=12)\n",
    "dates=pd.DataFrame(date_range,columns=['Date'])"
   ]
  },
  {
   "cell_type": "code",
   "execution_count": null,
   "id": "042fdddf",
   "metadata": {},
   "outputs": [],
   "source": []
  },
  {
   "cell_type": "code",
   "execution_count": 33,
   "id": "2c27e6a1",
   "metadata": {},
   "outputs": [
    {
     "data": {
      "text/html": [
       "<div>\n",
       "<style scoped>\n",
       "    .dataframe tbody tr th:only-of-type {\n",
       "        vertical-align: middle;\n",
       "    }\n",
       "\n",
       "    .dataframe tbody tr th {\n",
       "        vertical-align: top;\n",
       "    }\n",
       "\n",
       "    .dataframe thead th {\n",
       "        text-align: right;\n",
       "    }\n",
       "</style>\n",
       "<table border=\"1\" class=\"dataframe\">\n",
       "  <thead>\n",
       "    <tr style=\"text-align: right;\">\n",
       "      <th></th>\n",
       "      <th>Date</th>\n",
       "    </tr>\n",
       "  </thead>\n",
       "  <tbody>\n",
       "    <tr>\n",
       "      <th>0</th>\n",
       "      <td>2021-04-12</td>\n",
       "    </tr>\n",
       "    <tr>\n",
       "      <th>1</th>\n",
       "      <td>2021-04-13</td>\n",
       "    </tr>\n",
       "    <tr>\n",
       "      <th>2</th>\n",
       "      <td>2021-04-14</td>\n",
       "    </tr>\n",
       "    <tr>\n",
       "      <th>3</th>\n",
       "      <td>2021-04-15</td>\n",
       "    </tr>\n",
       "    <tr>\n",
       "      <th>4</th>\n",
       "      <td>2021-04-16</td>\n",
       "    </tr>\n",
       "    <tr>\n",
       "      <th>5</th>\n",
       "      <td>2021-04-17</td>\n",
       "    </tr>\n",
       "    <tr>\n",
       "      <th>6</th>\n",
       "      <td>2021-04-18</td>\n",
       "    </tr>\n",
       "    <tr>\n",
       "      <th>7</th>\n",
       "      <td>2021-04-19</td>\n",
       "    </tr>\n",
       "    <tr>\n",
       "      <th>8</th>\n",
       "      <td>2021-04-20</td>\n",
       "    </tr>\n",
       "    <tr>\n",
       "      <th>9</th>\n",
       "      <td>2021-04-21</td>\n",
       "    </tr>\n",
       "    <tr>\n",
       "      <th>10</th>\n",
       "      <td>2021-04-22</td>\n",
       "    </tr>\n",
       "    <tr>\n",
       "      <th>11</th>\n",
       "      <td>2021-04-23</td>\n",
       "    </tr>\n",
       "  </tbody>\n",
       "</table>\n",
       "</div>"
      ],
      "text/plain": [
       "         Date\n",
       "0  2021-04-12\n",
       "1  2021-04-13\n",
       "2  2021-04-14\n",
       "3  2021-04-15\n",
       "4  2021-04-16\n",
       "5  2021-04-17\n",
       "6  2021-04-18\n",
       "7  2021-04-19\n",
       "8  2021-04-20\n",
       "9  2021-04-21\n",
       "10 2021-04-22\n",
       "11 2021-04-23"
      ]
     },
     "execution_count": 33,
     "metadata": {},
     "output_type": "execute_result"
    }
   ],
   "source": [
    "dates"
   ]
  },
  {
   "cell_type": "code",
   "execution_count": 35,
   "id": "30886a8f",
   "metadata": {},
   "outputs": [],
   "source": [
    "dates['Day']=dates['Date'].dt.day\n",
    "dates['Month']=dates['Date'].dt.month\n",
    "dates['Year']=dates['Date'].dt.year"
   ]
  },
  {
   "cell_type": "code",
   "execution_count": 36,
   "id": "abe2c8a3",
   "metadata": {},
   "outputs": [
    {
     "data": {
      "text/html": [
       "<div>\n",
       "<style scoped>\n",
       "    .dataframe tbody tr th:only-of-type {\n",
       "        vertical-align: middle;\n",
       "    }\n",
       "\n",
       "    .dataframe tbody tr th {\n",
       "        vertical-align: top;\n",
       "    }\n",
       "\n",
       "    .dataframe thead th {\n",
       "        text-align: right;\n",
       "    }\n",
       "</style>\n",
       "<table border=\"1\" class=\"dataframe\">\n",
       "  <thead>\n",
       "    <tr style=\"text-align: right;\">\n",
       "      <th></th>\n",
       "      <th>Date</th>\n",
       "      <th>Day</th>\n",
       "      <th>Month</th>\n",
       "      <th>Year</th>\n",
       "    </tr>\n",
       "  </thead>\n",
       "  <tbody>\n",
       "    <tr>\n",
       "      <th>0</th>\n",
       "      <td>2021-04-12</td>\n",
       "      <td>12</td>\n",
       "      <td>4</td>\n",
       "      <td>2021</td>\n",
       "    </tr>\n",
       "    <tr>\n",
       "      <th>1</th>\n",
       "      <td>2021-04-13</td>\n",
       "      <td>13</td>\n",
       "      <td>4</td>\n",
       "      <td>2021</td>\n",
       "    </tr>\n",
       "    <tr>\n",
       "      <th>2</th>\n",
       "      <td>2021-04-14</td>\n",
       "      <td>14</td>\n",
       "      <td>4</td>\n",
       "      <td>2021</td>\n",
       "    </tr>\n",
       "    <tr>\n",
       "      <th>3</th>\n",
       "      <td>2021-04-15</td>\n",
       "      <td>15</td>\n",
       "      <td>4</td>\n",
       "      <td>2021</td>\n",
       "    </tr>\n",
       "    <tr>\n",
       "      <th>4</th>\n",
       "      <td>2021-04-16</td>\n",
       "      <td>16</td>\n",
       "      <td>4</td>\n",
       "      <td>2021</td>\n",
       "    </tr>\n",
       "    <tr>\n",
       "      <th>5</th>\n",
       "      <td>2021-04-17</td>\n",
       "      <td>17</td>\n",
       "      <td>4</td>\n",
       "      <td>2021</td>\n",
       "    </tr>\n",
       "    <tr>\n",
       "      <th>6</th>\n",
       "      <td>2021-04-18</td>\n",
       "      <td>18</td>\n",
       "      <td>4</td>\n",
       "      <td>2021</td>\n",
       "    </tr>\n",
       "    <tr>\n",
       "      <th>7</th>\n",
       "      <td>2021-04-19</td>\n",
       "      <td>19</td>\n",
       "      <td>4</td>\n",
       "      <td>2021</td>\n",
       "    </tr>\n",
       "    <tr>\n",
       "      <th>8</th>\n",
       "      <td>2021-04-20</td>\n",
       "      <td>20</td>\n",
       "      <td>4</td>\n",
       "      <td>2021</td>\n",
       "    </tr>\n",
       "    <tr>\n",
       "      <th>9</th>\n",
       "      <td>2021-04-21</td>\n",
       "      <td>21</td>\n",
       "      <td>4</td>\n",
       "      <td>2021</td>\n",
       "    </tr>\n",
       "    <tr>\n",
       "      <th>10</th>\n",
       "      <td>2021-04-22</td>\n",
       "      <td>22</td>\n",
       "      <td>4</td>\n",
       "      <td>2021</td>\n",
       "    </tr>\n",
       "    <tr>\n",
       "      <th>11</th>\n",
       "      <td>2021-04-23</td>\n",
       "      <td>23</td>\n",
       "      <td>4</td>\n",
       "      <td>2021</td>\n",
       "    </tr>\n",
       "  </tbody>\n",
       "</table>\n",
       "</div>"
      ],
      "text/plain": [
       "         Date  Day  Month  Year\n",
       "0  2021-04-12   12      4  2021\n",
       "1  2021-04-13   13      4  2021\n",
       "2  2021-04-14   14      4  2021\n",
       "3  2021-04-15   15      4  2021\n",
       "4  2021-04-16   16      4  2021\n",
       "5  2021-04-17   17      4  2021\n",
       "6  2021-04-18   18      4  2021\n",
       "7  2021-04-19   19      4  2021\n",
       "8  2021-04-20   20      4  2021\n",
       "9  2021-04-21   21      4  2021\n",
       "10 2021-04-22   22      4  2021\n",
       "11 2021-04-23   23      4  2021"
      ]
     },
     "execution_count": 36,
     "metadata": {},
     "output_type": "execute_result"
    }
   ],
   "source": [
    "dates"
   ]
  },
  {
   "cell_type": "code",
   "execution_count": null,
   "id": "8d4e79f1",
   "metadata": {},
   "outputs": [],
   "source": []
  },
  {
   "cell_type": "code",
   "execution_count": 37,
   "id": "8dbf4879",
   "metadata": {},
   "outputs": [
    {
     "data": {
      "text/plain": [
       "{'Date_Time': ['Jan 1 12:00 AM', 'Jan 2 12:00 AM']}"
      ]
     },
     "execution_count": 37,
     "metadata": {},
     "output_type": "execute_result"
    }
   ],
   "source": [
    "{'Date_Time':['Jan 1 12:00 AM','Jan 2 12:00 AM']}"
   ]
  },
  {
   "cell_type": "markdown",
   "id": "73e7f43b",
   "metadata": {},
   "source": [
    "Example to convert object date into proper date format"
   ]
  },
  {
   "cell_type": "code",
   "execution_count": 38,
   "id": "ef21718f",
   "metadata": {},
   "outputs": [],
   "source": [
    "df=pd.DataFrame({'Date_Time':['Jan 1 12:00 AM','Jan 2 12:00 AM']})"
   ]
  },
  {
   "cell_type": "code",
   "execution_count": 39,
   "id": "35b2cafb",
   "metadata": {},
   "outputs": [
    {
     "data": {
      "text/html": [
       "<div>\n",
       "<style scoped>\n",
       "    .dataframe tbody tr th:only-of-type {\n",
       "        vertical-align: middle;\n",
       "    }\n",
       "\n",
       "    .dataframe tbody tr th {\n",
       "        vertical-align: top;\n",
       "    }\n",
       "\n",
       "    .dataframe thead th {\n",
       "        text-align: right;\n",
       "    }\n",
       "</style>\n",
       "<table border=\"1\" class=\"dataframe\">\n",
       "  <thead>\n",
       "    <tr style=\"text-align: right;\">\n",
       "      <th></th>\n",
       "      <th>Date_Time</th>\n",
       "    </tr>\n",
       "  </thead>\n",
       "  <tbody>\n",
       "    <tr>\n",
       "      <th>0</th>\n",
       "      <td>Jan 1 12:00 AM</td>\n",
       "    </tr>\n",
       "    <tr>\n",
       "      <th>1</th>\n",
       "      <td>Jan 2 12:00 AM</td>\n",
       "    </tr>\n",
       "  </tbody>\n",
       "</table>\n",
       "</div>"
      ],
      "text/plain": [
       "        Date_Time\n",
       "0  Jan 1 12:00 AM\n",
       "1  Jan 2 12:00 AM"
      ]
     },
     "execution_count": 39,
     "metadata": {},
     "output_type": "execute_result"
    }
   ],
   "source": [
    "df"
   ]
  },
  {
   "cell_type": "code",
   "execution_count": 40,
   "id": "96a10c05",
   "metadata": {},
   "outputs": [
    {
     "data": {
      "text/plain": [
       "pandas.core.frame.DataFrame"
      ]
     },
     "execution_count": 40,
     "metadata": {},
     "output_type": "execute_result"
    }
   ],
   "source": [
    "type(df)"
   ]
  },
  {
   "cell_type": "code",
   "execution_count": null,
   "id": "12b59669",
   "metadata": {},
   "outputs": [],
   "source": []
  },
  {
   "cell_type": "code",
   "execution_count": null,
   "id": "70aa3730",
   "metadata": {},
   "outputs": [],
   "source": []
  },
  {
   "cell_type": "markdown",
   "id": "39f5f03a",
   "metadata": {},
   "source": [
    "# Visit https://docs.python.org/3/library/datetime.html"
   ]
  },
  {
   "cell_type": "code",
   "execution_count": 41,
   "id": "2d3ea808",
   "metadata": {},
   "outputs": [],
   "source": [
    "df['Date']=pd.to_datetime(df['Date_Time'],format='%b %d %I:%M %p')"
   ]
  },
  {
   "cell_type": "code",
   "execution_count": 42,
   "id": "eeb68217",
   "metadata": {},
   "outputs": [
    {
     "data": {
      "text/html": [
       "<div>\n",
       "<style scoped>\n",
       "    .dataframe tbody tr th:only-of-type {\n",
       "        vertical-align: middle;\n",
       "    }\n",
       "\n",
       "    .dataframe tbody tr th {\n",
       "        vertical-align: top;\n",
       "    }\n",
       "\n",
       "    .dataframe thead th {\n",
       "        text-align: right;\n",
       "    }\n",
       "</style>\n",
       "<table border=\"1\" class=\"dataframe\">\n",
       "  <thead>\n",
       "    <tr style=\"text-align: right;\">\n",
       "      <th></th>\n",
       "      <th>Date_Time</th>\n",
       "      <th>Date</th>\n",
       "    </tr>\n",
       "  </thead>\n",
       "  <tbody>\n",
       "    <tr>\n",
       "      <th>0</th>\n",
       "      <td>Jan 1 12:00 AM</td>\n",
       "      <td>1900-01-01</td>\n",
       "    </tr>\n",
       "    <tr>\n",
       "      <th>1</th>\n",
       "      <td>Jan 2 12:00 AM</td>\n",
       "      <td>1900-01-02</td>\n",
       "    </tr>\n",
       "  </tbody>\n",
       "</table>\n",
       "</div>"
      ],
      "text/plain": [
       "        Date_Time       Date\n",
       "0  Jan 1 12:00 AM 1900-01-01\n",
       "1  Jan 2 12:00 AM 1900-01-02"
      ]
     },
     "execution_count": 42,
     "metadata": {},
     "output_type": "execute_result"
    }
   ],
   "source": [
    "df"
   ]
  },
  {
   "cell_type": "code",
   "execution_count": 43,
   "id": "1a5f31fb",
   "metadata": {},
   "outputs": [],
   "source": [
    "df['Day']=df['Date'].dt.day\n"
   ]
  },
  {
   "cell_type": "code",
   "execution_count": 44,
   "id": "9f8bab5e",
   "metadata": {},
   "outputs": [
    {
     "name": "stdout",
     "output_type": "stream",
     "text": [
      "        Date_Time       Date  Day  Month  Year\n",
      "0  Jan 1 12:00 AM 1900-01-01    1      1  1900\n",
      "1  Jan 2 12:00 AM 1900-01-02    2      1  1900\n"
     ]
    }
   ],
   "source": [
    "df['Month']=df['Date'].dt.month\n",
    "df['Year']=df['Date'].dt.year\n",
    "print(df)"
   ]
  },
  {
   "cell_type": "code",
   "execution_count": 45,
   "id": "dfeda9d3",
   "metadata": {},
   "outputs": [],
   "source": [
    "#Might You have question why its show year as 1990.. because If there is not available year then the default year is 1900"
   ]
  },
  {
   "cell_type": "code",
   "execution_count": null,
   "id": "96ef7cbb",
   "metadata": {},
   "outputs": [],
   "source": []
  },
  {
   "cell_type": "code",
   "execution_count": null,
   "id": "7d7fa122",
   "metadata": {},
   "outputs": [],
   "source": []
  }
 ],
 "metadata": {
  "kernelspec": {
   "display_name": "Python 3 (ipykernel)",
   "language": "python",
   "name": "python3"
  },
  "language_info": {
   "codemirror_mode": {
    "name": "ipython",
    "version": 3
   },
   "file_extension": ".py",
   "mimetype": "text/x-python",
   "name": "python",
   "nbconvert_exporter": "python",
   "pygments_lexer": "ipython3",
   "version": "3.10.9"
  }
 },
 "nbformat": 4,
 "nbformat_minor": 5
}
