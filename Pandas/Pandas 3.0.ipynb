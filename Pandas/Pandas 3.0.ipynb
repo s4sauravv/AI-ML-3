{
 "cells": [
  {
   "cell_type": "markdown",
   "id": "0bbc5974",
   "metadata": {},
   "source": [
    "\n",
    "# Pandas Continue\n",
    "# Data Cleaning"
   ]
  },
  {
   "cell_type": "code",
   "execution_count": null,
   "id": "2a5b6312",
   "metadata": {},
   "outputs": [],
   "source": [
    "#Data Cleaning (IMP Part of Pandas)"
   ]
  },
  {
   "cell_type": "code",
   "execution_count": null,
   "id": "bb9d7b66",
   "metadata": {},
   "outputs": [],
   "source": [
    "import pandas as pd\n",
    "import numpy as np\n"
   ]
  },
  {
   "cell_type": "code",
   "execution_count": null,
   "id": "0d1879a0",
   "metadata": {},
   "outputs": [],
   "source": [
    "val1=np.array([1,np.nan,7,18])"
   ]
  },
  {
   "cell_type": "code",
   "execution_count": null,
   "id": "be6caa52",
   "metadata": {},
   "outputs": [],
   "source": []
  },
  {
   "cell_type": "markdown",
   "id": "3074b8bd",
   "metadata": {},
   "source": [
    "Notice that numpy prefered a native floating point type this array this means that unlike the object\n",
    "array supports fast operations pushed into compiled code you should be aware that Nan is a bit like data virus it infect any other object it touches .Regardless of the operation , the result of arithmetic with Nan will be another Nan."
   ]
  },
  {
   "cell_type": "code",
   "execution_count": null,
   "id": "657c6704",
   "metadata": {},
   "outputs": [],
   "source": [
    "6 + np.nan # Its mean we dont add any number with nan"
   ]
  },
  {
   "cell_type": "code",
   "execution_count": null,
   "id": "bc02462d",
   "metadata": {},
   "outputs": [],
   "source": [
    "7 * np.nan # Its its also not Multiply with nan"
   ]
  },
  {
   "cell_type": "markdown",
   "id": "52dedd3d",
   "metadata": {},
   "source": [
    "Numpy does provide some special aggregations that will ignore these missing values "
   ]
  },
  {
   "cell_type": "code",
   "execution_count": null,
   "id": "96ca9f46",
   "metadata": {},
   "outputs": [],
   "source": [
    "val1"
   ]
  },
  {
   "cell_type": "code",
   "execution_count": null,
   "id": "bbf595de",
   "metadata": {},
   "outputs": [],
   "source": [
    "np.nansum(val1) #Look here we add all data"
   ]
  },
  {
   "cell_type": "markdown",
   "id": "75a78a3d",
   "metadata": {},
   "source": [
    "Keep in mind that Nan is specifically a floating point value , there is no equivalent Nan value for integers, String, or other types"
   ]
  },
  {
   "cell_type": "markdown",
   "id": "501e66c8",
   "metadata": {},
   "source": [
    "# Nan and None in Pandas "
   ]
  },
  {
   "cell_type": "markdown",
   "id": "0cd4a472",
   "metadata": {},
   "source": [
    "Nan and None both have their place ,and Pandas is built to Handle the two of them nearly interchangeably , converting between them where appropriate."
   ]
  },
  {
   "cell_type": "code",
   "execution_count": null,
   "id": "f05a7482",
   "metadata": {},
   "outputs": [],
   "source": [
    "pd.Series([1,np.nan,2,None])"
   ]
  },
  {
   "cell_type": "markdown",
   "id": "2a02bcf5",
   "metadata": {},
   "source": [
    "# Operating on Null Values "
   ]
  },
  {
   "cell_type": "markdown",
   "id": "89f8714d",
   "metadata": {},
   "source": [
    "As we have seen, Pandas treats None and Nan as essentially interchangeable for indicating Missing or null values .To facilitate this convention , there are several usefull methods for deleting , removing,and replacing null values in pandas data structure .That are->"
   ]
  },
  {
   "cell_type": "code",
   "execution_count": null,
   "id": "25560968",
   "metadata": {},
   "outputs": [],
   "source": [
    "# 1-isnull():Generate a boolean mask indicating missing values\n",
    "# 2-notnull():Opposite of isnull()\n",
    "# 3-dropna():Return a copy of the data with missing values filled or imputed\n",
    "# 4-fillna():Return a copy of the data with missing values filled or imputed"
   ]
  },
  {
   "cell_type": "markdown",
   "id": "70692034",
   "metadata": {},
   "source": [
    "We will conclude this section with a breif exploration and demonstration of these routines"
   ]
  },
  {
   "cell_type": "code",
   "execution_count": null,
   "id": "fb59b1ce",
   "metadata": {},
   "outputs": [],
   "source": [
    "#Create DataFrame with Missing Values"
   ]
  },
  {
   "cell_type": "code",
   "execution_count": null,
   "id": "ce2672a6",
   "metadata": {},
   "outputs": [],
   "source": [
    "raw_data={'first_name':['Jason',np.nan,'Tina','Jake','Amy','Madhu'],\n",
    "         'last_name':['Miller',np.nan,'Ali','Milner','Cooze','Patil'],\n",
    "         'age':[42,np.nan,36,24,73,25],\n",
    "         'sex':['M',np.nan,'F','M','F','F'],\n",
    "         'unit-1':[4,np.nan,np.nan,2,3,4],\n",
    "         'unit-2':[3,np.nan,np.nan,4,4,4]}\n",
    "df=pd.DataFrame(raw_data,columns=['first_name','last_name','age','sex','unit-1','unit-2'])"
   ]
  },
  {
   "cell_type": "code",
   "execution_count": null,
   "id": "1c4aa1ad",
   "metadata": {},
   "outputs": [],
   "source": [
    "df"
   ]
  },
  {
   "cell_type": "markdown",
   "id": "be6e391f",
   "metadata": {},
   "source": [
    "# Drop Missing Observation"
   ]
  },
  {
   "cell_type": "code",
   "execution_count": null,
   "id": "acfabe6a",
   "metadata": {},
   "outputs": [],
   "source": [
    "df_no_missing=df.dropna() #Here we are droping all values which have nan values\n",
    "df_no_missing"
   ]
  },
  {
   "cell_type": "markdown",
   "id": "210d00ff",
   "metadata": {},
   "source": [
    "# Drop rows where all cells in that row is Na"
   ]
  },
  {
   "cell_type": "code",
   "execution_count": null,
   "id": "cd0ff307",
   "metadata": {},
   "outputs": [],
   "source": [
    "\n",
    "df"
   ]
  },
  {
   "cell_type": "code",
   "execution_count": null,
   "id": "629027a9",
   "metadata": {},
   "outputs": [],
   "source": [
    "#Rows that has all Nan's Will be removes"
   ]
  },
  {
   "cell_type": "code",
   "execution_count": null,
   "id": "63b9a746",
   "metadata": {},
   "outputs": [],
   "source": [
    "df_cleaned=df.dropna(how='all')#Its mean if there is any row which have all nan values this formula will drop the rows\n",
    "df_cleaned"
   ]
  },
  {
   "cell_type": "code",
   "execution_count": null,
   "id": "ae1455df",
   "metadata": {},
   "outputs": [],
   "source": [
    "#Craete a new Column full of missing values "
   ]
  },
  {
   "cell_type": "code",
   "execution_count": null,
   "id": "74d21d2d",
   "metadata": {},
   "outputs": [],
   "source": [
    "df['final_score']=np.nan\n",
    "df"
   ]
  },
  {
   "cell_type": "code",
   "execution_count": null,
   "id": "898d4ee3",
   "metadata": {},
   "outputs": [],
   "source": [
    "#Drop Column if they only contain Missing Values"
   ]
  },
  {
   "cell_type": "code",
   "execution_count": null,
   "id": "50f1b1c8",
   "metadata": {},
   "outputs": [],
   "source": [
    "df.dropna(axis=1,how='all')"
   ]
  },
  {
   "cell_type": "markdown",
   "id": "9ba63ffe",
   "metadata": {},
   "source": [
    "# Fillna"
   ]
  },
  {
   "cell_type": "code",
   "execution_count": null,
   "id": "ff8f65e1",
   "metadata": {},
   "outputs": [],
   "source": [
    "df"
   ]
  },
  {
   "cell_type": "code",
   "execution_count": null,
   "id": "cd1f2ae6",
   "metadata": {},
   "outputs": [],
   "source": [
    "df.fillna(0)\n",
    "#See there all nan values is filled with 0, we have rights to take any values.in place of 0."
   ]
  },
  {
   "cell_type": "code",
   "execution_count": null,
   "id": "9ead27b4",
   "metadata": {},
   "outputs": [],
   "source": [
    "#Fill in Missing in unit1 with the mean values of unit 1\n",
    "#inplace = True,means that changes are saved to the df right away"
   ]
  },
  {
   "cell_type": "code",
   "execution_count": null,
   "id": "8909cce1",
   "metadata": {},
   "outputs": [],
   "source": [
    "df['unit-1'].fillna(df['unit-1'].mean(),inplace=True)"
   ]
  },
  {
   "cell_type": "code",
   "execution_count": null,
   "id": "69f0390d",
   "metadata": {},
   "outputs": [],
   "source": [
    "df"
   ]
  },
  {
   "cell_type": "code",
   "execution_count": null,
   "id": "13aa0b46",
   "metadata": {},
   "outputs": [],
   "source": [
    "#Fill in the Missing in unit-2 with each sex's mean value of unit-2"
   ]
  },
  {
   "cell_type": "code",
   "execution_count": null,
   "id": "01b7ef0c",
   "metadata": {},
   "outputs": [],
   "source": [
    "df['unit-2'].fillna(df.groupby('sex')['unit-2'].transform('mean'),inplace=True)"
   ]
  },
  {
   "cell_type": "code",
   "execution_count": null,
   "id": "e585991d",
   "metadata": {},
   "outputs": [],
   "source": [
    "df"
   ]
  },
  {
   "cell_type": "code",
   "execution_count": null,
   "id": "5c01509e",
   "metadata": {},
   "outputs": [],
   "source": [
    "#Lets Learn about Back Fill"
   ]
  },
  {
   "cell_type": "code",
   "execution_count": null,
   "id": "5db6c621",
   "metadata": {},
   "outputs": [],
   "source": [
    "df.fillna(method='bfill')"
   ]
  },
  {
   "cell_type": "code",
   "execution_count": null,
   "id": "7b541b7f",
   "metadata": {},
   "outputs": [],
   "source": [
    "#Lets Learn about Forword Fill"
   ]
  },
  {
   "cell_type": "code",
   "execution_count": null,
   "id": "c6e89e70",
   "metadata": {},
   "outputs": [],
   "source": [
    "df.fillna(method='ffill',inplace=True)\n",
    "df"
   ]
  },
  {
   "cell_type": "code",
   "execution_count": null,
   "id": "cb70e9ce",
   "metadata": {},
   "outputs": [],
   "source": [
    "#fill Final-Score"
   ]
  },
  {
   "cell_type": "code",
   "execution_count": null,
   "id": "119ed42e",
   "metadata": {},
   "outputs": [],
   "source": [
    "df['final_score'].fillna(df['unit-1']+df['unit-2'],inplace=True)\n",
    "df"
   ]
  },
  {
   "cell_type": "code",
   "execution_count": null,
   "id": "3bfe2efd",
   "metadata": {},
   "outputs": [],
   "source": [
    "df['Location']='Benglore'"
   ]
  },
  {
   "cell_type": "code",
   "execution_count": null,
   "id": "a6633658",
   "metadata": {},
   "outputs": [],
   "source": [
    "df"
   ]
  },
  {
   "cell_type": "markdown",
   "id": "7ad75b51",
   "metadata": {},
   "source": [
    "# Hierarchical indexing\n",
    "upto this point focused primarily on one dimensional and two  dimensional objects ,respectively often it is useful to go beyond this and store higher dimensional data that is data indexed by more or two keys, while pandas does provide panel and panel 4D .objects that natively handle three dimension and four dimensional data.This is a far more common pattern in practice is to make use of hierarchical indexing (also known as multiindexing ) to incorporate multiple index levels with a single index in this way higher dimensional data can be compactly represent with the familier one dimensional series and two dimensional Data-Frame objects\n",
    "\n",
    "In This Section, we will traverse across the direct creation of multiindex objects consideration when indexing ,slicing and computing statistics across multiple indexed data and useful routines for conversion between simple and hierarchically indexed -represtations of your data\n",
    "\n",
    "We begin with standard imports"
   ]
  },
  {
   "cell_type": "code",
   "execution_count": 27,
   "id": "c77474f4",
   "metadata": {},
   "outputs": [],
   "source": [
    "import pandas as pd"
   ]
  },
  {
   "cell_type": "code",
   "execution_count": 28,
   "id": "ffd382bf",
   "metadata": {},
   "outputs": [],
   "source": [
    "raw_data={'company':['Google','Google','Google','Google','Facebook','Facebook','Facebook','Facebook','Amazon','Amazon','Amazon','Amazon'],\n",
    "         'project':['1st','1st','2nd','2nd','1st','1st','2nd','2nd','1st','1st','2nd','2nd'],\n",
    "         'incharge':['sunder','ruth','benjamin','serger','mark','shery','eduardo','david','jeffrey','andy','keith','edilth'],\n",
    "         'sales(in million)':[54,24,31,12,23,24,34,31,32,23,52,13],\n",
    "         'profit(in million)':[14,8,9,4,10,11,14,13,12,7,22,4]}\n",
    "df=pd.DataFrame(raw_data,columns=['company','project','incharge','sales(in million)','profit(in million)'])"
   ]
  },
  {
   "cell_type": "code",
   "execution_count": 29,
   "id": "f1e13897",
   "metadata": {},
   "outputs": [
    {
     "data": {
      "text/html": [
       "<div>\n",
       "<style scoped>\n",
       "    .dataframe tbody tr th:only-of-type {\n",
       "        vertical-align: middle;\n",
       "    }\n",
       "\n",
       "    .dataframe tbody tr th {\n",
       "        vertical-align: top;\n",
       "    }\n",
       "\n",
       "    .dataframe thead th {\n",
       "        text-align: right;\n",
       "    }\n",
       "</style>\n",
       "<table border=\"1\" class=\"dataframe\">\n",
       "  <thead>\n",
       "    <tr style=\"text-align: right;\">\n",
       "      <th></th>\n",
       "      <th>company</th>\n",
       "      <th>project</th>\n",
       "      <th>incharge</th>\n",
       "      <th>sales(in million)</th>\n",
       "      <th>profit(in million)</th>\n",
       "    </tr>\n",
       "  </thead>\n",
       "  <tbody>\n",
       "    <tr>\n",
       "      <th>0</th>\n",
       "      <td>Google</td>\n",
       "      <td>1st</td>\n",
       "      <td>sunder</td>\n",
       "      <td>54</td>\n",
       "      <td>14</td>\n",
       "    </tr>\n",
       "    <tr>\n",
       "      <th>1</th>\n",
       "      <td>Google</td>\n",
       "      <td>1st</td>\n",
       "      <td>ruth</td>\n",
       "      <td>24</td>\n",
       "      <td>8</td>\n",
       "    </tr>\n",
       "    <tr>\n",
       "      <th>2</th>\n",
       "      <td>Google</td>\n",
       "      <td>2nd</td>\n",
       "      <td>benjamin</td>\n",
       "      <td>31</td>\n",
       "      <td>9</td>\n",
       "    </tr>\n",
       "    <tr>\n",
       "      <th>3</th>\n",
       "      <td>Google</td>\n",
       "      <td>2nd</td>\n",
       "      <td>serger</td>\n",
       "      <td>12</td>\n",
       "      <td>4</td>\n",
       "    </tr>\n",
       "    <tr>\n",
       "      <th>4</th>\n",
       "      <td>Facebook</td>\n",
       "      <td>1st</td>\n",
       "      <td>mark</td>\n",
       "      <td>23</td>\n",
       "      <td>10</td>\n",
       "    </tr>\n",
       "    <tr>\n",
       "      <th>5</th>\n",
       "      <td>Facebook</td>\n",
       "      <td>1st</td>\n",
       "      <td>shery</td>\n",
       "      <td>24</td>\n",
       "      <td>11</td>\n",
       "    </tr>\n",
       "    <tr>\n",
       "      <th>6</th>\n",
       "      <td>Facebook</td>\n",
       "      <td>2nd</td>\n",
       "      <td>eduardo</td>\n",
       "      <td>34</td>\n",
       "      <td>14</td>\n",
       "    </tr>\n",
       "    <tr>\n",
       "      <th>7</th>\n",
       "      <td>Facebook</td>\n",
       "      <td>2nd</td>\n",
       "      <td>david</td>\n",
       "      <td>31</td>\n",
       "      <td>13</td>\n",
       "    </tr>\n",
       "    <tr>\n",
       "      <th>8</th>\n",
       "      <td>Amazon</td>\n",
       "      <td>1st</td>\n",
       "      <td>jeffrey</td>\n",
       "      <td>32</td>\n",
       "      <td>12</td>\n",
       "    </tr>\n",
       "    <tr>\n",
       "      <th>9</th>\n",
       "      <td>Amazon</td>\n",
       "      <td>1st</td>\n",
       "      <td>andy</td>\n",
       "      <td>23</td>\n",
       "      <td>7</td>\n",
       "    </tr>\n",
       "    <tr>\n",
       "      <th>10</th>\n",
       "      <td>Amazon</td>\n",
       "      <td>2nd</td>\n",
       "      <td>keith</td>\n",
       "      <td>52</td>\n",
       "      <td>22</td>\n",
       "    </tr>\n",
       "    <tr>\n",
       "      <th>11</th>\n",
       "      <td>Amazon</td>\n",
       "      <td>2nd</td>\n",
       "      <td>edilth</td>\n",
       "      <td>13</td>\n",
       "      <td>4</td>\n",
       "    </tr>\n",
       "  </tbody>\n",
       "</table>\n",
       "</div>"
      ],
      "text/plain": [
       "     company project  incharge  sales(in million)  profit(in million)\n",
       "0     Google     1st    sunder                 54                  14\n",
       "1     Google     1st      ruth                 24                   8\n",
       "2     Google     2nd  benjamin                 31                   9\n",
       "3     Google     2nd    serger                 12                   4\n",
       "4   Facebook     1st      mark                 23                  10\n",
       "5   Facebook     1st     shery                 24                  11\n",
       "6   Facebook     2nd   eduardo                 34                  14\n",
       "7   Facebook     2nd     david                 31                  13\n",
       "8     Amazon     1st   jeffrey                 32                  12\n",
       "9     Amazon     1st      andy                 23                   7\n",
       "10    Amazon     2nd     keith                 52                  22\n",
       "11    Amazon     2nd    edilth                 13                   4"
      ]
     },
     "execution_count": 29,
     "metadata": {},
     "output_type": "execute_result"
    }
   ],
   "source": [
    "df"
   ]
  },
  {
   "cell_type": "code",
   "execution_count": 30,
   "id": "46aa0a06",
   "metadata": {},
   "outputs": [
    {
     "data": {
      "text/plain": [
       "(12, 5)"
      ]
     },
     "execution_count": 30,
     "metadata": {},
     "output_type": "execute_result"
    }
   ],
   "source": [
    "df.shape"
   ]
  },
  {
   "cell_type": "code",
   "execution_count": null,
   "id": "8dffe445",
   "metadata": {},
   "outputs": [],
   "source": [
    "#Set The hierarchical but leave the column inplace"
   ]
  },
  {
   "cell_type": "code",
   "execution_count": 31,
   "id": "02eb9ce1",
   "metadata": {},
   "outputs": [
    {
     "data": {
      "text/html": [
       "<div>\n",
       "<style scoped>\n",
       "    .dataframe tbody tr th:only-of-type {\n",
       "        vertical-align: middle;\n",
       "    }\n",
       "\n",
       "    .dataframe tbody tr th {\n",
       "        vertical-align: top;\n",
       "    }\n",
       "\n",
       "    .dataframe thead th {\n",
       "        text-align: right;\n",
       "    }\n",
       "</style>\n",
       "<table border=\"1\" class=\"dataframe\">\n",
       "  <thead>\n",
       "    <tr style=\"text-align: right;\">\n",
       "      <th></th>\n",
       "      <th></th>\n",
       "      <th></th>\n",
       "      <th>company</th>\n",
       "      <th>project</th>\n",
       "      <th>incharge</th>\n",
       "      <th>sales(in million)</th>\n",
       "      <th>profit(in million)</th>\n",
       "    </tr>\n",
       "    <tr>\n",
       "      <th>company</th>\n",
       "      <th>project</th>\n",
       "      <th>incharge</th>\n",
       "      <th></th>\n",
       "      <th></th>\n",
       "      <th></th>\n",
       "      <th></th>\n",
       "      <th></th>\n",
       "    </tr>\n",
       "  </thead>\n",
       "  <tbody>\n",
       "    <tr>\n",
       "      <th rowspan=\"4\" valign=\"top\">Google</th>\n",
       "      <th rowspan=\"2\" valign=\"top\">1st</th>\n",
       "      <th>sunder</th>\n",
       "      <td>Google</td>\n",
       "      <td>1st</td>\n",
       "      <td>sunder</td>\n",
       "      <td>54</td>\n",
       "      <td>14</td>\n",
       "    </tr>\n",
       "    <tr>\n",
       "      <th>ruth</th>\n",
       "      <td>Google</td>\n",
       "      <td>1st</td>\n",
       "      <td>ruth</td>\n",
       "      <td>24</td>\n",
       "      <td>8</td>\n",
       "    </tr>\n",
       "    <tr>\n",
       "      <th rowspan=\"2\" valign=\"top\">2nd</th>\n",
       "      <th>benjamin</th>\n",
       "      <td>Google</td>\n",
       "      <td>2nd</td>\n",
       "      <td>benjamin</td>\n",
       "      <td>31</td>\n",
       "      <td>9</td>\n",
       "    </tr>\n",
       "    <tr>\n",
       "      <th>serger</th>\n",
       "      <td>Google</td>\n",
       "      <td>2nd</td>\n",
       "      <td>serger</td>\n",
       "      <td>12</td>\n",
       "      <td>4</td>\n",
       "    </tr>\n",
       "    <tr>\n",
       "      <th rowspan=\"4\" valign=\"top\">Facebook</th>\n",
       "      <th rowspan=\"2\" valign=\"top\">1st</th>\n",
       "      <th>mark</th>\n",
       "      <td>Facebook</td>\n",
       "      <td>1st</td>\n",
       "      <td>mark</td>\n",
       "      <td>23</td>\n",
       "      <td>10</td>\n",
       "    </tr>\n",
       "    <tr>\n",
       "      <th>shery</th>\n",
       "      <td>Facebook</td>\n",
       "      <td>1st</td>\n",
       "      <td>shery</td>\n",
       "      <td>24</td>\n",
       "      <td>11</td>\n",
       "    </tr>\n",
       "    <tr>\n",
       "      <th rowspan=\"2\" valign=\"top\">2nd</th>\n",
       "      <th>eduardo</th>\n",
       "      <td>Facebook</td>\n",
       "      <td>2nd</td>\n",
       "      <td>eduardo</td>\n",
       "      <td>34</td>\n",
       "      <td>14</td>\n",
       "    </tr>\n",
       "    <tr>\n",
       "      <th>david</th>\n",
       "      <td>Facebook</td>\n",
       "      <td>2nd</td>\n",
       "      <td>david</td>\n",
       "      <td>31</td>\n",
       "      <td>13</td>\n",
       "    </tr>\n",
       "    <tr>\n",
       "      <th rowspan=\"4\" valign=\"top\">Amazon</th>\n",
       "      <th rowspan=\"2\" valign=\"top\">1st</th>\n",
       "      <th>jeffrey</th>\n",
       "      <td>Amazon</td>\n",
       "      <td>1st</td>\n",
       "      <td>jeffrey</td>\n",
       "      <td>32</td>\n",
       "      <td>12</td>\n",
       "    </tr>\n",
       "    <tr>\n",
       "      <th>andy</th>\n",
       "      <td>Amazon</td>\n",
       "      <td>1st</td>\n",
       "      <td>andy</td>\n",
       "      <td>23</td>\n",
       "      <td>7</td>\n",
       "    </tr>\n",
       "    <tr>\n",
       "      <th rowspan=\"2\" valign=\"top\">2nd</th>\n",
       "      <th>keith</th>\n",
       "      <td>Amazon</td>\n",
       "      <td>2nd</td>\n",
       "      <td>keith</td>\n",
       "      <td>52</td>\n",
       "      <td>22</td>\n",
       "    </tr>\n",
       "    <tr>\n",
       "      <th>edilth</th>\n",
       "      <td>Amazon</td>\n",
       "      <td>2nd</td>\n",
       "      <td>edilth</td>\n",
       "      <td>13</td>\n",
       "      <td>4</td>\n",
       "    </tr>\n",
       "  </tbody>\n",
       "</table>\n",
       "</div>"
      ],
      "text/plain": [
       "                            company project  incharge  sales(in million)  \\\n",
       "company  project incharge                                                  \n",
       "Google   1st     sunder      Google     1st    sunder                 54   \n",
       "                 ruth        Google     1st      ruth                 24   \n",
       "         2nd     benjamin    Google     2nd  benjamin                 31   \n",
       "                 serger      Google     2nd    serger                 12   \n",
       "Facebook 1st     mark      Facebook     1st      mark                 23   \n",
       "                 shery     Facebook     1st     shery                 24   \n",
       "         2nd     eduardo   Facebook     2nd   eduardo                 34   \n",
       "                 david     Facebook     2nd     david                 31   \n",
       "Amazon   1st     jeffrey     Amazon     1st   jeffrey                 32   \n",
       "                 andy        Amazon     1st      andy                 23   \n",
       "         2nd     keith       Amazon     2nd     keith                 52   \n",
       "                 edilth      Amazon     2nd    edilth                 13   \n",
       "\n",
       "                           profit(in million)  \n",
       "company  project incharge                      \n",
       "Google   1st     sunder                    14  \n",
       "                 ruth                       8  \n",
       "         2nd     benjamin                   9  \n",
       "                 serger                     4  \n",
       "Facebook 1st     mark                      10  \n",
       "                 shery                     11  \n",
       "         2nd     eduardo                   14  \n",
       "                 david                     13  \n",
       "Amazon   1st     jeffrey                   12  \n",
       "                 andy                       7  \n",
       "         2nd     keith                     22  \n",
       "                 edilth                     4  "
      ]
     },
     "execution_count": 31,
     "metadata": {},
     "output_type": "execute_result"
    }
   ],
   "source": [
    "df.set_index(['company','project','incharge'],drop=False)"
   ]
  },
  {
   "cell_type": "code",
   "execution_count": null,
   "id": "66ee7344",
   "metadata": {},
   "outputs": [],
   "source": [
    "#Set the Hierarchical index to be by company and then by project"
   ]
  },
  {
   "cell_type": "code",
   "execution_count": null,
   "id": "185c26e4",
   "metadata": {},
   "outputs": [],
   "source": []
  },
  {
   "cell_type": "code",
   "execution_count": 34,
   "id": "9790bc5c",
   "metadata": {},
   "outputs": [
    {
     "data": {
      "text/html": [
       "<div>\n",
       "<style scoped>\n",
       "    .dataframe tbody tr th:only-of-type {\n",
       "        vertical-align: middle;\n",
       "    }\n",
       "\n",
       "    .dataframe tbody tr th {\n",
       "        vertical-align: top;\n",
       "    }\n",
       "\n",
       "    .dataframe thead th {\n",
       "        text-align: right;\n",
       "    }\n",
       "</style>\n",
       "<table border=\"1\" class=\"dataframe\">\n",
       "  <thead>\n",
       "    <tr style=\"text-align: right;\">\n",
       "      <th></th>\n",
       "      <th>company</th>\n",
       "      <th>project</th>\n",
       "      <th>incharge</th>\n",
       "      <th>sales(in million)</th>\n",
       "      <th>profit(in million)</th>\n",
       "    </tr>\n",
       "  </thead>\n",
       "  <tbody>\n",
       "    <tr>\n",
       "      <th>0</th>\n",
       "      <td>Google</td>\n",
       "      <td>1st</td>\n",
       "      <td>sunder</td>\n",
       "      <td>54</td>\n",
       "      <td>14</td>\n",
       "    </tr>\n",
       "    <tr>\n",
       "      <th>1</th>\n",
       "      <td>Google</td>\n",
       "      <td>1st</td>\n",
       "      <td>ruth</td>\n",
       "      <td>24</td>\n",
       "      <td>8</td>\n",
       "    </tr>\n",
       "    <tr>\n",
       "      <th>2</th>\n",
       "      <td>Google</td>\n",
       "      <td>2nd</td>\n",
       "      <td>benjamin</td>\n",
       "      <td>31</td>\n",
       "      <td>9</td>\n",
       "    </tr>\n",
       "    <tr>\n",
       "      <th>3</th>\n",
       "      <td>Google</td>\n",
       "      <td>2nd</td>\n",
       "      <td>serger</td>\n",
       "      <td>12</td>\n",
       "      <td>4</td>\n",
       "    </tr>\n",
       "    <tr>\n",
       "      <th>4</th>\n",
       "      <td>Facebook</td>\n",
       "      <td>1st</td>\n",
       "      <td>mark</td>\n",
       "      <td>23</td>\n",
       "      <td>10</td>\n",
       "    </tr>\n",
       "    <tr>\n",
       "      <th>5</th>\n",
       "      <td>Facebook</td>\n",
       "      <td>1st</td>\n",
       "      <td>shery</td>\n",
       "      <td>24</td>\n",
       "      <td>11</td>\n",
       "    </tr>\n",
       "    <tr>\n",
       "      <th>6</th>\n",
       "      <td>Facebook</td>\n",
       "      <td>2nd</td>\n",
       "      <td>eduardo</td>\n",
       "      <td>34</td>\n",
       "      <td>14</td>\n",
       "    </tr>\n",
       "    <tr>\n",
       "      <th>7</th>\n",
       "      <td>Facebook</td>\n",
       "      <td>2nd</td>\n",
       "      <td>david</td>\n",
       "      <td>31</td>\n",
       "      <td>13</td>\n",
       "    </tr>\n",
       "    <tr>\n",
       "      <th>8</th>\n",
       "      <td>Amazon</td>\n",
       "      <td>1st</td>\n",
       "      <td>jeffrey</td>\n",
       "      <td>32</td>\n",
       "      <td>12</td>\n",
       "    </tr>\n",
       "    <tr>\n",
       "      <th>9</th>\n",
       "      <td>Amazon</td>\n",
       "      <td>1st</td>\n",
       "      <td>andy</td>\n",
       "      <td>23</td>\n",
       "      <td>7</td>\n",
       "    </tr>\n",
       "    <tr>\n",
       "      <th>10</th>\n",
       "      <td>Amazon</td>\n",
       "      <td>2nd</td>\n",
       "      <td>keith</td>\n",
       "      <td>52</td>\n",
       "      <td>22</td>\n",
       "    </tr>\n",
       "    <tr>\n",
       "      <th>11</th>\n",
       "      <td>Amazon</td>\n",
       "      <td>2nd</td>\n",
       "      <td>edilth</td>\n",
       "      <td>13</td>\n",
       "      <td>4</td>\n",
       "    </tr>\n",
       "  </tbody>\n",
       "</table>\n",
       "</div>"
      ],
      "text/plain": [
       "     company project  incharge  sales(in million)  profit(in million)\n",
       "0     Google     1st    sunder                 54                  14\n",
       "1     Google     1st      ruth                 24                   8\n",
       "2     Google     2nd  benjamin                 31                   9\n",
       "3     Google     2nd    serger                 12                   4\n",
       "4   Facebook     1st      mark                 23                  10\n",
       "5   Facebook     1st     shery                 24                  11\n",
       "6   Facebook     2nd   eduardo                 34                  14\n",
       "7   Facebook     2nd     david                 31                  13\n",
       "8     Amazon     1st   jeffrey                 32                  12\n",
       "9     Amazon     1st      andy                 23                   7\n",
       "10    Amazon     2nd     keith                 52                  22\n",
       "11    Amazon     2nd    edilth                 13                   4"
      ]
     },
     "execution_count": 34,
     "metadata": {},
     "output_type": "execute_result"
    }
   ],
   "source": [
    "df"
   ]
  },
  {
   "cell_type": "code",
   "execution_count": 35,
   "id": "ece817c8",
   "metadata": {},
   "outputs": [],
   "source": [
    "df.set_index(['company','incharge'],drop=True,inplace=True)"
   ]
  },
  {
   "cell_type": "code",
   "execution_count": 36,
   "id": "c6ebb961",
   "metadata": {},
   "outputs": [
    {
     "data": {
      "text/html": [
       "<div>\n",
       "<style scoped>\n",
       "    .dataframe tbody tr th:only-of-type {\n",
       "        vertical-align: middle;\n",
       "    }\n",
       "\n",
       "    .dataframe tbody tr th {\n",
       "        vertical-align: top;\n",
       "    }\n",
       "\n",
       "    .dataframe thead th {\n",
       "        text-align: right;\n",
       "    }\n",
       "</style>\n",
       "<table border=\"1\" class=\"dataframe\">\n",
       "  <thead>\n",
       "    <tr style=\"text-align: right;\">\n",
       "      <th></th>\n",
       "      <th></th>\n",
       "      <th>project</th>\n",
       "      <th>sales(in million)</th>\n",
       "      <th>profit(in million)</th>\n",
       "    </tr>\n",
       "    <tr>\n",
       "      <th>company</th>\n",
       "      <th>incharge</th>\n",
       "      <th></th>\n",
       "      <th></th>\n",
       "      <th></th>\n",
       "    </tr>\n",
       "  </thead>\n",
       "  <tbody>\n",
       "    <tr>\n",
       "      <th rowspan=\"4\" valign=\"top\">Google</th>\n",
       "      <th>sunder</th>\n",
       "      <td>1st</td>\n",
       "      <td>54</td>\n",
       "      <td>14</td>\n",
       "    </tr>\n",
       "    <tr>\n",
       "      <th>ruth</th>\n",
       "      <td>1st</td>\n",
       "      <td>24</td>\n",
       "      <td>8</td>\n",
       "    </tr>\n",
       "    <tr>\n",
       "      <th>benjamin</th>\n",
       "      <td>2nd</td>\n",
       "      <td>31</td>\n",
       "      <td>9</td>\n",
       "    </tr>\n",
       "    <tr>\n",
       "      <th>serger</th>\n",
       "      <td>2nd</td>\n",
       "      <td>12</td>\n",
       "      <td>4</td>\n",
       "    </tr>\n",
       "    <tr>\n",
       "      <th rowspan=\"4\" valign=\"top\">Facebook</th>\n",
       "      <th>mark</th>\n",
       "      <td>1st</td>\n",
       "      <td>23</td>\n",
       "      <td>10</td>\n",
       "    </tr>\n",
       "    <tr>\n",
       "      <th>shery</th>\n",
       "      <td>1st</td>\n",
       "      <td>24</td>\n",
       "      <td>11</td>\n",
       "    </tr>\n",
       "    <tr>\n",
       "      <th>eduardo</th>\n",
       "      <td>2nd</td>\n",
       "      <td>34</td>\n",
       "      <td>14</td>\n",
       "    </tr>\n",
       "    <tr>\n",
       "      <th>david</th>\n",
       "      <td>2nd</td>\n",
       "      <td>31</td>\n",
       "      <td>13</td>\n",
       "    </tr>\n",
       "    <tr>\n",
       "      <th rowspan=\"4\" valign=\"top\">Amazon</th>\n",
       "      <th>jeffrey</th>\n",
       "      <td>1st</td>\n",
       "      <td>32</td>\n",
       "      <td>12</td>\n",
       "    </tr>\n",
       "    <tr>\n",
       "      <th>andy</th>\n",
       "      <td>1st</td>\n",
       "      <td>23</td>\n",
       "      <td>7</td>\n",
       "    </tr>\n",
       "    <tr>\n",
       "      <th>keith</th>\n",
       "      <td>2nd</td>\n",
       "      <td>52</td>\n",
       "      <td>22</td>\n",
       "    </tr>\n",
       "    <tr>\n",
       "      <th>edilth</th>\n",
       "      <td>2nd</td>\n",
       "      <td>13</td>\n",
       "      <td>4</td>\n",
       "    </tr>\n",
       "  </tbody>\n",
       "</table>\n",
       "</div>"
      ],
      "text/plain": [
       "                  project  sales(in million)  profit(in million)\n",
       "company  incharge                                               \n",
       "Google   sunder       1st                 54                  14\n",
       "         ruth         1st                 24                   8\n",
       "         benjamin     2nd                 31                   9\n",
       "         serger       2nd                 12                   4\n",
       "Facebook mark         1st                 23                  10\n",
       "         shery        1st                 24                  11\n",
       "         eduardo      2nd                 34                  14\n",
       "         david        2nd                 31                  13\n",
       "Amazon   jeffrey      1st                 32                  12\n",
       "         andy         1st                 23                   7\n",
       "         keith        2nd                 52                  22\n",
       "         edilth       2nd                 13                   4"
      ]
     },
     "execution_count": 36,
     "metadata": {},
     "output_type": "execute_result"
    }
   ],
   "source": [
    "df"
   ]
  },
  {
   "cell_type": "code",
   "execution_count": null,
   "id": "bdb3c4a2",
   "metadata": {},
   "outputs": [],
   "source": []
  },
  {
   "cell_type": "code",
   "execution_count": null,
   "id": "a564c895",
   "metadata": {},
   "outputs": [],
   "source": []
  },
  {
   "cell_type": "code",
   "execution_count": null,
   "id": "b9197353",
   "metadata": {},
   "outputs": [],
   "source": []
  },
  {
   "cell_type": "code",
   "execution_count": null,
   "id": "29e91c2f",
   "metadata": {},
   "outputs": [],
   "source": [
    "#Summarize the result by company"
   ]
  },
  {
   "cell_type": "code",
   "execution_count": 37,
   "id": "a01eae62",
   "metadata": {},
   "outputs": [
    {
     "name": "stderr",
     "output_type": "stream",
     "text": [
      "C:\\Users\\safar\\AppData\\Local\\Temp\\ipykernel_6320\\2410658861.py:1: FutureWarning: Using the level keyword in DataFrame and Series aggregations is deprecated and will be removed in a future version. Use groupby instead. df.sum(level=1) should use df.groupby(level=1).sum().\n",
      "  df.sum(level='company')\n"
     ]
    },
    {
     "data": {
      "text/html": [
       "<div>\n",
       "<style scoped>\n",
       "    .dataframe tbody tr th:only-of-type {\n",
       "        vertical-align: middle;\n",
       "    }\n",
       "\n",
       "    .dataframe tbody tr th {\n",
       "        vertical-align: top;\n",
       "    }\n",
       "\n",
       "    .dataframe thead th {\n",
       "        text-align: right;\n",
       "    }\n",
       "</style>\n",
       "<table border=\"1\" class=\"dataframe\">\n",
       "  <thead>\n",
       "    <tr style=\"text-align: right;\">\n",
       "      <th></th>\n",
       "      <th>project</th>\n",
       "      <th>sales(in million)</th>\n",
       "      <th>profit(in million)</th>\n",
       "    </tr>\n",
       "    <tr>\n",
       "      <th>company</th>\n",
       "      <th></th>\n",
       "      <th></th>\n",
       "      <th></th>\n",
       "    </tr>\n",
       "  </thead>\n",
       "  <tbody>\n",
       "    <tr>\n",
       "      <th>Google</th>\n",
       "      <td>1st1st2nd2nd</td>\n",
       "      <td>121</td>\n",
       "      <td>35</td>\n",
       "    </tr>\n",
       "    <tr>\n",
       "      <th>Facebook</th>\n",
       "      <td>1st1st2nd2nd</td>\n",
       "      <td>112</td>\n",
       "      <td>48</td>\n",
       "    </tr>\n",
       "    <tr>\n",
       "      <th>Amazon</th>\n",
       "      <td>1st1st2nd2nd</td>\n",
       "      <td>120</td>\n",
       "      <td>45</td>\n",
       "    </tr>\n",
       "  </tbody>\n",
       "</table>\n",
       "</div>"
      ],
      "text/plain": [
       "               project  sales(in million)  profit(in million)\n",
       "company                                                      \n",
       "Google    1st1st2nd2nd                121                  35\n",
       "Facebook  1st1st2nd2nd                112                  48\n",
       "Amazon    1st1st2nd2nd                120                  45"
      ]
     },
     "execution_count": 37,
     "metadata": {},
     "output_type": "execute_result"
    }
   ],
   "source": [
    "df.sum(level='company')"
   ]
  },
  {
   "cell_type": "code",
   "execution_count": null,
   "id": "13c94f3b",
   "metadata": {},
   "outputs": [],
   "source": []
  },
  {
   "cell_type": "markdown",
   "id": "c80a437e",
   "metadata": {},
   "source": [
    "# Data Manipulation "
   ]
  },
  {
   "cell_type": "code",
   "execution_count": null,
   "id": "c6cb7ab4",
   "metadata": {},
   "outputs": [],
   "source": [
    "import pandas as pd\n",
    "import numpy as np\n",
    "import warnings\n",
    "warnings.filterwarnings('ignore')"
   ]
  },
  {
   "cell_type": "code",
   "execution_count": 38,
   "id": "a53abf88",
   "metadata": {},
   "outputs": [],
   "source": [
    "titanic_train=pd.read_csv('https://raw.githubusercontent.com/training-ml/Files/main/titanic_train.csv')"
   ]
  },
  {
   "cell_type": "code",
   "execution_count": 39,
   "id": "f5f64804",
   "metadata": {},
   "outputs": [
    {
     "data": {
      "text/html": [
       "<div>\n",
       "<style scoped>\n",
       "    .dataframe tbody tr th:only-of-type {\n",
       "        vertical-align: middle;\n",
       "    }\n",
       "\n",
       "    .dataframe tbody tr th {\n",
       "        vertical-align: top;\n",
       "    }\n",
       "\n",
       "    .dataframe thead th {\n",
       "        text-align: right;\n",
       "    }\n",
       "</style>\n",
       "<table border=\"1\" class=\"dataframe\">\n",
       "  <thead>\n",
       "    <tr style=\"text-align: right;\">\n",
       "      <th></th>\n",
       "      <th>Unnamed: 0</th>\n",
       "      <th>PassengerId</th>\n",
       "      <th>Survived</th>\n",
       "      <th>Pclass</th>\n",
       "      <th>Name</th>\n",
       "      <th>Sex</th>\n",
       "      <th>Age</th>\n",
       "      <th>SibSp</th>\n",
       "      <th>Parch</th>\n",
       "      <th>Ticket</th>\n",
       "      <th>Fare</th>\n",
       "      <th>Cabin</th>\n",
       "      <th>Embarked</th>\n",
       "    </tr>\n",
       "  </thead>\n",
       "  <tbody>\n",
       "    <tr>\n",
       "      <th>0</th>\n",
       "      <td>0</td>\n",
       "      <td>1</td>\n",
       "      <td>0</td>\n",
       "      <td>3</td>\n",
       "      <td>Braund, Mr. Owen Harris</td>\n",
       "      <td>male</td>\n",
       "      <td>22.0</td>\n",
       "      <td>1</td>\n",
       "      <td>0</td>\n",
       "      <td>A/5 21171</td>\n",
       "      <td>7.2500</td>\n",
       "      <td>NaN</td>\n",
       "      <td>S</td>\n",
       "    </tr>\n",
       "    <tr>\n",
       "      <th>1</th>\n",
       "      <td>1</td>\n",
       "      <td>2</td>\n",
       "      <td>1</td>\n",
       "      <td>1</td>\n",
       "      <td>Cumings, Mrs. John Bradley (Florence Briggs Th...</td>\n",
       "      <td>female</td>\n",
       "      <td>38.0</td>\n",
       "      <td>1</td>\n",
       "      <td>0</td>\n",
       "      <td>PC 17599</td>\n",
       "      <td>71.2833</td>\n",
       "      <td>C85</td>\n",
       "      <td>C</td>\n",
       "    </tr>\n",
       "    <tr>\n",
       "      <th>2</th>\n",
       "      <td>2</td>\n",
       "      <td>3</td>\n",
       "      <td>1</td>\n",
       "      <td>3</td>\n",
       "      <td>Heikkinen, Miss. Laina</td>\n",
       "      <td>female</td>\n",
       "      <td>26.0</td>\n",
       "      <td>0</td>\n",
       "      <td>0</td>\n",
       "      <td>STON/O2. 3101282</td>\n",
       "      <td>7.9250</td>\n",
       "      <td>NaN</td>\n",
       "      <td>S</td>\n",
       "    </tr>\n",
       "    <tr>\n",
       "      <th>3</th>\n",
       "      <td>3</td>\n",
       "      <td>4</td>\n",
       "      <td>1</td>\n",
       "      <td>1</td>\n",
       "      <td>Futrelle, Mrs. Jacques Heath (Lily May Peel)</td>\n",
       "      <td>female</td>\n",
       "      <td>35.0</td>\n",
       "      <td>1</td>\n",
       "      <td>0</td>\n",
       "      <td>113803</td>\n",
       "      <td>53.1000</td>\n",
       "      <td>C123</td>\n",
       "      <td>S</td>\n",
       "    </tr>\n",
       "    <tr>\n",
       "      <th>4</th>\n",
       "      <td>4</td>\n",
       "      <td>5</td>\n",
       "      <td>0</td>\n",
       "      <td>3</td>\n",
       "      <td>Allen, Mr. William Henry</td>\n",
       "      <td>male</td>\n",
       "      <td>35.0</td>\n",
       "      <td>0</td>\n",
       "      <td>0</td>\n",
       "      <td>373450</td>\n",
       "      <td>8.0500</td>\n",
       "      <td>NaN</td>\n",
       "      <td>S</td>\n",
       "    </tr>\n",
       "  </tbody>\n",
       "</table>\n",
       "</div>"
      ],
      "text/plain": [
       "   Unnamed: 0  PassengerId  Survived  Pclass  \\\n",
       "0           0            1         0       3   \n",
       "1           1            2         1       1   \n",
       "2           2            3         1       3   \n",
       "3           3            4         1       1   \n",
       "4           4            5         0       3   \n",
       "\n",
       "                                                Name     Sex   Age  SibSp  \\\n",
       "0                            Braund, Mr. Owen Harris    male  22.0      1   \n",
       "1  Cumings, Mrs. John Bradley (Florence Briggs Th...  female  38.0      1   \n",
       "2                             Heikkinen, Miss. Laina  female  26.0      0   \n",
       "3       Futrelle, Mrs. Jacques Heath (Lily May Peel)  female  35.0      1   \n",
       "4                           Allen, Mr. William Henry    male  35.0      0   \n",
       "\n",
       "   Parch            Ticket     Fare Cabin Embarked  \n",
       "0      0         A/5 21171   7.2500   NaN        S  \n",
       "1      0          PC 17599  71.2833   C85        C  \n",
       "2      0  STON/O2. 3101282   7.9250   NaN        S  \n",
       "3      0            113803  53.1000  C123        S  \n",
       "4      0            373450   8.0500   NaN        S  "
      ]
     },
     "execution_count": 39,
     "metadata": {},
     "output_type": "execute_result"
    }
   ],
   "source": [
    "titanic_train.head()"
   ]
  },
  {
   "cell_type": "code",
   "execution_count": null,
   "id": "99216145",
   "metadata": {},
   "outputs": [],
   "source": [
    "#How to check unique values of any column"
   ]
  },
  {
   "cell_type": "code",
   "execution_count": 40,
   "id": "b9f87b12",
   "metadata": {},
   "outputs": [
    {
     "data": {
      "text/plain": [
       "array([0, 1], dtype=int64)"
      ]
     },
     "execution_count": 40,
     "metadata": {},
     "output_type": "execute_result"
    }
   ],
   "source": [
    "titanic_train['Survived'].unique()"
   ]
  },
  {
   "cell_type": "code",
   "execution_count": 41,
   "id": "48420eed",
   "metadata": {},
   "outputs": [
    {
     "data": {
      "text/html": [
       "<div>\n",
       "<style scoped>\n",
       "    .dataframe tbody tr th:only-of-type {\n",
       "        vertical-align: middle;\n",
       "    }\n",
       "\n",
       "    .dataframe tbody tr th {\n",
       "        vertical-align: top;\n",
       "    }\n",
       "\n",
       "    .dataframe thead th {\n",
       "        text-align: right;\n",
       "    }\n",
       "</style>\n",
       "<table border=\"1\" class=\"dataframe\">\n",
       "  <thead>\n",
       "    <tr style=\"text-align: right;\">\n",
       "      <th></th>\n",
       "      <th>counts</th>\n",
       "      <th>freqs</th>\n",
       "    </tr>\n",
       "    <tr>\n",
       "      <th>categories</th>\n",
       "      <th></th>\n",
       "      <th></th>\n",
       "    </tr>\n",
       "  </thead>\n",
       "  <tbody>\n",
       "    <tr>\n",
       "      <th>Died</th>\n",
       "      <td>549</td>\n",
       "      <td>0.616162</td>\n",
       "    </tr>\n",
       "    <tr>\n",
       "      <th>Survived</th>\n",
       "      <td>342</td>\n",
       "      <td>0.383838</td>\n",
       "    </tr>\n",
       "  </tbody>\n",
       "</table>\n",
       "</div>"
      ],
      "text/plain": [
       "            counts     freqs\n",
       "categories                  \n",
       "Died           549  0.616162\n",
       "Survived       342  0.383838"
      ]
     },
     "execution_count": 41,
     "metadata": {},
     "output_type": "execute_result"
    }
   ],
   "source": [
    "new_survived=pd.Categorical(titanic_train['Survived'])\n",
    "new_survived=new_survived.rename_categories(['Died','Survived'])\n",
    "new_survived.describe()"
   ]
  },
  {
   "cell_type": "code",
   "execution_count": null,
   "id": "d8b5b380",
   "metadata": {},
   "outputs": [],
   "source": [
    "#Another Example"
   ]
  },
  {
   "cell_type": "code",
   "execution_count": 42,
   "id": "e2b00260",
   "metadata": {},
   "outputs": [
    {
     "data": {
      "text/plain": [
       "array([3, 1, 2], dtype=int64)"
      ]
     },
     "execution_count": 42,
     "metadata": {},
     "output_type": "execute_result"
    }
   ],
   "source": [
    "titanic_train['Pclass'].unique()\n"
   ]
  },
  {
   "cell_type": "code",
   "execution_count": 43,
   "id": "7c7ff2f9",
   "metadata": {},
   "outputs": [
    {
     "data": {
      "text/html": [
       "<div>\n",
       "<style scoped>\n",
       "    .dataframe tbody tr th:only-of-type {\n",
       "        vertical-align: middle;\n",
       "    }\n",
       "\n",
       "    .dataframe tbody tr th {\n",
       "        vertical-align: top;\n",
       "    }\n",
       "\n",
       "    .dataframe thead th {\n",
       "        text-align: right;\n",
       "    }\n",
       "</style>\n",
       "<table border=\"1\" class=\"dataframe\">\n",
       "  <thead>\n",
       "    <tr style=\"text-align: right;\">\n",
       "      <th></th>\n",
       "      <th>counts</th>\n",
       "      <th>freqs</th>\n",
       "    </tr>\n",
       "    <tr>\n",
       "      <th>categories</th>\n",
       "      <th></th>\n",
       "      <th></th>\n",
       "    </tr>\n",
       "  </thead>\n",
       "  <tbody>\n",
       "    <tr>\n",
       "      <th>class1</th>\n",
       "      <td>216</td>\n",
       "      <td>0.242424</td>\n",
       "    </tr>\n",
       "    <tr>\n",
       "      <th>class2</th>\n",
       "      <td>184</td>\n",
       "      <td>0.206510</td>\n",
       "    </tr>\n",
       "    <tr>\n",
       "      <th>class3</th>\n",
       "      <td>491</td>\n",
       "      <td>0.551066</td>\n",
       "    </tr>\n",
       "  </tbody>\n",
       "</table>\n",
       "</div>"
      ],
      "text/plain": [
       "            counts     freqs\n",
       "categories                  \n",
       "class1         216  0.242424\n",
       "class2         184  0.206510\n",
       "class3         491  0.551066"
      ]
     },
     "execution_count": 43,
     "metadata": {},
     "output_type": "execute_result"
    }
   ],
   "source": [
    "new_place=pd.Categorical(titanic_train['Pclass'],ordered=True)\n",
    "new_place=new_place.rename_categories(['class1','class2','class3'])\n",
    "new_place.describe()"
   ]
  },
  {
   "cell_type": "code",
   "execution_count": null,
   "id": "7d66c1f3",
   "metadata": {},
   "outputs": [],
   "source": [
    "#Reassign New Name to pclass"
   ]
  },
  {
   "cell_type": "code",
   "execution_count": 44,
   "id": "f0d77f72",
   "metadata": {},
   "outputs": [],
   "source": [
    "titanic_train['Pclass']=new_place"
   ]
  },
  {
   "cell_type": "code",
   "execution_count": null,
   "id": "4d6de0b5",
   "metadata": {},
   "outputs": [],
   "source": [
    "#Check if they have changed"
   ]
  },
  {
   "cell_type": "code",
   "execution_count": 45,
   "id": "d29ba8ad",
   "metadata": {},
   "outputs": [
    {
     "data": {
      "text/html": [
       "<div>\n",
       "<style scoped>\n",
       "    .dataframe tbody tr th:only-of-type {\n",
       "        vertical-align: middle;\n",
       "    }\n",
       "\n",
       "    .dataframe tbody tr th {\n",
       "        vertical-align: top;\n",
       "    }\n",
       "\n",
       "    .dataframe thead th {\n",
       "        text-align: right;\n",
       "    }\n",
       "</style>\n",
       "<table border=\"1\" class=\"dataframe\">\n",
       "  <thead>\n",
       "    <tr style=\"text-align: right;\">\n",
       "      <th></th>\n",
       "      <th>Unnamed: 0</th>\n",
       "      <th>PassengerId</th>\n",
       "      <th>Survived</th>\n",
       "      <th>Pclass</th>\n",
       "      <th>Name</th>\n",
       "      <th>Sex</th>\n",
       "      <th>Age</th>\n",
       "      <th>SibSp</th>\n",
       "      <th>Parch</th>\n",
       "      <th>Ticket</th>\n",
       "      <th>Fare</th>\n",
       "      <th>Cabin</th>\n",
       "      <th>Embarked</th>\n",
       "    </tr>\n",
       "  </thead>\n",
       "  <tbody>\n",
       "    <tr>\n",
       "      <th>0</th>\n",
       "      <td>0</td>\n",
       "      <td>1</td>\n",
       "      <td>0</td>\n",
       "      <td>class3</td>\n",
       "      <td>Braund, Mr. Owen Harris</td>\n",
       "      <td>male</td>\n",
       "      <td>22.0</td>\n",
       "      <td>1</td>\n",
       "      <td>0</td>\n",
       "      <td>A/5 21171</td>\n",
       "      <td>7.2500</td>\n",
       "      <td>NaN</td>\n",
       "      <td>S</td>\n",
       "    </tr>\n",
       "    <tr>\n",
       "      <th>1</th>\n",
       "      <td>1</td>\n",
       "      <td>2</td>\n",
       "      <td>1</td>\n",
       "      <td>class1</td>\n",
       "      <td>Cumings, Mrs. John Bradley (Florence Briggs Th...</td>\n",
       "      <td>female</td>\n",
       "      <td>38.0</td>\n",
       "      <td>1</td>\n",
       "      <td>0</td>\n",
       "      <td>PC 17599</td>\n",
       "      <td>71.2833</td>\n",
       "      <td>C85</td>\n",
       "      <td>C</td>\n",
       "    </tr>\n",
       "    <tr>\n",
       "      <th>2</th>\n",
       "      <td>2</td>\n",
       "      <td>3</td>\n",
       "      <td>1</td>\n",
       "      <td>class3</td>\n",
       "      <td>Heikkinen, Miss. Laina</td>\n",
       "      <td>female</td>\n",
       "      <td>26.0</td>\n",
       "      <td>0</td>\n",
       "      <td>0</td>\n",
       "      <td>STON/O2. 3101282</td>\n",
       "      <td>7.9250</td>\n",
       "      <td>NaN</td>\n",
       "      <td>S</td>\n",
       "    </tr>\n",
       "    <tr>\n",
       "      <th>3</th>\n",
       "      <td>3</td>\n",
       "      <td>4</td>\n",
       "      <td>1</td>\n",
       "      <td>class1</td>\n",
       "      <td>Futrelle, Mrs. Jacques Heath (Lily May Peel)</td>\n",
       "      <td>female</td>\n",
       "      <td>35.0</td>\n",
       "      <td>1</td>\n",
       "      <td>0</td>\n",
       "      <td>113803</td>\n",
       "      <td>53.1000</td>\n",
       "      <td>C123</td>\n",
       "      <td>S</td>\n",
       "    </tr>\n",
       "    <tr>\n",
       "      <th>4</th>\n",
       "      <td>4</td>\n",
       "      <td>5</td>\n",
       "      <td>0</td>\n",
       "      <td>class3</td>\n",
       "      <td>Allen, Mr. William Henry</td>\n",
       "      <td>male</td>\n",
       "      <td>35.0</td>\n",
       "      <td>0</td>\n",
       "      <td>0</td>\n",
       "      <td>373450</td>\n",
       "      <td>8.0500</td>\n",
       "      <td>NaN</td>\n",
       "      <td>S</td>\n",
       "    </tr>\n",
       "  </tbody>\n",
       "</table>\n",
       "</div>"
      ],
      "text/plain": [
       "   Unnamed: 0  PassengerId  Survived  Pclass  \\\n",
       "0           0            1         0  class3   \n",
       "1           1            2         1  class1   \n",
       "2           2            3         1  class3   \n",
       "3           3            4         1  class1   \n",
       "4           4            5         0  class3   \n",
       "\n",
       "                                                Name     Sex   Age  SibSp  \\\n",
       "0                            Braund, Mr. Owen Harris    male  22.0      1   \n",
       "1  Cumings, Mrs. John Bradley (Florence Briggs Th...  female  38.0      1   \n",
       "2                             Heikkinen, Miss. Laina  female  26.0      0   \n",
       "3       Futrelle, Mrs. Jacques Heath (Lily May Peel)  female  35.0      1   \n",
       "4                           Allen, Mr. William Henry    male  35.0      0   \n",
       "\n",
       "   Parch            Ticket     Fare Cabin Embarked  \n",
       "0      0         A/5 21171   7.2500   NaN        S  \n",
       "1      0          PC 17599  71.2833   C85        C  \n",
       "2      0  STON/O2. 3101282   7.9250   NaN        S  \n",
       "3      0            113803  53.1000  C123        S  \n",
       "4      0            373450   8.0500   NaN        S  "
      ]
     },
     "execution_count": 45,
     "metadata": {},
     "output_type": "execute_result"
    }
   ],
   "source": [
    "titanic_train.head()"
   ]
  },
  {
   "cell_type": "code",
   "execution_count": null,
   "id": "61489190",
   "metadata": {},
   "outputs": [],
   "source": [
    "#Find all the passengers who's age is Missing."
   ]
  },
  {
   "cell_type": "code",
   "execution_count": 46,
   "id": "a2c23867",
   "metadata": {},
   "outputs": [
    {
     "data": {
      "text/html": [
       "<div>\n",
       "<style scoped>\n",
       "    .dataframe tbody tr th:only-of-type {\n",
       "        vertical-align: middle;\n",
       "    }\n",
       "\n",
       "    .dataframe tbody tr th {\n",
       "        vertical-align: top;\n",
       "    }\n",
       "\n",
       "    .dataframe thead th {\n",
       "        text-align: right;\n",
       "    }\n",
       "</style>\n",
       "<table border=\"1\" class=\"dataframe\">\n",
       "  <thead>\n",
       "    <tr style=\"text-align: right;\">\n",
       "      <th></th>\n",
       "      <th>Unnamed: 0</th>\n",
       "      <th>PassengerId</th>\n",
       "      <th>Survived</th>\n",
       "      <th>Pclass</th>\n",
       "      <th>Name</th>\n",
       "      <th>Sex</th>\n",
       "      <th>Age</th>\n",
       "      <th>SibSp</th>\n",
       "      <th>Parch</th>\n",
       "      <th>Ticket</th>\n",
       "      <th>Fare</th>\n",
       "      <th>Cabin</th>\n",
       "      <th>Embarked</th>\n",
       "    </tr>\n",
       "  </thead>\n",
       "  <tbody>\n",
       "  </tbody>\n",
       "</table>\n",
       "</div>"
      ],
      "text/plain": [
       "Empty DataFrame\n",
       "Columns: [Unnamed: 0, PassengerId, Survived, Pclass, Name, Sex, Age, SibSp, Parch, Ticket, Fare, Cabin, Embarked]\n",
       "Index: []"
      ]
     },
     "execution_count": 46,
     "metadata": {},
     "output_type": "execute_result"
    }
   ],
   "source": [
    "age_missing=titanic_train[titanic_train.Age.isin(['Nan'])]\n",
    "age_missing"
   ]
  },
  {
   "cell_type": "code",
   "execution_count": null,
   "id": "a059a89b",
   "metadata": {},
   "outputs": [],
   "source": [
    "#Similarly you can fetch rows based on list of numbers like titanic_train[titanic_train.Age.isin([15])]\n",
    "#but you cannot pass condtition inside 'isin()'"
   ]
  },
  {
   "cell_type": "code",
   "execution_count": 47,
   "id": "a6b2014e",
   "metadata": {},
   "outputs": [
    {
     "data": {
      "text/plain": [
       "Unnamed: 0       0\n",
       "PassengerId      0\n",
       "Survived         0\n",
       "Pclass           0\n",
       "Name             0\n",
       "Sex              0\n",
       "Age            177\n",
       "SibSp            0\n",
       "Parch            0\n",
       "Ticket           0\n",
       "Fare             0\n",
       "Cabin          687\n",
       "Embarked         2\n",
       "dtype: int64"
      ]
     },
     "execution_count": 47,
     "metadata": {},
     "output_type": "execute_result"
    }
   ],
   "source": [
    "titanic_train.isna().sum()"
   ]
  },
  {
   "cell_type": "code",
   "execution_count": null,
   "id": "87f1dff9",
   "metadata": {},
   "outputs": [],
   "source": [
    "\n",
    "#Find only those passengers who's age is present in the dataset(equal to not in)"
   ]
  },
  {
   "cell_type": "code",
   "execution_count": null,
   "id": "337e0d48",
   "metadata": {},
   "outputs": [],
   "source": [
    "titanic_with_age=titanic_train[~titanic_train.Age.isin(['Nan'])] # ~ its ,meaning, is not in\n",
    "titanic_with_age"
   ]
  },
  {
   "cell_type": "code",
   "execution_count": null,
   "id": "4df88db2",
   "metadata": {},
   "outputs": [],
   "source": [
    "#Find the Maximum Fare"
   ]
  },
  {
   "cell_type": "code",
   "execution_count": null,
   "id": "1646c6e0",
   "metadata": {},
   "outputs": [],
   "source": [
    "max_fare=titanic_train[titanic_train.Fare.isin([max(titanic_train['Fare'])])]\n",
    "max_fare"
   ]
  },
  {
   "cell_type": "markdown",
   "id": "03072a0e",
   "metadata": {},
   "source": [
    "# Series Manipulation"
   ]
  },
  {
   "cell_type": "code",
   "execution_count": null,
   "id": "e0a3bcdc",
   "metadata": {},
   "outputs": [],
   "source": [
    "import  numpy as np\n",
    "import pandas as pd\n",
    "import warnings\n",
    "warnings.filterwarnings('ignore')"
   ]
  },
  {
   "cell_type": "code",
   "execution_count": null,
   "id": "75b9e354",
   "metadata": {},
   "outputs": [],
   "source": [
    "#You can give your own index names"
   ]
  },
  {
   "cell_type": "code",
   "execution_count": 48,
   "id": "042cec28",
   "metadata": {},
   "outputs": [
    {
     "data": {
      "text/plain": [
       "CA    1\n",
       "OR    2\n",
       "CO    3\n",
       "AZ    4\n",
       "dtype: int64"
      ]
     },
     "execution_count": 48,
     "metadata": {},
     "output_type": "execute_result"
    }
   ],
   "source": [
    "ser1=pd.Series(data=[1,2,3,4],index=['CA','OR','CO','AZ'])\n",
    "ser1"
   ]
  },
  {
   "cell_type": "code",
   "execution_count": null,
   "id": "d003b8bf",
   "metadata": {},
   "outputs": [],
   "source": [
    "#Indexing by name of the item/object"
   ]
  },
  {
   "cell_type": "code",
   "execution_count": 49,
   "id": "c5637471",
   "metadata": {},
   "outputs": [
    {
     "name": "stdout",
     "output_type": "stream",
     "text": [
      "\n",
      " Indexing by name of the item/object(string identifiers)\n",
      "--------------------------------------------------------\n",
      "Value for CA in ser1: 1\n",
      "Values for AZ in ser1 : 4\n"
     ]
    }
   ],
   "source": [
    "print(\"\\n Indexing by name of the item/object(string identifiers)\\n\",'-'*56,sep='')\n",
    "print(\"Value for CA in ser1:\",ser1['CA'])\n",
    "print(\"Values for AZ in ser1 :\",ser1['AZ'])"
   ]
  },
  {
   "cell_type": "code",
   "execution_count": null,
   "id": "27df52cd",
   "metadata": {},
   "outputs": [],
   "source": [
    "#You can also Fetch element by its positional index"
   ]
  },
  {
   "cell_type": "code",
   "execution_count": 50,
   "id": "d25e5526",
   "metadata": {},
   "outputs": [
    {
     "name": "stdout",
     "output_type": "stream",
     "text": [
      "\n",
      " Indexing by number (Positional Value in the Series)\n",
      "----------------------------------------------------\n",
      "value for AZ in ser1: 4\n",
      "value for CA in ser1: 1\n"
     ]
    }
   ],
   "source": [
    "print(\"\\n Indexing by number (Positional Value in the Series)\\n\",'-'*52,sep='')\n",
    "print(\"value for AZ in ser1:\",ser1[3])\n",
    "print('value for CA in ser1:',ser1[0])"
   ]
  },
  {
   "cell_type": "code",
   "execution_count": 51,
   "id": "3dff5538",
   "metadata": {},
   "outputs": [
    {
     "data": {
      "text/plain": [
       "CA    1\n",
       "OR    2\n",
       "CO    3\n",
       "AZ    4\n",
       "dtype: int64"
      ]
     },
     "execution_count": 51,
     "metadata": {},
     "output_type": "execute_result"
    }
   ],
   "source": [
    "ser1"
   ]
  },
  {
   "cell_type": "code",
   "execution_count": 52,
   "id": "171127fd",
   "metadata": {},
   "outputs": [
    {
     "name": "stdout",
     "output_type": "stream",
     "text": [
      "\n",
      " Indexing by a range\n",
      "-------------------------\n",
      "value for OR,CO,AZ in ser1:\n",
      "OR    2\n",
      "CO    3\n",
      "AZ    4\n",
      "dtype: int64\n"
     ]
    }
   ],
   "source": [
    "print(\"\\n Indexing by a range\\n\",'-'*25,sep='')\n",
    "print(\"value for OR,CO,AZ in ser1:\\n\",ser1[1:4],sep='')"
   ]
  },
  {
   "cell_type": "code",
   "execution_count": 53,
   "id": "19c9e264",
   "metadata": {},
   "outputs": [],
   "source": [
    "ser1=pd.Series([1,2,3,4,10],['CA','OR','CO','AZ','NV'])"
   ]
  },
  {
   "cell_type": "code",
   "execution_count": 54,
   "id": "4276190f",
   "metadata": {},
   "outputs": [],
   "source": [
    "ser2=pd.Series([1,2,5,6,9,],['CA','OR','CO','AZ','NV'])"
   ]
  },
  {
   "cell_type": "code",
   "execution_count": 55,
   "id": "d5bbcb90",
   "metadata": {},
   "outputs": [
    {
     "name": "stdout",
     "output_type": "stream",
     "text": [
      "ser1\n",
      " CA     1\n",
      "OR     2\n",
      "CO     3\n",
      "AZ     4\n",
      "NV    10\n",
      "dtype: int64\n",
      "******************************\n",
      "ser2\n",
      " CA    1\n",
      "OR    2\n",
      "CO    5\n",
      "AZ    6\n",
      "NV    9\n",
      "dtype: int64\n"
     ]
    }
   ],
   "source": [
    "print('ser1\\n',ser1)\n",
    "print('*'*30)\n",
    "print('ser2\\n',ser2)"
   ]
  },
  {
   "cell_type": "code",
   "execution_count": null,
   "id": "d50a6981",
   "metadata": {},
   "outputs": [],
   "source": [
    "#Lets add  both series"
   ]
  },
  {
   "cell_type": "code",
   "execution_count": 56,
   "id": "34a7af6c",
   "metadata": {},
   "outputs": [
    {
     "name": "stdout",
     "output_type": "stream",
     "text": [
      "After adding the two series the results like this ...\n",
      "-----------------------------------------------------------\n",
      "CA     2\n",
      "OR     4\n",
      "CO     8\n",
      "AZ    10\n",
      "NV    19\n",
      "dtype: int64\n",
      "\n",
      " Python Tries to add value where it find common index name and keeps Nan where indices are missing\n",
      "\n"
     ]
    }
   ],
   "source": [
    "ser3=ser1+ser2\n",
    "print(\"After adding the two series the results like this ...\\n\",'-'*59,sep='')\n",
    "print(ser3)\n",
    "print(\"\\n Python Tries to add value where it find common index name and keeps Nan where indices are missing\\n\")"
   ]
  },
  {
   "cell_type": "code",
   "execution_count": null,
   "id": "df7af0c4",
   "metadata": {},
   "outputs": [],
   "source": [
    "#Similarly you can multiply,subtract and do other operation on it."
   ]
  },
  {
   "cell_type": "code",
   "execution_count": null,
   "id": "004b6915",
   "metadata": {},
   "outputs": [],
   "source": []
  },
  {
   "cell_type": "code",
   "execution_count": null,
   "id": "fb3bd7fe",
   "metadata": {},
   "outputs": [],
   "source": []
  }
 ],
 "metadata": {
  "kernelspec": {
   "display_name": "Python 3 (ipykernel)",
   "language": "python",
   "name": "python3"
  },
  "language_info": {
   "codemirror_mode": {
    "name": "ipython",
    "version": 3
   },
   "file_extension": ".py",
   "mimetype": "text/x-python",
   "name": "python",
   "nbconvert_exporter": "python",
   "pygments_lexer": "ipython3",
   "version": "3.10.9"
  }
 },
 "nbformat": 4,
 "nbformat_minor": 5
}
