{
 "cells": [
  {
   "cell_type": "markdown",
   "id": "3063814e",
   "metadata": {},
   "source": [
    "\n",
    "# Pandas Continue"
   ]
  },
  {
   "cell_type": "markdown",
   "id": "62643642",
   "metadata": {},
   "source": [
    "# DataFrame Manipulation"
   ]
  },
  {
   "cell_type": "code",
   "execution_count": 3,
   "id": "94c30b6f",
   "metadata": {},
   "outputs": [],
   "source": [
    "#Lets Import imp libraries\n",
    "import numpy as np\n",
    "import pandas as pd\n",
    "import warnings\n",
    "warnings.filterwarnings('ignore')"
   ]
  },
  {
   "cell_type": "code",
   "execution_count": 16,
   "id": "7f7505dc",
   "metadata": {},
   "outputs": [],
   "source": [
    "matrix_data=np.matrix('22,66,140;42,72,148;30,62,125;35,68,160;25,62,152')\n",
    "row_labels=['Raju','Pandey','Srini','Sunil','Ashok']\n",
    "column_headings=['Age','Height','Weight']"
   ]
  },
  {
   "cell_type": "code",
   "execution_count": 18,
   "id": "92371800",
   "metadata": {},
   "outputs": [
    {
     "name": "stdout",
     "output_type": "stream",
     "text": [
      "\n",
      " A new DataFrame \n",
      "-------------------------\n",
      "        Age  Height  Weight\n",
      "Raju     22      66     140\n",
      "Pandey   42      72     148\n",
      "Srini    30      62     125\n",
      "Sunil    35      68     160\n",
      "Ashok    25      62     152\n"
     ]
    }
   ],
   "source": [
    "df=pd.DataFrame(data=matrix_data,index=row_labels,columns=column_headings)\n",
    "print('\\n A new DataFrame \\n','-'*25,sep='')\n",
    "print(df)"
   ]
  },
  {
   "cell_type": "code",
   "execution_count": 19,
   "id": "6337218d",
   "metadata": {},
   "outputs": [],
   "source": [
    "#How we can only print Height and Weight"
   ]
  },
  {
   "cell_type": "code",
   "execution_count": 20,
   "id": "19f170e7",
   "metadata": {},
   "outputs": [],
   "source": [
    "only_ht_wt=df[['Height','Weight']]"
   ]
  },
  {
   "cell_type": "code",
   "execution_count": 23,
   "id": "48e88a9b",
   "metadata": {},
   "outputs": [
    {
     "data": {
      "text/html": [
       "<div>\n",
       "<style scoped>\n",
       "    .dataframe tbody tr th:only-of-type {\n",
       "        vertical-align: middle;\n",
       "    }\n",
       "\n",
       "    .dataframe tbody tr th {\n",
       "        vertical-align: top;\n",
       "    }\n",
       "\n",
       "    .dataframe thead th {\n",
       "        text-align: right;\n",
       "    }\n",
       "</style>\n",
       "<table border=\"1\" class=\"dataframe\">\n",
       "  <thead>\n",
       "    <tr style=\"text-align: right;\">\n",
       "      <th></th>\n",
       "      <th>Height</th>\n",
       "      <th>Weight</th>\n",
       "    </tr>\n",
       "  </thead>\n",
       "  <tbody>\n",
       "    <tr>\n",
       "      <th>Raju</th>\n",
       "      <td>66</td>\n",
       "      <td>140</td>\n",
       "    </tr>\n",
       "    <tr>\n",
       "      <th>Pandey</th>\n",
       "      <td>72</td>\n",
       "      <td>148</td>\n",
       "    </tr>\n",
       "    <tr>\n",
       "      <th>Srini</th>\n",
       "      <td>62</td>\n",
       "      <td>125</td>\n",
       "    </tr>\n",
       "    <tr>\n",
       "      <th>Sunil</th>\n",
       "      <td>68</td>\n",
       "      <td>160</td>\n",
       "    </tr>\n",
       "    <tr>\n",
       "      <th>Ashok</th>\n",
       "      <td>62</td>\n",
       "      <td>152</td>\n",
       "    </tr>\n",
       "  </tbody>\n",
       "</table>\n",
       "</div>"
      ],
      "text/plain": [
       "        Height  Weight\n",
       "Raju        66     140\n",
       "Pandey      72     148\n",
       "Srini       62     125\n",
       "Sunil       68     160\n",
       "Ashok       62     152"
      ]
     },
     "execution_count": 23,
     "metadata": {},
     "output_type": "execute_result"
    }
   ],
   "source": [
    "only_ht_wt"
   ]
  },
  {
   "cell_type": "code",
   "execution_count": 25,
   "id": "21aafe91",
   "metadata": {},
   "outputs": [],
   "source": [
    "#Print Age by . method('Generally it would'nt Use)"
   ]
  },
  {
   "cell_type": "code",
   "execution_count": 28,
   "id": "18d68137",
   "metadata": {},
   "outputs": [
    {
     "name": "stdout",
     "output_type": "stream",
     "text": [
      "\n",
      " 'Age' accessed by Dot Method (Not Recommended)\n",
      "-------------------------------------------------------\n",
      "Raju      22\n",
      "Pandey    42\n",
      "Srini     30\n",
      "Sunil     35\n",
      "Ashok     25\n",
      "Name: Age, dtype: int32\n"
     ]
    }
   ],
   "source": [
    "print(\"\\n 'Age' accessed by Dot Method (Not Recommended)\\n\",'-'*55,sep='')\n",
    "print(df.Age)#You can Access only column at a time"
   ]
  },
  {
   "cell_type": "markdown",
   "id": "03b76666",
   "metadata": {},
   "source": [
    "Lets Understand Slicing Particular Element"
   ]
  },
  {
   "cell_type": "code",
   "execution_count": 29,
   "id": "71d71b7e",
   "metadata": {},
   "outputs": [],
   "source": [
    "#Select particular index data using loc(index name) loc=Locate"
   ]
  },
  {
   "cell_type": "code",
   "execution_count": 30,
   "id": "d011209d",
   "metadata": {},
   "outputs": [
    {
     "data": {
      "text/plain": [
       "Age        22\n",
       "Height     66\n",
       "Weight    140\n",
       "Name: Raju, dtype: int32"
      ]
     },
     "execution_count": 30,
     "metadata": {},
     "output_type": "execute_result"
    }
   ],
   "source": [
    "df.loc['Raju']"
   ]
  },
  {
   "cell_type": "code",
   "execution_count": 31,
   "id": "70affe31",
   "metadata": {},
   "outputs": [],
   "source": [
    "#Select Particular index data using iloc(index position) iloc=index Locate"
   ]
  },
  {
   "cell_type": "code",
   "execution_count": 34,
   "id": "5b81bd27",
   "metadata": {},
   "outputs": [
    {
     "data": {
      "text/plain": [
       "Age        22\n",
       "Height     66\n",
       "Weight    140\n",
       "Name: Raju, dtype: int32"
      ]
     },
     "execution_count": 34,
     "metadata": {},
     "output_type": "execute_result"
    }
   ],
   "source": [
    "df.iloc[0]"
   ]
  },
  {
   "cell_type": "code",
   "execution_count": 35,
   "id": "8de83995",
   "metadata": {},
   "outputs": [
    {
     "name": "stdout",
     "output_type": "stream",
     "text": [
      "        Age  Height  Weight\n",
      "Raju     22      66     140\n",
      "Pandey   42      72     148\n",
      "Srini    30      62     125\n",
      "Sunil    35      68     160\n",
      "Ashok    25      62     152\n"
     ]
    }
   ],
   "source": [
    "print(df)"
   ]
  },
  {
   "cell_type": "code",
   "execution_count": 36,
   "id": "7a558aeb",
   "metadata": {},
   "outputs": [],
   "source": [
    "#Select index and column for a particular data"
   ]
  },
  {
   "cell_type": "code",
   "execution_count": 37,
   "id": "56c7d382",
   "metadata": {},
   "outputs": [
    {
     "name": "stdout",
     "output_type": "stream",
     "text": [
      "/n select index and column for a particular data \n",
      "\n",
      "72\n"
     ]
    }
   ],
   "source": [
    "print(\"/n select index and column for a particular data \\n\")\n",
    "print(df.loc['Pandey','Height'])"
   ]
  },
  {
   "cell_type": "code",
   "execution_count": 38,
   "id": "df7d7e05",
   "metadata": {},
   "outputs": [],
   "source": [
    "#Select Index and list of column data\\n"
   ]
  },
  {
   "cell_type": "code",
   "execution_count": 39,
   "id": "3f2c32d8",
   "metadata": {},
   "outputs": [
    {
     "name": "stdout",
     "output_type": "stream",
     "text": [
      "\n",
      " Select Index and list of column data\n",
      "\n",
      "Height     62\n",
      "Weight    152\n",
      "Name: Ashok, dtype: int32\n"
     ]
    }
   ],
   "source": [
    "print(\"\\n Select Index and list of column data\\n\")\n",
    "print(df.loc['Ashok',['Height','Weight']])"
   ]
  },
  {
   "cell_type": "code",
   "execution_count": 40,
   "id": "a7a4707a",
   "metadata": {},
   "outputs": [],
   "source": [
    "#Select list of index and column data"
   ]
  },
  {
   "cell_type": "code",
   "execution_count": 41,
   "id": "9b56f166",
   "metadata": {},
   "outputs": [
    {
     "name": "stdout",
     "output_type": "stream",
     "text": [
      "\n",
      " Select List of index and column data \n",
      "\n",
      "        Age  Weight\n",
      "Pandey   42     148\n",
      "Sunil    35     160\n"
     ]
    }
   ],
   "source": [
    "print(\"\\n Select List of index and column data \\n\")\n",
    "print(df.loc[['Pandey','Sunil'],['Age','Weight']])"
   ]
  },
  {
   "cell_type": "code",
   "execution_count": 42,
   "id": "7d11fc4a",
   "metadata": {},
   "outputs": [],
   "source": [
    "#Check original df"
   ]
  },
  {
   "cell_type": "code",
   "execution_count": 43,
   "id": "dcd65232",
   "metadata": {},
   "outputs": [
    {
     "data": {
      "text/html": [
       "<div>\n",
       "<style scoped>\n",
       "    .dataframe tbody tr th:only-of-type {\n",
       "        vertical-align: middle;\n",
       "    }\n",
       "\n",
       "    .dataframe tbody tr th {\n",
       "        vertical-align: top;\n",
       "    }\n",
       "\n",
       "    .dataframe thead th {\n",
       "        text-align: right;\n",
       "    }\n",
       "</style>\n",
       "<table border=\"1\" class=\"dataframe\">\n",
       "  <thead>\n",
       "    <tr style=\"text-align: right;\">\n",
       "      <th></th>\n",
       "      <th>Age</th>\n",
       "      <th>Height</th>\n",
       "      <th>Weight</th>\n",
       "    </tr>\n",
       "  </thead>\n",
       "  <tbody>\n",
       "    <tr>\n",
       "      <th>Raju</th>\n",
       "      <td>22</td>\n",
       "      <td>66</td>\n",
       "      <td>140</td>\n",
       "    </tr>\n",
       "    <tr>\n",
       "      <th>Pandey</th>\n",
       "      <td>42</td>\n",
       "      <td>72</td>\n",
       "      <td>148</td>\n",
       "    </tr>\n",
       "    <tr>\n",
       "      <th>Srini</th>\n",
       "      <td>30</td>\n",
       "      <td>62</td>\n",
       "      <td>125</td>\n",
       "    </tr>\n",
       "    <tr>\n",
       "      <th>Sunil</th>\n",
       "      <td>35</td>\n",
       "      <td>68</td>\n",
       "      <td>160</td>\n",
       "    </tr>\n",
       "    <tr>\n",
       "      <th>Ashok</th>\n",
       "      <td>25</td>\n",
       "      <td>62</td>\n",
       "      <td>152</td>\n",
       "    </tr>\n",
       "  </tbody>\n",
       "</table>\n",
       "</div>"
      ],
      "text/plain": [
       "        Age  Height  Weight\n",
       "Raju     22      66     140\n",
       "Pandey   42      72     148\n",
       "Srini    30      62     125\n",
       "Sunil    35      68     160\n",
       "Ashok    25      62     152"
      ]
     },
     "execution_count": 43,
     "metadata": {},
     "output_type": "execute_result"
    }
   ],
   "source": [
    "df"
   ]
  },
  {
   "cell_type": "markdown",
   "id": "2af8d351",
   "metadata": {},
   "source": [
    "# Select data on condition"
   ]
  },
  {
   "cell_type": "code",
   "execution_count": 45,
   "id": "734721e6",
   "metadata": {},
   "outputs": [],
   "source": [
    "#Check wheather height in greater then 65"
   ]
  },
  {
   "cell_type": "code",
   "execution_count": 44,
   "id": "9abd13b9",
   "metadata": {},
   "outputs": [
    {
     "name": "stdout",
     "output_type": "stream",
     "text": [
      "\n",
      " Rows with Height >65 inch \n",
      " -----------------------------------\n",
      "        Age  Height  Weight\n",
      "Raju     22      66     140\n",
      "Pandey   42      72     148\n",
      "Sunil    35      68     160\n"
     ]
    }
   ],
   "source": [
    "print(\"\\n Rows with Height >65 inch \\n\",'-'*35)\n",
    "print(df[df['Height']>65])"
   ]
  },
  {
   "cell_type": "code",
   "execution_count": 47,
   "id": "39155c5a",
   "metadata": {},
   "outputs": [],
   "source": [
    "booldf1=df['Height']>65\n",
    "booldf2=df['Weight']>145"
   ]
  },
  {
   "cell_type": "code",
   "execution_count": 48,
   "id": "6b6b1a97",
   "metadata": {},
   "outputs": [],
   "source": [
    "#Select Rows with Height >65 inch and Weight >145 lbs"
   ]
  },
  {
   "cell_type": "code",
   "execution_count": 52,
   "id": "ead4a30f",
   "metadata": {},
   "outputs": [
    {
     "name": "stdout",
     "output_type": "stream",
     "text": [
      "\n",
      " Select With Height >65 inch and weight >145\n",
      "--------------------------------------------------------------------\n",
      "        Age  Height  Weight\n",
      "Pandey   42      72     148\n",
      "Sunil    35      68     160\n"
     ]
    }
   ],
   "source": [
    "print(\"\\n Select With Height >65 inch and weight >145\\n\",'-'*68,sep='')\n",
    "print(df[(booldf1)& (booldf2)])"
   ]
  },
  {
   "cell_type": "code",
   "execution_count": 53,
   "id": "e74a169b",
   "metadata": {},
   "outputs": [],
   "source": [
    "#DataFrame with only Age and Weight Columns Whose Height>65 inch"
   ]
  },
  {
   "cell_type": "code",
   "execution_count": 54,
   "id": "a3fb9794",
   "metadata": {},
   "outputs": [
    {
     "name": "stdout",
     "output_type": "stream",
     "text": [
      "\n",
      " DataFrame With only AgE And Weight columns whose Height >65 inch \n",
      "------------------------------------------------------------\n",
      "        Age  Weight\n",
      "Raju     22     140\n",
      "Pandey   42     148\n",
      "Sunil    35     160\n"
     ]
    }
   ],
   "source": [
    "print(\"\\n DataFrame With only AgE And Weight columns whose Height >65 inch \\n\",'-'*60,sep='')\n",
    "print(df[booldf1][['Age','Weight']])"
   ]
  },
  {
   "cell_type": "code",
   "execution_count": 57,
   "id": "d5ba1175",
   "metadata": {},
   "outputs": [],
   "source": [
    "#create new variable and assign the booldf1 and save in new variable"
   ]
  },
  {
   "cell_type": "code",
   "execution_count": 56,
   "id": "11e52c0e",
   "metadata": {},
   "outputs": [
    {
     "data": {
      "text/html": [
       "<div>\n",
       "<style scoped>\n",
       "    .dataframe tbody tr th:only-of-type {\n",
       "        vertical-align: middle;\n",
       "    }\n",
       "\n",
       "    .dataframe tbody tr th {\n",
       "        vertical-align: top;\n",
       "    }\n",
       "\n",
       "    .dataframe thead th {\n",
       "        text-align: right;\n",
       "    }\n",
       "</style>\n",
       "<table border=\"1\" class=\"dataframe\">\n",
       "  <thead>\n",
       "    <tr style=\"text-align: right;\">\n",
       "      <th></th>\n",
       "      <th>Age</th>\n",
       "      <th>Weight</th>\n",
       "    </tr>\n",
       "  </thead>\n",
       "  <tbody>\n",
       "    <tr>\n",
       "      <th>Raju</th>\n",
       "      <td>22</td>\n",
       "      <td>140</td>\n",
       "    </tr>\n",
       "    <tr>\n",
       "      <th>Pandey</th>\n",
       "      <td>42</td>\n",
       "      <td>148</td>\n",
       "    </tr>\n",
       "    <tr>\n",
       "      <th>Sunil</th>\n",
       "      <td>35</td>\n",
       "      <td>160</td>\n",
       "    </tr>\n",
       "  </tbody>\n",
       "</table>\n",
       "</div>"
      ],
      "text/plain": [
       "        Age  Weight\n",
       "Raju     22     140\n",
       "Pandey   42     148\n",
       "Sunil    35     160"
      ]
     },
     "execution_count": 56,
     "metadata": {},
     "output_type": "execute_result"
    }
   ],
   "source": [
    "selected_candidates=df[booldf1][['Age','Weight']]\n",
    "selected_candidates"
   ]
  },
  {
   "cell_type": "code",
   "execution_count": 58,
   "id": "f4bc22e9",
   "metadata": {},
   "outputs": [],
   "source": [
    "#lets check df"
   ]
  },
  {
   "cell_type": "code",
   "execution_count": 59,
   "id": "3cba0a42",
   "metadata": {},
   "outputs": [
    {
     "data": {
      "text/html": [
       "<div>\n",
       "<style scoped>\n",
       "    .dataframe tbody tr th:only-of-type {\n",
       "        vertical-align: middle;\n",
       "    }\n",
       "\n",
       "    .dataframe tbody tr th {\n",
       "        vertical-align: top;\n",
       "    }\n",
       "\n",
       "    .dataframe thead th {\n",
       "        text-align: right;\n",
       "    }\n",
       "</style>\n",
       "<table border=\"1\" class=\"dataframe\">\n",
       "  <thead>\n",
       "    <tr style=\"text-align: right;\">\n",
       "      <th></th>\n",
       "      <th>Age</th>\n",
       "      <th>Height</th>\n",
       "      <th>Weight</th>\n",
       "    </tr>\n",
       "  </thead>\n",
       "  <tbody>\n",
       "    <tr>\n",
       "      <th>Raju</th>\n",
       "      <td>22</td>\n",
       "      <td>66</td>\n",
       "      <td>140</td>\n",
       "    </tr>\n",
       "    <tr>\n",
       "      <th>Pandey</th>\n",
       "      <td>42</td>\n",
       "      <td>72</td>\n",
       "      <td>148</td>\n",
       "    </tr>\n",
       "    <tr>\n",
       "      <th>Srini</th>\n",
       "      <td>30</td>\n",
       "      <td>62</td>\n",
       "      <td>125</td>\n",
       "    </tr>\n",
       "    <tr>\n",
       "      <th>Sunil</th>\n",
       "      <td>35</td>\n",
       "      <td>68</td>\n",
       "      <td>160</td>\n",
       "    </tr>\n",
       "    <tr>\n",
       "      <th>Ashok</th>\n",
       "      <td>25</td>\n",
       "      <td>62</td>\n",
       "      <td>152</td>\n",
       "    </tr>\n",
       "  </tbody>\n",
       "</table>\n",
       "</div>"
      ],
      "text/plain": [
       "        Age  Height  Weight\n",
       "Raju     22      66     140\n",
       "Pandey   42      72     148\n",
       "Srini    30      62     125\n",
       "Sunil    35      68     160\n",
       "Ashok    25      62     152"
      ]
     },
     "execution_count": 59,
     "metadata": {},
     "output_type": "execute_result"
    }
   ],
   "source": [
    "df"
   ]
  },
  {
   "cell_type": "code",
   "execution_count": 60,
   "id": "51a339e5",
   "metadata": {},
   "outputs": [],
   "source": [
    "#Lets Know About resetting Index"
   ]
  },
  {
   "cell_type": "code",
   "execution_count": 61,
   "id": "e42f4668",
   "metadata": {},
   "outputs": [
    {
     "name": "stdout",
     "output_type": "stream",
     "text": [
      "\n",
      " After resetting index \n",
      " -----------------------------------\n",
      "    index  Age  Height  Weight\n",
      "0    Raju   22      66     140\n",
      "1  Pandey   42      72     148\n",
      "2   Srini   30      62     125\n",
      "3   Sunil   35      68     160\n",
      "4   Ashok   25      62     152\n"
     ]
    }
   ],
   "source": [
    "print(\"\\n After resetting index \\n\",'-'*35)\n",
    "print(df.reset_index())"
   ]
  },
  {
   "cell_type": "code",
   "execution_count": 62,
   "id": "eb12f4e0",
   "metadata": {},
   "outputs": [],
   "source": [
    "#Lets Print whose age in <35"
   ]
  },
  {
   "cell_type": "code",
   "execution_count": 65,
   "id": "2d9dcdda",
   "metadata": {},
   "outputs": [
    {
     "name": "stdout",
     "output_type": "stream",
     "text": [
      "\n",
      " Rows with age <35 year\n",
      "-----------------------------------\n",
      "       Age  Height  Weight\n",
      "Raju    22      66     140\n",
      "Srini   30      62     125\n",
      "Ashok   25      62     152\n"
     ]
    }
   ],
   "source": [
    "print(\"\\n Rows with age <35 year\\n\",'-'*35,sep='')\n",
    "df=df[df['Age']<35]\n",
    "print(df)"
   ]
  },
  {
   "cell_type": "code",
   "execution_count": 66,
   "id": "c3fe9edc",
   "metadata": {},
   "outputs": [],
   "source": [
    "#After resetting index with drop"
   ]
  },
  {
   "cell_type": "code",
   "execution_count": 67,
   "id": "0cfa7e58",
   "metadata": {},
   "outputs": [
    {
     "name": "stdout",
     "output_type": "stream",
     "text": [
      "\n",
      " After Resetting index with 'drop' option True \n",
      "-----------------------------------\n",
      "   Age  Height  Weight\n",
      "0   22      66     140\n",
      "1   30      62     125\n",
      "2   25      62     152\n"
     ]
    }
   ],
   "source": [
    "print(\"\\n After Resetting index with 'drop' option True \\n\",'-'*35,sep='')\n",
    "print(df.reset_index(drop=True))"
   ]
  },
  {
   "cell_type": "code",
   "execution_count": 68,
   "id": "c199b010",
   "metadata": {},
   "outputs": [],
   "source": [
    "#Add new Column Profession"
   ]
  },
  {
   "cell_type": "code",
   "execution_count": 71,
   "id": "e5b56465",
   "metadata": {},
   "outputs": [
    {
     "name": "stdout",
     "output_type": "stream",
     "text": [
      "\n",
      " Adding a new column 'Profession' \n",
      " ---------------------------------------------\n",
      "       Age  Height  Weight Profession\n",
      "Raju    22      66     140    Student\n",
      "Srini   30      62     125    Teacher\n",
      "Ashok   25      62     152   Engineed\n"
     ]
    }
   ],
   "source": [
    "print(\"\\n Adding a new column 'Profession' \\n\",'-'*45,sep=' ')\n",
    "df['Profession']='Student Teacher Engineed'.split( )\n",
    "print(df)"
   ]
  },
  {
   "cell_type": "code",
   "execution_count": 72,
   "id": "a817b569",
   "metadata": {},
   "outputs": [],
   "source": [
    "#Set 'profession' as index"
   ]
  },
  {
   "cell_type": "code",
   "execution_count": 73,
   "id": "97f628bf",
   "metadata": {},
   "outputs": [
    {
     "name": "stdout",
     "output_type": "stream",
     "text": [
      "\n",
      " Setting 'Profession' column as index \n",
      "---------------------------------------------\n",
      "            Age  Height  Weight\n",
      "Profession                     \n",
      "Student      22      66     140\n",
      "Teacher      30      62     125\n",
      "Engineed     25      62     152\n"
     ]
    }
   ],
   "source": [
    "print(\"\\n Setting 'Profession' column as index \\n\",'-'*45,sep='')\n",
    "print(df.set_index('Profession'))"
   ]
  },
  {
   "cell_type": "code",
   "execution_count": null,
   "id": "590a3172-b1e4-408e-a775-9d1a85ced836",
   "metadata": {},
   "outputs": [],
   "source": []
  },
  {
   "cell_type": "code",
   "execution_count": null,
   "id": "ccc57558-9b3b-4a2e-a652-632e15752092",
   "metadata": {},
   "outputs": [],
   "source": []
  },
  {
   "cell_type": "code",
   "execution_count": null,
   "id": "7716005f-7441-474f-81e2-6557357eddca",
   "metadata": {},
   "outputs": [],
   "source": []
  }
 ],
 "metadata": {
  "kernelspec": {
   "display_name": "Python 3 (ipykernel)",
   "language": "python",
   "name": "python3"
  },
  "language_info": {
   "codemirror_mode": {
    "name": "ipython",
    "version": 3
   },
   "file_extension": ".py",
   "mimetype": "text/x-python",
   "name": "python",
   "nbconvert_exporter": "python",
   "pygments_lexer": "ipython3",
   "version": "3.10.12"
  },
  "widgets": {
   "application/vnd.jupyter.widget-state+json": {
    "state": {},
    "version_major": 2,
    "version_minor": 0
   }
  }
 },
 "nbformat": 4,
 "nbformat_minor": 5
}
